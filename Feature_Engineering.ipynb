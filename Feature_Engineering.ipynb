{
  "cells": [
    {
      "cell_type": "markdown",
      "id": "bba7bc8c",
      "metadata": {
        "id": "bba7bc8c"
      },
      "source": [
        "# Exploring Mental Health Data\n",
        "**Feature Engineering step**"
      ]
    },
    {
      "cell_type": "code",
      "execution_count": 1,
      "id": "dae7ae3d",
      "metadata": {
        "id": "dae7ae3d"
      },
      "outputs": [],
      "source": [
        "import numpy as np\n",
        "import matplotlib.pyplot as plt\n",
        "import seaborn as sns\n",
        "import pandas as pd\n",
        "from sklearn.model_selection import train_test_split\n"
      ]
    },
    {
      "cell_type": "code",
      "execution_count": 2,
      "id": "973ffd33",
      "metadata": {
        "id": "973ffd33"
      },
      "outputs": [],
      "source": [
        "# Sử dụng data preprocesing\n",
        "df = pd.read_csv(\"data/cleaned_train.csv\")"
      ]
    },
    {
      "cell_type": "code",
      "execution_count": 3,
      "id": "W0wHgP9TCKFQ",
      "metadata": {
        "colab": {
          "base_uri": "https://localhost:8080/",
          "height": 651
        },
        "id": "W0wHgP9TCKFQ",
        "outputId": "88567b61-1a4c-4762-f8c7-cfd2133505ef"
      },
      "outputs": [
        {
          "output_type": "execute_result",
          "data": {
            "text/plain": [
              "            id      Name  Gender   Age           City  \\\n",
              "0            0  Aaradhya  Female  49.0       Ludhiana   \n",
              "1            1     Vivan    Male  26.0       Varanasi   \n",
              "2            2    Yuvraj    Male  33.0  Visakhapatnam   \n",
              "3            3    Yuvraj    Male  22.0         Mumbai   \n",
              "4            4      Rhea  Female  30.0         Kanpur   \n",
              "...        ...       ...     ...   ...            ...   \n",
              "140651  140695     Vidya  Female  18.0      Ahmedabad   \n",
              "140652  140696      Lata  Female  41.0      Hyderabad   \n",
              "140653  140697   Aanchal  Female  24.0        Kolkata   \n",
              "140654  140698    Prachi  Female  49.0       Srinagar   \n",
              "140655  140699       Sai    Male  27.0          Patna   \n",
              "\n",
              "       Working Professional or Student         Profession  Academic Pressure  \\\n",
              "0                 Working Professional               Chef                NaN   \n",
              "1                 Working Professional            Teacher                NaN   \n",
              "2                              Student                NaN                5.0   \n",
              "3                 Working Professional            Teacher                NaN   \n",
              "4                 Working Professional   Business Analyst                NaN   \n",
              "...                                ...                ...                ...   \n",
              "140651            Working Professional                NaN                NaN   \n",
              "140652            Working Professional     Content Writer                NaN   \n",
              "140653            Working Professional  Marketing Manager                NaN   \n",
              "140654            Working Professional            Plumber                NaN   \n",
              "140655                         Student                NaN                4.0   \n",
              "\n",
              "        Work Pressure  CGPA  Study Satisfaction  Job Satisfaction  \\\n",
              "0                 5.0   NaN                 NaN               2.0   \n",
              "1                 4.0   NaN                 NaN               3.0   \n",
              "2                 NaN  8.97                 2.0               NaN   \n",
              "3                 5.0   NaN                 NaN               1.0   \n",
              "4                 1.0   NaN                 NaN               1.0   \n",
              "...               ...   ...                 ...               ...   \n",
              "140651            5.0   NaN                 NaN               4.0   \n",
              "140652            5.0   NaN                 NaN               4.0   \n",
              "140653            3.0   NaN                 NaN               1.0   \n",
              "140654            5.0   NaN                 NaN               2.0   \n",
              "140655            NaN  9.24                 1.0               NaN   \n",
              "\n",
              "        Sleep Duration Dietary Habits    Degree  \\\n",
              "0                  8.5        Healthy       NaN   \n",
              "1                  4.5      Unhealthy       LLB   \n",
              "2                  5.5        Healthy   B.Pharm   \n",
              "3                  4.5       Moderate       BBA   \n",
              "4                  5.5      Unhealthy       BBA   \n",
              "...                ...            ...       ...   \n",
              "140651             5.5      Unhealthy  Class 12   \n",
              "140652             7.5       Moderate    B.Tech   \n",
              "140653             8.5       Moderate     B.Com   \n",
              "140654             5.5       Moderate        ME   \n",
              "140655             4.5        Healthy       BCA   \n",
              "\n",
              "       Have you ever had suicidal thoughts ?  Work/Study Hours  \\\n",
              "0                                         No               1.0   \n",
              "1                                        Yes               7.0   \n",
              "2                                        Yes               3.0   \n",
              "3                                        Yes              10.0   \n",
              "4                                        Yes               9.0   \n",
              "...                                      ...               ...   \n",
              "140651                                    No               2.0   \n",
              "140652                                   Yes               6.0   \n",
              "140653                                    No               4.0   \n",
              "140654                                   Yes              10.0   \n",
              "140655                                   Yes               2.0   \n",
              "\n",
              "        Financial Stress Family History of Mental Illness  Depression  \n",
              "0                    2.0                               No           0  \n",
              "1                    3.0                               No           1  \n",
              "2                    1.0                               No           1  \n",
              "3                    1.0                              Yes           1  \n",
              "4                    4.0                              Yes           0  \n",
              "...                  ...                              ...         ...  \n",
              "140651               4.0                              Yes           1  \n",
              "140652               5.0                              Yes           0  \n",
              "140653               4.0                               No           0  \n",
              "140654               1.0                               No           0  \n",
              "140655               3.0                              Yes           1  \n",
              "\n",
              "[140656 rows x 20 columns]"
            ],
            "text/html": [
              "\n",
              "  <div id=\"df-a6fc883f-7703-471a-a413-52a81f1c87be\" class=\"colab-df-container\">\n",
              "    <div>\n",
              "<style scoped>\n",
              "    .dataframe tbody tr th:only-of-type {\n",
              "        vertical-align: middle;\n",
              "    }\n",
              "\n",
              "    .dataframe tbody tr th {\n",
              "        vertical-align: top;\n",
              "    }\n",
              "\n",
              "    .dataframe thead th {\n",
              "        text-align: right;\n",
              "    }\n",
              "</style>\n",
              "<table border=\"1\" class=\"dataframe\">\n",
              "  <thead>\n",
              "    <tr style=\"text-align: right;\">\n",
              "      <th></th>\n",
              "      <th>id</th>\n",
              "      <th>Name</th>\n",
              "      <th>Gender</th>\n",
              "      <th>Age</th>\n",
              "      <th>City</th>\n",
              "      <th>Working Professional or Student</th>\n",
              "      <th>Profession</th>\n",
              "      <th>Academic Pressure</th>\n",
              "      <th>Work Pressure</th>\n",
              "      <th>CGPA</th>\n",
              "      <th>Study Satisfaction</th>\n",
              "      <th>Job Satisfaction</th>\n",
              "      <th>Sleep Duration</th>\n",
              "      <th>Dietary Habits</th>\n",
              "      <th>Degree</th>\n",
              "      <th>Have you ever had suicidal thoughts ?</th>\n",
              "      <th>Work/Study Hours</th>\n",
              "      <th>Financial Stress</th>\n",
              "      <th>Family History of Mental Illness</th>\n",
              "      <th>Depression</th>\n",
              "    </tr>\n",
              "  </thead>\n",
              "  <tbody>\n",
              "    <tr>\n",
              "      <th>0</th>\n",
              "      <td>0</td>\n",
              "      <td>Aaradhya</td>\n",
              "      <td>Female</td>\n",
              "      <td>49.0</td>\n",
              "      <td>Ludhiana</td>\n",
              "      <td>Working Professional</td>\n",
              "      <td>Chef</td>\n",
              "      <td>NaN</td>\n",
              "      <td>5.0</td>\n",
              "      <td>NaN</td>\n",
              "      <td>NaN</td>\n",
              "      <td>2.0</td>\n",
              "      <td>8.5</td>\n",
              "      <td>Healthy</td>\n",
              "      <td>NaN</td>\n",
              "      <td>No</td>\n",
              "      <td>1.0</td>\n",
              "      <td>2.0</td>\n",
              "      <td>No</td>\n",
              "      <td>0</td>\n",
              "    </tr>\n",
              "    <tr>\n",
              "      <th>1</th>\n",
              "      <td>1</td>\n",
              "      <td>Vivan</td>\n",
              "      <td>Male</td>\n",
              "      <td>26.0</td>\n",
              "      <td>Varanasi</td>\n",
              "      <td>Working Professional</td>\n",
              "      <td>Teacher</td>\n",
              "      <td>NaN</td>\n",
              "      <td>4.0</td>\n",
              "      <td>NaN</td>\n",
              "      <td>NaN</td>\n",
              "      <td>3.0</td>\n",
              "      <td>4.5</td>\n",
              "      <td>Unhealthy</td>\n",
              "      <td>LLB</td>\n",
              "      <td>Yes</td>\n",
              "      <td>7.0</td>\n",
              "      <td>3.0</td>\n",
              "      <td>No</td>\n",
              "      <td>1</td>\n",
              "    </tr>\n",
              "    <tr>\n",
              "      <th>2</th>\n",
              "      <td>2</td>\n",
              "      <td>Yuvraj</td>\n",
              "      <td>Male</td>\n",
              "      <td>33.0</td>\n",
              "      <td>Visakhapatnam</td>\n",
              "      <td>Student</td>\n",
              "      <td>NaN</td>\n",
              "      <td>5.0</td>\n",
              "      <td>NaN</td>\n",
              "      <td>8.97</td>\n",
              "      <td>2.0</td>\n",
              "      <td>NaN</td>\n",
              "      <td>5.5</td>\n",
              "      <td>Healthy</td>\n",
              "      <td>B.Pharm</td>\n",
              "      <td>Yes</td>\n",
              "      <td>3.0</td>\n",
              "      <td>1.0</td>\n",
              "      <td>No</td>\n",
              "      <td>1</td>\n",
              "    </tr>\n",
              "    <tr>\n",
              "      <th>3</th>\n",
              "      <td>3</td>\n",
              "      <td>Yuvraj</td>\n",
              "      <td>Male</td>\n",
              "      <td>22.0</td>\n",
              "      <td>Mumbai</td>\n",
              "      <td>Working Professional</td>\n",
              "      <td>Teacher</td>\n",
              "      <td>NaN</td>\n",
              "      <td>5.0</td>\n",
              "      <td>NaN</td>\n",
              "      <td>NaN</td>\n",
              "      <td>1.0</td>\n",
              "      <td>4.5</td>\n",
              "      <td>Moderate</td>\n",
              "      <td>BBA</td>\n",
              "      <td>Yes</td>\n",
              "      <td>10.0</td>\n",
              "      <td>1.0</td>\n",
              "      <td>Yes</td>\n",
              "      <td>1</td>\n",
              "    </tr>\n",
              "    <tr>\n",
              "      <th>4</th>\n",
              "      <td>4</td>\n",
              "      <td>Rhea</td>\n",
              "      <td>Female</td>\n",
              "      <td>30.0</td>\n",
              "      <td>Kanpur</td>\n",
              "      <td>Working Professional</td>\n",
              "      <td>Business Analyst</td>\n",
              "      <td>NaN</td>\n",
              "      <td>1.0</td>\n",
              "      <td>NaN</td>\n",
              "      <td>NaN</td>\n",
              "      <td>1.0</td>\n",
              "      <td>5.5</td>\n",
              "      <td>Unhealthy</td>\n",
              "      <td>BBA</td>\n",
              "      <td>Yes</td>\n",
              "      <td>9.0</td>\n",
              "      <td>4.0</td>\n",
              "      <td>Yes</td>\n",
              "      <td>0</td>\n",
              "    </tr>\n",
              "    <tr>\n",
              "      <th>...</th>\n",
              "      <td>...</td>\n",
              "      <td>...</td>\n",
              "      <td>...</td>\n",
              "      <td>...</td>\n",
              "      <td>...</td>\n",
              "      <td>...</td>\n",
              "      <td>...</td>\n",
              "      <td>...</td>\n",
              "      <td>...</td>\n",
              "      <td>...</td>\n",
              "      <td>...</td>\n",
              "      <td>...</td>\n",
              "      <td>...</td>\n",
              "      <td>...</td>\n",
              "      <td>...</td>\n",
              "      <td>...</td>\n",
              "      <td>...</td>\n",
              "      <td>...</td>\n",
              "      <td>...</td>\n",
              "      <td>...</td>\n",
              "    </tr>\n",
              "    <tr>\n",
              "      <th>140651</th>\n",
              "      <td>140695</td>\n",
              "      <td>Vidya</td>\n",
              "      <td>Female</td>\n",
              "      <td>18.0</td>\n",
              "      <td>Ahmedabad</td>\n",
              "      <td>Working Professional</td>\n",
              "      <td>NaN</td>\n",
              "      <td>NaN</td>\n",
              "      <td>5.0</td>\n",
              "      <td>NaN</td>\n",
              "      <td>NaN</td>\n",
              "      <td>4.0</td>\n",
              "      <td>5.5</td>\n",
              "      <td>Unhealthy</td>\n",
              "      <td>Class 12</td>\n",
              "      <td>No</td>\n",
              "      <td>2.0</td>\n",
              "      <td>4.0</td>\n",
              "      <td>Yes</td>\n",
              "      <td>1</td>\n",
              "    </tr>\n",
              "    <tr>\n",
              "      <th>140652</th>\n",
              "      <td>140696</td>\n",
              "      <td>Lata</td>\n",
              "      <td>Female</td>\n",
              "      <td>41.0</td>\n",
              "      <td>Hyderabad</td>\n",
              "      <td>Working Professional</td>\n",
              "      <td>Content Writer</td>\n",
              "      <td>NaN</td>\n",
              "      <td>5.0</td>\n",
              "      <td>NaN</td>\n",
              "      <td>NaN</td>\n",
              "      <td>4.0</td>\n",
              "      <td>7.5</td>\n",
              "      <td>Moderate</td>\n",
              "      <td>B.Tech</td>\n",
              "      <td>Yes</td>\n",
              "      <td>6.0</td>\n",
              "      <td>5.0</td>\n",
              "      <td>Yes</td>\n",
              "      <td>0</td>\n",
              "    </tr>\n",
              "    <tr>\n",
              "      <th>140653</th>\n",
              "      <td>140697</td>\n",
              "      <td>Aanchal</td>\n",
              "      <td>Female</td>\n",
              "      <td>24.0</td>\n",
              "      <td>Kolkata</td>\n",
              "      <td>Working Professional</td>\n",
              "      <td>Marketing Manager</td>\n",
              "      <td>NaN</td>\n",
              "      <td>3.0</td>\n",
              "      <td>NaN</td>\n",
              "      <td>NaN</td>\n",
              "      <td>1.0</td>\n",
              "      <td>8.5</td>\n",
              "      <td>Moderate</td>\n",
              "      <td>B.Com</td>\n",
              "      <td>No</td>\n",
              "      <td>4.0</td>\n",
              "      <td>4.0</td>\n",
              "      <td>No</td>\n",
              "      <td>0</td>\n",
              "    </tr>\n",
              "    <tr>\n",
              "      <th>140654</th>\n",
              "      <td>140698</td>\n",
              "      <td>Prachi</td>\n",
              "      <td>Female</td>\n",
              "      <td>49.0</td>\n",
              "      <td>Srinagar</td>\n",
              "      <td>Working Professional</td>\n",
              "      <td>Plumber</td>\n",
              "      <td>NaN</td>\n",
              "      <td>5.0</td>\n",
              "      <td>NaN</td>\n",
              "      <td>NaN</td>\n",
              "      <td>2.0</td>\n",
              "      <td>5.5</td>\n",
              "      <td>Moderate</td>\n",
              "      <td>ME</td>\n",
              "      <td>Yes</td>\n",
              "      <td>10.0</td>\n",
              "      <td>1.0</td>\n",
              "      <td>No</td>\n",
              "      <td>0</td>\n",
              "    </tr>\n",
              "    <tr>\n",
              "      <th>140655</th>\n",
              "      <td>140699</td>\n",
              "      <td>Sai</td>\n",
              "      <td>Male</td>\n",
              "      <td>27.0</td>\n",
              "      <td>Patna</td>\n",
              "      <td>Student</td>\n",
              "      <td>NaN</td>\n",
              "      <td>4.0</td>\n",
              "      <td>NaN</td>\n",
              "      <td>9.24</td>\n",
              "      <td>1.0</td>\n",
              "      <td>NaN</td>\n",
              "      <td>4.5</td>\n",
              "      <td>Healthy</td>\n",
              "      <td>BCA</td>\n",
              "      <td>Yes</td>\n",
              "      <td>2.0</td>\n",
              "      <td>3.0</td>\n",
              "      <td>Yes</td>\n",
              "      <td>1</td>\n",
              "    </tr>\n",
              "  </tbody>\n",
              "</table>\n",
              "<p>140656 rows × 20 columns</p>\n",
              "</div>\n",
              "    <div class=\"colab-df-buttons\">\n",
              "\n",
              "  <div class=\"colab-df-container\">\n",
              "    <button class=\"colab-df-convert\" onclick=\"convertToInteractive('df-a6fc883f-7703-471a-a413-52a81f1c87be')\"\n",
              "            title=\"Convert this dataframe to an interactive table.\"\n",
              "            style=\"display:none;\">\n",
              "\n",
              "  <svg xmlns=\"http://www.w3.org/2000/svg\" height=\"24px\" viewBox=\"0 -960 960 960\">\n",
              "    <path d=\"M120-120v-720h720v720H120Zm60-500h600v-160H180v160Zm220 220h160v-160H400v160Zm0 220h160v-160H400v160ZM180-400h160v-160H180v160Zm440 0h160v-160H620v160ZM180-180h160v-160H180v160Zm440 0h160v-160H620v160Z\"/>\n",
              "  </svg>\n",
              "    </button>\n",
              "\n",
              "  <style>\n",
              "    .colab-df-container {\n",
              "      display:flex;\n",
              "      gap: 12px;\n",
              "    }\n",
              "\n",
              "    .colab-df-convert {\n",
              "      background-color: #E8F0FE;\n",
              "      border: none;\n",
              "      border-radius: 50%;\n",
              "      cursor: pointer;\n",
              "      display: none;\n",
              "      fill: #1967D2;\n",
              "      height: 32px;\n",
              "      padding: 0 0 0 0;\n",
              "      width: 32px;\n",
              "    }\n",
              "\n",
              "    .colab-df-convert:hover {\n",
              "      background-color: #E2EBFA;\n",
              "      box-shadow: 0px 1px 2px rgba(60, 64, 67, 0.3), 0px 1px 3px 1px rgba(60, 64, 67, 0.15);\n",
              "      fill: #174EA6;\n",
              "    }\n",
              "\n",
              "    .colab-df-buttons div {\n",
              "      margin-bottom: 4px;\n",
              "    }\n",
              "\n",
              "    [theme=dark] .colab-df-convert {\n",
              "      background-color: #3B4455;\n",
              "      fill: #D2E3FC;\n",
              "    }\n",
              "\n",
              "    [theme=dark] .colab-df-convert:hover {\n",
              "      background-color: #434B5C;\n",
              "      box-shadow: 0px 1px 3px 1px rgba(0, 0, 0, 0.15);\n",
              "      filter: drop-shadow(0px 1px 2px rgba(0, 0, 0, 0.3));\n",
              "      fill: #FFFFFF;\n",
              "    }\n",
              "  </style>\n",
              "\n",
              "    <script>\n",
              "      const buttonEl =\n",
              "        document.querySelector('#df-a6fc883f-7703-471a-a413-52a81f1c87be button.colab-df-convert');\n",
              "      buttonEl.style.display =\n",
              "        google.colab.kernel.accessAllowed ? 'block' : 'none';\n",
              "\n",
              "      async function convertToInteractive(key) {\n",
              "        const element = document.querySelector('#df-a6fc883f-7703-471a-a413-52a81f1c87be');\n",
              "        const dataTable =\n",
              "          await google.colab.kernel.invokeFunction('convertToInteractive',\n",
              "                                                    [key], {});\n",
              "        if (!dataTable) return;\n",
              "\n",
              "        const docLinkHtml = 'Like what you see? Visit the ' +\n",
              "          '<a target=\"_blank\" href=https://colab.research.google.com/notebooks/data_table.ipynb>data table notebook</a>'\n",
              "          + ' to learn more about interactive tables.';\n",
              "        element.innerHTML = '';\n",
              "        dataTable['output_type'] = 'display_data';\n",
              "        await google.colab.output.renderOutput(dataTable, element);\n",
              "        const docLink = document.createElement('div');\n",
              "        docLink.innerHTML = docLinkHtml;\n",
              "        element.appendChild(docLink);\n",
              "      }\n",
              "    </script>\n",
              "  </div>\n",
              "\n",
              "\n",
              "    <div id=\"df-6acb763c-a6ea-4ab6-a5b9-b12e5b3a0221\">\n",
              "      <button class=\"colab-df-quickchart\" onclick=\"quickchart('df-6acb763c-a6ea-4ab6-a5b9-b12e5b3a0221')\"\n",
              "                title=\"Suggest charts\"\n",
              "                style=\"display:none;\">\n",
              "\n",
              "<svg xmlns=\"http://www.w3.org/2000/svg\" height=\"24px\"viewBox=\"0 0 24 24\"\n",
              "     width=\"24px\">\n",
              "    <g>\n",
              "        <path d=\"M19 3H5c-1.1 0-2 .9-2 2v14c0 1.1.9 2 2 2h14c1.1 0 2-.9 2-2V5c0-1.1-.9-2-2-2zM9 17H7v-7h2v7zm4 0h-2V7h2v10zm4 0h-2v-4h2v4z\"/>\n",
              "    </g>\n",
              "</svg>\n",
              "      </button>\n",
              "\n",
              "<style>\n",
              "  .colab-df-quickchart {\n",
              "      --bg-color: #E8F0FE;\n",
              "      --fill-color: #1967D2;\n",
              "      --hover-bg-color: #E2EBFA;\n",
              "      --hover-fill-color: #174EA6;\n",
              "      --disabled-fill-color: #AAA;\n",
              "      --disabled-bg-color: #DDD;\n",
              "  }\n",
              "\n",
              "  [theme=dark] .colab-df-quickchart {\n",
              "      --bg-color: #3B4455;\n",
              "      --fill-color: #D2E3FC;\n",
              "      --hover-bg-color: #434B5C;\n",
              "      --hover-fill-color: #FFFFFF;\n",
              "      --disabled-bg-color: #3B4455;\n",
              "      --disabled-fill-color: #666;\n",
              "  }\n",
              "\n",
              "  .colab-df-quickchart {\n",
              "    background-color: var(--bg-color);\n",
              "    border: none;\n",
              "    border-radius: 50%;\n",
              "    cursor: pointer;\n",
              "    display: none;\n",
              "    fill: var(--fill-color);\n",
              "    height: 32px;\n",
              "    padding: 0;\n",
              "    width: 32px;\n",
              "  }\n",
              "\n",
              "  .colab-df-quickchart:hover {\n",
              "    background-color: var(--hover-bg-color);\n",
              "    box-shadow: 0 1px 2px rgba(60, 64, 67, 0.3), 0 1px 3px 1px rgba(60, 64, 67, 0.15);\n",
              "    fill: var(--button-hover-fill-color);\n",
              "  }\n",
              "\n",
              "  .colab-df-quickchart-complete:disabled,\n",
              "  .colab-df-quickchart-complete:disabled:hover {\n",
              "    background-color: var(--disabled-bg-color);\n",
              "    fill: var(--disabled-fill-color);\n",
              "    box-shadow: none;\n",
              "  }\n",
              "\n",
              "  .colab-df-spinner {\n",
              "    border: 2px solid var(--fill-color);\n",
              "    border-color: transparent;\n",
              "    border-bottom-color: var(--fill-color);\n",
              "    animation:\n",
              "      spin 1s steps(1) infinite;\n",
              "  }\n",
              "\n",
              "  @keyframes spin {\n",
              "    0% {\n",
              "      border-color: transparent;\n",
              "      border-bottom-color: var(--fill-color);\n",
              "      border-left-color: var(--fill-color);\n",
              "    }\n",
              "    20% {\n",
              "      border-color: transparent;\n",
              "      border-left-color: var(--fill-color);\n",
              "      border-top-color: var(--fill-color);\n",
              "    }\n",
              "    30% {\n",
              "      border-color: transparent;\n",
              "      border-left-color: var(--fill-color);\n",
              "      border-top-color: var(--fill-color);\n",
              "      border-right-color: var(--fill-color);\n",
              "    }\n",
              "    40% {\n",
              "      border-color: transparent;\n",
              "      border-right-color: var(--fill-color);\n",
              "      border-top-color: var(--fill-color);\n",
              "    }\n",
              "    60% {\n",
              "      border-color: transparent;\n",
              "      border-right-color: var(--fill-color);\n",
              "    }\n",
              "    80% {\n",
              "      border-color: transparent;\n",
              "      border-right-color: var(--fill-color);\n",
              "      border-bottom-color: var(--fill-color);\n",
              "    }\n",
              "    90% {\n",
              "      border-color: transparent;\n",
              "      border-bottom-color: var(--fill-color);\n",
              "    }\n",
              "  }\n",
              "</style>\n",
              "\n",
              "      <script>\n",
              "        async function quickchart(key) {\n",
              "          const quickchartButtonEl =\n",
              "            document.querySelector('#' + key + ' button');\n",
              "          quickchartButtonEl.disabled = true;  // To prevent multiple clicks.\n",
              "          quickchartButtonEl.classList.add('colab-df-spinner');\n",
              "          try {\n",
              "            const charts = await google.colab.kernel.invokeFunction(\n",
              "                'suggestCharts', [key], {});\n",
              "          } catch (error) {\n",
              "            console.error('Error during call to suggestCharts:', error);\n",
              "          }\n",
              "          quickchartButtonEl.classList.remove('colab-df-spinner');\n",
              "          quickchartButtonEl.classList.add('colab-df-quickchart-complete');\n",
              "        }\n",
              "        (() => {\n",
              "          let quickchartButtonEl =\n",
              "            document.querySelector('#df-6acb763c-a6ea-4ab6-a5b9-b12e5b3a0221 button');\n",
              "          quickchartButtonEl.style.display =\n",
              "            google.colab.kernel.accessAllowed ? 'block' : 'none';\n",
              "        })();\n",
              "      </script>\n",
              "    </div>\n",
              "\n",
              "  <div id=\"id_7eba3d41-d17b-4c75-ac66-49015bffa757\">\n",
              "    <style>\n",
              "      .colab-df-generate {\n",
              "        background-color: #E8F0FE;\n",
              "        border: none;\n",
              "        border-radius: 50%;\n",
              "        cursor: pointer;\n",
              "        display: none;\n",
              "        fill: #1967D2;\n",
              "        height: 32px;\n",
              "        padding: 0 0 0 0;\n",
              "        width: 32px;\n",
              "      }\n",
              "\n",
              "      .colab-df-generate:hover {\n",
              "        background-color: #E2EBFA;\n",
              "        box-shadow: 0px 1px 2px rgba(60, 64, 67, 0.3), 0px 1px 3px 1px rgba(60, 64, 67, 0.15);\n",
              "        fill: #174EA6;\n",
              "      }\n",
              "\n",
              "      [theme=dark] .colab-df-generate {\n",
              "        background-color: #3B4455;\n",
              "        fill: #D2E3FC;\n",
              "      }\n",
              "\n",
              "      [theme=dark] .colab-df-generate:hover {\n",
              "        background-color: #434B5C;\n",
              "        box-shadow: 0px 1px 3px 1px rgba(0, 0, 0, 0.15);\n",
              "        filter: drop-shadow(0px 1px 2px rgba(0, 0, 0, 0.3));\n",
              "        fill: #FFFFFF;\n",
              "      }\n",
              "    </style>\n",
              "    <button class=\"colab-df-generate\" onclick=\"generateWithVariable('df')\"\n",
              "            title=\"Generate code using this dataframe.\"\n",
              "            style=\"display:none;\">\n",
              "\n",
              "  <svg xmlns=\"http://www.w3.org/2000/svg\" height=\"24px\"viewBox=\"0 0 24 24\"\n",
              "       width=\"24px\">\n",
              "    <path d=\"M7,19H8.4L18.45,9,17,7.55,7,17.6ZM5,21V16.75L18.45,3.32a2,2,0,0,1,2.83,0l1.4,1.43a1.91,1.91,0,0,1,.58,1.4,1.91,1.91,0,0,1-.58,1.4L9.25,21ZM18.45,9,17,7.55Zm-12,3A5.31,5.31,0,0,0,4.9,8.1,5.31,5.31,0,0,0,1,6.5,5.31,5.31,0,0,0,4.9,4.9,5.31,5.31,0,0,0,6.5,1,5.31,5.31,0,0,0,8.1,4.9,5.31,5.31,0,0,0,12,6.5,5.46,5.46,0,0,0,6.5,12Z\"/>\n",
              "  </svg>\n",
              "    </button>\n",
              "    <script>\n",
              "      (() => {\n",
              "      const buttonEl =\n",
              "        document.querySelector('#id_7eba3d41-d17b-4c75-ac66-49015bffa757 button.colab-df-generate');\n",
              "      buttonEl.style.display =\n",
              "        google.colab.kernel.accessAllowed ? 'block' : 'none';\n",
              "\n",
              "      buttonEl.onclick = () => {\n",
              "        google.colab.notebook.generateWithVariable('df');\n",
              "      }\n",
              "      })();\n",
              "    </script>\n",
              "  </div>\n",
              "\n",
              "    </div>\n",
              "  </div>\n"
            ],
            "application/vnd.google.colaboratory.intrinsic+json": {
              "type": "dataframe",
              "variable_name": "df"
            }
          },
          "metadata": {},
          "execution_count": 3
        }
      ],
      "source": [
        "df"
      ]
    },
    {
      "cell_type": "markdown",
      "id": "6bcedd00",
      "metadata": {
        "id": "6bcedd00"
      },
      "source": [
        "# 1. Loại bỏ các đặc trưng không cần thiết\n",
        "Đống thời tách data và target thành `X` và `y`"
      ]
    },
    {
      "cell_type": "code",
      "execution_count": 4,
      "id": "afb3eaf9",
      "metadata": {
        "id": "afb3eaf9"
      },
      "outputs": [],
      "source": [
        "X = df.drop(columns=[\"Depression\", \"id\", \"Name\"])\n",
        "y = df[\"Depression\"]"
      ]
    },
    {
      "cell_type": "markdown",
      "id": "65c6a892",
      "metadata": {
        "id": "65c6a892"
      },
      "source": [
        "# 2. Tạo các đặc trưng mới"
      ]
    },
    {
      "cell_type": "markdown",
      "id": "b82abdfb",
      "metadata": {
        "id": "b82abdfb"
      },
      "source": [
        "Tùy theo người `đi học` hay `đi làm` mà các cột `'Academic Pressure', 'Work Pressure', 'Study Satisfaction', 'Job Satisfaction'` có giá trị hay không.\n",
        "\n",
        "Dựa trên điểm chung `Stress` hay `Satisfaction`, ta kết hợp 2 cột với nhau thành `'Aca/Work Pressure','Aca/Work Satisfaction'` đồng thời khử các giá trị NULL chưa thể xử lí."
      ]
    },
    {
      "cell_type": "code",
      "execution_count": 5,
      "id": "d23f238a",
      "metadata": {
        "id": "d23f238a"
      },
      "outputs": [],
      "source": [
        "X['Aca/Work Pressure'] = X['Academic Pressure'].fillna(X['Work Pressure'])\n",
        "X['Aca/Work Satisfaction'] = X['Study Satisfaction'].fillna(X['Job Satisfaction'])\n",
        "X.drop(columns=['Academic Pressure', 'Work Pressure', 'Study Satisfaction', 'Job Satisfaction'], inplace=True)"
      ]
    },
    {
      "cell_type": "markdown",
      "id": "58e58af0",
      "metadata": {
        "id": "58e58af0"
      },
      "source": [
        "# 3. Encoding"
      ]
    },
    {
      "cell_type": "markdown",
      "id": "c9a00f48",
      "metadata": {
        "id": "c9a00f48"
      },
      "source": [
        "Ở bộ dataset này, chủ yếu các cột thuộc dạng Categorical và nhiều cột chứa rất nhiều nhóm.\n",
        "\\\\\n",
        "Điều này khiến việc encoding các cột như trên khó khăn. Vì thế, trong trường hợp này, nhóm tiếp cận bằng cách chia thành 2 bộ dữ liệu để feature engineering:\n",
        "- Bộ không encoding `X1`: Cho phương pháp model-based có thể xử lí Categorical data không cần encoding (CatBoost, LightGBM, ...)\n",
        "- Bộ encoding `X2` (bỏ những đặc trưng không thể encoding): được encoding và normalize."
      ]
    },
    {
      "cell_type": "code",
      "execution_count": 6,
      "id": "31a63a68",
      "metadata": {
        "id": "31a63a68"
      },
      "outputs": [],
      "source": [
        "X1 = X.copy()"
      ]
    },
    {
      "cell_type": "code",
      "execution_count": 7,
      "id": "da8aede0",
      "metadata": {
        "id": "da8aede0"
      },
      "outputs": [],
      "source": [
        "catgegorical_features = [\n",
        "    'Working Professional or Student',\n",
        "    'Gender',\n",
        "    'Family History of Mental Illness',\n",
        "    'Have you ever had suicidal thoughts ?',\n",
        "    'Dietary Habits',\n",
        "    'City',\n",
        "    'Degree',\n",
        "    'Profession']"
      ]
    },
    {
      "cell_type": "code",
      "execution_count": 8,
      "id": "16818c47",
      "metadata": {
        "id": "16818c47"
      },
      "outputs": [],
      "source": [
        "for col in catgegorical_features:\n",
        "    X1[col] = X1[col].fillna('NaN')\n",
        "    X1[col] = X1[col].astype('category')"
      ]
    },
    {
      "cell_type": "code",
      "execution_count": 9,
      "id": "49350187",
      "metadata": {
        "id": "49350187"
      },
      "outputs": [],
      "source": [
        "X2 = X.copy()"
      ]
    },
    {
      "cell_type": "code",
      "execution_count": 10,
      "id": "f714f6f6",
      "metadata": {
        "id": "f714f6f6"
      },
      "outputs": [],
      "source": [
        "X2['Working Professional or Student'] = X2['Working Professional or Student'].map({'Working Professional': True, 'Student': False})\n",
        "X2['Gender'] = X2['Gender'].map({'Male': True, 'Female': False})"
      ]
    },
    {
      "cell_type": "code",
      "execution_count": 11,
      "id": "c4843a14",
      "metadata": {
        "id": "c4843a14"
      },
      "outputs": [],
      "source": [
        "X2['Family History of Mental Illness'] = X2['Family History of Mental Illness'].map({'Yes': True, 'No': False})\n",
        "X2['Have you ever had suicidal thoughts ?'] = X2['Have you ever had suicidal thoughts ?'].map({'Yes': True, 'No': False})"
      ]
    },
    {
      "cell_type": "markdown",
      "id": "dcd4f71a",
      "metadata": {
        "id": "dcd4f71a"
      },
      "source": [
        "Dietary Habits chuyển thành -1 / 0 / 1"
      ]
    },
    {
      "cell_type": "code",
      "execution_count": 12,
      "id": "7be90c67",
      "metadata": {
        "id": "7be90c67"
      },
      "outputs": [],
      "source": [
        "X2['Dietary Habits'] = X2['Dietary Habits'].map({'Unhealthy': -1, 'Moderate': 0, 'Healthy': 1})"
      ]
    },
    {
      "cell_type": "code",
      "execution_count": 13,
      "id": "13bd264b",
      "metadata": {
        "id": "13bd264b"
      },
      "outputs": [],
      "source": [
        "X2 = X2.drop(columns=['City', 'Degree', 'Profession'])"
      ]
    },
    {
      "cell_type": "code",
      "execution_count": 14,
      "id": "7cf2bcd6",
      "metadata": {
        "id": "7cf2bcd6"
      },
      "outputs": [],
      "source": [
        "X2 = X2.drop(columns=['CGPA'])"
      ]
    },
    {
      "cell_type": "markdown",
      "id": "300e935a",
      "metadata": {
        "id": "300e935a"
      },
      "source": [
        "Chuẩn hóa dữ liệu"
      ]
    },
    {
      "cell_type": "code",
      "execution_count": 15,
      "id": "76f87efd",
      "metadata": {
        "id": "76f87efd"
      },
      "outputs": [],
      "source": [
        "from sklearn.preprocessing import StandardScaler\n",
        "\n",
        "scaler2 = StandardScaler()\n",
        "X2 = pd.DataFrame(scaler2.fit_transform(X2), columns=X2.columns)"
      ]
    },
    {
      "cell_type": "markdown",
      "id": "3e8f3825",
      "metadata": {
        "id": "3e8f3825"
      },
      "source": [
        "Cuối cùng, ta có riêng 2 bộ dữ liệu sau:"
      ]
    },
    {
      "cell_type": "code",
      "execution_count": 16,
      "id": "32454316",
      "metadata": {
        "colab": {
          "base_uri": "https://localhost:8080/",
          "height": 267
        },
        "id": "32454316",
        "outputId": "c64e5d83-b80b-4aad-b84c-90f391552f0b"
      },
      "outputs": [
        {
          "output_type": "execute_result",
          "data": {
            "text/plain": [
              "   Gender   Age           City Working Professional or Student Profession  \\\n",
              "0  Female  49.0       Ludhiana            Working Professional       Chef   \n",
              "1    Male  26.0       Varanasi            Working Professional    Teacher   \n",
              "2    Male  33.0  Visakhapatnam                         Student        NaN   \n",
              "\n",
              "   CGPA  Sleep Duration Dietary Habits   Degree  \\\n",
              "0   NaN             8.5        Healthy      NaN   \n",
              "1   NaN             4.5      Unhealthy      LLB   \n",
              "2  8.97             5.5        Healthy  B.Pharm   \n",
              "\n",
              "  Have you ever had suicidal thoughts ?  Work/Study Hours  Financial Stress  \\\n",
              "0                                    No               1.0               2.0   \n",
              "1                                   Yes               7.0               3.0   \n",
              "2                                   Yes               3.0               1.0   \n",
              "\n",
              "  Family History of Mental Illness  Aca/Work Pressure  Aca/Work Satisfaction  \n",
              "0                               No                5.0                    2.0  \n",
              "1                               No                4.0                    3.0  \n",
              "2                               No                5.0                    2.0  "
            ],
            "text/html": [
              "\n",
              "  <div id=\"df-e9335a59-5eec-473f-9d02-b45e2447079e\" class=\"colab-df-container\">\n",
              "    <div>\n",
              "<style scoped>\n",
              "    .dataframe tbody tr th:only-of-type {\n",
              "        vertical-align: middle;\n",
              "    }\n",
              "\n",
              "    .dataframe tbody tr th {\n",
              "        vertical-align: top;\n",
              "    }\n",
              "\n",
              "    .dataframe thead th {\n",
              "        text-align: right;\n",
              "    }\n",
              "</style>\n",
              "<table border=\"1\" class=\"dataframe\">\n",
              "  <thead>\n",
              "    <tr style=\"text-align: right;\">\n",
              "      <th></th>\n",
              "      <th>Gender</th>\n",
              "      <th>Age</th>\n",
              "      <th>City</th>\n",
              "      <th>Working Professional or Student</th>\n",
              "      <th>Profession</th>\n",
              "      <th>CGPA</th>\n",
              "      <th>Sleep Duration</th>\n",
              "      <th>Dietary Habits</th>\n",
              "      <th>Degree</th>\n",
              "      <th>Have you ever had suicidal thoughts ?</th>\n",
              "      <th>Work/Study Hours</th>\n",
              "      <th>Financial Stress</th>\n",
              "      <th>Family History of Mental Illness</th>\n",
              "      <th>Aca/Work Pressure</th>\n",
              "      <th>Aca/Work Satisfaction</th>\n",
              "    </tr>\n",
              "  </thead>\n",
              "  <tbody>\n",
              "    <tr>\n",
              "      <th>0</th>\n",
              "      <td>Female</td>\n",
              "      <td>49.0</td>\n",
              "      <td>Ludhiana</td>\n",
              "      <td>Working Professional</td>\n",
              "      <td>Chef</td>\n",
              "      <td>NaN</td>\n",
              "      <td>8.5</td>\n",
              "      <td>Healthy</td>\n",
              "      <td>NaN</td>\n",
              "      <td>No</td>\n",
              "      <td>1.0</td>\n",
              "      <td>2.0</td>\n",
              "      <td>No</td>\n",
              "      <td>5.0</td>\n",
              "      <td>2.0</td>\n",
              "    </tr>\n",
              "    <tr>\n",
              "      <th>1</th>\n",
              "      <td>Male</td>\n",
              "      <td>26.0</td>\n",
              "      <td>Varanasi</td>\n",
              "      <td>Working Professional</td>\n",
              "      <td>Teacher</td>\n",
              "      <td>NaN</td>\n",
              "      <td>4.5</td>\n",
              "      <td>Unhealthy</td>\n",
              "      <td>LLB</td>\n",
              "      <td>Yes</td>\n",
              "      <td>7.0</td>\n",
              "      <td>3.0</td>\n",
              "      <td>No</td>\n",
              "      <td>4.0</td>\n",
              "      <td>3.0</td>\n",
              "    </tr>\n",
              "    <tr>\n",
              "      <th>2</th>\n",
              "      <td>Male</td>\n",
              "      <td>33.0</td>\n",
              "      <td>Visakhapatnam</td>\n",
              "      <td>Student</td>\n",
              "      <td>NaN</td>\n",
              "      <td>8.97</td>\n",
              "      <td>5.5</td>\n",
              "      <td>Healthy</td>\n",
              "      <td>B.Pharm</td>\n",
              "      <td>Yes</td>\n",
              "      <td>3.0</td>\n",
              "      <td>1.0</td>\n",
              "      <td>No</td>\n",
              "      <td>5.0</td>\n",
              "      <td>2.0</td>\n",
              "    </tr>\n",
              "  </tbody>\n",
              "</table>\n",
              "</div>\n",
              "    <div class=\"colab-df-buttons\">\n",
              "\n",
              "  <div class=\"colab-df-container\">\n",
              "    <button class=\"colab-df-convert\" onclick=\"convertToInteractive('df-e9335a59-5eec-473f-9d02-b45e2447079e')\"\n",
              "            title=\"Convert this dataframe to an interactive table.\"\n",
              "            style=\"display:none;\">\n",
              "\n",
              "  <svg xmlns=\"http://www.w3.org/2000/svg\" height=\"24px\" viewBox=\"0 -960 960 960\">\n",
              "    <path d=\"M120-120v-720h720v720H120Zm60-500h600v-160H180v160Zm220 220h160v-160H400v160Zm0 220h160v-160H400v160ZM180-400h160v-160H180v160Zm440 0h160v-160H620v160ZM180-180h160v-160H180v160Zm440 0h160v-160H620v160Z\"/>\n",
              "  </svg>\n",
              "    </button>\n",
              "\n",
              "  <style>\n",
              "    .colab-df-container {\n",
              "      display:flex;\n",
              "      gap: 12px;\n",
              "    }\n",
              "\n",
              "    .colab-df-convert {\n",
              "      background-color: #E8F0FE;\n",
              "      border: none;\n",
              "      border-radius: 50%;\n",
              "      cursor: pointer;\n",
              "      display: none;\n",
              "      fill: #1967D2;\n",
              "      height: 32px;\n",
              "      padding: 0 0 0 0;\n",
              "      width: 32px;\n",
              "    }\n",
              "\n",
              "    .colab-df-convert:hover {\n",
              "      background-color: #E2EBFA;\n",
              "      box-shadow: 0px 1px 2px rgba(60, 64, 67, 0.3), 0px 1px 3px 1px rgba(60, 64, 67, 0.15);\n",
              "      fill: #174EA6;\n",
              "    }\n",
              "\n",
              "    .colab-df-buttons div {\n",
              "      margin-bottom: 4px;\n",
              "    }\n",
              "\n",
              "    [theme=dark] .colab-df-convert {\n",
              "      background-color: #3B4455;\n",
              "      fill: #D2E3FC;\n",
              "    }\n",
              "\n",
              "    [theme=dark] .colab-df-convert:hover {\n",
              "      background-color: #434B5C;\n",
              "      box-shadow: 0px 1px 3px 1px rgba(0, 0, 0, 0.15);\n",
              "      filter: drop-shadow(0px 1px 2px rgba(0, 0, 0, 0.3));\n",
              "      fill: #FFFFFF;\n",
              "    }\n",
              "  </style>\n",
              "\n",
              "    <script>\n",
              "      const buttonEl =\n",
              "        document.querySelector('#df-e9335a59-5eec-473f-9d02-b45e2447079e button.colab-df-convert');\n",
              "      buttonEl.style.display =\n",
              "        google.colab.kernel.accessAllowed ? 'block' : 'none';\n",
              "\n",
              "      async function convertToInteractive(key) {\n",
              "        const element = document.querySelector('#df-e9335a59-5eec-473f-9d02-b45e2447079e');\n",
              "        const dataTable =\n",
              "          await google.colab.kernel.invokeFunction('convertToInteractive',\n",
              "                                                    [key], {});\n",
              "        if (!dataTable) return;\n",
              "\n",
              "        const docLinkHtml = 'Like what you see? Visit the ' +\n",
              "          '<a target=\"_blank\" href=https://colab.research.google.com/notebooks/data_table.ipynb>data table notebook</a>'\n",
              "          + ' to learn more about interactive tables.';\n",
              "        element.innerHTML = '';\n",
              "        dataTable['output_type'] = 'display_data';\n",
              "        await google.colab.output.renderOutput(dataTable, element);\n",
              "        const docLink = document.createElement('div');\n",
              "        docLink.innerHTML = docLinkHtml;\n",
              "        element.appendChild(docLink);\n",
              "      }\n",
              "    </script>\n",
              "  </div>\n",
              "\n",
              "\n",
              "    <div id=\"df-2b563438-4293-402d-b0a5-59f028aa1129\">\n",
              "      <button class=\"colab-df-quickchart\" onclick=\"quickchart('df-2b563438-4293-402d-b0a5-59f028aa1129')\"\n",
              "                title=\"Suggest charts\"\n",
              "                style=\"display:none;\">\n",
              "\n",
              "<svg xmlns=\"http://www.w3.org/2000/svg\" height=\"24px\"viewBox=\"0 0 24 24\"\n",
              "     width=\"24px\">\n",
              "    <g>\n",
              "        <path d=\"M19 3H5c-1.1 0-2 .9-2 2v14c0 1.1.9 2 2 2h14c1.1 0 2-.9 2-2V5c0-1.1-.9-2-2-2zM9 17H7v-7h2v7zm4 0h-2V7h2v10zm4 0h-2v-4h2v4z\"/>\n",
              "    </g>\n",
              "</svg>\n",
              "      </button>\n",
              "\n",
              "<style>\n",
              "  .colab-df-quickchart {\n",
              "      --bg-color: #E8F0FE;\n",
              "      --fill-color: #1967D2;\n",
              "      --hover-bg-color: #E2EBFA;\n",
              "      --hover-fill-color: #174EA6;\n",
              "      --disabled-fill-color: #AAA;\n",
              "      --disabled-bg-color: #DDD;\n",
              "  }\n",
              "\n",
              "  [theme=dark] .colab-df-quickchart {\n",
              "      --bg-color: #3B4455;\n",
              "      --fill-color: #D2E3FC;\n",
              "      --hover-bg-color: #434B5C;\n",
              "      --hover-fill-color: #FFFFFF;\n",
              "      --disabled-bg-color: #3B4455;\n",
              "      --disabled-fill-color: #666;\n",
              "  }\n",
              "\n",
              "  .colab-df-quickchart {\n",
              "    background-color: var(--bg-color);\n",
              "    border: none;\n",
              "    border-radius: 50%;\n",
              "    cursor: pointer;\n",
              "    display: none;\n",
              "    fill: var(--fill-color);\n",
              "    height: 32px;\n",
              "    padding: 0;\n",
              "    width: 32px;\n",
              "  }\n",
              "\n",
              "  .colab-df-quickchart:hover {\n",
              "    background-color: var(--hover-bg-color);\n",
              "    box-shadow: 0 1px 2px rgba(60, 64, 67, 0.3), 0 1px 3px 1px rgba(60, 64, 67, 0.15);\n",
              "    fill: var(--button-hover-fill-color);\n",
              "  }\n",
              "\n",
              "  .colab-df-quickchart-complete:disabled,\n",
              "  .colab-df-quickchart-complete:disabled:hover {\n",
              "    background-color: var(--disabled-bg-color);\n",
              "    fill: var(--disabled-fill-color);\n",
              "    box-shadow: none;\n",
              "  }\n",
              "\n",
              "  .colab-df-spinner {\n",
              "    border: 2px solid var(--fill-color);\n",
              "    border-color: transparent;\n",
              "    border-bottom-color: var(--fill-color);\n",
              "    animation:\n",
              "      spin 1s steps(1) infinite;\n",
              "  }\n",
              "\n",
              "  @keyframes spin {\n",
              "    0% {\n",
              "      border-color: transparent;\n",
              "      border-bottom-color: var(--fill-color);\n",
              "      border-left-color: var(--fill-color);\n",
              "    }\n",
              "    20% {\n",
              "      border-color: transparent;\n",
              "      border-left-color: var(--fill-color);\n",
              "      border-top-color: var(--fill-color);\n",
              "    }\n",
              "    30% {\n",
              "      border-color: transparent;\n",
              "      border-left-color: var(--fill-color);\n",
              "      border-top-color: var(--fill-color);\n",
              "      border-right-color: var(--fill-color);\n",
              "    }\n",
              "    40% {\n",
              "      border-color: transparent;\n",
              "      border-right-color: var(--fill-color);\n",
              "      border-top-color: var(--fill-color);\n",
              "    }\n",
              "    60% {\n",
              "      border-color: transparent;\n",
              "      border-right-color: var(--fill-color);\n",
              "    }\n",
              "    80% {\n",
              "      border-color: transparent;\n",
              "      border-right-color: var(--fill-color);\n",
              "      border-bottom-color: var(--fill-color);\n",
              "    }\n",
              "    90% {\n",
              "      border-color: transparent;\n",
              "      border-bottom-color: var(--fill-color);\n",
              "    }\n",
              "  }\n",
              "</style>\n",
              "\n",
              "      <script>\n",
              "        async function quickchart(key) {\n",
              "          const quickchartButtonEl =\n",
              "            document.querySelector('#' + key + ' button');\n",
              "          quickchartButtonEl.disabled = true;  // To prevent multiple clicks.\n",
              "          quickchartButtonEl.classList.add('colab-df-spinner');\n",
              "          try {\n",
              "            const charts = await google.colab.kernel.invokeFunction(\n",
              "                'suggestCharts', [key], {});\n",
              "          } catch (error) {\n",
              "            console.error('Error during call to suggestCharts:', error);\n",
              "          }\n",
              "          quickchartButtonEl.classList.remove('colab-df-spinner');\n",
              "          quickchartButtonEl.classList.add('colab-df-quickchart-complete');\n",
              "        }\n",
              "        (() => {\n",
              "          let quickchartButtonEl =\n",
              "            document.querySelector('#df-2b563438-4293-402d-b0a5-59f028aa1129 button');\n",
              "          quickchartButtonEl.style.display =\n",
              "            google.colab.kernel.accessAllowed ? 'block' : 'none';\n",
              "        })();\n",
              "      </script>\n",
              "    </div>\n",
              "\n",
              "    </div>\n",
              "  </div>\n"
            ],
            "application/vnd.google.colaboratory.intrinsic+json": {
              "type": "dataframe",
              "variable_name": "X1"
            }
          },
          "metadata": {},
          "execution_count": 16
        }
      ],
      "source": [
        "X1.head(3)"
      ]
    },
    {
      "cell_type": "code",
      "execution_count": 17,
      "id": "aa661d9c",
      "metadata": {
        "colab": {
          "base_uri": "https://localhost:8080/",
          "height": 195
        },
        "id": "aa661d9c",
        "outputId": "e3e6946d-7c48-48fa-f9a0-eb5e16f342ff"
      },
      "outputs": [
        {
          "output_type": "execute_result",
          "data": {
            "text/plain": [
              "     Gender       Age  Working Professional or Student  Sleep Duration  \\\n",
              "0 -1.106832  0.695152                         0.497230        1.291788   \n",
              "1  0.903480 -1.162225                         0.497230       -1.226583   \n",
              "2  0.903480 -0.596936                        -2.011141       -0.596991   \n",
              "\n",
              "   Dietary Habits  Have you ever had suicidal thoughts ?  Work/Study Hours  \\\n",
              "0        1.256724                              -0.988843         -1.363057   \n",
              "1       -1.230514                               1.011283          0.193972   \n",
              "2        1.256724                               1.011283         -0.844047   \n",
              "\n",
              "   Financial Stress  Family History of Mental Illness  Aca/Work Pressure  \\\n",
              "0         -0.699562                         -0.994272           1.407100   \n",
              "1          0.007836                         -0.994272           0.693793   \n",
              "2         -1.406960                         -0.994272           1.407100   \n",
              "\n",
              "   Aca/Work Satisfaction  \n",
              "0              -0.689290  \n",
              "1               0.022342  \n",
              "2              -0.689290  "
            ],
            "text/html": [
              "\n",
              "  <div id=\"df-81a15e2e-60a8-492d-9199-742fce6f2a49\" class=\"colab-df-container\">\n",
              "    <div>\n",
              "<style scoped>\n",
              "    .dataframe tbody tr th:only-of-type {\n",
              "        vertical-align: middle;\n",
              "    }\n",
              "\n",
              "    .dataframe tbody tr th {\n",
              "        vertical-align: top;\n",
              "    }\n",
              "\n",
              "    .dataframe thead th {\n",
              "        text-align: right;\n",
              "    }\n",
              "</style>\n",
              "<table border=\"1\" class=\"dataframe\">\n",
              "  <thead>\n",
              "    <tr style=\"text-align: right;\">\n",
              "      <th></th>\n",
              "      <th>Gender</th>\n",
              "      <th>Age</th>\n",
              "      <th>Working Professional or Student</th>\n",
              "      <th>Sleep Duration</th>\n",
              "      <th>Dietary Habits</th>\n",
              "      <th>Have you ever had suicidal thoughts ?</th>\n",
              "      <th>Work/Study Hours</th>\n",
              "      <th>Financial Stress</th>\n",
              "      <th>Family History of Mental Illness</th>\n",
              "      <th>Aca/Work Pressure</th>\n",
              "      <th>Aca/Work Satisfaction</th>\n",
              "    </tr>\n",
              "  </thead>\n",
              "  <tbody>\n",
              "    <tr>\n",
              "      <th>0</th>\n",
              "      <td>-1.106832</td>\n",
              "      <td>0.695152</td>\n",
              "      <td>0.497230</td>\n",
              "      <td>1.291788</td>\n",
              "      <td>1.256724</td>\n",
              "      <td>-0.988843</td>\n",
              "      <td>-1.363057</td>\n",
              "      <td>-0.699562</td>\n",
              "      <td>-0.994272</td>\n",
              "      <td>1.407100</td>\n",
              "      <td>-0.689290</td>\n",
              "    </tr>\n",
              "    <tr>\n",
              "      <th>1</th>\n",
              "      <td>0.903480</td>\n",
              "      <td>-1.162225</td>\n",
              "      <td>0.497230</td>\n",
              "      <td>-1.226583</td>\n",
              "      <td>-1.230514</td>\n",
              "      <td>1.011283</td>\n",
              "      <td>0.193972</td>\n",
              "      <td>0.007836</td>\n",
              "      <td>-0.994272</td>\n",
              "      <td>0.693793</td>\n",
              "      <td>0.022342</td>\n",
              "    </tr>\n",
              "    <tr>\n",
              "      <th>2</th>\n",
              "      <td>0.903480</td>\n",
              "      <td>-0.596936</td>\n",
              "      <td>-2.011141</td>\n",
              "      <td>-0.596991</td>\n",
              "      <td>1.256724</td>\n",
              "      <td>1.011283</td>\n",
              "      <td>-0.844047</td>\n",
              "      <td>-1.406960</td>\n",
              "      <td>-0.994272</td>\n",
              "      <td>1.407100</td>\n",
              "      <td>-0.689290</td>\n",
              "    </tr>\n",
              "  </tbody>\n",
              "</table>\n",
              "</div>\n",
              "    <div class=\"colab-df-buttons\">\n",
              "\n",
              "  <div class=\"colab-df-container\">\n",
              "    <button class=\"colab-df-convert\" onclick=\"convertToInteractive('df-81a15e2e-60a8-492d-9199-742fce6f2a49')\"\n",
              "            title=\"Convert this dataframe to an interactive table.\"\n",
              "            style=\"display:none;\">\n",
              "\n",
              "  <svg xmlns=\"http://www.w3.org/2000/svg\" height=\"24px\" viewBox=\"0 -960 960 960\">\n",
              "    <path d=\"M120-120v-720h720v720H120Zm60-500h600v-160H180v160Zm220 220h160v-160H400v160Zm0 220h160v-160H400v160ZM180-400h160v-160H180v160Zm440 0h160v-160H620v160ZM180-180h160v-160H180v160Zm440 0h160v-160H620v160Z\"/>\n",
              "  </svg>\n",
              "    </button>\n",
              "\n",
              "  <style>\n",
              "    .colab-df-container {\n",
              "      display:flex;\n",
              "      gap: 12px;\n",
              "    }\n",
              "\n",
              "    .colab-df-convert {\n",
              "      background-color: #E8F0FE;\n",
              "      border: none;\n",
              "      border-radius: 50%;\n",
              "      cursor: pointer;\n",
              "      display: none;\n",
              "      fill: #1967D2;\n",
              "      height: 32px;\n",
              "      padding: 0 0 0 0;\n",
              "      width: 32px;\n",
              "    }\n",
              "\n",
              "    .colab-df-convert:hover {\n",
              "      background-color: #E2EBFA;\n",
              "      box-shadow: 0px 1px 2px rgba(60, 64, 67, 0.3), 0px 1px 3px 1px rgba(60, 64, 67, 0.15);\n",
              "      fill: #174EA6;\n",
              "    }\n",
              "\n",
              "    .colab-df-buttons div {\n",
              "      margin-bottom: 4px;\n",
              "    }\n",
              "\n",
              "    [theme=dark] .colab-df-convert {\n",
              "      background-color: #3B4455;\n",
              "      fill: #D2E3FC;\n",
              "    }\n",
              "\n",
              "    [theme=dark] .colab-df-convert:hover {\n",
              "      background-color: #434B5C;\n",
              "      box-shadow: 0px 1px 3px 1px rgba(0, 0, 0, 0.15);\n",
              "      filter: drop-shadow(0px 1px 2px rgba(0, 0, 0, 0.3));\n",
              "      fill: #FFFFFF;\n",
              "    }\n",
              "  </style>\n",
              "\n",
              "    <script>\n",
              "      const buttonEl =\n",
              "        document.querySelector('#df-81a15e2e-60a8-492d-9199-742fce6f2a49 button.colab-df-convert');\n",
              "      buttonEl.style.display =\n",
              "        google.colab.kernel.accessAllowed ? 'block' : 'none';\n",
              "\n",
              "      async function convertToInteractive(key) {\n",
              "        const element = document.querySelector('#df-81a15e2e-60a8-492d-9199-742fce6f2a49');\n",
              "        const dataTable =\n",
              "          await google.colab.kernel.invokeFunction('convertToInteractive',\n",
              "                                                    [key], {});\n",
              "        if (!dataTable) return;\n",
              "\n",
              "        const docLinkHtml = 'Like what you see? Visit the ' +\n",
              "          '<a target=\"_blank\" href=https://colab.research.google.com/notebooks/data_table.ipynb>data table notebook</a>'\n",
              "          + ' to learn more about interactive tables.';\n",
              "        element.innerHTML = '';\n",
              "        dataTable['output_type'] = 'display_data';\n",
              "        await google.colab.output.renderOutput(dataTable, element);\n",
              "        const docLink = document.createElement('div');\n",
              "        docLink.innerHTML = docLinkHtml;\n",
              "        element.appendChild(docLink);\n",
              "      }\n",
              "    </script>\n",
              "  </div>\n",
              "\n",
              "\n",
              "    <div id=\"df-05f77d94-9603-427e-86ec-dc5e9d84e441\">\n",
              "      <button class=\"colab-df-quickchart\" onclick=\"quickchart('df-05f77d94-9603-427e-86ec-dc5e9d84e441')\"\n",
              "                title=\"Suggest charts\"\n",
              "                style=\"display:none;\">\n",
              "\n",
              "<svg xmlns=\"http://www.w3.org/2000/svg\" height=\"24px\"viewBox=\"0 0 24 24\"\n",
              "     width=\"24px\">\n",
              "    <g>\n",
              "        <path d=\"M19 3H5c-1.1 0-2 .9-2 2v14c0 1.1.9 2 2 2h14c1.1 0 2-.9 2-2V5c0-1.1-.9-2-2-2zM9 17H7v-7h2v7zm4 0h-2V7h2v10zm4 0h-2v-4h2v4z\"/>\n",
              "    </g>\n",
              "</svg>\n",
              "      </button>\n",
              "\n",
              "<style>\n",
              "  .colab-df-quickchart {\n",
              "      --bg-color: #E8F0FE;\n",
              "      --fill-color: #1967D2;\n",
              "      --hover-bg-color: #E2EBFA;\n",
              "      --hover-fill-color: #174EA6;\n",
              "      --disabled-fill-color: #AAA;\n",
              "      --disabled-bg-color: #DDD;\n",
              "  }\n",
              "\n",
              "  [theme=dark] .colab-df-quickchart {\n",
              "      --bg-color: #3B4455;\n",
              "      --fill-color: #D2E3FC;\n",
              "      --hover-bg-color: #434B5C;\n",
              "      --hover-fill-color: #FFFFFF;\n",
              "      --disabled-bg-color: #3B4455;\n",
              "      --disabled-fill-color: #666;\n",
              "  }\n",
              "\n",
              "  .colab-df-quickchart {\n",
              "    background-color: var(--bg-color);\n",
              "    border: none;\n",
              "    border-radius: 50%;\n",
              "    cursor: pointer;\n",
              "    display: none;\n",
              "    fill: var(--fill-color);\n",
              "    height: 32px;\n",
              "    padding: 0;\n",
              "    width: 32px;\n",
              "  }\n",
              "\n",
              "  .colab-df-quickchart:hover {\n",
              "    background-color: var(--hover-bg-color);\n",
              "    box-shadow: 0 1px 2px rgba(60, 64, 67, 0.3), 0 1px 3px 1px rgba(60, 64, 67, 0.15);\n",
              "    fill: var(--button-hover-fill-color);\n",
              "  }\n",
              "\n",
              "  .colab-df-quickchart-complete:disabled,\n",
              "  .colab-df-quickchart-complete:disabled:hover {\n",
              "    background-color: var(--disabled-bg-color);\n",
              "    fill: var(--disabled-fill-color);\n",
              "    box-shadow: none;\n",
              "  }\n",
              "\n",
              "  .colab-df-spinner {\n",
              "    border: 2px solid var(--fill-color);\n",
              "    border-color: transparent;\n",
              "    border-bottom-color: var(--fill-color);\n",
              "    animation:\n",
              "      spin 1s steps(1) infinite;\n",
              "  }\n",
              "\n",
              "  @keyframes spin {\n",
              "    0% {\n",
              "      border-color: transparent;\n",
              "      border-bottom-color: var(--fill-color);\n",
              "      border-left-color: var(--fill-color);\n",
              "    }\n",
              "    20% {\n",
              "      border-color: transparent;\n",
              "      border-left-color: var(--fill-color);\n",
              "      border-top-color: var(--fill-color);\n",
              "    }\n",
              "    30% {\n",
              "      border-color: transparent;\n",
              "      border-left-color: var(--fill-color);\n",
              "      border-top-color: var(--fill-color);\n",
              "      border-right-color: var(--fill-color);\n",
              "    }\n",
              "    40% {\n",
              "      border-color: transparent;\n",
              "      border-right-color: var(--fill-color);\n",
              "      border-top-color: var(--fill-color);\n",
              "    }\n",
              "    60% {\n",
              "      border-color: transparent;\n",
              "      border-right-color: var(--fill-color);\n",
              "    }\n",
              "    80% {\n",
              "      border-color: transparent;\n",
              "      border-right-color: var(--fill-color);\n",
              "      border-bottom-color: var(--fill-color);\n",
              "    }\n",
              "    90% {\n",
              "      border-color: transparent;\n",
              "      border-bottom-color: var(--fill-color);\n",
              "    }\n",
              "  }\n",
              "</style>\n",
              "\n",
              "      <script>\n",
              "        async function quickchart(key) {\n",
              "          const quickchartButtonEl =\n",
              "            document.querySelector('#' + key + ' button');\n",
              "          quickchartButtonEl.disabled = true;  // To prevent multiple clicks.\n",
              "          quickchartButtonEl.classList.add('colab-df-spinner');\n",
              "          try {\n",
              "            const charts = await google.colab.kernel.invokeFunction(\n",
              "                'suggestCharts', [key], {});\n",
              "          } catch (error) {\n",
              "            console.error('Error during call to suggestCharts:', error);\n",
              "          }\n",
              "          quickchartButtonEl.classList.remove('colab-df-spinner');\n",
              "          quickchartButtonEl.classList.add('colab-df-quickchart-complete');\n",
              "        }\n",
              "        (() => {\n",
              "          let quickchartButtonEl =\n",
              "            document.querySelector('#df-05f77d94-9603-427e-86ec-dc5e9d84e441 button');\n",
              "          quickchartButtonEl.style.display =\n",
              "            google.colab.kernel.accessAllowed ? 'block' : 'none';\n",
              "        })();\n",
              "      </script>\n",
              "    </div>\n",
              "\n",
              "    </div>\n",
              "  </div>\n"
            ],
            "application/vnd.google.colaboratory.intrinsic+json": {
              "type": "dataframe",
              "variable_name": "X2"
            }
          },
          "metadata": {},
          "execution_count": 17
        }
      ],
      "source": [
        "X2.head(3)"
      ]
    },
    {
      "cell_type": "code",
      "execution_count": 18,
      "id": "650883ca",
      "metadata": {
        "colab": {
          "base_uri": "https://localhost:8080/"
        },
        "id": "650883ca",
        "outputId": "46e50929-5a43-4a6c-b864-f41b68796387"
      },
      "outputs": [
        {
          "output_type": "stream",
          "name": "stdout",
          "text": [
            "Shape of X1: (140656, 15)\n",
            "Shape of X2: (140656, 11)\n"
          ]
        }
      ],
      "source": [
        "print(\"Shape of X1:\", X1.shape)\n",
        "print(\"Shape of X2:\", X2.shape)"
      ]
    },
    {
      "cell_type": "markdown",
      "id": "6cfdf91e",
      "metadata": {
        "id": "6cfdf91e"
      },
      "source": [
        "# 4. Chọn lựa đặc trưng"
      ]
    },
    {
      "cell_type": "markdown",
      "id": "f8027585",
      "metadata": {
        "id": "f8027585"
      },
      "source": [
        "Nhóm kết hợp sử dụng 3 chiến lược sau:\n",
        "- Dựa vào correlation matrix (ma trận tương quan).\n",
        "- Dùng statistical tests.\n",
        "- Dùng model-based methodd."
      ]
    },
    {
      "cell_type": "markdown",
      "id": "db50e4de",
      "metadata": {
        "id": "db50e4de"
      },
      "source": [
        "## 4.1. Correlation matrix"
      ]
    },
    {
      "cell_type": "code",
      "execution_count": 19,
      "id": "da0f9b9a",
      "metadata": {
        "id": "da0f9b9a"
      },
      "outputs": [],
      "source": [
        "import seaborn as sns"
      ]
    },
    {
      "cell_type": "code",
      "source": [
        "df_cor = pd.concat([X2, y], axis=1)"
      ],
      "metadata": {
        "id": "ZsROP95psDd3"
      },
      "id": "ZsROP95psDd3",
      "execution_count": 20,
      "outputs": []
    },
    {
      "cell_type": "code",
      "execution_count": 21,
      "id": "6a087e5d",
      "metadata": {
        "colab": {
          "base_uri": "https://localhost:8080/",
          "height": 706
        },
        "id": "6a087e5d",
        "outputId": "ed4666f7-52ae-42fa-804c-c4fc2d6f04b6"
      },
      "outputs": [
        {
          "output_type": "execute_result",
          "data": {
            "text/plain": [
              "<Axes: >"
            ]
          },
          "metadata": {},
          "execution_count": 21
        },
        {
          "output_type": "display_data",
          "data": {
            "text/plain": [
              "<Figure size 640x480 with 2 Axes>"
            ],
            "image/png": "[encoded data removed]"
          },
          "metadata": {}
        }
      ],
      "source": [
        "heatmap = df_cor.corr()\n",
        "sns.heatmap(heatmap, annot=True, fmt=\".2f\")"
      ]
    },
    {
      "cell_type": "markdown",
      "id": "34dba7fa",
      "metadata": {
        "id": "34dba7fa"
      },
      "source": [
        "Ở đây, ta thấy 2 cột `Age` và `Working Professional or Student` có tương quan cao hơn hẳn với các cột khác."
      ]
    },
    {
      "cell_type": "markdown",
      "id": "bed54acd",
      "metadata": {
        "id": "bed54acd"
      },
      "source": [
        "**Việc drop 1 trong 2 cột này là không nên**, vì:\n",
        "- Tương quan của 2 cột này đối với cột target là rất cao sao với các cột khác.\n",
        "- Mặc dù Age và Working Professional or Student có tương quan 0.59, nhưng không phải là (0.8 - 0.9) tức là vẫn còn thông tin riêng biệt ở mỗi cột. Ví dụ: Hai người cùng là \"Working Professional\" nhưng tuổi có thể rất khác nhau.\n",
        "- `Age` là một biến định lượng (số tuổi cụ thể). `Working Professional or Student` là một biến phân loại\n",
        "- Ngưỡng tương quan chưa đủ cao 0.59 chưa tới (>0.8)"
      ]
    },
    {
      "cell_type": "markdown",
      "source": [
        "Family History of Mental Illness và Gender có tương quan với cột mục tiêu Depression rất thấp 0.01 và 0.02. Cân nhắc loại bỏ 2 features này."
      ],
      "metadata": {
        "id": "ZNKZgJhHt_RR"
      },
      "id": "ZNKZgJhHt_RR"
    },
    {
      "cell_type": "markdown",
      "id": "df0faaf4",
      "metadata": {
        "id": "df0faaf4"
      },
      "source": [
        "## 4.2. Statistical tests"
      ]
    },
    {
      "cell_type": "markdown",
      "id": "a48ab501",
      "metadata": {
        "id": "a48ab501"
      },
      "source": [
        "### Chi-squared test"
      ]
    },
    {
      "cell_type": "code",
      "execution_count": null,
      "id": "5KRYinRruibQ",
      "metadata": {
        "id": "5KRYinRruibQ"
      },
      "outputs": [],
      "source": [
        "df1 = pd.concat([X1, y], axis=1)"
      ]
    },
    {
      "cell_type": "code",
      "execution_count": null,
      "id": "3d785f99",
      "metadata": {
        "id": "3d785f99"
      },
      "outputs": [],
      "source": [
        "# Chuyển dữ liệu về str\n",
        "for column in df1.columns:\n",
        "       if column != 'Depression':\n",
        "           df1[column] = df1[column].astype(str)\n",
        "df1['Depression'] = df1['Depression'].astype(str)"
      ]
    },
    {
      "cell_type": "code",
      "execution_count": null,
      "id": "9b4d93d5",
      "metadata": {
        "colab": {
          "base_uri": "https://localhost:8080/"
        },
        "id": "9b4d93d5",
        "outputId": "946710b4-6af7-42b1-b760-3b8b0e2812cf"
      },
      "outputs": [
        {
          "output_type": "stream",
          "name": "stdout",
          "text": [
            "Chi-square test for feature: Gender\n",
            "  Chi2 statistic: 9.556563770991076\n",
            "  P-value: 0.001992357126098118\n",
            "  Degrees of freedom: 1\n",
            "--------------------\n",
            "Chi-square test for feature: Age\n",
            "  Chi2 statistic: 56175.56135294131\n",
            "  P-value: 0.0\n",
            "  Degrees of freedom: 42\n",
            "--------------------\n",
            "Chi-square test for feature: City\n",
            "  Chi2 statistic: 1057.295539495452\n",
            "  P-value: 4.0433885983062966e-203\n",
            "  Degrees of freedom: 30\n",
            "--------------------\n",
            "Chi-square test for feature: Working Professional or Student\n",
            "  Chi2 statistic: 38163.30526609875\n",
            "  P-value: 0.0\n",
            "  Degrees of freedom: 1\n",
            "--------------------\n",
            "Chi-square test for feature: Profession\n",
            "  Chi2 statistic: 41987.347196946524\n",
            "  P-value: 0.0\n",
            "  Degrees of freedom: 35\n",
            "--------------------\n",
            "Chi-square test for feature: CGPA\n",
            "  Chi2 statistic: 39044.38556135929\n",
            "  P-value: 0.0\n",
            "  Degrees of freedom: 331\n",
            "--------------------\n",
            "Chi-square test for feature: Sleep Duration\n",
            "  Chi2 statistic: 1196.532558971001\n",
            "  P-value: 8.992406925903314e-258\n",
            "  Degrees of freedom: 4\n",
            "--------------------\n",
            "Chi-square test for feature: Dietary Habits\n",
            "  Chi2 statistic: 3244.732577375555\n",
            "  P-value: 0.0\n",
            "  Degrees of freedom: 3\n",
            "--------------------\n",
            "Chi-square test for feature: Degree\n",
            "  Chi2 statistic: 13001.103532152474\n",
            "  P-value: 0.0\n",
            "  Degrees of freedom: 24\n",
            "--------------------\n",
            "Chi-square test for feature: Have you ever had suicidal thoughts ?\n",
            "  Chi2 statistic: 17137.304084395473\n",
            "  P-value: 0.0\n",
            "  Degrees of freedom: 1\n",
            "--------------------\n",
            "Chi-square test for feature: Work/Study Hours\n",
            "  Chi2 statistic: 6322.392151564714\n",
            "  P-value: 0.0\n",
            "  Degrees of freedom: 12\n",
            "--------------------\n",
            "Chi-square test for feature: Financial Stress\n",
            "  Chi2 statistic: 7724.420272486606\n",
            "  P-value: 0.0\n",
            "  Degrees of freedom: 4\n",
            "--------------------\n",
            "Chi-square test for feature: Family History of Mental Illness\n",
            "  Chi2 statistic: 38.550625966216195\n",
            "  P-value: 5.335165531773369e-10\n",
            "  Degrees of freedom: 1\n",
            "--------------------\n",
            "Chi-square test for feature: Aca/Work Pressure\n",
            "  Chi2 statistic: 10156.562329879816\n",
            "  P-value: 0.0\n",
            "  Degrees of freedom: 4\n",
            "--------------------\n",
            "Chi-square test for feature: Aca/Work Satisfaction\n",
            "  Chi2 statistic: 3056.6337762793482\n",
            "  P-value: 0.0\n",
            "  Degrees of freedom: 4\n",
            "--------------------\n"
          ]
        }
      ],
      "source": [
        "import scipy.stats as stats\n",
        "\n",
        "def chi_square_test(df, target_column):\n",
        "    results = {}\n",
        "    for column in df.columns:\n",
        "        if column != target_column and df[column].dtype == 'object':\n",
        "            contingency_table = pd.crosstab(df[column], df[target_column])\n",
        "            chi2, p, dof, expected = stats.chi2_contingency(contingency_table)\n",
        "            results[column] = {'chi2': chi2, 'p-value': p, 'dof': dof}\n",
        "    return results\n",
        "\n",
        "\n",
        "target_variable = 'Depression'\n",
        "\n",
        "# Tính Chi2\n",
        "chi2_results = chi_square_test(df1, target_variable)\n",
        "\n",
        "\n",
        "for feature, result in chi2_results.items():\n",
        "  print(f\"Chi-square test for feature: {feature}\")\n",
        "  print(f\"  Chi2 statistic: {result['chi2']}\")\n",
        "  print(f\"  P-value: {result['p-value']}\")\n",
        "  print(f\"  Degrees of freedom: {result['dof']}\")\n",
        "  print(\"-\" * 20)"
      ]
    },
    {
      "cell_type": "code",
      "source": [
        "# Kết quả Chi2 test\n",
        "chi2_df = pd.DataFrame.from_dict(chi2_results, orient='index')\n",
        "chi2_df = chi2_df.sort_values(by='chi2', ascending=False)\n",
        "chi2_df\n"
      ],
      "metadata": {
        "colab": {
          "base_uri": "https://localhost:8080/",
          "height": 519
        },
        "id": "C6uSd9BKuwIV",
        "outputId": "80eac507-8fc2-4ddc-800f-69b1c65d0257"
      },
      "id": "C6uSd9BKuwIV",
      "execution_count": null,
      "outputs": [
        {
          "output_type": "execute_result",
          "data": {
            "text/plain": [
              "                                                  chi2      p-value  dof\n",
              "Age                                   56175.5613529413 0.0000000000   42\n",
              "Profession                            41987.3471969465 0.0000000000   35\n",
              "CGPA                                  39044.3855613593 0.0000000000  331\n",
              "Working Professional or Student       38163.3052660988 0.0000000000    1\n",
              "Have you ever had suicidal thoughts ? 17137.3040843955 0.0000000000    1\n",
              "Degree                                13001.1035321525 0.0000000000   24\n",
              "Aca/Work Pressure                     10156.5623298798 0.0000000000    4\n",
              "Financial Stress                       7724.4202724866 0.0000000000    4\n",
              "Work/Study Hours                       6322.3921515647 0.0000000000   12\n",
              "Dietary Habits                         3244.7325773756 0.0000000000    3\n",
              "Aca/Work Satisfaction                  3056.6337762793 0.0000000000    4\n",
              "Sleep Duration                         1196.5325589710 0.0000000000    4\n",
              "City                                   1057.2955394955 0.0000000000   30\n",
              "Family History of Mental Illness         38.5506259662 0.0000000005    1\n",
              "Gender                                    9.5565637710 0.0019923571    1"
            ],
            "text/html": [
              "\n",
              "  <div id=\"df-1a4c0848-8815-429a-86a0-47747683cf84\" class=\"colab-df-container\">\n",
              "    <div>\n",
              "<style scoped>\n",
              "    .dataframe tbody tr th:only-of-type {\n",
              "        vertical-align: middle;\n",
              "    }\n",
              "\n",
              "    .dataframe tbody tr th {\n",
              "        vertical-align: top;\n",
              "    }\n",
              "\n",
              "    .dataframe thead th {\n",
              "        text-align: right;\n",
              "    }\n",
              "</style>\n",
              "<table border=\"1\" class=\"dataframe\">\n",
              "  <thead>\n",
              "    <tr style=\"text-align: right;\">\n",
              "      <th></th>\n",
              "      <th>chi2</th>\n",
              "      <th>p-value</th>\n",
              "      <th>dof</th>\n",
              "    </tr>\n",
              "  </thead>\n",
              "  <tbody>\n",
              "    <tr>\n",
              "      <th>Age</th>\n",
              "      <td>56175.5613529413</td>\n",
              "      <td>0.0000000000</td>\n",
              "      <td>42</td>\n",
              "    </tr>\n",
              "    <tr>\n",
              "      <th>Profession</th>\n",
              "      <td>41987.3471969465</td>\n",
              "      <td>0.0000000000</td>\n",
              "      <td>35</td>\n",
              "    </tr>\n",
              "    <tr>\n",
              "      <th>CGPA</th>\n",
              "      <td>39044.3855613593</td>\n",
              "      <td>0.0000000000</td>\n",
              "      <td>331</td>\n",
              "    </tr>\n",
              "    <tr>\n",
              "      <th>Working Professional or Student</th>\n",
              "      <td>38163.3052660988</td>\n",
              "      <td>0.0000000000</td>\n",
              "      <td>1</td>\n",
              "    </tr>\n",
              "    <tr>\n",
              "      <th>Have you ever had suicidal thoughts ?</th>\n",
              "      <td>17137.3040843955</td>\n",
              "      <td>0.0000000000</td>\n",
              "      <td>1</td>\n",
              "    </tr>\n",
              "    <tr>\n",
              "      <th>Degree</th>\n",
              "      <td>13001.1035321525</td>\n",
              "      <td>0.0000000000</td>\n",
              "      <td>24</td>\n",
              "    </tr>\n",
              "    <tr>\n",
              "      <th>Aca/Work Pressure</th>\n",
              "      <td>10156.5623298798</td>\n",
              "      <td>0.0000000000</td>\n",
              "      <td>4</td>\n",
              "    </tr>\n",
              "    <tr>\n",
              "      <th>Financial Stress</th>\n",
              "      <td>7724.4202724866</td>\n",
              "      <td>0.0000000000</td>\n",
              "      <td>4</td>\n",
              "    </tr>\n",
              "    <tr>\n",
              "      <th>Work/Study Hours</th>\n",
              "      <td>6322.3921515647</td>\n",
              "      <td>0.0000000000</td>\n",
              "      <td>12</td>\n",
              "    </tr>\n",
              "    <tr>\n",
              "      <th>Dietary Habits</th>\n",
              "      <td>3244.7325773756</td>\n",
              "      <td>0.0000000000</td>\n",
              "      <td>3</td>\n",
              "    </tr>\n",
              "    <tr>\n",
              "      <th>Aca/Work Satisfaction</th>\n",
              "      <td>3056.6337762793</td>\n",
              "      <td>0.0000000000</td>\n",
              "      <td>4</td>\n",
              "    </tr>\n",
              "    <tr>\n",
              "      <th>Sleep Duration</th>\n",
              "      <td>1196.5325589710</td>\n",
              "      <td>0.0000000000</td>\n",
              "      <td>4</td>\n",
              "    </tr>\n",
              "    <tr>\n",
              "      <th>City</th>\n",
              "      <td>1057.2955394955</td>\n",
              "      <td>0.0000000000</td>\n",
              "      <td>30</td>\n",
              "    </tr>\n",
              "    <tr>\n",
              "      <th>Family History of Mental Illness</th>\n",
              "      <td>38.5506259662</td>\n",
              "      <td>0.0000000005</td>\n",
              "      <td>1</td>\n",
              "    </tr>\n",
              "    <tr>\n",
              "      <th>Gender</th>\n",
              "      <td>9.5565637710</td>\n",
              "      <td>0.0019923571</td>\n",
              "      <td>1</td>\n",
              "    </tr>\n",
              "  </tbody>\n",
              "</table>\n",
              "</div>\n",
              "    <div class=\"colab-df-buttons\">\n",
              "\n",
              "  <div class=\"colab-df-container\">\n",
              "    <button class=\"colab-df-convert\" onclick=\"convertToInteractive('df-1a4c0848-8815-429a-86a0-47747683cf84')\"\n",
              "            title=\"Convert this dataframe to an interactive table.\"\n",
              "            style=\"display:none;\">\n",
              "\n",
              "  <svg xmlns=\"http://www.w3.org/2000/svg\" height=\"24px\" viewBox=\"0 -960 960 960\">\n",
              "    <path d=\"M120-120v-720h720v720H120Zm60-500h600v-160H180v160Zm220 220h160v-160H400v160Zm0 220h160v-160H400v160ZM180-400h160v-160H180v160Zm440 0h160v-160H620v160ZM180-180h160v-160H180v160Zm440 0h160v-160H620v160Z\"/>\n",
              "  </svg>\n",
              "    </button>\n",
              "\n",
              "  <style>\n",
              "    .colab-df-container {\n",
              "      display:flex;\n",
              "      gap: 12px;\n",
              "    }\n",
              "\n",
              "    .colab-df-convert {\n",
              "      background-color: #E8F0FE;\n",
              "      border: none;\n",
              "      border-radius: 50%;\n",
              "      cursor: pointer;\n",
              "      display: none;\n",
              "      fill: #1967D2;\n",
              "      height: 32px;\n",
              "      padding: 0 0 0 0;\n",
              "      width: 32px;\n",
              "    }\n",
              "\n",
              "    .colab-df-convert:hover {\n",
              "      background-color: #E2EBFA;\n",
              "      box-shadow: 0px 1px 2px rgba(60, 64, 67, 0.3), 0px 1px 3px 1px rgba(60, 64, 67, 0.15);\n",
              "      fill: #174EA6;\n",
              "    }\n",
              "\n",
              "    .colab-df-buttons div {\n",
              "      margin-bottom: 4px;\n",
              "    }\n",
              "\n",
              "    [theme=dark] .colab-df-convert {\n",
              "      background-color: #3B4455;\n",
              "      fill: #D2E3FC;\n",
              "    }\n",
              "\n",
              "    [theme=dark] .colab-df-convert:hover {\n",
              "      background-color: #434B5C;\n",
              "      box-shadow: 0px 1px 3px 1px rgba(0, 0, 0, 0.15);\n",
              "      filter: drop-shadow(0px 1px 2px rgba(0, 0, 0, 0.3));\n",
              "      fill: #FFFFFF;\n",
              "    }\n",
              "  </style>\n",
              "\n",
              "    <script>\n",
              "      const buttonEl =\n",
              "        document.querySelector('#df-1a4c0848-8815-429a-86a0-47747683cf84 button.colab-df-convert');\n",
              "      buttonEl.style.display =\n",
              "        google.colab.kernel.accessAllowed ? 'block' : 'none';\n",
              "\n",
              "      async function convertToInteractive(key) {\n",
              "        const element = document.querySelector('#df-1a4c0848-8815-429a-86a0-47747683cf84');\n",
              "        const dataTable =\n",
              "          await google.colab.kernel.invokeFunction('convertToInteractive',\n",
              "                                                    [key], {});\n",
              "        if (!dataTable) return;\n",
              "\n",
              "        const docLinkHtml = 'Like what you see? Visit the ' +\n",
              "          '<a target=\"_blank\" href=https://colab.research.google.com/notebooks/data_table.ipynb>data table notebook</a>'\n",
              "          + ' to learn more about interactive tables.';\n",
              "        element.innerHTML = '';\n",
              "        dataTable['output_type'] = 'display_data';\n",
              "        await google.colab.output.renderOutput(dataTable, element);\n",
              "        const docLink = document.createElement('div');\n",
              "        docLink.innerHTML = docLinkHtml;\n",
              "        element.appendChild(docLink);\n",
              "      }\n",
              "    </script>\n",
              "  </div>\n",
              "\n",
              "\n",
              "    <div id=\"df-7fd9916e-0420-4fd8-8865-c8834068fd62\">\n",
              "      <button class=\"colab-df-quickchart\" onclick=\"quickchart('df-7fd9916e-0420-4fd8-8865-c8834068fd62')\"\n",
              "                title=\"Suggest charts\"\n",
              "                style=\"display:none;\">\n",
              "\n",
              "<svg xmlns=\"http://www.w3.org/2000/svg\" height=\"24px\"viewBox=\"0 0 24 24\"\n",
              "     width=\"24px\">\n",
              "    <g>\n",
              "        <path d=\"M19 3H5c-1.1 0-2 .9-2 2v14c0 1.1.9 2 2 2h14c1.1 0 2-.9 2-2V5c0-1.1-.9-2-2-2zM9 17H7v-7h2v7zm4 0h-2V7h2v10zm4 0h-2v-4h2v4z\"/>\n",
              "    </g>\n",
              "</svg>\n",
              "      </button>\n",
              "\n",
              "<style>\n",
              "  .colab-df-quickchart {\n",
              "      --bg-color: #E8F0FE;\n",
              "      --fill-color: #1967D2;\n",
              "      --hover-bg-color: #E2EBFA;\n",
              "      --hover-fill-color: #174EA6;\n",
              "      --disabled-fill-color: #AAA;\n",
              "      --disabled-bg-color: #DDD;\n",
              "  }\n",
              "\n",
              "  [theme=dark] .colab-df-quickchart {\n",
              "      --bg-color: #3B4455;\n",
              "      --fill-color: #D2E3FC;\n",
              "      --hover-bg-color: #434B5C;\n",
              "      --hover-fill-color: #FFFFFF;\n",
              "      --disabled-bg-color: #3B4455;\n",
              "      --disabled-fill-color: #666;\n",
              "  }\n",
              "\n",
              "  .colab-df-quickchart {\n",
              "    background-color: var(--bg-color);\n",
              "    border: none;\n",
              "    border-radius: 50%;\n",
              "    cursor: pointer;\n",
              "    display: none;\n",
              "    fill: var(--fill-color);\n",
              "    height: 32px;\n",
              "    padding: 0;\n",
              "    width: 32px;\n",
              "  }\n",
              "\n",
              "  .colab-df-quickchart:hover {\n",
              "    background-color: var(--hover-bg-color);\n",
              "    box-shadow: 0 1px 2px rgba(60, 64, 67, 0.3), 0 1px 3px 1px rgba(60, 64, 67, 0.15);\n",
              "    fill: var(--button-hover-fill-color);\n",
              "  }\n",
              "\n",
              "  .colab-df-quickchart-complete:disabled,\n",
              "  .colab-df-quickchart-complete:disabled:hover {\n",
              "    background-color: var(--disabled-bg-color);\n",
              "    fill: var(--disabled-fill-color);\n",
              "    box-shadow: none;\n",
              "  }\n",
              "\n",
              "  .colab-df-spinner {\n",
              "    border: 2px solid var(--fill-color);\n",
              "    border-color: transparent;\n",
              "    border-bottom-color: var(--fill-color);\n",
              "    animation:\n",
              "      spin 1s steps(1) infinite;\n",
              "  }\n",
              "\n",
              "  @keyframes spin {\n",
              "    0% {\n",
              "      border-color: transparent;\n",
              "      border-bottom-color: var(--fill-color);\n",
              "      border-left-color: var(--fill-color);\n",
              "    }\n",
              "    20% {\n",
              "      border-color: transparent;\n",
              "      border-left-color: var(--fill-color);\n",
              "      border-top-color: var(--fill-color);\n",
              "    }\n",
              "    30% {\n",
              "      border-color: transparent;\n",
              "      border-left-color: var(--fill-color);\n",
              "      border-top-color: var(--fill-color);\n",
              "      border-right-color: var(--fill-color);\n",
              "    }\n",
              "    40% {\n",
              "      border-color: transparent;\n",
              "      border-right-color: var(--fill-color);\n",
              "      border-top-color: var(--fill-color);\n",
              "    }\n",
              "    60% {\n",
              "      border-color: transparent;\n",
              "      border-right-color: var(--fill-color);\n",
              "    }\n",
              "    80% {\n",
              "      border-color: transparent;\n",
              "      border-right-color: var(--fill-color);\n",
              "      border-bottom-color: var(--fill-color);\n",
              "    }\n",
              "    90% {\n",
              "      border-color: transparent;\n",
              "      border-bottom-color: var(--fill-color);\n",
              "    }\n",
              "  }\n",
              "</style>\n",
              "\n",
              "      <script>\n",
              "        async function quickchart(key) {\n",
              "          const quickchartButtonEl =\n",
              "            document.querySelector('#' + key + ' button');\n",
              "          quickchartButtonEl.disabled = true;  // To prevent multiple clicks.\n",
              "          quickchartButtonEl.classList.add('colab-df-spinner');\n",
              "          try {\n",
              "            const charts = await google.colab.kernel.invokeFunction(\n",
              "                'suggestCharts', [key], {});\n",
              "          } catch (error) {\n",
              "            console.error('Error during call to suggestCharts:', error);\n",
              "          }\n",
              "          quickchartButtonEl.classList.remove('colab-df-spinner');\n",
              "          quickchartButtonEl.classList.add('colab-df-quickchart-complete');\n",
              "        }\n",
              "        (() => {\n",
              "          let quickchartButtonEl =\n",
              "            document.querySelector('#df-7fd9916e-0420-4fd8-8865-c8834068fd62 button');\n",
              "          quickchartButtonEl.style.display =\n",
              "            google.colab.kernel.accessAllowed ? 'block' : 'none';\n",
              "        })();\n",
              "      </script>\n",
              "    </div>\n",
              "\n",
              "  <div id=\"id_e6875da6-92f2-4625-a68b-5715ba0324c8\">\n",
              "    <style>\n",
              "      .colab-df-generate {\n",
              "        background-color: #E8F0FE;\n",
              "        border: none;\n",
              "        border-radius: 50%;\n",
              "        cursor: pointer;\n",
              "        display: none;\n",
              "        fill: #1967D2;\n",
              "        height: 32px;\n",
              "        padding: 0 0 0 0;\n",
              "        width: 32px;\n",
              "      }\n",
              "\n",
              "      .colab-df-generate:hover {\n",
              "        background-color: #E2EBFA;\n",
              "        box-shadow: 0px 1px 2px rgba(60, 64, 67, 0.3), 0px 1px 3px 1px rgba(60, 64, 67, 0.15);\n",
              "        fill: #174EA6;\n",
              "      }\n",
              "\n",
              "      [theme=dark] .colab-df-generate {\n",
              "        background-color: #3B4455;\n",
              "        fill: #D2E3FC;\n",
              "      }\n",
              "\n",
              "      [theme=dark] .colab-df-generate:hover {\n",
              "        background-color: #434B5C;\n",
              "        box-shadow: 0px 1px 3px 1px rgba(0, 0, 0, 0.15);\n",
              "        filter: drop-shadow(0px 1px 2px rgba(0, 0, 0, 0.3));\n",
              "        fill: #FFFFFF;\n",
              "      }\n",
              "    </style>\n",
              "    <button class=\"colab-df-generate\" onclick=\"generateWithVariable('chi2_df')\"\n",
              "            title=\"Generate code using this dataframe.\"\n",
              "            style=\"display:none;\">\n",
              "\n",
              "  <svg xmlns=\"http://www.w3.org/2000/svg\" height=\"24px\"viewBox=\"0 0 24 24\"\n",
              "       width=\"24px\">\n",
              "    <path d=\"M7,19H8.4L18.45,9,17,7.55,7,17.6ZM5,21V16.75L18.45,3.32a2,2,0,0,1,2.83,0l1.4,1.43a1.91,1.91,0,0,1,.58,1.4,1.91,1.91,0,0,1-.58,1.4L9.25,21ZM18.45,9,17,7.55Zm-12,3A5.31,5.31,0,0,0,4.9,8.1,5.31,5.31,0,0,0,1,6.5,5.31,5.31,0,0,0,4.9,4.9,5.31,5.31,0,0,0,6.5,1,5.31,5.31,0,0,0,8.1,4.9,5.31,5.31,0,0,0,12,6.5,5.46,5.46,0,0,0,6.5,12Z\"/>\n",
              "  </svg>\n",
              "    </button>\n",
              "    <script>\n",
              "      (() => {\n",
              "      const buttonEl =\n",
              "        document.querySelector('#id_e6875da6-92f2-4625-a68b-5715ba0324c8 button.colab-df-generate');\n",
              "      buttonEl.style.display =\n",
              "        google.colab.kernel.accessAllowed ? 'block' : 'none';\n",
              "\n",
              "      buttonEl.onclick = () => {\n",
              "        google.colab.notebook.generateWithVariable('chi2_df');\n",
              "      }\n",
              "      })();\n",
              "    </script>\n",
              "  </div>\n",
              "\n",
              "    </div>\n",
              "  </div>\n"
            ],
            "application/vnd.google.colaboratory.intrinsic+json": {
              "type": "dataframe",
              "variable_name": "chi2_df",
              "summary": "{\n  \"name\": \"chi2_df\",\n  \"rows\": 15,\n  \"fields\": [\n    {\n      \"column\": \"chi2\",\n      \"properties\": {\n        \"dtype\": \"number\",\n        \"std\": 18518.66882137665,\n        \"min\": 9.556563770991076,\n        \"max\": 56175.56135294131,\n        \"num_unique_values\": 15,\n        \"samples\": [\n          3244.732577375555,\n          1196.532558971001,\n          56175.56135294131\n        ],\n        \"semantic_type\": \"\",\n        \"description\": \"\"\n      }\n    },\n    {\n      \"column\": \"p-value\",\n      \"properties\": {\n        \"dtype\": \"number\",\n        \"std\": 0.0005144243880988699,\n        \"min\": 0.0,\n        \"max\": 0.001992357126098118,\n        \"num_unique_values\": 5,\n        \"samples\": [\n          8.992406925903314e-258,\n          0.001992357126098118,\n          4.0433885983062966e-203\n        ],\n        \"semantic_type\": \"\",\n        \"description\": \"\"\n      }\n    },\n    {\n      \"column\": \"dof\",\n      \"properties\": {\n        \"dtype\": \"number\",\n        \"std\": 83,\n        \"min\": 1,\n        \"max\": 331,\n        \"num_unique_values\": 9,\n        \"samples\": [\n          3,\n          35,\n          4\n        ],\n        \"semantic_type\": \"\",\n        \"description\": \"\"\n      }\n    }\n  ]\n}"
            }
          },
          "metadata": {},
          "execution_count": 162
        }
      ]
    },
    {
      "cell_type": "markdown",
      "id": "4N3-WXdOr84Y",
      "metadata": {
        "id": "4N3-WXdOr84Y"
      },
      "source": [
        "**Nhận xét**:\n",
        " - Tất cả các biến đều có mối liên hệ thống kê với Depression (p-value < 0.05)\n",
        " - Nhóm có Chi² càng lớn (và p-value ≈ 0) như Age, Profession, CGPA, Working Professional or Student, Have you ever had suicidal thoughts?,… cho thấy mối liên hệ từ mạnh tới rất mạnh với nguy cơ trầm cảm.\n",
        "\n",
        "- Ngược lại, những biến như Gender và Family History of Mental Illness có Chi² nhỏ hơn đáng kể, nghĩa là mức độ liên hệ khiêm tốn hơn so với các yếu tố khác, nhưng vẫn có ý nghĩa thống kê."
      ]
    },
    {
      "cell_type": "markdown",
      "id": "4f439a13",
      "metadata": {
        "id": "4f439a13"
      },
      "source": [
        "### ANOVA test"
      ]
    },
    {
      "cell_type": "code",
      "execution_count": null,
      "id": "9u0lFPDaoxjY",
      "metadata": {
        "id": "9u0lFPDaoxjY"
      },
      "outputs": [],
      "source": [
        "from sklearn.feature_selection import f_classif"
      ]
    },
    {
      "cell_type": "code",
      "execution_count": null,
      "id": "Zgwpy_5jHWRr",
      "metadata": {
        "id": "Zgwpy_5jHWRr"
      },
      "outputs": [],
      "source": [
        "df2 = pd.concat([X2, y], axis=1)\n",
        "X_2 = df2.drop(columns=['Depression'])\n",
        "y_2 = df2['Depression']"
      ]
    },
    {
      "cell_type": "code",
      "execution_count": null,
      "id": "D81ok7qRsT17",
      "metadata": {
        "id": "D81ok7qRsT17"
      },
      "outputs": [],
      "source": [
        "X_2 = X_2.dropna()\n",
        "y_2 = y_2[y_2.index.isin(X_2.index)]"
      ]
    },
    {
      "cell_type": "code",
      "execution_count": null,
      "id": "VANmaNuVoxja",
      "metadata": {
        "colab": {
          "base_uri": "https://localhost:8080/"
        },
        "id": "VANmaNuVoxja",
        "outputId": "f1061045-6f50-469f-f891-b5205be9e698"
      },
      "outputs": [
        {
          "output_type": "stream",
          "name": "stdout",
          "text": [
            "                                  Feature          F_value       p_value\n",
            "1                                     Age 65802.6336920452  0.0000000000\n",
            "2         Working Professional or Student 52343.1396229648  0.0000000000\n",
            "5   Have you ever had suicidal thoughts ? 19511.7130052825  0.0000000000\n",
            "9                       Aca/Work Pressure 10490.0216137783  0.0000000000\n",
            "7                        Financial Stress  7648.7928385769  0.0000000000\n",
            "6                        Work/Study Hours  5369.2164181235  0.0000000000\n",
            "4                          Dietary Habits  3193.6437369587  0.0000000000\n",
            "10                  Aca/Work Satisfaction  2910.4295189559  0.0000000000\n",
            "3                          Sleep Duration   811.1455317116  0.0000000000\n",
            "8        Family History of Mental Illness    38.7562635030  0.0000000005\n",
            "0                                  Gender     9.6377585046  0.0019065556\n"
          ]
        }
      ],
      "source": [
        "# Tính F-value và p-value\n",
        "F, p = f_classif(X_2,y_2)\n",
        "\n",
        "# Đưa vào DataFrame cho dễ xem\n",
        "anova_result = pd.DataFrame({'Feature': X_2.columns, 'F_value': F, 'p_value': p})\n",
        "anova_result['p_value'] = anova_result['p_value'].apply(lambda x: format(x, '.10f'))\n",
        "anova_result = anova_result.sort_values(by='F_value', ascending=False)\n",
        "\n",
        "print(anova_result)"
      ]
    },
    {
      "cell_type": "markdown",
      "id": "p4Gy5KGUv-ZF",
      "metadata": {
        "id": "p4Gy5KGUv-ZF"
      },
      "source": [
        "**Nhận xét**:\n",
        "Các feature có giá trị F_value cao (F_value > 100) và p_value thấp (p_value < 0.01) như:\n",
        "- Age\n",
        "- Working Professional or Student\n",
        "- Have you ever had suicidal thoughts?\n",
        "- Aca/Work Pressure\n",
        "- Financial Stress\n",
        "- Work/Study Hours\n",
        "- Aca/Work Satisfaction\n",
        "- Dietary Habits\n",
        "- Sleep Duration\n",
        "\n",
        "Có sự khác biệt giữa các nhóm lớn hơn nhiều so với độ biến thiên trong cùng một nhóm. Tức Feature đó phân biệt tốt giữa các nhãn.\n",
        "\n",
        "Có khả năng sự khác biệt do ngẫu nhiên rất thấp. Feature thật sự liên quan đến nhãn và nên được giữ lại"
      ]
    },
    {
      "cell_type": "markdown",
      "id": "4lvuxiAU32gL",
      "metadata": {
        "id": "4lvuxiAU32gL"
      },
      "source": [
        "Tuy nhiên, cột:\n",
        "\n",
        " Family History of Mental Illness và Gender có F_value không quá cao (< 100) nhưng p_value thấp (< 0.01) nên cần được kết hợp thêm với các chiến lược khác để quyết định có nên loại bỏ hay không"
      ]
    },
    {
      "cell_type": "markdown",
      "id": "e105984c",
      "metadata": {
        "id": "e105984c"
      },
      "source": [
        "## 4.3. Model-based method"
      ]
    },
    {
      "cell_type": "code",
      "execution_count": null,
      "id": "13612a4e",
      "metadata": {
        "id": "13612a4e"
      },
      "outputs": [],
      "source": [
        "X1_train, X1_test, y1_train, y1_test = train_test_split(X1, y, test_size=0.2,random_state=0)\n"
      ]
    },
    {
      "cell_type": "markdown",
      "id": "b48569c4",
      "metadata": {
        "id": "b48569c4"
      },
      "source": [
        "### Lựa chọn đặc trưng dựa trên Logistic Regression"
      ]
    },
    {
      "cell_type": "code",
      "execution_count": null,
      "id": "csgKnUG61vVg",
      "metadata": {
        "id": "csgKnUG61vVg"
      },
      "outputs": [],
      "source": [
        "df2 = pd.concat([X2, y], axis=1)\n",
        "df2 = df2.dropna()\n",
        "\n",
        "X2 = df2.drop('Depression', axis=1)\n",
        "y = df2['Depression']"
      ]
    },
    {
      "cell_type": "code",
      "execution_count": null,
      "id": "0315a9d6",
      "metadata": {
        "colab": {
          "base_uri": "https://localhost:8080/",
          "height": 97
        },
        "id": "0315a9d6",
        "outputId": "dbec4519-8437-481b-a266-2a86176291fc"
      },
      "outputs": [
        {
          "output_type": "execute_result",
          "data": {
            "text/plain": [
              "LogisticRegression(C=1, class_weight='balanced', penalty='l1', random_state=42,\n",
              "                   solver='liblinear')"
            ],
            "text/html": [
              "<style>#sk-container-id-4 {\n",
              "  /* Definition of color scheme common for light and dark mode */\n",
              "  --sklearn-color-text: #000;\n",
              "  --sklearn-color-text-muted: #666;\n",
              "  --sklearn-color-line: gray;\n",
              "  /* Definition of color scheme for unfitted estimators */\n",
              "  --sklearn-color-unfitted-level-0: #fff5e6;\n",
              "  --sklearn-color-unfitted-level-1: #f6e4d2;\n",
              "  --sklearn-color-unfitted-level-2: #ffe0b3;\n",
              "  --sklearn-color-unfitted-level-3: chocolate;\n",
              "  /* Definition of color scheme for fitted estimators */\n",
              "  --sklearn-color-fitted-level-0: #f0f8ff;\n",
              "  --sklearn-color-fitted-level-1: #d4ebff;\n",
              "  --sklearn-color-fitted-level-2: #b3dbfd;\n",
              "  --sklearn-color-fitted-level-3: cornflowerblue;\n",
              "\n",
              "  /* Specific color for light theme */\n",
              "  --sklearn-color-text-on-default-background: var(--sg-text-color, var(--theme-code-foreground, var(--jp-content-font-color1, black)));\n",
              "  --sklearn-color-background: var(--sg-background-color, var(--theme-background, var(--jp-layout-color0, white)));\n",
              "  --sklearn-color-border-box: var(--sg-text-color, var(--theme-code-foreground, var(--jp-content-font-color1, black)));\n",
              "  --sklearn-color-icon: #696969;\n",
              "\n",
              "  @media (prefers-color-scheme: dark) {\n",
              "    /* Redefinition of color scheme for dark theme */\n",
              "    --sklearn-color-text-on-default-background: var(--sg-text-color, var(--theme-code-foreground, var(--jp-content-font-color1, white)));\n",
              "    --sklearn-color-background: var(--sg-background-color, var(--theme-background, var(--jp-layout-color0, #111)));\n",
              "    --sklearn-color-border-box: var(--sg-text-color, var(--theme-code-foreground, var(--jp-content-font-color1, white)));\n",
              "    --sklearn-color-icon: #878787;\n",
              "  }\n",
              "}\n",
              "\n",
              "#sk-container-id-4 {\n",
              "  color: var(--sklearn-color-text);\n",
              "}\n",
              "\n",
              "#sk-container-id-4 pre {\n",
              "  padding: 0;\n",
              "}\n",
              "\n",
              "#sk-container-id-4 input.sk-hidden--visually {\n",
              "  border: 0;\n",
              "  clip: rect(1px 1px 1px 1px);\n",
              "  clip: rect(1px, 1px, 1px, 1px);\n",
              "  height: 1px;\n",
              "  margin: -1px;\n",
              "  overflow: hidden;\n",
              "  padding: 0;\n",
              "  position: absolute;\n",
              "  width: 1px;\n",
              "}\n",
              "\n",
              "#sk-container-id-4 div.sk-dashed-wrapped {\n",
              "  border: 1px dashed var(--sklearn-color-line);\n",
              "  margin: 0 0.4em 0.5em 0.4em;\n",
              "  box-sizing: border-box;\n",
              "  padding-bottom: 0.4em;\n",
              "  background-color: var(--sklearn-color-background);\n",
              "}\n",
              "\n",
              "#sk-container-id-4 div.sk-container {\n",
              "  /* jupyter's `normalize.less` sets `[hidden] { display: none; }`\n",
              "     but bootstrap.min.css set `[hidden] { display: none !important; }`\n",
              "     so we also need the `!important` here to be able to override the\n",
              "     default hidden behavior on the sphinx rendered scikit-learn.org.\n",
              "     See: https://github.com/scikit-learn/scikit-learn/issues/21755 */\n",
              "  display: inline-block !important;\n",
              "  position: relative;\n",
              "}\n",
              "\n",
              "#sk-container-id-4 div.sk-text-repr-fallback {\n",
              "  display: none;\n",
              "}\n",
              "\n",
              "div.sk-parallel-item,\n",
              "div.sk-serial,\n",
              "div.sk-item {\n",
              "  /* draw centered vertical line to link estimators */\n",
              "  background-image: linear-gradient(var(--sklearn-color-text-on-default-background), var(--sklearn-color-text-on-default-background));\n",
              "  background-size: 2px 100%;\n",
              "  background-repeat: no-repeat;\n",
              "  background-position: center center;\n",
              "}\n",
              "\n",
              "/* Parallel-specific style estimator block */\n",
              "\n",
              "#sk-container-id-4 div.sk-parallel-item::after {\n",
              "  content: \"\";\n",
              "  width: 100%;\n",
              "  border-bottom: 2px solid var(--sklearn-color-text-on-default-background);\n",
              "  flex-grow: 1;\n",
              "}\n",
              "\n",
              "#sk-container-id-4 div.sk-parallel {\n",
              "  display: flex;\n",
              "  align-items: stretch;\n",
              "  justify-content: center;\n",
              "  background-color: var(--sklearn-color-background);\n",
              "  position: relative;\n",
              "}\n",
              "\n",
              "#sk-container-id-4 div.sk-parallel-item {\n",
              "  display: flex;\n",
              "  flex-direction: column;\n",
              "}\n",
              "\n",
              "#sk-container-id-4 div.sk-parallel-item:first-child::after {\n",
              "  align-self: flex-end;\n",
              "  width: 50%;\n",
              "}\n",
              "\n",
              "#sk-container-id-4 div.sk-parallel-item:last-child::after {\n",
              "  align-self: flex-start;\n",
              "  width: 50%;\n",
              "}\n",
              "\n",
              "#sk-container-id-4 div.sk-parallel-item:only-child::after {\n",
              "  width: 0;\n",
              "}\n",
              "\n",
              "/* Serial-specific style estimator block */\n",
              "\n",
              "#sk-container-id-4 div.sk-serial {\n",
              "  display: flex;\n",
              "  flex-direction: column;\n",
              "  align-items: center;\n",
              "  background-color: var(--sklearn-color-background);\n",
              "  padding-right: 1em;\n",
              "  padding-left: 1em;\n",
              "}\n",
              "\n",
              "\n",
              "/* Toggleable style: style used for estimator/Pipeline/ColumnTransformer box that is\n",
              "clickable and can be expanded/collapsed.\n",
              "- Pipeline and ColumnTransformer use this feature and define the default style\n",
              "- Estimators will overwrite some part of the style using the `sk-estimator` class\n",
              "*/\n",
              "\n",
              "/* Pipeline and ColumnTransformer style (default) */\n",
              "\n",
              "#sk-container-id-4 div.sk-toggleable {\n",
              "  /* Default theme specific background. It is overwritten whether we have a\n",
              "  specific estimator or a Pipeline/ColumnTransformer */\n",
              "  background-color: var(--sklearn-color-background);\n",
              "}\n",
              "\n",
              "/* Toggleable label */\n",
              "#sk-container-id-4 label.sk-toggleable__label {\n",
              "  cursor: pointer;\n",
              "  display: flex;\n",
              "  width: 100%;\n",
              "  margin-bottom: 0;\n",
              "  padding: 0.5em;\n",
              "  box-sizing: border-box;\n",
              "  text-align: center;\n",
              "  align-items: start;\n",
              "  justify-content: space-between;\n",
              "  gap: 0.5em;\n",
              "}\n",
              "\n",
              "#sk-container-id-4 label.sk-toggleable__label .caption {\n",
              "  font-size: 0.6rem;\n",
              "  font-weight: lighter;\n",
              "  color: var(--sklearn-color-text-muted);\n",
              "}\n",
              "\n",
              "#sk-container-id-4 label.sk-toggleable__label-arrow:before {\n",
              "  /* Arrow on the left of the label */\n",
              "  content: \"▸\";\n",
              "  float: left;\n",
              "  margin-right: 0.25em;\n",
              "  color: var(--sklearn-color-icon);\n",
              "}\n",
              "\n",
              "#sk-container-id-4 label.sk-toggleable__label-arrow:hover:before {\n",
              "  color: var(--sklearn-color-text);\n",
              "}\n",
              "\n",
              "/* Toggleable content - dropdown */\n",
              "\n",
              "#sk-container-id-4 div.sk-toggleable__content {\n",
              "  max-height: 0;\n",
              "  max-width: 0;\n",
              "  overflow: hidden;\n",
              "  text-align: left;\n",
              "  /* unfitted */\n",
              "  background-color: var(--sklearn-color-unfitted-level-0);\n",
              "}\n",
              "\n",
              "#sk-container-id-4 div.sk-toggleable__content.fitted {\n",
              "  /* fitted */\n",
              "  background-color: var(--sklearn-color-fitted-level-0);\n",
              "}\n",
              "\n",
              "#sk-container-id-4 div.sk-toggleable__content pre {\n",
              "  margin: 0.2em;\n",
              "  border-radius: 0.25em;\n",
              "  color: var(--sklearn-color-text);\n",
              "  /* unfitted */\n",
              "  background-color: var(--sklearn-color-unfitted-level-0);\n",
              "}\n",
              "\n",
              "#sk-container-id-4 div.sk-toggleable__content.fitted pre {\n",
              "  /* unfitted */\n",
              "  background-color: var(--sklearn-color-fitted-level-0);\n",
              "}\n",
              "\n",
              "#sk-container-id-4 input.sk-toggleable__control:checked~div.sk-toggleable__content {\n",
              "  /* Expand drop-down */\n",
              "  max-height: 200px;\n",
              "  max-width: 100%;\n",
              "  overflow: auto;\n",
              "}\n",
              "\n",
              "#sk-container-id-4 input.sk-toggleable__control:checked~label.sk-toggleable__label-arrow:before {\n",
              "  content: \"▾\";\n",
              "}\n",
              "\n",
              "/* Pipeline/ColumnTransformer-specific style */\n",
              "\n",
              "#sk-container-id-4 div.sk-label input.sk-toggleable__control:checked~label.sk-toggleable__label {\n",
              "  color: var(--sklearn-color-text);\n",
              "  background-color: var(--sklearn-color-unfitted-level-2);\n",
              "}\n",
              "\n",
              "#sk-container-id-4 div.sk-label.fitted input.sk-toggleable__control:checked~label.sk-toggleable__label {\n",
              "  background-color: var(--sklearn-color-fitted-level-2);\n",
              "}\n",
              "\n",
              "/* Estimator-specific style */\n",
              "\n",
              "/* Colorize estimator box */\n",
              "#sk-container-id-4 div.sk-estimator input.sk-toggleable__control:checked~label.sk-toggleable__label {\n",
              "  /* unfitted */\n",
              "  background-color: var(--sklearn-color-unfitted-level-2);\n",
              "}\n",
              "\n",
              "#sk-container-id-4 div.sk-estimator.fitted input.sk-toggleable__control:checked~label.sk-toggleable__label {\n",
              "  /* fitted */\n",
              "  background-color: var(--sklearn-color-fitted-level-2);\n",
              "}\n",
              "\n",
              "#sk-container-id-4 div.sk-label label.sk-toggleable__label,\n",
              "#sk-container-id-4 div.sk-label label {\n",
              "  /* The background is the default theme color */\n",
              "  color: var(--sklearn-color-text-on-default-background);\n",
              "}\n",
              "\n",
              "/* On hover, darken the color of the background */\n",
              "#sk-container-id-4 div.sk-label:hover label.sk-toggleable__label {\n",
              "  color: var(--sklearn-color-text);\n",
              "  background-color: var(--sklearn-color-unfitted-level-2);\n",
              "}\n",
              "\n",
              "/* Label box, darken color on hover, fitted */\n",
              "#sk-container-id-4 div.sk-label.fitted:hover label.sk-toggleable__label.fitted {\n",
              "  color: var(--sklearn-color-text);\n",
              "  background-color: var(--sklearn-color-fitted-level-2);\n",
              "}\n",
              "\n",
              "/* Estimator label */\n",
              "\n",
              "#sk-container-id-4 div.sk-label label {\n",
              "  font-family: monospace;\n",
              "  font-weight: bold;\n",
              "  display: inline-block;\n",
              "  line-height: 1.2em;\n",
              "}\n",
              "\n",
              "#sk-container-id-4 div.sk-label-container {\n",
              "  text-align: center;\n",
              "}\n",
              "\n",
              "/* Estimator-specific */\n",
              "#sk-container-id-4 div.sk-estimator {\n",
              "  font-family: monospace;\n",
              "  border: 1px dotted var(--sklearn-color-border-box);\n",
              "  border-radius: 0.25em;\n",
              "  box-sizing: border-box;\n",
              "  margin-bottom: 0.5em;\n",
              "  /* unfitted */\n",
              "  background-color: var(--sklearn-color-unfitted-level-0);\n",
              "}\n",
              "\n",
              "#sk-container-id-4 div.sk-estimator.fitted {\n",
              "  /* fitted */\n",
              "  background-color: var(--sklearn-color-fitted-level-0);\n",
              "}\n",
              "\n",
              "/* on hover */\n",
              "#sk-container-id-4 div.sk-estimator:hover {\n",
              "  /* unfitted */\n",
              "  background-color: var(--sklearn-color-unfitted-level-2);\n",
              "}\n",
              "\n",
              "#sk-container-id-4 div.sk-estimator.fitted:hover {\n",
              "  /* fitted */\n",
              "  background-color: var(--sklearn-color-fitted-level-2);\n",
              "}\n",
              "\n",
              "/* Specification for estimator info (e.g. \"i\" and \"?\") */\n",
              "\n",
              "/* Common style for \"i\" and \"?\" */\n",
              "\n",
              ".sk-estimator-doc-link,\n",
              "a:link.sk-estimator-doc-link,\n",
              "a:visited.sk-estimator-doc-link {\n",
              "  float: right;\n",
              "  font-size: smaller;\n",
              "  line-height: 1em;\n",
              "  font-family: monospace;\n",
              "  background-color: var(--sklearn-color-background);\n",
              "  border-radius: 1em;\n",
              "  height: 1em;\n",
              "  width: 1em;\n",
              "  text-decoration: none !important;\n",
              "  margin-left: 0.5em;\n",
              "  text-align: center;\n",
              "  /* unfitted */\n",
              "  border: var(--sklearn-color-unfitted-level-1) 1pt solid;\n",
              "  color: var(--sklearn-color-unfitted-level-1);\n",
              "}\n",
              "\n",
              ".sk-estimator-doc-link.fitted,\n",
              "a:link.sk-estimator-doc-link.fitted,\n",
              "a:visited.sk-estimator-doc-link.fitted {\n",
              "  /* fitted */\n",
              "  border: var(--sklearn-color-fitted-level-1) 1pt solid;\n",
              "  color: var(--sklearn-color-fitted-level-1);\n",
              "}\n",
              "\n",
              "/* On hover */\n",
              "div.sk-estimator:hover .sk-estimator-doc-link:hover,\n",
              ".sk-estimator-doc-link:hover,\n",
              "div.sk-label-container:hover .sk-estimator-doc-link:hover,\n",
              ".sk-estimator-doc-link:hover {\n",
              "  /* unfitted */\n",
              "  background-color: var(--sklearn-color-unfitted-level-3);\n",
              "  color: var(--sklearn-color-background);\n",
              "  text-decoration: none;\n",
              "}\n",
              "\n",
              "div.sk-estimator.fitted:hover .sk-estimator-doc-link.fitted:hover,\n",
              ".sk-estimator-doc-link.fitted:hover,\n",
              "div.sk-label-container:hover .sk-estimator-doc-link.fitted:hover,\n",
              ".sk-estimator-doc-link.fitted:hover {\n",
              "  /* fitted */\n",
              "  background-color: var(--sklearn-color-fitted-level-3);\n",
              "  color: var(--sklearn-color-background);\n",
              "  text-decoration: none;\n",
              "}\n",
              "\n",
              "/* Span, style for the box shown on hovering the info icon */\n",
              ".sk-estimator-doc-link span {\n",
              "  display: none;\n",
              "  z-index: 9999;\n",
              "  position: relative;\n",
              "  font-weight: normal;\n",
              "  right: .2ex;\n",
              "  padding: .5ex;\n",
              "  margin: .5ex;\n",
              "  width: min-content;\n",
              "  min-width: 20ex;\n",
              "  max-width: 50ex;\n",
              "  color: var(--sklearn-color-text);\n",
              "  box-shadow: 2pt 2pt 4pt #999;\n",
              "  /* unfitted */\n",
              "  background: var(--sklearn-color-unfitted-level-0);\n",
              "  border: .5pt solid var(--sklearn-color-unfitted-level-3);\n",
              "}\n",
              "\n",
              ".sk-estimator-doc-link.fitted span {\n",
              "  /* fitted */\n",
              "  background: var(--sklearn-color-fitted-level-0);\n",
              "  border: var(--sklearn-color-fitted-level-3);\n",
              "}\n",
              "\n",
              ".sk-estimator-doc-link:hover span {\n",
              "  display: block;\n",
              "}\n",
              "\n",
              "/* \"?\"-specific style due to the `<a>` HTML tag */\n",
              "\n",
              "#sk-container-id-4 a.estimator_doc_link {\n",
              "  float: right;\n",
              "  font-size: 1rem;\n",
              "  line-height: 1em;\n",
              "  font-family: monospace;\n",
              "  background-color: var(--sklearn-color-background);\n",
              "  border-radius: 1rem;\n",
              "  height: 1rem;\n",
              "  width: 1rem;\n",
              "  text-decoration: none;\n",
              "  /* unfitted */\n",
              "  color: var(--sklearn-color-unfitted-level-1);\n",
              "  border: var(--sklearn-color-unfitted-level-1) 1pt solid;\n",
              "}\n",
              "\n",
              "#sk-container-id-4 a.estimator_doc_link.fitted {\n",
              "  /* fitted */\n",
              "  border: var(--sklearn-color-fitted-level-1) 1pt solid;\n",
              "  color: var(--sklearn-color-fitted-level-1);\n",
              "}\n",
              "\n",
              "/* On hover */\n",
              "#sk-container-id-4 a.estimator_doc_link:hover {\n",
              "  /* unfitted */\n",
              "  background-color: var(--sklearn-color-unfitted-level-3);\n",
              "  color: var(--sklearn-color-background);\n",
              "  text-decoration: none;\n",
              "}\n",
              "\n",
              "#sk-container-id-4 a.estimator_doc_link.fitted:hover {\n",
              "  /* fitted */\n",
              "  background-color: var(--sklearn-color-fitted-level-3);\n",
              "}\n",
              "</style><div id=\"sk-container-id-4\" class=\"sk-top-container\"><div class=\"sk-text-repr-fallback\"><pre>LogisticRegression(C=1, class_weight=&#x27;balanced&#x27;, penalty=&#x27;l1&#x27;, random_state=42,\n",
              "                   solver=&#x27;liblinear&#x27;)</pre><b>In a Jupyter environment, please rerun this cell to show the HTML representation or trust the notebook. <br />On GitHub, the HTML representation is unable to render, please try loading this page with nbviewer.org.</b></div><div class=\"sk-container\" hidden><div class=\"sk-item\"><div class=\"sk-estimator fitted sk-toggleable\"><input class=\"sk-toggleable__control sk-hidden--visually\" id=\"sk-estimator-id-4\" type=\"checkbox\" checked><label for=\"sk-estimator-id-4\" class=\"sk-toggleable__label fitted sk-toggleable__label-arrow\"><div><div>LogisticRegression</div></div><div><a class=\"sk-estimator-doc-link fitted\" rel=\"noreferrer\" target=\"_blank\" href=\"https://scikit-learn.org/1.6/modules/generated/sklearn.linear_model.LogisticRegression.html\">?<span>Documentation for LogisticRegression</span></a><span class=\"sk-estimator-doc-link fitted\">i<span>Fitted</span></span></div></label><div class=\"sk-toggleable__content fitted\"><pre>LogisticRegression(C=1, class_weight=&#x27;balanced&#x27;, penalty=&#x27;l1&#x27;, random_state=42,\n",
              "                   solver=&#x27;liblinear&#x27;)</pre></div> </div></div></div></div>"
            ]
          },
          "metadata": {},
          "execution_count": 169
        }
      ],
      "source": [
        "# Huấn luyện mô hình Logistic Regression với phạt L1\n",
        "from sklearn.linear_model import LogisticRegression\n",
        "from sklearn.metrics import accuracy_score, f1_score\n",
        "\n",
        "X2_train, X2_test, y2_train, y2_test = train_test_split(X2, y, test_size=0.2)\n",
        "log_reg = LogisticRegression(penalty='l1',C=1 ,solver='liblinear',class_weight='balanced', random_state= 42)\n",
        "log_reg.fit(X2, y)"
      ]
    },
    {
      "cell_type": "code",
      "execution_count": null,
      "id": "0a00fc47",
      "metadata": {
        "colab": {
          "base_uri": "https://localhost:8080/"
        },
        "id": "0a00fc47",
        "outputId": "61b05303-7236-4ba1-936b-6f78a38e19ae"
      },
      "outputs": [
        {
          "output_type": "stream",
          "name": "stdout",
          "text": [
            "Chỉ số các feature được chọn: [ 0  1  2  3  4  5  6  7  8  9 10]\n"
          ]
        },
        {
          "output_type": "stream",
          "name": "stderr",
          "text": [
            "/usr/local/lib/python3.11/dist-packages/sklearn/utils/validation.py:2732: UserWarning: X has feature names, but SelectFromModel was fitted without feature names\n",
            "  warnings.warn(\n"
          ]
        }
      ],
      "source": [
        "# Chọn lọc đặc trưng\n",
        "from sklearn.feature_selection import SelectFromModel\n",
        "\n",
        "selector = SelectFromModel(log_reg, prefit=True)\n",
        "X2_selected = selector.transform(X2)\n",
        "\n",
        "# Lấy chỉ số của các feature được chọn\n",
        "selected_feature_indices = selector.get_support(indices=True)\n",
        "print(\"Chỉ số các feature được chọn:\", selected_feature_indices)\n",
        "\n",
        "# Lấy tên của các feature được chọn\n",
        "selected_feature_names = X2.columns[selector.get_support()]"
      ]
    },
    {
      "cell_type": "code",
      "execution_count": null,
      "id": "3Pf9ekLz1NSY",
      "metadata": {
        "colab": {
          "base_uri": "https://localhost:8080/"
        },
        "id": "3Pf9ekLz1NSY",
        "outputId": "41d324f4-0067-4dbf-9cab-77c231f16c44"
      },
      "outputs": [
        {
          "output_type": "stream",
          "name": "stdout",
          "text": [
            "\n",
            "Danh sách sắp xếp mức độ quan trọng:\n",
            "Age: -2.1098170454965897\n",
            "Have you ever had suicidal thoughts ?: 1.2155010015562149\n",
            "Aca/Work Pressure: 0.9830880088012385\n",
            "Working Professional or Student: -0.7723623953289446\n",
            "Financial Stress: 0.7637718291113118\n",
            "Aca/Work Satisfaction: -0.5749344540700725\n",
            "Work/Study Hours: 0.5055822015726451\n",
            "Dietary Habits: -0.4173640143898708\n",
            "Sleep Duration: -0.25253660496439934\n",
            "Family History of Mental Illness: 0.10709593512211742\n",
            "Gender: 0.0016032300104150885\n"
          ]
        }
      ],
      "source": [
        "# Lấy hệ số của các feature và sắp xếp theo mức độ quan trọng\n",
        "feature_importance = log_reg.coef_[0]\n",
        "sorted_idx = np.argsort(np.abs(feature_importance))[::-1]\n",
        "sorted_feature_names = X2.columns[sorted_idx]\n",
        "sorted_importance = feature_importance[sorted_idx]\n",
        "\n",
        "print(\"\\nDanh sách sắp xếp mức độ quan trọng:\")\n",
        "for i in range(len(sorted_feature_names)):\n",
        "    print(f\"{sorted_feature_names[i]}: {sorted_importance[i]}\")"
      ]
    },
    {
      "cell_type": "code",
      "execution_count": null,
      "id": "7aFX_BfL1PIJ",
      "metadata": {
        "colab": {
          "base_uri": "https://localhost:8080/",
          "height": 607
        },
        "id": "7aFX_BfL1PIJ",
        "outputId": "5ec1ebd5-d10b-4f63-ab41-1483a2c991fd"
      },
      "outputs": [
        {
          "output_type": "display_data",
          "data": {
            "text/plain": [
              "<Figure size 1000x600 with 1 Axes>"
            ],
            "image/png": "[encoded data removed]"
          },
          "metadata": {}
        }
      ],
      "source": [
        "# Vẽ biểu đồ thể hiện mức độ quan trọng của các feature\n",
        "plt.figure(figsize=(10, 6))\n",
        "plt.bar(sorted_feature_names, sorted_importance)\n",
        "plt.xticks(rotation=90)\n",
        "plt.xlabel(\"Features\")\n",
        "plt.ylabel(\"Importance\")\n",
        "plt.title(\"Mức độ quan trọng của các feature\")\n",
        "plt.tight_layout()\n",
        "plt.show()"
      ]
    },
    {
      "cell_type": "markdown",
      "id": "upWvhymSAkka",
      "metadata": {
        "id": "upWvhymSAkka"
      },
      "source": [
        "# Nhận xét:\n",
        "1. Top 5 biến ảnh hưởng mạnh nhất:\n",
        "- Age (~-2.11)\n",
        "- Have you ever had suicidal thoughts ? (~1.22)\n",
        "- Aca/Work Pressure (~0.98)\n",
        "- Working Professional or Student (~-0.77)\n",
        "- Financial Stress (~0.76)\n",
        "\n",
        "→ Đây là những biến có giá trị tuyệt đối của hệ số lớn nhất, nghĩa là mỗi biến này sẽ có ảnh hưởng mạnh nhất đến việc bị trầm cảm.\n",
        "\n",
        "2. Các biến ở mức trung bình:\n",
        "- Aca/Work Satisfaction (~-0.58)\n",
        "- Work/Study Hours (~0.51)\n",
        "- Dietary Habits (~-0.42)\n",
        "- Sleep Duration (~-0.25)\n",
        "\n",
        "→ Vẫn có đóng góp nhưng không nổi bật bằng nhóm trên. Có thể cân nhắc giữ lại nếu muốn phân tích toàn diện, hoặc bỏ bớt nếu cần đơn giản hóa mô hình.\n",
        "\n",
        "3. Các biến ít quan trọng:\n",
        "- Family History of Mental Illness (~0.11)\n",
        "- Gender (~0.002)\n",
        "\n",
        "→ Hệ số nhỏ, cho thấy đóng góp rất yếu. Có thể cân nhắc loại bỏ để giảm số chiều và giúp cho mô hình đơn giản dễ hiểu hơn."
      ]
    },
    {
      "cell_type": "code",
      "execution_count": null,
      "id": "96AHmz9oVCfk",
      "metadata": {
        "colab": {
          "base_uri": "https://localhost:8080/"
        },
        "id": "96AHmz9oVCfk",
        "outputId": "f5e65768-c0b1-418a-ea5e-f79c147b8545"
      },
      "outputs": [
        {
          "output_type": "stream",
          "name": "stdout",
          "text": [
            "C = 1.0    → số feature còn lại: 11, Accuracy: 0.9131393611723696, F1-score: 0.7912820512820513, Recall: 0.9271\n",
            "C = 0.1    → số feature còn lại: 11, Accuracy: 0.9130326527708615, F1-score: 0.7910792104588567, Recall: 0.9271\n",
            "C = 0.01   → số feature còn lại: 10, Accuracy: 0.9123924023618126, F1-score: 0.7900792636154437, Recall: 0.9283\n",
            "C = 0.001  → số feature còn lại: 9, Accuracy: 0.904318133314363, F1-score: 0.7768005310321938, Recall: 0.9375\n"
          ]
        }
      ],
      "source": [
        "# Thử siết chặt phạt L1 hơn bằng cách chỉnh tham số C\n",
        "from sklearn.metrics import accuracy_score, f1_score, recall_score\n",
        "\n",
        "for C in [1.0, 0.1, 0.01, 0.001]:\n",
        "    lr = LogisticRegression(penalty='l1', solver='liblinear',class_weight= 'balanced', C=C, random_state=42)\n",
        "    lr.fit(X2_train, y2_train)\n",
        "\n",
        "    y2_pred = lr.predict(X2_test)\n",
        "    accuracy = accuracy_score(y2_test, y2_pred)\n",
        "    f1 = f1_score(y2_test, y2_pred)\n",
        "    recall = recall_score(y2_test, y2_pred)\n",
        "\n",
        "    nonzero = np.sum(np.abs(lr.coef_[0]) > 1e-6)\n",
        "    print(f\"C = {C:<6} → số feature còn lại: {nonzero}, Accuracy: {accuracy}, F1-score: {f1}, Recall: {recall:.4f}\")"
      ]
    },
    {
      "cell_type": "markdown",
      "id": "Eyg46kTIezv7",
      "metadata": {
        "id": "Eyg46kTIezv7"
      },
      "source": [
        "# Ta thấy:\n",
        "- Cả 2 giá trị C đầu tiên thì độ chênh lệch của Accuracy, F1-score và Recall là rất nhỏ.\n",
        "- Recall của C = 0.01 lớn hơn so với 2 C đầu\n",
        "- Ở C = 0.001, Recall lớn hơn so với 3 C đầu nhưng F1 và accuracy thấp hơn hẳn, Recall lớn nhất\n",
        "\n"
      ]
    },
    {
      "cell_type": "markdown",
      "id": "kX3_hYS-jtdD",
      "metadata": {
        "id": "kX3_hYS-jtdD"
      },
      "source": [
        "# Nhận xét:\n",
        "1. Nếu ưu tiên giữ F1-score cao nhất.\n",
        "→ Chọn C = 1.0 hoặc 0.1.\n",
        "\n",
        "2. Nếu muốn giảm số feature mà mất rất ít performance.\n",
        "→ Chọn C = 0.01:\n",
        "\n",
        " - Giảm 1 biến (11→10)\n",
        "\n",
        " - F1 giảm\n",
        "\n",
        " - Recall tăng nhẹ\n",
        "\n",
        " - Accuracy giảm không đáng kể\n",
        "\n",
        "3. Nếu cần tối đa hóa recall (tức muốn bắt thật nhiều ca dương)\n",
        "→ Chọn C = 0.001 nhưng đánh đổi F1 đáng kể.\n",
        "\n",
        "# Tóm lại nếu muốn cho mô hình gọn, nhanh, hạn chế bị over-fitting, ta nên chọn C = 0.01 với 10 features"
      ]
    },
    {
      "cell_type": "code",
      "execution_count": null,
      "id": "OmF4DuPxmibc",
      "metadata": {
        "colab": {
          "base_uri": "https://localhost:8080/"
        },
        "id": "OmF4DuPxmibc",
        "outputId": "18e18164-681d-4256-f5f5-b7d311bfc657"
      },
      "outputs": [
        {
          "output_type": "stream",
          "name": "stdout",
          "text": [
            "Chỉ số các feature được chọn: [ 1  2  3  4  5  6  7  8  9 10]\n"
          ]
        },
        {
          "output_type": "stream",
          "name": "stderr",
          "text": [
            "/usr/local/lib/python3.11/dist-packages/sklearn/utils/validation.py:2732: UserWarning: X has feature names, but SelectFromModel was fitted without feature names\n",
            "  warnings.warn(\n"
          ]
        }
      ],
      "source": [
        "# sử dụng mô hình Logistic Regression với C=0.01\n",
        "lr = LogisticRegression(penalty='l1',C=0.01 ,solver='liblinear',class_weight='balanced', random_state= 42)\n",
        "lr.fit(X2, y)\n",
        "\n",
        "selector = SelectFromModel(lr, prefit=True)\n",
        "X2_selected = selector.transform(X2)\n",
        "\n",
        "# Lấy chỉ số của các feature được chọn\n",
        "selected_feature_indices = selector.get_support(indices=True)\n",
        "print(\"Chỉ số các feature được chọn:\", selected_feature_indices)\n",
        "\n",
        "# Lấy tên của các feature được chọn\n",
        "selected_feature_names = X2.columns[selector.get_support()]"
      ]
    },
    {
      "cell_type": "code",
      "execution_count": null,
      "id": "FhoGc01rlqDk",
      "metadata": {
        "colab": {
          "base_uri": "https://localhost:8080/"
        },
        "id": "FhoGc01rlqDk",
        "outputId": "b0a70bcb-ad9e-43b6-899a-0174f53305ce"
      },
      "outputs": [
        {
          "output_type": "stream",
          "name": "stdout",
          "text": [
            "\n",
            "Danh sách sắp xếp mức độ quan trọng:\n",
            "Age: -2.0504185066833824\n",
            "Have you ever had suicidal thoughts ?: 1.1795994086194124\n",
            "Aca/Work Pressure: 0.9499365896100785\n",
            "Working Professional or Student: -0.7515705551634061\n",
            "Financial Stress: 0.7362753874659385\n",
            "Aca/Work Satisfaction: -0.5510783441642334\n",
            "Work/Study Hours: 0.48437472808802445\n",
            "Dietary Habits: -0.3981540835936136\n",
            "Sleep Duration: -0.2356163984930744\n",
            "Family History of Mental Illness: 0.09314009077899892\n",
            "Gender: 0.0\n"
          ]
        }
      ],
      "source": [
        "# Lấy hệ số của các feature và sắp xếp theo mức độ quan trọng\n",
        "feature_importance = lr.coef_[0]\n",
        "sorted_idx = np.argsort(np.abs(feature_importance))[::-1]\n",
        "sorted_feature_names = X2.columns[sorted_idx]\n",
        "sorted_importance = feature_importance[sorted_idx]\n",
        "\n",
        "print(\"\\nDanh sách sắp xếp mức độ quan trọng:\")\n",
        "for i in range(len(sorted_feature_names)):\n",
        "    print(f\"{sorted_feature_names[i]}: {sorted_importance[i]}\")"
      ]
    },
    {
      "cell_type": "markdown",
      "id": "N7lGg76koCBM",
      "metadata": {
        "id": "N7lGg76koCBM"
      },
      "source": [
        "# Nhận xét: Mô hình với C=0.01 đã bỏ đi feature Gender và như nhận xét phía trên việc loại bỏ feature này không ảnh hưởng quá lớn đối với chất lượng mô hình nhưng cũng giúp mô hình tránh overfitting"
      ]
    },
    {
      "cell_type": "markdown",
      "id": "f661c7f3",
      "metadata": {
        "id": "f661c7f3"
      },
      "source": [
        "### Lựa chọn đặc trưng dựa trên Decision Tree"
      ]
    },
    {
      "cell_type": "code",
      "execution_count": null,
      "id": "lAkJzgn9pokk",
      "metadata": {
        "id": "lAkJzgn9pokk"
      },
      "outputs": [],
      "source": [
        "from sklearn.tree import DecisionTreeClassifier"
      ]
    },
    {
      "cell_type": "markdown",
      "source": [
        "### Tính toán chỉ số Gini Importance  "
      ],
      "metadata": {
        "id": "ku8iT-vdVaFX"
      },
      "id": "ku8iT-vdVaFX"
    },
    {
      "cell_type": "code",
      "execution_count": null,
      "id": "WqUO1vVRpokl",
      "metadata": {
        "colab": {
          "base_uri": "https://localhost:8080/",
          "height": 840
        },
        "id": "WqUO1vVRpokl",
        "outputId": "da614366-d420-4452-d396-9b87168405b3"
      },
      "outputs": [
        {
          "output_type": "stream",
          "name": "stdout",
          "text": [
            "Mức độ quan trọng của các feature theo Decision Tree:\n",
            "                                  Feature   Importance\n",
            "1                                     Age 0.4508420490\n",
            "5   Have you ever had suicidal thoughts ? 0.1519516997\n",
            "6                        Work/Study Hours 0.0771938048\n",
            "9                       Aca/Work Pressure 0.0704619673\n",
            "7                        Financial Stress 0.0539127507\n",
            "10                  Aca/Work Satisfaction 0.0499126724\n",
            "3                          Sleep Duration 0.0438584132\n",
            "4                          Dietary Habits 0.0323870264\n",
            "2         Working Professional or Student 0.0251808441\n",
            "0                                  Gender 0.0227573099\n",
            "8        Family History of Mental Illness 0.0215414624\n"
          ]
        },
        {
          "output_type": "display_data",
          "data": {
            "text/plain": [
              "<Figure size 1000x600 with 1 Axes>"
            ],
            "image/png": "[encoded data removed]"
          },
          "metadata": {}
        }
      ],
      "source": [
        "# Bước 1: Train Decision Tree\n",
        "tree = DecisionTreeClassifier()\n",
        "tree.fit(X_2, y_2)\n",
        "\n",
        "# Bước 2: Lấy độ quan trọng của từng feature\n",
        "feature_importances = tree.feature_importances_\n",
        "\n",
        "# Bước 3: Đưa vào DataFrame\n",
        "importance_df = pd.DataFrame({\n",
        "    'Feature': X_2.columns,\n",
        "    'Importance': feature_importances\n",
        "})\n",
        "\n",
        "# Bước 4: Sắp xếp theo độ quan trọng giảm dần\n",
        "importance_df = importance_df.sort_values(by='Importance', ascending=False)\n",
        "\n",
        "# Bước 5: In ra, với hiển thị 10 chữ số thập phân (không thay đổi giá trị thực)\n",
        "pd.set_option('display.float_format', '{:.10f}'.format)\n",
        "print(\"Mức độ quan trọng của các feature theo Decision Tree:\")\n",
        "print(importance_df)\n",
        "\n",
        "# Bước 6: (Option) Vẽ biểu đồ trực quan\n",
        "plt.figure(figsize=(10, 6))\n",
        "sns.barplot(x='Importance', y='Feature', data=importance_df)\n",
        "plt.title('Mức độ quan trọng của các feature theo Decision Tree')\n",
        "plt.tight_layout()\n",
        "plt.show()\n"
      ]
    },
    {
      "cell_type": "markdown",
      "source": [
        "Age một mình chiếm gần 45%. ➔ Đây là feature cực mạnh trong việc phân loại.\n",
        "(Có thể do độ tuổi liên quan rất lớn đến stress, áp lực học tập, tâm lý.)\n",
        "\n",
        "Suicidal thoughts cũng chiếm 15%, và đây là biến quan trọng lâm sàng (cảnh báo nguy cơ tâm lý).\n",
        "\n",
        "Các feature còn lại như:\n",
        "\n",
        "Work/Study Hours, Aca/Work Pressure (~7% mỗi cái)\n",
        "\n",
        "Financial Stress,  Aca/Work Satisfaction (~5% mỗi cái)\n",
        "\n",
        "→ Góp phần khá tốt, chứng tỏ môi trường học tập/làm việc có ảnh hưởng tâm lý.\n",
        "\n",
        "Các feature yếu như:\n",
        "\n",
        "Gender, Family History of Mental Illness, Working Professional or Student\n",
        "\n",
        "→ Gần như không ảnh hưởng nhiều trong dự đoán (importance chỉ ~2%)."
      ],
      "metadata": {
        "id": "hwXgzRUOUYkC"
      },
      "id": "hwXgzRUOUYkC"
    },
    {
      "cell_type": "markdown",
      "source": [
        "Các feature yếu có mức độ chênh lệch không cao nên khi sử dụng chỉ số threshold để loại bỏ các cột yếu nhất sẽ dẫn đến drop 3 cột cùng một lúc -> Dễ dẫn đến tình trạng overfitting"
      ],
      "metadata": {
        "id": "ubkvNDM7Uvm9"
      },
      "id": "ubkvNDM7Uvm9"
    },
    {
      "cell_type": "markdown",
      "source": [
        "###Lần lượt bỏ từng feature thấp nhất, train lại model, ghi lại metrics (Accuracy, Recall, F1)"
      ],
      "metadata": {
        "id": "u9PIBhh6W3Hl"
      },
      "id": "u9PIBhh6W3Hl"
    },
    {
      "cell_type": "code",
      "execution_count": null,
      "id": "bdlncP_-5xZT",
      "metadata": {
        "colab": {
          "base_uri": "https://localhost:8080/",
          "height": 819
        },
        "id": "bdlncP_-5xZT",
        "outputId": "536968b8-2300-421b-9cc6-cd00cbfc9964"
      },
      "outputs": [
        {
          "output_type": "stream",
          "name": "stdout",
          "text": [
            "    Num Features     Accuracy       Recall     F1 Score  \\\n",
            "0             11 0.9026819378 0.7379203711 0.7362128808   \n",
            "1             10 0.9022195348 0.7385001933 0.7354441343   \n",
            "2              9 0.9017571317 0.7317356011 0.7327269208   \n",
            "3              8 0.8947143772 0.7139543873 0.7139543873   \n",
            "4              7 0.8958170307 0.7081561654 0.7144389198   \n",
            "5              6 0.8974176567 0.6919211442 0.7128634010   \n",
            "6              5 0.9126413886 0.7249710089 0.7533641293   \n",
            "7              4 0.9169808636 0.7454580595 0.7677149682   \n",
            "8              3 0.9173009888 0.7535755702 0.7703250025   \n",
            "9              2 0.9080529274 0.7895245458 0.7596466760   \n",
            "10             1 0.8554812549 0.6803247004 0.6340628659   \n",
            "\n",
            "                         Dropped Features  \n",
            "0                                      []  \n",
            "1        Family History of Mental Illness  \n",
            "2                                  Gender  \n",
            "3         Working Professional or Student  \n",
            "4                          Dietary Habits  \n",
            "5                   Aca/Work Satisfaction  \n",
            "6                          Sleep Duration  \n",
            "7                        Financial Stress  \n",
            "8                        Work/Study Hours  \n",
            "9                       Aca/Work Pressure  \n",
            "10  Have you ever had suicidal thoughts ?  \n"
          ]
        },
        {
          "output_type": "display_data",
          "data": {
            "text/plain": [
              "<Figure size 2400x600 with 3 Axes>"
            ],
            "image/png": "[encoded data removed]"
          },
          "metadata": {}
        }
      ],
      "source": [
        "# 1. Tách train/test\n",
        "X_2_train, X_2_test, y_2_train, y_2_test = train_test_split(X_2, y_2, test_size=0.2, random_state=42)\n",
        "\n",
        "# 2. Kết quả lưu ở đây\n",
        "results = []\n",
        "\n",
        "# 3. Train Decision Tree ban đầu (full features)\n",
        "tree_full = DecisionTreeClassifier(random_state=42)\n",
        "tree_full.fit(X_2_train, y_2_train)\n",
        "y_pred_full = tree_full.predict(X_2_test)\n",
        "\n",
        "# Đánh giá\n",
        "acc_full = accuracy_score(y_2_test, y_pred_full)\n",
        "f1_full = f1_score(y_2_test, y_pred_full, average='binary')\n",
        "recall_full = recall_score(y_2_test, y_pred_full, average='binary')\n",
        "\n",
        "# Lưu kết quả đầu tiên\n",
        "results.append({\n",
        "    'Num Features': X_2_train.shape[1],\n",
        "    'Accuracy': acc_full,\n",
        "    'Recall': recall_full,\n",
        "    'F1 Score': f1_full,\n",
        "    'Dropped Features': []\n",
        "})\n",
        "\n",
        "# 4. Bắt đầu quá trình loại dần feature có importance nhỏ nhất\n",
        "current_features = list(X_2_train.columns)  # bắt đầu với toàn bộ features\n",
        "\n",
        "while len(current_features) > 1:  # ít nhất còn 1 feature mới tiếp tục\n",
        "    # Train lại cây với current_features\n",
        "    tree = DecisionTreeClassifier(random_state=42)\n",
        "    tree.fit(X_2_train[current_features], y_2_train)\n",
        "\n",
        "    # Tính importance\n",
        "    importances = tree.feature_importances_\n",
        "    feature_importance_dict = dict(zip(current_features, importances))\n",
        "\n",
        "    # Tìm feature có importance nhỏ nhất\n",
        "    min_feature = min(feature_importance_dict, key=feature_importance_dict.get)\n",
        "\n",
        "    # Cập nhật danh sách feature\n",
        "    dropped_feature = min_feature\n",
        "    current_features.remove(min_feature)\n",
        "\n",
        "    # Train lại với feature mới\n",
        "    tree_selected = DecisionTreeClassifier(random_state=42)\n",
        "    tree_selected.fit(X_2_train[current_features], y_2_train)\n",
        "\n",
        "    # Dự đoán\n",
        "    y_pred = tree_selected.predict(X_2_test[current_features])\n",
        "\n",
        "    # Đánh giá\n",
        "    acc = accuracy_score(y_2_test, y_pred)\n",
        "    f1 = f1_score(y_2_test, y_pred, average='binary')\n",
        "    recall = recall_score(y_2_test, y_pred, average='binary')\n",
        "\n",
        "    # Lưu kết quả\n",
        "    results.append({\n",
        "        'Num Features': len(current_features),\n",
        "        'Accuracy': acc,\n",
        "        'Recall': recall,\n",
        "        'F1 Score': f1,\n",
        "        'Dropped Features': dropped_feature\n",
        "    })\n",
        "\n",
        "# 5. Chuyển kết quả thành DataFrame\n",
        "results_df = pd.DataFrame(results)\n",
        "\n",
        "# 6. In kết quả\n",
        "pd.set_option('display.max_colwidth', None)\n",
        "print(results_df)\n",
        "\n",
        "# 7. Vẽ biểu đồ\n",
        "fig, axes = plt.subplots(1, 3, figsize=(24,6))\n",
        "\n",
        "# Biểu đồ 1: Accuracy\n",
        "axes[0].plot(results_df['Num Features'], results_df['Accuracy'], marker='o')\n",
        "axes[0].set_xlabel('Số lượng Feature còn lại')\n",
        "axes[0].set_ylabel('Accuracy')\n",
        "axes[0].set_title('Accuracy vs Số lượng Feature')\n",
        "axes[0].invert_xaxis()  # số feature giảm dần\n",
        "\n",
        "# Biểu đồ 2: Recall\n",
        "axes[1].plot(results_df['Num Features'], results_df['Recall'], marker='o', color='orange')\n",
        "axes[1].set_xlabel('Số lượng Feature còn lại')\n",
        "axes[1].set_ylabel('Recall')\n",
        "axes[1].set_title('Recall vs Số lượng Feature')\n",
        "axes[1].invert_xaxis()\n",
        "\n",
        "# Biểu đồ 3: F1 Score\n",
        "axes[2].plot(results_df['Num Features'], results_df['F1 Score'], marker='o', color='green')\n",
        "axes[2].set_xlabel('Số lượng Feature còn lại')\n",
        "axes[2].set_ylabel('F1 Score')\n",
        "axes[2].set_title('F1 Score vs Số lượng Feature')\n",
        "axes[2].invert_xaxis()\n",
        "\n",
        "plt.tight_layout()\n",
        "plt.show()"
      ]
    },
    {
      "cell_type": "markdown",
      "source": [
        "Nếu chọn phương án loại bỏ cột Family History of Mental Illness:\n",
        "\n",
        "Accuracy: Sau khi loại bỏ cột này, Accuracy gần như không thay đổi nhiều. Điều này cho thấy việc loại bỏ cột này không ảnh hưởng lớn đến hiệu quả chung của mô hình. Điều này có thể vì cột này có importance thấp, nghĩa là nó không đóng góp nhiều vào việc phân loại đúng.\n",
        "\n",
        "Recall: Recall tăng nhẹ, cho thấy mô hình có khả năng nhận diện chính xác các trường hợp dương tính (positive class) tốt hơn khi bỏ đi \"Family History of Mental Illness\". Tuy nhiên, sự thay đổi rất nhỏ này không có ý nghĩa lớn.\n",
        "\n",
        "F1 Score: F1 Score giảm nhẹ, cho thấy có sự giảm nhẹ trong khả năng kết hợp giữa precision và recall. F1 Score thể hiện một sự đánh đổi giữa recall và precision, nên sự giảm này có thể không phải là vấn đề lớn vì sự thay đổi không đáng kể.\n",
        "\n",
        "Việc loại bỏ cột này không làm giảm đáng kể chất lượng của mô hình, và thậm chí còn có thể giúp mô hình tránh overfitting (do giảm bớt độ phức tạp của mô hình)."
      ],
      "metadata": {
        "id": "aBN4zo00Y571"
      },
      "id": "aBN4zo00Y571"
    },
    {
      "cell_type": "markdown",
      "id": "6cd95883",
      "metadata": {
        "id": "6cd95883"
      },
      "source": [
        "### Lựa chọn đặc trưng bằng các mô hình Boosting Tree thông qua kĩ thuật SHAP values"
      ]
    },
    {
      "cell_type": "markdown",
      "id": "591e2b3c",
      "metadata": {
        "id": "591e2b3c"
      },
      "source": [
        "### Giới thiệu\n",
        "\n",
        "SHAP (SHapley Additive exPlanations) là một phương pháp giải thích mô hình dựa trên lý thuyết trò chơi, gán giá trị tầm quan trọng cho từng đặc trưng dựa trên đóng góp của chúng đến kết quả dự đoán của mô hình.\n",
        "\n",
        "Dựa trên nghiên cứu “From explanations to feature selection: assessing SHAP values as feature selection mechanism”, nhóm sử dụng giá trị SHAP tính từ mô hình Boosting Tree để đánh giá và chọn ra các đặc trưng quan trọng nhất, giúp tối ưu hóa hiệu suất và giảm độ phức tạp của mô hình.\n"
      ]
    },
    {
      "cell_type": "markdown",
      "id": "3b9ece2e",
      "metadata": {
        "id": "3b9ece2e"
      },
      "source": [
        "1. **Huấn luyện mô hình Boosting Tree**  \n",
        "   Fit mô hình Gradient Boosting (ví dụ XGBoost, LightGBM) trên tập huấn luyện để làm nền tảng cho tính SHAP.\n",
        "\n",
        "2. **Khởi tạo TreeExplainer**  \n",
        "   Dùng `shap.TreeExplainer(model)` để chuẩn bị công cụ tính SHAP values cho mô hình tree-based.\n",
        "\n",
        "3. **Tính SHAP values**  \n",
        "   Gọi `explainer.shap_values(X)` để thu được ma trận SHAP values (số mẫu × số đặc trưng).\n",
        "\n",
        "4. **Tổng hợp tầm quan trọng**  \n",
        "   Tính trung bình tuyệt đối SHAP values mỗi đặc trưng:  \n",
        "   $$\\text{Importance}_j = \\frac{1}{N}\\sum_{i=1}^N |\\,\\text{SHAP}_{i,j}|$$  \n",
        "   để có thứ tự ưu tiên toàn cục.\n",
        "\n",
        "5. **Chọn đặc trưng**  \n",
        "   Áp dụng ngưỡng, đánh giá qua performance của model hoặc phân phối elbow."
      ]
    },
    {
      "cell_type": "code",
      "source": [
        "!pip install catboost lightgbm xgboost"
      ],
      "metadata": {
        "colab": {
          "base_uri": "https://localhost:8080/"
        },
        "id": "uIkhVsnPzCv2",
        "outputId": "b322e284-fdeb-45bf-f6b2-381106d139b5"
      },
      "id": "uIkhVsnPzCv2",
      "execution_count": null,
      "outputs": [
        {
          "output_type": "stream",
          "name": "stdout",
          "text": [
            "Collecting catboost\n",
            "  Downloading catboost-1.2.8-cp311-cp311-manylinux2014_x86_64.whl.metadata (1.2 kB)\n",
            "Requirement already satisfied: lightgbm in /usr/local/lib/python3.11/dist-packages (4.5.0)\n",
            "Requirement already satisfied: xgboost in /usr/local/lib/python3.11/dist-packages (2.1.4)\n",
            "Requirement already satisfied: graphviz in /usr/local/lib/python3.11/dist-packages (from catboost) (0.20.3)\n",
            "Requirement already satisfied: matplotlib in /usr/local/lib/python3.11/dist-packages (from catboost) (3.10.0)\n",
            "Requirement already satisfied: numpy<3.0,>=1.16.0 in /usr/local/lib/python3.11/dist-packages (from catboost) (2.0.2)\n",
            "Requirement already satisfied: pandas>=0.24 in /usr/local/lib/python3.11/dist-packages (from catboost) (2.2.2)\n",
            "Requirement already satisfied: scipy in /usr/local/lib/python3.11/dist-packages (from catboost) (1.14.1)\n",
            "Requirement already satisfied: plotly in /usr/local/lib/python3.11/dist-packages (from catboost) (5.24.1)\n",
            "Requirement already satisfied: six in /usr/local/lib/python3.11/dist-packages (from catboost) (1.17.0)\n",
            "Requirement already satisfied: nvidia-nccl-cu12 in /usr/local/lib/python3.11/dist-packages (from xgboost) (2.21.5)\n",
            "Requirement already satisfied: python-dateutil>=2.8.2 in /usr/local/lib/python3.11/dist-packages (from pandas>=0.24->catboost) (2.8.2)\n",
            "Requirement already satisfied: pytz>=2020.1 in /usr/local/lib/python3.11/dist-packages (from pandas>=0.24->catboost) (2025.2)\n",
            "Requirement already satisfied: tzdata>=2022.7 in /usr/local/lib/python3.11/dist-packages (from pandas>=0.24->catboost) (2025.2)\n",
            "Requirement already satisfied: contourpy>=1.0.1 in /usr/local/lib/python3.11/dist-packages (from matplotlib->catboost) (1.3.2)\n",
            "Requirement already satisfied: cycler>=0.10 in /usr/local/lib/python3.11/dist-packages (from matplotlib->catboost) (0.12.1)\n",
            "Requirement already satisfied: fonttools>=4.22.0 in /usr/local/lib/python3.11/dist-packages (from matplotlib->catboost) (4.57.0)\n",
            "Requirement already satisfied: kiwisolver>=1.3.1 in /usr/local/lib/python3.11/dist-packages (from matplotlib->catboost) (1.4.8)\n",
            "Requirement already satisfied: packaging>=20.0 in /usr/local/lib/python3.11/dist-packages (from matplotlib->catboost) (24.2)\n",
            "Requirement already satisfied: pillow>=8 in /usr/local/lib/python3.11/dist-packages (from matplotlib->catboost) (11.1.0)\n",
            "Requirement already satisfied: pyparsing>=2.3.1 in /usr/local/lib/python3.11/dist-packages (from matplotlib->catboost) (3.2.3)\n",
            "Requirement already satisfied: tenacity>=6.2.0 in /usr/local/lib/python3.11/dist-packages (from plotly->catboost) (9.1.2)\n",
            "Downloading catboost-1.2.8-cp311-cp311-manylinux2014_x86_64.whl (99.2 MB)\n",
            "\u001b[2K   \u001b[90m━━━━━━━━━━━━━━━━━━━━━━━━━━━━━━━━━━━━━━━━\u001b[0m \u001b[32m99.2/99.2 MB\u001b[0m \u001b[31m8.9 MB/s\u001b[0m eta \u001b[36m0:00:00\u001b[0m\n",
            "\u001b[?25hInstalling collected packages: catboost\n",
            "Successfully installed catboost-1.2.8\n"
          ]
        }
      ]
    },
    {
      "cell_type": "code",
      "execution_count": null,
      "id": "57d67d5f",
      "metadata": {
        "id": "57d67d5f"
      },
      "outputs": [],
      "source": [
        "from xgboost import XGBClassifier\n",
        "from catboost import CatBoostClassifier\n",
        "from lightgbm import LGBMClassifier"
      ]
    },
    {
      "cell_type": "markdown",
      "id": "343100a8",
      "metadata": {
        "id": "343100a8"
      },
      "source": [
        "Train Boosting tree model"
      ]
    },
    {
      "cell_type": "code",
      "execution_count": null,
      "id": "68561495",
      "metadata": {
        "id": "68561495",
        "colab": {
          "base_uri": "https://localhost:8080/"
        },
        "outputId": "1df4d1b8-a823-448f-a1e3-05c2a1e748cf"
      },
      "outputs": [
        {
          "output_type": "stream",
          "name": "stdout",
          "text": [
            "XGBoost Score: 0.9374333072490574\n",
            "LGBM Score: 0.9375044461833961\n"
          ]
        }
      ],
      "source": [
        "xgb = XGBClassifier()\n",
        "xgb.fit(X2_train, y2_train)\n",
        "print(f\"XGBoost Score: {xgb.score(X2_test, y2_test)}\")\n",
        "\n",
        "lbm = LGBMClassifier(verbose=-1)\n",
        "lbm.fit(X2_train, y2_train)\n",
        "print(f\"LGBM Score: {lbm.score(X2_test, y2_test)}\")\n"
      ]
    },
    {
      "cell_type": "markdown",
      "id": "b7606804",
      "metadata": {
        "id": "b7606804"
      },
      "source": [
        "Áp dụng SHAP values"
      ]
    },
    {
      "cell_type": "code",
      "execution_count": null,
      "id": "0dff4c90",
      "metadata": {
        "id": "0dff4c90"
      },
      "outputs": [],
      "source": [
        "import shap"
      ]
    },
    {
      "cell_type": "markdown",
      "id": "0768adb1",
      "metadata": {
        "id": "0768adb1"
      },
      "source": [
        "Tính SHAP values cục bộ của từng lớp (`Depression` = 0 || 1)"
      ]
    },
    {
      "cell_type": "code",
      "execution_count": null,
      "id": "42e2098b",
      "metadata": {
        "id": "42e2098b"
      },
      "outputs": [],
      "source": [
        "X2_test_class0 = X2_test[y2_test.to_numpy() == 0]\n",
        "X2_test_class1 = X2_test[y2_test.to_numpy() == 1]"
      ]
    },
    {
      "cell_type": "code",
      "execution_count": null,
      "id": "ebdcf94c",
      "metadata": {
        "id": "ebdcf94c"
      },
      "outputs": [],
      "source": [
        "xgb_explainer = shap.TreeExplainer(xgb)\n",
        "\n",
        "xgb_shap_val_c0 = xgb_explainer.shap_values(X2_test_class0)\n",
        "xgb_shap_val_c1 = xgb_explainer.shap_values(X2_test_class1)\n",
        "xgb_importance_c0 = np.abs(xgb_shap_val_c0).mean(0)\n",
        "xgb_importance_c1 = np.abs(xgb_shap_val_c1).mean(0)\n",
        "\n",
        "xgb_importance = xgb_importance_c0 + xgb_importance_c1\n",
        "ordered_features_xgb = pd.Series(xgb_importance, index=X2_test.columns).sort_values(ascending=False).index.tolist()"
      ]
    },
    {
      "cell_type": "code",
      "execution_count": null,
      "id": "18aee6e5",
      "metadata": {
        "id": "18aee6e5",
        "colab": {
          "base_uri": "https://localhost:8080/",
          "height": 507
        },
        "outputId": "50e77d45-cf79-472f-cbe9-f34e721d6739"
      },
      "outputs": [
        {
          "output_type": "display_data",
          "data": {
            "text/plain": [
              "<Figure size 800x500 with 1 Axes>"
            ],
            "image/png": "[encoded data removed]"
          },
          "metadata": {}
        }
      ],
      "source": [
        "plt.figure(figsize=(8, 5))\n",
        "bars = plt.bar(range(len(xgb_importance)), sorted(xgb_importance)[::-1], color='skyblue', edgecolor='black')\n",
        "plt.title('Feature Importances based on SHAP-XGBoost')\n",
        "plt.xlabel('Features')\n",
        "plt.ylabel('Importance')\n",
        "# plt.xticks(range(len(xgb_importance)), ordered_features_xgb, rotation=90)\n",
        "\n",
        "# Annotate bars with feature names\n",
        "for bar, feature in zip(bars, ordered_features_xgb):\n",
        "    plt.text(bar.get_x() + bar.get_width() / 2, bar.get_height(), f'{feature}',\n",
        "             ha='center', va='bottom', fontsize=8, rotation=90)\n",
        "\n",
        "plt.tight_layout()\n",
        "plt.grid(axis='y', linestyle='--', alpha=0.7)\n",
        "plt.show()"
      ]
    },
    {
      "cell_type": "markdown",
      "id": "1ad9c6ae",
      "metadata": {
        "id": "1ad9c6ae"
      },
      "source": [
        "Chọn `k` đặc trưng dựa trên performance của model trên từng top-k"
      ]
    },
    {
      "cell_type": "code",
      "execution_count": null,
      "id": "54529fb6",
      "metadata": {
        "id": "54529fb6"
      },
      "outputs": [],
      "source": [
        "def _feature_selection(X, y, Xtest, ytest, model, feature_order):\n",
        "    k_values = range(1, len(feature_order) + 1, 1)  # Test k = 1, 6, 11, ...\n",
        "    cv_scores = []\n",
        "\n",
        "    for k in k_values:\n",
        "        selected_features = feature_order[:k]\n",
        "        X_train_subset = X[selected_features]\n",
        "\n",
        "        model.fit(X_train_subset, y)\n",
        "        predictions = model.predict(Xtest[selected_features])\n",
        "        f1 = f1_score(ytest, predictions)\n",
        "        cv_scores.append(f1)\n",
        "        print(f\"k={k}, CV Accuracy={f1:.4f}\")\n",
        "\n",
        "    # Choose k with the highest score\n",
        "    optimal_k = k_values[np.argmax(cv_scores)]\n",
        "    print(f\"Optimal k: {optimal_k}\")\n",
        "    print(f\"Selected features: {feature_order[:optimal_k]}\")\n",
        "    return feature_order[:optimal_k]"
      ]
    },
    {
      "cell_type": "code",
      "execution_count": null,
      "id": "653a22bc",
      "metadata": {
        "id": "653a22bc",
        "colab": {
          "base_uri": "https://localhost:8080/"
        },
        "outputId": "5a16c40e-4e5e-461a-88b1-5b97bead7caa"
      },
      "outputs": [
        {
          "output_type": "stream",
          "name": "stdout",
          "text": [
            "k=1, CV Accuracy=0.6351\n",
            "k=2, CV Accuracy=0.7557\n",
            "k=3, CV Accuracy=0.7492\n",
            "k=4, CV Accuracy=0.7787\n",
            "k=5, CV Accuracy=0.8011\n",
            "k=6, CV Accuracy=0.8083\n",
            "k=7, CV Accuracy=0.8154\n",
            "k=8, CV Accuracy=0.8183\n",
            "k=9, CV Accuracy=0.8200\n",
            "k=10, CV Accuracy=0.8200\n",
            "k=11, CV Accuracy=0.8218\n",
            "Optimal k: 11\n",
            "Selected features: ['Age', 'Have you ever had suicidal thoughts ?', 'Working Professional or Student', 'Aca/Work Pressure', 'Financial Stress', 'Aca/Work Satisfaction', 'Work/Study Hours', 'Dietary Habits', 'Sleep Duration', 'Family History of Mental Illness', 'Gender']\n"
          ]
        }
      ],
      "source": [
        "xgb_subset = _feature_selection(X2_train, y2_train, X2_test, y2_test, XGBClassifier(), ordered_features_xgb)"
      ]
    },
    {
      "cell_type": "markdown",
      "id": "3f5c8294",
      "metadata": {
        "id": "3f5c8294"
      },
      "source": [
        "Cột `Gender` bị loại bỏ và với f1-score cao nhất top-10 feature sẽ được chọn."
      ]
    },
    {
      "cell_type": "markdown",
      "id": "f32b02fc",
      "metadata": {
        "id": "f32b02fc"
      },
      "source": [
        "**Thử lại với LightGBM**"
      ]
    },
    {
      "cell_type": "code",
      "execution_count": null,
      "id": "dad81cb0",
      "metadata": {
        "id": "dad81cb0",
        "colab": {
          "base_uri": "https://localhost:8080/"
        },
        "outputId": "757e3f04-ea5b-403a-803b-d7acb03126a3"
      },
      "outputs": [
        {
          "output_type": "stream",
          "name": "stderr",
          "text": [
            "/usr/local/lib/python3.11/dist-packages/shap/explainers/_tree.py:583: UserWarning: LightGBM binary classifier with TreeExplainer shap values output has changed to a list of ndarray\n",
            "  warnings.warn(\n",
            "/usr/local/lib/python3.11/dist-packages/shap/explainers/_tree.py:583: UserWarning: LightGBM binary classifier with TreeExplainer shap values output has changed to a list of ndarray\n",
            "  warnings.warn(\n"
          ]
        }
      ],
      "source": [
        "lbm_explainer = shap.TreeExplainer(lbm)\n",
        "\n",
        "lbm_shap_val_c0 = lbm_explainer.shap_values(X2_test_class0)\n",
        "lbm_shap_val_c1 = lbm_explainer.shap_values(X2_test_class1)\n",
        "lbm_importance_c0 = np.abs(lbm_shap_val_c0).mean(0)\n",
        "lbm_importance_c1 = np.abs(lbm_shap_val_c1).mean(0)\n",
        "\n",
        "lbm_importance = lbm_importance_c0 + lbm_importance_c1\n",
        "ordered_features_lbm = pd.Series(lbm_importance, index=X2_test.columns).sort_values(ascending=False).index.tolist()"
      ]
    },
    {
      "cell_type": "code",
      "execution_count": null,
      "id": "2c7c38ba",
      "metadata": {
        "id": "2c7c38ba",
        "colab": {
          "base_uri": "https://localhost:8080/",
          "height": 507
        },
        "outputId": "02893f6f-0e7b-480f-9724-26d2919025af"
      },
      "outputs": [
        {
          "output_type": "display_data",
          "data": {
            "text/plain": [
              "<Figure size 800x500 with 1 Axes>"
            ],
            "image/png": "[encoded data removed]"
          },
          "metadata": {}
        }
      ],
      "source": [
        "plt.figure(figsize=(8, 5))\n",
        "bars = plt.bar(range(len(lbm_importance)), sorted(lbm_importance)[::-1], color='skyblue', edgecolor='black')\n",
        "plt.title('Feature Importances based on SHAP-LightGBM')\n",
        "plt.xlabel('Features')\n",
        "plt.ylabel('Importance')\n",
        "# plt.xticks(range(len(lbm_importance)), ordered_features_lbm, rotation=90)\n",
        "\n",
        "# Annotate bars with feature names\n",
        "for bar, feature in zip(bars, ordered_features_lbm):\n",
        "    plt.text(bar.get_x() + bar.get_width() / 2, bar.get_height(), f'{feature}',\n",
        "             ha='center', va='bottom', fontsize=8, rotation=90)\n",
        "\n",
        "plt.tight_layout()\n",
        "plt.grid(axis='y', linestyle='--', alpha=0.7)\n",
        "plt.show()"
      ]
    },
    {
      "cell_type": "code",
      "execution_count": null,
      "id": "2567020a",
      "metadata": {
        "id": "2567020a",
        "colab": {
          "base_uri": "https://localhost:8080/"
        },
        "outputId": "22fee076-5c2a-4a51-98d7-a4cb2d583f2b"
      },
      "outputs": [
        {
          "output_type": "stream",
          "name": "stdout",
          "text": [
            "k=1, CV Accuracy=0.6351\n",
            "k=2, CV Accuracy=0.7557\n",
            "k=3, CV Accuracy=0.7538\n",
            "k=4, CV Accuracy=0.7793\n",
            "k=5, CV Accuracy=0.8017\n",
            "k=6, CV Accuracy=0.8121\n",
            "k=7, CV Accuracy=0.8180\n",
            "k=8, CV Accuracy=0.8218\n",
            "k=9, CV Accuracy=0.8217\n",
            "k=10, CV Accuracy=0.8220\n",
            "k=11, CV Accuracy=0.8217\n",
            "Optimal k: 10\n",
            "Selected features: ['Age', 'Have you ever had suicidal thoughts ?', 'Working Professional or Student', 'Aca/Work Pressure', 'Financial Stress', 'Aca/Work Satisfaction', 'Work/Study Hours', 'Dietary Habits', 'Sleep Duration', 'Family History of Mental Illness']\n"
          ]
        }
      ],
      "source": [
        "lbm_subset = _feature_selection(X2_train, y2_train, X2_test, y2_test, LGBMClassifier(), ordered_features_lbm)"
      ]
    },
    {
      "cell_type": "markdown",
      "id": "1e02a132",
      "metadata": {
        "id": "1e02a132"
      },
      "source": [
        "LightGBM chỉ chọn top-8 ít hơn XGBoost."
      ]
    },
    {
      "cell_type": "markdown",
      "id": "9886458f",
      "metadata": {
        "id": "9886458f"
      },
      "source": [
        "#### Dataset số 1 (chưa encoding)\n",
        "Trước đó, chúng ta thực hiện trên bộ dataset đã encode và normalize. Tuy nhiên, bộ dữ liệu này không chứa các cột không thể encode `Degree`, `CGPA`, `Profession`. Với kĩ thuật SHAP và model xử lí được categorical data (CatBoost,...), ta có thể đánh giá các cột này."
      ]
    },
    {
      "cell_type": "code",
      "execution_count": null,
      "id": "64187ce0",
      "metadata": {
        "id": "64187ce0",
        "colab": {
          "base_uri": "https://localhost:8080/"
        },
        "outputId": "37cf5587-e410-47f0-ed97-08d61f0317a0"
      },
      "outputs": [
        {
          "output_type": "execute_result",
          "data": {
            "text/plain": [
              "np.float64(0.9413123844731978)"
            ]
          },
          "metadata": {},
          "execution_count": 53
        }
      ],
      "source": [
        "cb_x1 = CatBoostClassifier(verbose=0,task_type=\"GPU\", devices='0')\n",
        "cb_x1.fit(\n",
        "    X1_train,\n",
        "    y1_train,\n",
        "    cat_features=catgegorical_features,\n",
        "    verbose=0\n",
        ")\n",
        "cb_x1.score(X1_test, y1_test)"
      ]
    },
    {
      "cell_type": "code",
      "execution_count": null,
      "id": "262f1afe",
      "metadata": {
        "id": "262f1afe"
      },
      "outputs": [],
      "source": [
        "X1_test_class0 = X1_test[y1_test.to_numpy() == 0]\n",
        "X1_test_class1 = X1_test[y1_test.to_numpy() == 1]"
      ]
    },
    {
      "cell_type": "code",
      "execution_count": null,
      "id": "0cc61b27",
      "metadata": {
        "id": "0cc61b27"
      },
      "outputs": [],
      "source": [
        "cb_explainer = shap.TreeExplainer(cb_x1)\n",
        "\n",
        "cb_shap_val_c0 = cb_explainer.shap_values(X1_test_class0)\n",
        "cb_shap_val_c1 = cb_explainer.shap_values(X1_test_class1)\n",
        "cb_importance_c0 = np.abs(cb_shap_val_c0).mean(0)\n",
        "cb_importance_c1 = np.abs(cb_shap_val_c1).mean(0)\n",
        "\n",
        "cb_importance = cb_importance_c0 + cb_importance_c1\n",
        "ordered_features_cb = pd.Series(cb_importance, index=X1_test.columns).sort_values(ascending=False).index.tolist()"
      ]
    },
    {
      "cell_type": "code",
      "execution_count": null,
      "id": "f07dfee0",
      "metadata": {
        "id": "f07dfee0",
        "colab": {
          "base_uri": "https://localhost:8080/",
          "height": 518
        },
        "outputId": "e5fb7e8a-c2ad-4ad0-b01d-8c27ea310445"
      },
      "outputs": [
        {
          "output_type": "display_data",
          "data": {
            "text/plain": [
              "<Figure size 800x500 with 1 Axes>"
            ],
            "image/png": "[encoded data removed]"
          },
          "metadata": {}
        }
      ],
      "source": [
        "plt.figure(figsize=(8, 5))\n",
        "bars = plt.bar(range(len(cb_importance)), sorted(cb_importance)[::-1], color='skyblue', edgecolor='black')\n",
        "plt.title('Feature Importances based on SHAP-CatBoost')\n",
        "plt.xlabel('Features')\n",
        "plt.ylabel('Importance')\n",
        "for bar, feature in zip(bars, ordered_features_cb):\n",
        "    plt.text(bar.get_x() + bar.get_width() / 2, bar.get_height(), f'{feature}',\n",
        "             ha='center', va='bottom', fontsize=8, rotation=90)\n",
        "\n",
        "plt.tight_layout()\n",
        "plt.grid(axis='y', linestyle='--', alpha=0.7)\n",
        "plt.show()"
      ]
    },
    {
      "cell_type": "code",
      "execution_count": null,
      "id": "7d635c86",
      "metadata": {
        "id": "7d635c86",
        "colab": {
          "base_uri": "https://localhost:8080/"
        },
        "outputId": "c197aba4-3d8c-46d8-cfed-26d1c88701ec"
      },
      "outputs": [
        {
          "output_type": "stream",
          "name": "stdout",
          "text": [
            "k=1, F1 =0.6342, Recall =0.6850\n",
            "k=2, F1 =0.7633, Recall =0.7937\n",
            "k=3, F1 =0.7732, Recall =0.7536\n",
            "k=4, F1 =0.7897, Recall =0.7742\n",
            "k=5, F1 =0.7946, Recall =0.7777\n",
            "k=6, F1 =0.8157, Recall =0.7933\n",
            "k=7, F1 =0.8238, Recall =0.8024\n",
            "k=8, F1 =0.8238, Recall =0.8030\n",
            "k=9, F1 =0.8307, Recall =0.8108\n",
            "k=10, F1 =0.8324, Recall =0.8143\n",
            "k=11, F1 =0.8347, Recall =0.8166\n",
            "k=12, F1 =0.8340, Recall =0.8141\n",
            "k=13, F1 =0.8339, Recall =0.8149\n",
            "k=14, F1 =0.8345, Recall =0.8158\n",
            "k=15, F1 =0.8344, Recall =0.8160\n",
            "Optimal k -- F1: 11\n",
            "Recall at optimal k: 11\n"
          ]
        }
      ],
      "source": [
        "k_values = range(1, len(ordered_features_cb) + 1, 1)  # Test k = 1, 6, 11, ...\n",
        "f1_scores = []\n",
        "recall_scores = []\n",
        "for k in k_values:\n",
        "    selected_features = ordered_features_cb[:k]\n",
        "    X1_train_subset = X1_train[selected_features]\n",
        "    cate_feature = [x for x in selected_features if x in catgegorical_features]\n",
        "    model = CatBoostClassifier(verbose=0,task_type=\"GPU\", devices='0', cat_features=cate_feature)\n",
        "    model.fit(X1_train_subset, y1_train)\n",
        "    predictions = model.predict(X1_test[selected_features])\n",
        "    f1 = f1_score(y1_test, predictions)\n",
        "    recall = recall_score(y1_test, predictions)\n",
        "    f1_scores.append(f1)\n",
        "    recall_scores.append(recall)\n",
        "    print(f\"k={k}, F1 ={f1:.4f}, Recall ={recall:.4f}\")\n",
        "\n",
        "# Choose k with the highest score or best trade-off\n",
        "optimal_k = k_values[np.argmax(f1_scores)]\n",
        "recall_at_optimal_k = k_values[np.argmax(recall_scores)]\n",
        "\n",
        "print(f\"Optimal k -- F1: {optimal_k}\")\n",
        "print(f\"Recall at optimal k: {recall_at_optimal_k}\")\n",
        "# print(f\"Selected features: {ordered_features_cb[:optimal_k]}\")"
      ]
    },
    {
      "cell_type": "markdown",
      "id": "d86df023",
      "metadata": {
        "id": "d86df023"
      },
      "source": [
        "Ở mô hình này không chọn `Gender` vẫn giữ `Degree`, `City`, `Profession`, `CGPA`.\n",
        "\n",
        "`CGPA` và `Profession` có ảnh hưởng lớn (hơn cả `Sleep Duration`)trong 3 cột trên"
      ]
    },
    {
      "cell_type": "markdown",
      "id": "cdbd100a",
      "metadata": {
        "id": "cdbd100a"
      },
      "source": [
        "## Kết luận: Tập đặc trưng cuối cùng được chọn"
      ]
    },
    {
      "cell_type": "markdown",
      "id": "0b37bb2d",
      "metadata": {
        "id": "0b37bb2d"
      },
      "source": [
        "`id`, `Name`: cột chứa các thông tin không cần thiết &rarr; Loại bỏ"
      ]
    },
    {
      "cell_type": "markdown",
      "id": "dd68d8dd",
      "metadata": {
        "vscode": {
          "languageId": "markdown"
        },
        "id": "dd68d8dd"
      },
      "source": [
        "`Study Satisfaction` và `Job Satisfaction` có đặc điểm chung `Satisfaction` và là phần bù của nhau nên kết hợp thành `Aca/Work Satisfaction`."
      ]
    },
    {
      "cell_type": "markdown",
      "id": "27ef0ef4",
      "metadata": {
        "id": "27ef0ef4"
      },
      "source": [
        "`Academic Pressure` và `Work Pressure` có đặc điểm chung `Pressure` và là phần bù của nhau nên kết hợp thành `Aca/Work Pressure`."
      ]
    },
    {
      "cell_type": "markdown",
      "id": "17c77f46",
      "metadata": {
        "id": "17c77f46"
      },
      "source": [
        "Qua phương pháp sử dụng Correlation matrix, ta có thể loại bỏ cột Family History of Mental Illness và Gender."
      ]
    },
    {
      "cell_type": "markdown",
      "id": "e95fc3ff",
      "metadata": {
        "id": "e95fc3ff"
      },
      "source": [
        "Qua phương pháp thống kê. Ở cả 2 phương pháp Chi2-test và Anova đều có p-value < 0.05, nhưng nếu xét trên 2 chỉ số là Chi2 và F-value thì Family History of Mental Illness và Gender là thấp hơn hẳn so với các features khác. Có thể cân nhắc khả năng bỏ 2 cột trên"
      ]
    },
    {
      "cell_type": "markdown",
      "id": "68a3413c",
      "metadata": {
        "id": "68a3413c"
      },
      "source": [
        "Qua phương pháp model-based:\n",
        "- **Decision Tree Classifier**.\n",
        "    + Thứ tự ảnh hưởng các cột là:\n",
        "    1. Age\n",
        "    2. Have you ever had suicidal thoughts ?\n",
        "    3. Work/Study Hours\n",
        "    4. Aca/Work Pressure\n",
        "    5. Financial Stress\n",
        "    6. Aca/Work Satisfaction\n",
        "    7. Sleep Duration\n",
        "    8. Dietary Habits\n",
        "    9. Working Professional or Student\n",
        "    10. Gender\n",
        "    11. Family History of Mental Illness\n",
        "\n",
        "    + Cột bị loại bỏ là: 11. Family History of Mental Illness\n",
        "- **Logistic Regression**. Thứ tự ảnh hưởng các cột là:\n",
        "    1. Age\n",
        "    2. Have you ever had suicidal thoughts ?\n",
        "    3. Aca/Work Pressure\n",
        "    4. Working Professional or Student\n",
        "    5. Financial Stress\n",
        "    6. Aca/Work Satisfaction\n",
        "    7. Work/Study Hours\n",
        "    8. Dietary Habits\n",
        "    9. Sleep Duration\n",
        "    10. Family History of Mental Illness\n",
        "    11. Gender\n",
        "\n",
        "    + Cột bị loại bỏ là: 11. Gender\n",
        "- **Boosting Tree with SHAP Feature Selection**:\n",
        "    + Xét cả 2 trường hợp dataset chưa encode và đã encode, thứ tự ảnh hưởng các đặc trưng là:\n",
        "        1. Age\n",
        "        2. Have you ever had suicidal thoughts ?\n",
        "        3. Aca/Work Pressure\n",
        "        4. Financial Stress\n",
        "        5. Aca/Work Satisfaction\n",
        "        6. Working Professional or Student\n",
        "        7. CGPA\n",
        "        8. Work/Study Hours\n",
        "        9. Dietary Habits\n",
        "        10. Profession\n",
        "        11. Sleep Duration\n",
        "        12. Family History of Mental Illness\n",
        "        13. Degree\n",
        "        14. City\n",
        "        15. Gender\n",
        "    + Cột bị loại bỏ là: 15. Gender"
      ]
    },
    {
      "cell_type": "markdown",
      "id": "036377e7",
      "metadata": {
        "id": "036377e7"
      },
      "source": [
        "Tổng hợp tất cả phương pháp thực hiện, tập đặc trưng được chọn là:"
      ]
    },
    {
      "cell_type": "markdown",
      "id": "9598e8e0",
      "metadata": {
        "id": "9598e8e0"
      },
      "source": [
        "1. Age\n",
        "2. Have you ever had suicidal thoughts ?\n",
        "3. Aca/Work Pressure\n",
        "4. Financial Stress\n",
        "5. Aca/Work Satisfaction\n",
        "6. Working Professional or Student\n",
        "7. CGPA\n",
        "8. Work/Study Hours\n",
        "9. Dietary Habits\n",
        "10. Profession\n",
        "11. Sleep Duration"
      ]
    },
    {
      "cell_type": "markdown",
      "id": "1a482b70",
      "metadata": {
        "id": "1a482b70"
      },
      "source": [
        "Đã bỏ đi Family History of Mental Illness, City, Degree, Gender vì ít ảnh hưởng tới target"
      ]
    },
    {
      "cell_type": "markdown",
      "source": [
        "Sự đóng góp của các cột Degree và City ít, thấp hơn cả Family History of Mental Illness Trong khi đó, nhiều chiến lược khác lựa chọn bỏ Family History of Mental Illness vì thế loại bỏ cột Degree và City là hợp lý"
      ],
      "metadata": {
        "id": "eO3UXXLt2uTI"
      },
      "id": "eO3UXXLt2uTI"
    }
  ],
  "metadata": {
    "colab": {
      "provenance": []
    },
    "kernelspec": {
      "display_name": "Python 3",
      "name": "python3"
    },
    "language_info": {
      "codemirror_mode": {
        "name": "ipython",
        "version": 3
      },
      "file_extension": ".py",
      "mimetype": "text/x-python",
      "name": "python",
      "nbconvert_exporter": "python",
      "pygments_lexer": "ipython3",
      "version": "3.10.16"
    }
  },
  "nbformat": 4,
  "nbformat_minor": 5
}