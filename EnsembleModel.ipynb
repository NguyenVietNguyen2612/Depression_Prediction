{
 "cells": [
  {
   "cell_type": "markdown",
   "id": "c873c9f2",
   "metadata": {},
   "source": [
    "# Exploring Mental Health Data\n",
    "Duong Tan Loc, Nguyen Viet Hung, Nguyen Viet Nguyen\n",
    "\n",
    "**Model Training, Model Evaluation, Fine-tuning**"
   ]
  },
  {
   "cell_type": "code",
   "execution_count": 2,
   "id": "668ca51e",
   "metadata": {},
   "outputs": [],
   "source": [
    "import pandas as pd"
   ]
  },
  {
   "cell_type": "code",
   "execution_count": 3,
   "id": "902b4784",
   "metadata": {},
   "outputs": [],
   "source": [
    "df1 = pd.read_csv(\"./data/data1_feature_eng.csv\")"
   ]
  },
  {
   "cell_type": "code",
   "execution_count": 4,
   "id": "be9b912e",
   "metadata": {},
   "outputs": [
    {
     "data": {
      "text/html": [
       "<div>\n",
       "<style scoped>\n",
       "    .dataframe tbody tr th:only-of-type {\n",
       "        vertical-align: middle;\n",
       "    }\n",
       "\n",
       "    .dataframe tbody tr th {\n",
       "        vertical-align: top;\n",
       "    }\n",
       "\n",
       "    .dataframe thead th {\n",
       "        text-align: right;\n",
       "    }\n",
       "</style>\n",
       "<table border=\"1\" class=\"dataframe\">\n",
       "  <thead>\n",
       "    <tr style=\"text-align: right;\">\n",
       "      <th></th>\n",
       "      <th>Age</th>\n",
       "      <th>Have you ever had suicidal thoughts ?</th>\n",
       "      <th>Aca/Work Pressure</th>\n",
       "      <th>Financial Stress</th>\n",
       "      <th>Aca/Work Satisfaction</th>\n",
       "      <th>Working Professional or Student</th>\n",
       "      <th>CGPA</th>\n",
       "      <th>Work/Study Hours</th>\n",
       "      <th>Dietary Habits</th>\n",
       "      <th>Profession</th>\n",
       "      <th>Sleep Duration</th>\n",
       "      <th>Depression</th>\n",
       "    </tr>\n",
       "  </thead>\n",
       "  <tbody>\n",
       "    <tr>\n",
       "      <th>0</th>\n",
       "      <td>49.0</td>\n",
       "      <td>No</td>\n",
       "      <td>5.0</td>\n",
       "      <td>2.0</td>\n",
       "      <td>2.0</td>\n",
       "      <td>Working Professional</td>\n",
       "      <td>NaN</td>\n",
       "      <td>1.0</td>\n",
       "      <td>Healthy</td>\n",
       "      <td>Chef</td>\n",
       "      <td>8.5</td>\n",
       "      <td>0</td>\n",
       "    </tr>\n",
       "    <tr>\n",
       "      <th>1</th>\n",
       "      <td>26.0</td>\n",
       "      <td>Yes</td>\n",
       "      <td>4.0</td>\n",
       "      <td>3.0</td>\n",
       "      <td>3.0</td>\n",
       "      <td>Working Professional</td>\n",
       "      <td>NaN</td>\n",
       "      <td>7.0</td>\n",
       "      <td>Unhealthy</td>\n",
       "      <td>Teacher</td>\n",
       "      <td>4.5</td>\n",
       "      <td>1</td>\n",
       "    </tr>\n",
       "    <tr>\n",
       "      <th>2</th>\n",
       "      <td>33.0</td>\n",
       "      <td>Yes</td>\n",
       "      <td>5.0</td>\n",
       "      <td>1.0</td>\n",
       "      <td>2.0</td>\n",
       "      <td>Student</td>\n",
       "      <td>8.97</td>\n",
       "      <td>3.0</td>\n",
       "      <td>Healthy</td>\n",
       "      <td>missing</td>\n",
       "      <td>5.5</td>\n",
       "      <td>1</td>\n",
       "    </tr>\n",
       "    <tr>\n",
       "      <th>3</th>\n",
       "      <td>22.0</td>\n",
       "      <td>Yes</td>\n",
       "      <td>5.0</td>\n",
       "      <td>1.0</td>\n",
       "      <td>1.0</td>\n",
       "      <td>Working Professional</td>\n",
       "      <td>NaN</td>\n",
       "      <td>10.0</td>\n",
       "      <td>Moderate</td>\n",
       "      <td>Teacher</td>\n",
       "      <td>4.5</td>\n",
       "      <td>1</td>\n",
       "    </tr>\n",
       "    <tr>\n",
       "      <th>4</th>\n",
       "      <td>30.0</td>\n",
       "      <td>Yes</td>\n",
       "      <td>1.0</td>\n",
       "      <td>4.0</td>\n",
       "      <td>1.0</td>\n",
       "      <td>Working Professional</td>\n",
       "      <td>NaN</td>\n",
       "      <td>9.0</td>\n",
       "      <td>Unhealthy</td>\n",
       "      <td>Business Analyst</td>\n",
       "      <td>5.5</td>\n",
       "      <td>0</td>\n",
       "    </tr>\n",
       "  </tbody>\n",
       "</table>\n",
       "</div>"
      ],
      "text/plain": [
       "    Age Have you ever had suicidal thoughts ?  Aca/Work Pressure  \\\n",
       "0  49.0                                    No                5.0   \n",
       "1  26.0                                   Yes                4.0   \n",
       "2  33.0                                   Yes                5.0   \n",
       "3  22.0                                   Yes                5.0   \n",
       "4  30.0                                   Yes                1.0   \n",
       "\n",
       "   Financial Stress  Aca/Work Satisfaction Working Professional or Student  \\\n",
       "0               2.0                    2.0            Working Professional   \n",
       "1               3.0                    3.0            Working Professional   \n",
       "2               1.0                    2.0                         Student   \n",
       "3               1.0                    1.0            Working Professional   \n",
       "4               4.0                    1.0            Working Professional   \n",
       "\n",
       "   CGPA  Work/Study Hours Dietary Habits        Profession  Sleep Duration  \\\n",
       "0   NaN               1.0        Healthy              Chef             8.5   \n",
       "1   NaN               7.0      Unhealthy           Teacher             4.5   \n",
       "2  8.97               3.0        Healthy           missing             5.5   \n",
       "3   NaN              10.0       Moderate           Teacher             4.5   \n",
       "4   NaN               9.0      Unhealthy  Business Analyst             5.5   \n",
       "\n",
       "   Depression  \n",
       "0           0  \n",
       "1           1  \n",
       "2           1  \n",
       "3           1  \n",
       "4           0  "
      ]
     },
     "execution_count": 4,
     "metadata": {},
     "output_type": "execute_result"
    }
   ],
   "source": [
    "df1.head()"
   ]
  },
  {
   "cell_type": "code",
   "execution_count": 5,
   "id": "cb999528",
   "metadata": {},
   "outputs": [
    {
     "data": {
      "text/plain": [
       "Age                                           0\n",
       "Have you ever had suicidal thoughts ?         0\n",
       "Aca/Work Pressure                             0\n",
       "Financial Stress                              0\n",
       "Aca/Work Satisfaction                         0\n",
       "Working Professional or Student               0\n",
       "CGPA                                     112802\n",
       "Work/Study Hours                              0\n",
       "Dietary Habits                                0\n",
       "Profession                                    0\n",
       "Sleep Duration                                0\n",
       "Depression                                    0\n",
       "dtype: int64"
      ]
     },
     "execution_count": 5,
     "metadata": {},
     "output_type": "execute_result"
    }
   ],
   "source": [
    "df1.isnull().sum()"
   ]
  },
  {
   "cell_type": "markdown",
   "id": "70d23117",
   "metadata": {},
   "source": [
    "## 1. Choose metrics"
   ]
  },
  {
   "cell_type": "markdown",
   "id": "9beb9508",
   "metadata": {},
   "source": [
    "Dựa trên dataset, ở bước EDA ta thấy rằng tỉ lệ 2 nhãn ở target bị lệch mạnh:\n",
    "- No Depression chiếm ~80%\n",
    "- Depression chiếm ~20%"
   ]
  },
  {
   "cell_type": "markdown",
   "id": "e8b8555b",
   "metadata": {},
   "source": [
    "Vì thế, việc chọn metric là accuracy là không phù hợp với bộ dữ liệu này (mặc dù cuộc thi Kaggle chấm bằng Accuracy).\n"
   ]
  },
  {
   "cell_type": "markdown",
   "id": "bb6d2179",
   "metadata": {},
   "source": [
    "Các metric khác như: Precision, Recall, F1-score, ROC-AUC\n"
   ]
  },
  {
   "cell_type": "markdown",
   "id": "c32391cc",
   "metadata": {},
   "source": [
    "Nhóm chọn Recall làm metric chính: \n",
    "$$Recall = \\frac{\\text{Số người bị trầm cảm được phát hiện đúng}}{\\text{Tổng số người thật sự bị trầm cảm}}$$"
   ]
  },
  {
   "cell_type": "markdown",
   "id": "b041ffc6",
   "metadata": {},
   "source": [
    "Nếu mô hình có Recall cao, nghĩa là nó có khả năng phát hiện phần lớn người thật sự bị trầm cảm, tránh để họ bị bỏ qua — điều rất quan trọng trong y tế và sức khỏe tâm thần."
   ]
  },
  {
   "cell_type": "markdown",
   "id": "5c62eea5",
   "metadata": {},
   "source": [
    "Bên cạnh đó, F1-score cũng được sử dụng làm metric phụ, giúp kiểm soát sự cân bằng giữa Precision và Recall"
   ]
  },
  {
   "cell_type": "markdown",
   "id": "8413bad5",
   "metadata": {},
   "source": [
    "## 2. Model Training"
   ]
  },
  {
   "cell_type": "markdown",
   "id": "e3e1aeeb",
   "metadata": {},
   "source": [
    "Vì bộ dữ liệu chứ nhiều cột dạng category (không được encoding vì chứa rất nhiều nhãn) nên nhóm chọn model có thể tự xử lí dữ liệu dạng Categorical."
   ]
  },
  {
   "cell_type": "markdown",
   "id": "6cbe95dc",
   "metadata": {},
   "source": [
    "Chọn model:\n",
    "1. CatBoost\n",
    "2. LightGBM "
   ]
  },
  {
   "cell_type": "code",
   "execution_count": 6,
   "id": "0cc4938e",
   "metadata": {},
   "outputs": [],
   "source": [
    "from sklearn.model_selection import train_test_split"
   ]
  },
  {
   "cell_type": "code",
   "execution_count": 7,
   "id": "dee30e32",
   "metadata": {},
   "outputs": [],
   "source": [
    "X, y = df1.drop(columns=[\"Depression\"]), df1[\"Depression\"]"
   ]
  },
  {
   "cell_type": "code",
   "execution_count": 8,
   "id": "28cd9eea",
   "metadata": {},
   "outputs": [],
   "source": [
    "X = X.astype({col: 'category' for col in X.select_dtypes(include='object').columns})"
   ]
  },
  {
   "cell_type": "code",
   "execution_count": 9,
   "id": "e17f5c05",
   "metadata": {},
   "outputs": [],
   "source": [
    "X_train, X_test, y_train, y_test = train_test_split(X, y, test_size=0.2, random_state=24)"
   ]
  },
  {
   "cell_type": "code",
   "execution_count": 10,
   "id": "12d00938",
   "metadata": {},
   "outputs": [],
   "source": [
    "cat_features = [i for i, col in enumerate(X_train.columns) if str(X_train[col].dtype) == 'category']"
   ]
  },
  {
   "cell_type": "code",
   "execution_count": 11,
   "id": "caced133",
   "metadata": {},
   "outputs": [],
   "source": [
    "from catboost import CatBoostClassifier, Pool\n",
    "from lightgbm import LGBMClassifier"
   ]
  },
  {
   "cell_type": "code",
   "execution_count": 12,
   "id": "07f56a55",
   "metadata": {},
   "outputs": [],
   "source": [
    "from sklearn.metrics import accuracy_score, f1_score, recall_score, precision_score"
   ]
  },
  {
   "cell_type": "code",
   "execution_count": 13,
   "id": "ae98d63b",
   "metadata": {},
   "outputs": [],
   "source": [
    "import optuna"
   ]
  },
  {
   "cell_type": "markdown",
   "id": "2b64e19a",
   "metadata": {},
   "source": [
    "Catboost"
   ]
  },
  {
   "cell_type": "code",
   "execution_count": 14,
   "id": "b4b7df8e",
   "metadata": {},
   "outputs": [],
   "source": [
    "def objective(trial):\n",
    "    # Calculate class weights\n",
    "    from sklearn.utils.class_weight import compute_class_weight\n",
    "    import numpy as np\n",
    "\n",
    "    classes = np.unique(y_train)\n",
    "    class_weights = compute_class_weight(class_weight='balanced', classes=classes, y=y_train)\n",
    "    class_weights_dict = dict(zip(classes, class_weights))\n",
    "\n",
    "    params = {\n",
    "        \"iterations\": trial.suggest_int(\"iterations\", 200, 1000),\n",
    "        \"depth\": trial.suggest_int(\"depth\", 4, 10),\n",
    "        \"learning_rate\": trial.suggest_float(\"learning_rate\", 0.01, 0.3, log=True),\n",
    "        \"l2_leaf_reg\": trial.suggest_float(\"l2_leaf_reg\", 1, 10),\n",
    "        \"random_strength\": trial.suggest_float(\"random_strength\", 0.5, 5.0),\n",
    "        \"bagging_temperature\": trial.suggest_float(\"bagging_temperature\", 0, 1),\n",
    "        \"border_count\": trial.suggest_int(\"border_count\", 32, 255),\n",
    "        \"task_type\": \"GPU\",\n",
    "        \"loss_function\": \"Logloss\",\n",
    "        \"verbose\": 0,\n",
    "        \"random_seed\": 42,\n",
    "        \"class_weights\": class_weights_dict\n",
    "    }\n",
    "\n",
    "    model = CatBoostClassifier(**params)\n",
    "    model.fit(\n",
    "        X_train, y_train,\n",
    "        cat_features=cat_features,\n",
    "        eval_set=(X_test, y_test),\n",
    "        early_stopping_rounds=50,\n",
    "        verbose=0\n",
    "    )\n",
    "\n",
    "    preds = model.predict(X_test)\n",
    "    recall = recall_score(y_test, preds, zero_division=0)\n",
    "    return recall\n"
   ]
  },
  {
   "cell_type": "code",
   "execution_count": 15,
   "id": "bfb89fd0",
   "metadata": {},
   "outputs": [],
   "source": [
    "optuna.logging.set_verbosity(optuna.logging.INFO)"
   ]
  },
  {
   "cell_type": "code",
   "execution_count": 16,
   "id": "aee75515",
   "metadata": {},
   "outputs": [
    {
     "name": "stderr",
     "output_type": "stream",
     "text": [
      "[I 2025-05-19 13:49:25,265] A new study created in memory with name: no-name-2ea3bc6f-c573-4281-ba5b-089a455f6620\n",
      "[I 2025-05-19 13:49:32,536] Trial 0 finished with value: 0.9260844193736627 and parameters: {'iterations': 500, 'depth': 10, 'learning_rate': 0.1205712628744377, 'l2_leaf_reg': 6.387926357773329, 'random_strength': 1.2020838819909643, 'bagging_temperature': 0.15599452033620265, 'border_count': 45}. Best is trial 0 with value: 0.9260844193736627.\n",
      "[I 2025-05-19 13:49:36,103] Trial 1 finished with value: 0.9262789340595214 and parameters: {'iterations': 893, 'depth': 8, 'learning_rate': 0.11114989443094977, 'l2_leaf_reg': 1.185260448662222, 'random_strength': 4.864594334728975, 'bagging_temperature': 0.8324426408004217, 'border_count': 79}. Best is trial 1 with value: 0.9262789340595214.\n",
      "[I 2025-05-19 13:49:41,089] Trial 2 finished with value: 0.929391169033262 and parameters: {'iterations': 345, 'depth': 5, 'learning_rate': 0.028145092716060652, 'l2_leaf_reg': 5.72280788469014, 'random_strength': 2.4437525838895207, 'bagging_temperature': 0.2912291401980419, 'border_count': 169}. Best is trial 2 with value: 0.929391169033262.\n",
      "[I 2025-05-19 13:49:46,487] Trial 3 finished with value: 0.9288076249756857 and parameters: {'iterations': 311, 'depth': 6, 'learning_rate': 0.03476649150592621, 'l2_leaf_reg': 5.104629857953324, 'random_strength': 4.033291826268561, 'bagging_temperature': 0.19967378215835974, 'border_count': 147}. Best is trial 2 with value: 0.929391169033262.\n",
      "[I 2025-05-19 13:49:52,193] Trial 4 finished with value: 0.9282240809181093 and parameters: {'iterations': 674, 'depth': 4, 'learning_rate': 0.07896186801026692, 'l2_leaf_reg': 2.5347171131856236, 'random_strength': 0.7927321684337578, 'bagging_temperature': 0.9488855372533332, 'border_count': 248}. Best is trial 2 with value: 0.929391169033262.\n",
      "[I 2025-05-19 13:50:06,102] Trial 5 finished with value: 0.9286131102898268 and parameters: {'iterations': 847, 'depth': 6, 'learning_rate': 0.013940346079873234, 'l2_leaf_reg': 7.158097238609412, 'random_strength': 2.480686221828206, 'bagging_temperature': 0.12203823484477883, 'border_count': 142}. Best is trial 2 with value: 0.929391169033262.\n",
      "[I 2025-05-19 13:50:21,329] Trial 6 finished with value: 0.9221941256564871 and parameters: {'iterations': 227, 'depth': 10, 'learning_rate': 0.024112898115291985, 'l2_leaf_reg': 6.962700559185838, 'random_strength': 1.9026998424023494, 'bagging_temperature': 0.5200680211778108, 'border_count': 154}. Best is trial 2 with value: 0.929391169033262.\n",
      "[I 2025-05-19 13:50:27,636] Trial 7 finished with value: 0.9233612137716397 and parameters: {'iterations': 348, 'depth': 10, 'learning_rate': 0.13962563737015762, 'l2_leaf_reg': 9.455490474077703, 'random_strength': 4.526723076924419, 'bagging_temperature': 0.5978999788110851, 'border_count': 238}. Best is trial 2 with value: 0.929391169033262.\n",
      "[I 2025-05-19 13:50:31,434] Trial 8 finished with value: 0.9291966543474033 and parameters: {'iterations': 270, 'depth': 5, 'learning_rate': 0.011662890273931383, 'l2_leaf_reg': 3.927972976869379, 'random_strength': 2.249047803602669, 'bagging_temperature': 0.2713490317738959, 'border_count': 217}. Best is trial 2 with value: 0.929391169033262.\n",
      "[I 2025-05-19 13:50:37,704] Trial 9 finished with value: 0.9288076249756857 and parameters: {'iterations': 485, 'depth': 5, 'learning_rate': 0.06333268775321843, 'l2_leaf_reg': 2.2683180247728636, 'random_strength': 4.109886413393179, 'bagging_temperature': 0.07455064367977082, 'border_count': 253}. Best is trial 2 with value: 0.929391169033262.\n",
      "[I 2025-05-19 13:50:48,835] Trial 10 finished with value: 0.9307527718342735 and parameters: {'iterations': 818, 'depth': 5, 'learning_rate': 0.010189592979395137, 'l2_leaf_reg': 8.339152856093508, 'random_strength': 3.680858047314277, 'bagging_temperature': 0.7290071680409873, 'border_count': 204}. Best is trial 10 with value: 0.9307527718342735.\n",
      "[I 2025-05-19 13:50:53,164] Trial 11 finished with value: 0.929391169033262 and parameters: {'iterations': 259, 'depth': 6, 'learning_rate': 0.014830392684568025, 'l2_leaf_reg': 8.767930832880342, 'random_strength': 3.304841570724011, 'bagging_temperature': 0.3308980248526492, 'border_count': 46}. Best is trial 10 with value: 0.9307527718342735.\n",
      "[I 2025-05-19 13:50:56,077] Trial 12 finished with value: 0.9282240809181093 and parameters: {'iterations': 449, 'depth': 6, 'learning_rate': 0.1195960383019184, 'l2_leaf_reg': 6.738017242196918, 'random_strength': 4.49245734159347, 'bagging_temperature': 0.4722149251619493, 'border_count': 58}. Best is trial 10 with value: 0.9307527718342735.\n",
      "[I 2025-05-19 13:51:02,166] Trial 13 finished with value: 0.9255008753160864 and parameters: {'iterations': 771, 'depth': 9, 'learning_rate': 0.06746437142284309, 'l2_leaf_reg': 7.938704619591049, 'random_strength': 2.7220801836397586, 'bagging_temperature': 0.5227328293819941, 'border_count': 127}. Best is trial 10 with value: 0.9307527718342735.\n",
      "[I 2025-05-19 13:51:04,832] Trial 14 finished with value: 0.9247228165726512 and parameters: {'iterations': 220, 'depth': 4, 'learning_rate': 0.011128194768838964, 'l2_leaf_reg': 6.727693701374023, 'random_strength': 1.91460191484347, 'bagging_temperature': 0.5085706911647028, 'border_count': 235}. Best is trial 10 with value: 0.9307527718342735.\n",
      "[I 2025-05-19 13:51:07,671] Trial 15 finished with value: 0.9280295662322505 and parameters: {'iterations': 399, 'depth': 6, 'learning_rate': 0.1306293138834092, 'l2_leaf_reg': 3.059183489424602, 'random_strength': 0.8464095942295684, 'bagging_temperature': 0.289751452913768, 'border_count': 68}. Best is trial 10 with value: 0.9307527718342735.\n",
      "[I 2025-05-19 13:51:13,317] Trial 16 finished with value: 0.9245283018867925 and parameters: {'iterations': 944, 'depth': 9, 'learning_rate': 0.08622121759478739, 'l2_leaf_reg': 8.84314531168946, 'random_strength': 4.116524346046015, 'bagging_temperature': 0.18657005888603584, 'border_count': 231}. Best is trial 10 with value: 0.9307527718342735.\n",
      "[I 2025-05-19 13:51:16,419] Trial 17 finished with value: 0.9255008753160864 and parameters: {'iterations': 632, 'depth': 9, 'learning_rate': 0.21068591627429098, 'l2_leaf_reg': 3.8620312747467747, 'random_strength': 0.9952336603745454, 'bagging_temperature': 0.22793516254194168, 'border_count': 127}. Best is trial 10 with value: 0.9307527718342735.\n",
      "[I 2025-05-19 13:51:52,704] Trial 18 finished with value: 0.9219996109706283 and parameters: {'iterations': 855, 'depth': 10, 'learning_rate': 0.010239273411172712, 'l2_leaf_reg': 5.596725723198092, 'random_strength': 2.3783495141695052, 'bagging_temperature': 0.22210781047073025, 'border_count': 58}. Best is trial 10 with value: 0.9307527718342735.\n",
      "[I 2025-05-19 13:52:08,742] Trial 19 finished with value: 0.9229721843999222 and parameters: {'iterations': 470, 'depth': 10, 'learning_rate': 0.030019946952402964, 'l2_leaf_reg': 5.669115595690295, 'random_strength': 3.6635853150283, 'bagging_temperature': 0.363629602379294, 'border_count': 249}. Best is trial 10 with value: 0.9307527718342735.\n",
      "[I 2025-05-19 13:52:14,277] Trial 20 finished with value: 0.9284185956039681 and parameters: {'iterations': 970, 'depth': 5, 'learning_rate': 0.05426206745606973, 'l2_leaf_reg': 3.707904788350927, 'random_strength': 1.7817822246986044, 'bagging_temperature': 0.036886947354532795, 'border_count': 168}. Best is trial 10 with value: 0.9307527718342735.\n",
      "[I 2025-05-19 13:52:21,098] Trial 21 finished with value: 0.9291966543474033 and parameters: {'iterations': 602, 'depth': 4, 'learning_rate': 0.025798509464504106, 'l2_leaf_reg': 9.174392973699883, 'random_strength': 1.5780285080013758, 'bagging_temperature': 0.1448948720912231, 'border_count': 141}. Best is trial 10 with value: 0.9307527718342735.\n",
      "[I 2025-05-19 13:52:24,747] Trial 22 finished with value: 0.9278350515463918 and parameters: {'iterations': 989, 'depth': 5, 'learning_rate': 0.09836162684900028, 'l2_leaf_reg': 7.854576537958458, 'random_strength': 1.5693689479657986, 'bagging_temperature': 0.7282163486118596, 'border_count': 114}. Best is trial 10 with value: 0.9307527718342735.\n",
      "[I 2025-05-19 13:52:30,357] Trial 23 finished with value: 0.9268624781170979 and parameters: {'iterations': 706, 'depth': 8, 'learning_rate': 0.06185918211556436, 'l2_leaf_reg': 1.8126079304896747, 'random_strength': 4.25886123015157, 'bagging_temperature': 0.32078006497173583, 'border_count': 73}. Best is trial 10 with value: 0.9307527718342735.\n",
      "[I 2025-05-19 13:52:34,399] Trial 24 finished with value: 0.9280295662322505 and parameters: {'iterations': 232, 'depth': 8, 'learning_rate': 0.10019469332296198, 'l2_leaf_reg': 1.1492904603507053, 'random_strength': 2.8044187623467645, 'bagging_temperature': 0.22649577519793795, 'border_count': 176}. Best is trial 10 with value: 0.9307527718342735.\n",
      "[I 2025-05-19 13:52:42,250] Trial 25 finished with value: 0.9262789340595214 and parameters: {'iterations': 339, 'depth': 8, 'learning_rate': 0.03726104236509947, 'l2_leaf_reg': 9.43056989863061, 'random_strength': 1.1188442486569696, 'bagging_temperature': 0.3410663510502585, 'border_count': 57}. Best is trial 10 with value: 0.9307527718342735.\n",
      "[I 2025-05-19 13:53:00,098] Trial 26 finished with value: 0.9227776697140634 and parameters: {'iterations': 940, 'depth': 10, 'learning_rate': 0.024044240360019044, 'l2_leaf_reg': 6.939856414307611, 'random_strength': 4.177499900905471, 'bagging_temperature': 0.5552008115994623, 'border_count': 150}. Best is trial 10 with value: 0.9307527718342735.\n",
      "[I 2025-05-19 13:53:02,151] Trial 27 finished with value: 0.9290021396615444 and parameters: {'iterations': 393, 'depth': 4, 'learning_rate': 0.21149322814164553, 'l2_leaf_reg': 9.103762514469974, 'random_strength': 3.348956557729706, 'bagging_temperature': 0.3390297910487007, 'border_count': 110}. Best is trial 10 with value: 0.9307527718342735.\n",
      "[I 2025-05-19 13:53:06,859] Trial 28 finished with value: 0.923166699085781 and parameters: {'iterations': 781, 'depth': 10, 'learning_rate': 0.204330977229211, 'l2_leaf_reg': 8.018879912718614, 'random_strength': 3.389142407694295, 'bagging_temperature': 0.08413996499504883, 'border_count': 68}. Best is trial 10 with value: 0.9307527718342735.\n",
      "[I 2025-05-19 13:53:30,139] Trial 29 finished with value: 0.926667963431239 and parameters: {'iterations': 919, 'depth': 8, 'learning_rate': 0.010317753795327886, 'l2_leaf_reg': 1.913243885794289, 'random_strength': 3.485757960986251, 'bagging_temperature': 0.005061583846218687, 'border_count': 68}. Best is trial 10 with value: 0.9307527718342735.\n"
     ]
    }
   ],
   "source": [
    "# Phase 1: Random Search\n",
    "study1 = optuna.create_study(direction=\"maximize\", sampler=optuna.samplers.RandomSampler(seed=42))\n",
    "study1.optimize(objective, n_trials=30)\n",
    "# study.optimize(objective, timeout=900)\n",
    "\n",
    "# Results\n"
   ]
  },
  {
   "cell_type": "code",
   "execution_count": 17,
   "id": "8340d562",
   "metadata": {},
   "outputs": [
    {
     "name": "stderr",
     "output_type": "stream",
     "text": [
      "[I 2025-05-19 13:53:41,604] Trial 30 finished with value: 0.9272515074888154 and parameters: {'iterations': 538, 'depth': 7, 'learning_rate': 0.01725839939375896, 'l2_leaf_reg': 8.49200400176336, 'random_strength': 3.0452589080663146, 'bagging_temperature': 0.4098763370879436, 'border_count': 192}. Best is trial 10 with value: 0.9307527718342735.\n",
      "[I 2025-05-19 13:53:45,256] Trial 31 finished with value: 0.9309472865201323 and parameters: {'iterations': 265, 'depth': 5, 'learning_rate': 0.01507630087269535, 'l2_leaf_reg': 9.925671256724968, 'random_strength': 2.243619219566331, 'bagging_temperature': 0.4360055044664593, 'border_count': 210}. Best is trial 31 with value: 0.9309472865201323.\n",
      "[I 2025-05-19 13:53:49,682] Trial 32 finished with value: 0.9313363158918498 and parameters: {'iterations': 312, 'depth': 5, 'learning_rate': 0.01806181802673629, 'l2_leaf_reg': 9.981618135608674, 'random_strength': 3.04139849736647, 'bagging_temperature': 0.6497321967414189, 'border_count': 204}. Best is trial 32 with value: 0.9313363158918498.\n",
      "[I 2025-05-19 13:53:57,511] Trial 33 finished with value: 0.9309472865201323 and parameters: {'iterations': 559, 'depth': 5, 'learning_rate': 0.018705783172174962, 'l2_leaf_reg': 9.949669840122858, 'random_strength': 2.987324876799234, 'bagging_temperature': 0.6738222292284048, 'border_count': 205}. Best is trial 32 with value: 0.9313363158918498.\n",
      "[I 2025-05-19 13:54:05,127] Trial 34 finished with value: 0.9299747130908383 and parameters: {'iterations': 540, 'depth': 5, 'learning_rate': 0.018793752330762914, 'l2_leaf_reg': 9.908230862098774, 'random_strength': 3.7966122958067148, 'bagging_temperature': 0.6634064286119825, 'border_count': 205}. Best is trial 32 with value: 0.9313363158918498.\n",
      "[I 2025-05-19 13:54:11,238] Trial 35 finished with value: 0.9297801984049796 and parameters: {'iterations': 289, 'depth': 7, 'learning_rate': 0.020083166318813572, 'l2_leaf_reg': 9.968356124117516, 'random_strength': 3.116608445452417, 'bagging_temperature': 0.7962899369465121, 'border_count': 196}. Best is trial 32 with value: 0.9313363158918498.\n",
      "[I 2025-05-19 13:54:15,936] Trial 36 finished with value: 0.9295856837191208 and parameters: {'iterations': 413, 'depth': 4, 'learning_rate': 0.014811626540144873, 'l2_leaf_reg': 9.952119907194659, 'random_strength': 2.96192200356921, 'bagging_temperature': 0.6528256414548217, 'border_count': 216}. Best is trial 32 with value: 0.9313363158918498.\n",
      "[I 2025-05-19 13:54:22,685] Trial 37 finished with value: 0.9284185956039681 and parameters: {'iterations': 541, 'depth': 5, 'learning_rate': 0.04649671980809886, 'l2_leaf_reg': 8.349998492375901, 'random_strength': 2.673507090352521, 'bagging_temperature': 0.9110541505837756, 'border_count': 185}. Best is trial 32 with value: 0.9313363158918498.\n",
      "[I 2025-05-19 13:54:38,124] Trial 38 finished with value: 0.9278350515463918 and parameters: {'iterations': 739, 'depth': 7, 'learning_rate': 0.014114878521220144, 'l2_leaf_reg': 9.57208179536, 'random_strength': 3.750015496457612, 'bagging_temperature': 0.7594796941930043, 'border_count': 215}. Best is trial 32 with value: 0.9313363158918498.\n",
      "[I 2025-05-19 13:54:49,128] Trial 39 finished with value: 0.9284185956039681 and parameters: {'iterations': 671, 'depth': 6, 'learning_rate': 0.01816303702780966, 'l2_leaf_reg': 7.729926708477906, 'random_strength': 2.1861659835484653, 'bagging_temperature': 0.8688881921868178, 'border_count': 201}. Best is trial 32 with value: 0.9313363158918498.\n",
      "[I 2025-05-19 13:54:53,669] Trial 40 finished with value: 0.9311418012059911 and parameters: {'iterations': 333, 'depth': 5, 'learning_rate': 0.012965868954968858, 'l2_leaf_reg': 4.857505917915226, 'random_strength': 2.563200793081673, 'bagging_temperature': 0.6710428935186212, 'border_count': 225}. Best is trial 32 with value: 0.9313363158918498.\n",
      "[I 2025-05-19 13:54:58,094] Trial 41 finished with value: 0.9315308305777086 and parameters: {'iterations': 324, 'depth': 5, 'learning_rate': 0.01264250528393019, 'l2_leaf_reg': 4.5936518348692585, 'random_strength': 2.50989314008051, 'bagging_temperature': 0.6790514672842622, 'border_count': 230}. Best is trial 41 with value: 0.9315308305777086.\n",
      "[I 2025-05-19 13:55:02,585] Trial 42 finished with value: 0.9309472865201323 and parameters: {'iterations': 326, 'depth': 5, 'learning_rate': 0.012350748124057741, 'l2_leaf_reg': 4.875079191076325, 'random_strength': 2.5414724108762936, 'bagging_temperature': 0.6379549268976991, 'border_count': 227}. Best is trial 41 with value: 0.9315308305777086.\n",
      "[I 2025-05-19 13:55:05,049] Trial 43 finished with value: 0.929391169033262 and parameters: {'iterations': 201, 'depth': 4, 'learning_rate': 0.021256618954003513, 'l2_leaf_reg': 4.637518788125464, 'random_strength': 2.0410201002637565, 'bagging_temperature': 0.5823376679159967, 'border_count': 223}. Best is trial 41 with value: 0.9315308305777086.\n",
      "[I 2025-05-19 13:55:11,104] Trial 44 finished with value: 0.9297801984049796 and parameters: {'iterations': 366, 'depth': 6, 'learning_rate': 0.015647614673890663, 'l2_leaf_reg': 6.130197062879901, 'random_strength': 2.879415772773026, 'bagging_temperature': 0.7002878332497948, 'border_count': 242}. Best is trial 41 with value: 0.9315308305777086.\n",
      "[I 2025-05-19 13:55:15,221] Trial 45 finished with value: 0.9305582571484147 and parameters: {'iterations': 299, 'depth': 5, 'learning_rate': 0.013245897443322007, 'l2_leaf_reg': 4.419113783190816, 'random_strength': 2.3393042530807433, 'bagging_temperature': 0.44982095325068716, 'border_count': 211}. Best is trial 41 with value: 0.9315308305777086.\n",
      "[I 2025-05-19 13:55:19,819] Trial 46 finished with value: 0.9303637424625559 and parameters: {'iterations': 274, 'depth': 6, 'learning_rate': 0.02215457724025006, 'l2_leaf_reg': 6.110818183012949, 'random_strength': 2.61119674229224, 'bagging_temperature': 0.8051169129847392, 'border_count': 183}. Best is trial 41 with value: 0.9315308305777086.\n",
      "[I 2025-05-19 13:55:25,449] Trial 47 finished with value: 0.9305582571484147 and parameters: {'iterations': 419, 'depth': 5, 'learning_rate': 0.01630298825157796, 'l2_leaf_reg': 5.34080421915898, 'random_strength': 3.112073579239973, 'bagging_temperature': 0.6955724064843092, 'border_count': 167}. Best is trial 41 with value: 0.9315308305777086.\n",
      "[I 2025-05-19 13:55:29,796] Trial 48 finished with value: 0.9301692277766972 and parameters: {'iterations': 370, 'depth': 4, 'learning_rate': 0.03584509364292674, 'l2_leaf_reg': 3.291639098570091, 'random_strength': 2.179538029565467, 'bagging_temperature': 0.594437815747417, 'border_count': 241}. Best is trial 41 with value: 0.9315308305777086.\n",
      "[I 2025-05-19 13:55:33,223] Trial 49 finished with value: 0.9311418012059911 and parameters: {'iterations': 244, 'depth': 5, 'learning_rate': 0.03111308121447593, 'l2_leaf_reg': 4.341704710716339, 'random_strength': 1.475896107514402, 'bagging_temperature': 0.5461654565702325, 'border_count': 223}. Best is trial 41 with value: 0.9315308305777086.\n",
      "[I 2025-05-19 13:55:37,552] Trial 50 finished with value: 0.9297801984049796 and parameters: {'iterations': 252, 'depth': 6, 'learning_rate': 0.02719377738079244, 'l2_leaf_reg': 4.492076026094095, 'random_strength': 1.481880976241912, 'bagging_temperature': 0.4322286904593453, 'border_count': 224}. Best is trial 41 with value: 0.9315308305777086.\n",
      "[I 2025-05-19 13:55:41,984] Trial 51 finished with value: 0.9311418012059911 and parameters: {'iterations': 310, 'depth': 5, 'learning_rate': 0.012173236499362526, 'l2_leaf_reg': 4.3896554669239425, 'random_strength': 0.5848041498214412, 'bagging_temperature': 0.5506635587386215, 'border_count': 209}. Best is trial 41 with value: 0.9315308305777086.\n",
      "[I 2025-05-19 13:55:46,286] Trial 52 finished with value: 0.9313363158918498 and parameters: {'iterations': 310, 'depth': 5, 'learning_rate': 0.012118260790312984, 'l2_leaf_reg': 5.09912716998976, 'random_strength': 0.7154710152995747, 'bagging_temperature': 0.5389322297149834, 'border_count': 254}. Best is trial 41 with value: 0.9315308305777086.\n",
      "[I 2025-05-19 13:55:51,524] Trial 53 finished with value: 0.9311418012059911 and parameters: {'iterations': 310, 'depth': 6, 'learning_rate': 0.012514095589980165, 'l2_leaf_reg': 5.077359042198322, 'random_strength': 0.5246562021860036, 'bagging_temperature': 0.6269632576842582, 'border_count': 253}. Best is trial 41 with value: 0.9315308305777086.\n",
      "[I 2025-05-19 13:55:57,418] Trial 54 finished with value: 0.9319198599494262 and parameters: {'iterations': 440, 'depth': 5, 'learning_rate': 0.011772180135258575, 'l2_leaf_reg': 4.050675151663973, 'random_strength': 0.5562943964028539, 'bagging_temperature': 0.5463688072328976, 'border_count': 234}. Best is trial 54 with value: 0.9319198599494262.\n",
      "[I 2025-05-19 13:56:02,429] Trial 55 finished with value: 0.9303637424625559 and parameters: {'iterations': 440, 'depth': 4, 'learning_rate': 0.011449846781131805, 'l2_leaf_reg': 4.144832833753935, 'random_strength': 1.3575538574759052, 'bagging_temperature': 0.4935407591251637, 'border_count': 234}. Best is trial 54 with value: 0.9319198599494262.\n",
      "[I 2025-05-19 13:56:07,710] Trial 56 finished with value: 0.9295856837191208 and parameters: {'iterations': 369, 'depth': 5, 'learning_rate': 0.03186260693573943, 'l2_leaf_reg': 3.466024330790486, 'random_strength': 0.8211850317265741, 'bagging_temperature': 0.5542977905860001, 'border_count': 245}. Best is trial 54 with value: 0.9319198599494262.\n",
      "[I 2025-05-19 13:56:12,054] Trial 57 finished with value: 0.9295856837191208 and parameters: {'iterations': 249, 'depth': 6, 'learning_rate': 0.04418780860809995, 'l2_leaf_reg': 2.8659281335602493, 'random_strength': 0.6935794815573427, 'bagging_temperature': 0.9982835861660037, 'border_count': 255}. Best is trial 54 with value: 0.9319198599494262.\n",
      "[I 2025-05-19 13:56:14,596] Trial 58 finished with value: 0.925889904687804 and parameters: {'iterations': 200, 'depth': 4, 'learning_rate': 0.013310978755002175, 'l2_leaf_reg': 4.072611852878199, 'random_strength': 1.0691400201880827, 'bagging_temperature': 0.5997830160177704, 'border_count': 234}. Best is trial 54 with value: 0.9319198599494262.\n",
      "[I 2025-05-19 13:56:20,666] Trial 59 finished with value: 0.9303637424625559 and parameters: {'iterations': 460, 'depth': 5, 'learning_rate': 0.01018739106267007, 'l2_leaf_reg': 4.898177608472341, 'random_strength': 0.9482731792297292, 'bagging_temperature': 0.7538841914499683, 'border_count': 224}. Best is trial 54 with value: 0.9319198599494262.\n",
      "[I 2025-05-19 13:56:27,357] Trial 60 finished with value: 0.9297801984049796 and parameters: {'iterations': 497, 'depth': 5, 'learning_rate': 0.023212987441283812, 'l2_leaf_reg': 5.338324743844051, 'random_strength': 1.28742801342075, 'bagging_temperature': 0.3907496864002557, 'border_count': 240}. Best is trial 54 with value: 0.9319198599494262.\n",
      "[I 2025-05-19 13:56:31,848] Trial 61 finished with value: 0.9307527718342735 and parameters: {'iterations': 327, 'depth': 5, 'learning_rate': 0.012380338312679429, 'l2_leaf_reg': 3.7285806477181733, 'random_strength': 0.6899925166888343, 'bagging_temperature': 0.5394537565299302, 'border_count': 221}. Best is trial 54 with value: 0.9319198599494262.\n",
      "[I 2025-05-19 13:56:35,866] Trial 62 finished with value: 0.9303637424625559 and parameters: {'iterations': 291, 'depth': 5, 'learning_rate': 0.011150735892693157, 'l2_leaf_reg': 4.228792085219429, 'random_strength': 0.6199155840487688, 'bagging_temperature': 0.4718181914354008, 'border_count': 231}. Best is trial 54 with value: 0.9319198599494262.\n",
      "[I 2025-05-19 13:56:41,849] Trial 63 finished with value: 0.9303637424625559 and parameters: {'iterations': 360, 'depth': 6, 'learning_rate': 0.01655954219404891, 'l2_leaf_reg': 4.75338638274024, 'random_strength': 1.7462944421074846, 'bagging_temperature': 0.6242899172530518, 'border_count': 245}. Best is trial 54 with value: 0.9319198599494262.\n",
      "[I 2025-05-19 13:56:44,661] Trial 64 finished with value: 0.9278350515463918 and parameters: {'iterations': 234, 'depth': 4, 'learning_rate': 0.01358106055374306, 'l2_leaf_reg': 5.940168806854549, 'random_strength': 4.993884196516786, 'bagging_temperature': 0.574027512107817, 'border_count': 192}. Best is trial 54 with value: 0.9319198599494262.\n",
      "[I 2025-05-19 13:56:49,318] Trial 65 finished with value: 0.9317253452635674 and parameters: {'iterations': 342, 'depth': 5, 'learning_rate': 0.011723415660209562, 'l2_leaf_reg': 5.129594113672947, 'random_strength': 0.5183115458851102, 'bagging_temperature': 0.5058589095577197, 'border_count': 230}. Best is trial 54 with value: 0.9319198599494262.\n",
      "[I 2025-05-19 13:56:55,803] Trial 66 finished with value: 0.9303637424625559 and parameters: {'iterations': 392, 'depth': 6, 'learning_rate': 0.010918344591136763, 'l2_leaf_reg': 5.356304550427845, 'random_strength': 0.9041247987135357, 'bagging_temperature': 0.5051833010193109, 'border_count': 230}. Best is trial 54 with value: 0.9319198599494262.\n",
      "[I 2025-05-19 13:56:59,754] Trial 67 finished with value: 0.9313363158918498 and parameters: {'iterations': 345, 'depth': 4, 'learning_rate': 0.014978811267536557, 'l2_leaf_reg': 6.386032808582238, 'random_strength': 1.2062345434098232, 'bagging_temperature': 0.6084627350257761, 'border_count': 249}. Best is trial 54 with value: 0.9319198599494262.\n",
      "[I 2025-05-19 13:57:04,594] Trial 68 finished with value: 0.9303637424625559 and parameters: {'iterations': 426, 'depth': 4, 'learning_rate': 0.01460956038574256, 'l2_leaf_reg': 7.438403830721508, 'random_strength': 0.768164464432332, 'bagging_temperature': 0.7030837363817967, 'border_count': 248}. Best is trial 54 with value: 0.9319198599494262.\n",
      "[I 2025-05-19 13:57:07,364] Trial 69 finished with value: 0.9286131102898268 and parameters: {'iterations': 352, 'depth': 4, 'learning_rate': 0.16519151496600942, 'l2_leaf_reg': 6.309394682924279, 'random_strength': 1.1910216671093583, 'bagging_temperature': 0.48339732274595854, 'border_count': 237}. Best is trial 54 with value: 0.9319198599494262.\n",
      "[I 2025-05-19 13:57:11,865] Trial 70 finished with value: 0.9303637424625559 and parameters: {'iterations': 396, 'depth': 4, 'learning_rate': 0.017260763564891913, 'l2_leaf_reg': 5.763351091150216, 'random_strength': 0.5167480258170578, 'bagging_temperature': 0.624328355049768, 'border_count': 255}. Best is trial 54 with value: 0.9319198599494262.\n",
      "[I 2025-05-19 13:57:16,342] Trial 71 finished with value: 0.9313363158918498 and parameters: {'iterations': 329, 'depth': 5, 'learning_rate': 0.02036905828827357, 'l2_leaf_reg': 5.125542526031941, 'random_strength': 1.137073737346343, 'bagging_temperature': 0.5260802264242495, 'border_count': 219}. Best is trial 54 with value: 0.9319198599494262.\n",
      "[I 2025-05-19 13:57:18,227] Trial 72 finished with value: 0.9284185956039681 and parameters: {'iterations': 328, 'depth': 5, 'learning_rate': 0.27456105555859484, 'l2_leaf_reg': 4.984805399090757, 'random_strength': 1.0390383737598508, 'bagging_temperature': 0.5271015552363065, 'border_count': 218}. Best is trial 54 with value: 0.9319198599494262.\n",
      "[I 2025-05-19 13:57:21,981] Trial 73 finished with value: 0.9315308305777086 and parameters: {'iterations': 273, 'depth': 5, 'learning_rate': 0.020071774529558387, 'l2_leaf_reg': 6.5682409638856925, 'random_strength': 0.8095332864412876, 'bagging_temperature': 0.6756463104294218, 'border_count': 249}. Best is trial 54 with value: 0.9319198599494262.\n",
      "[I 2025-05-19 13:57:25,982] Trial 74 finished with value: 0.9309472865201323 and parameters: {'iterations': 286, 'depth': 5, 'learning_rate': 0.020886151365843417, 'l2_leaf_reg': 6.389888059461668, 'random_strength': 0.8102003987165668, 'bagging_temperature': 0.7362506042898429, 'border_count': 249}. Best is trial 54 with value: 0.9319198599494262.\n",
      "[I 2025-05-19 13:57:31,285] Trial 75 finished with value: 0.9325034040070025 and parameters: {'iterations': 389, 'depth': 5, 'learning_rate': 0.019552915646991523, 'l2_leaf_reg': 6.67696080416171, 'random_strength': 1.1703787652887487, 'bagging_temperature': 0.6055885741251384, 'border_count': 238}. Best is trial 75 with value: 0.9325034040070025.\n",
      "[I 2025-05-19 13:57:35,923] Trial 76 finished with value: 0.9309472865201323 and parameters: {'iterations': 384, 'depth': 4, 'learning_rate': 0.024790762625091133, 'l2_leaf_reg': 6.63440108336136, 'random_strength': 1.327220224129599, 'bagging_temperature': 0.6083694896383861, 'border_count': 238}. Best is trial 75 with value: 0.9325034040070025.\n",
      "[I 2025-05-19 13:57:42,360] Trial 77 finished with value: 0.9309472865201323 and parameters: {'iterations': 479, 'depth': 5, 'learning_rate': 0.01604918019908561, 'l2_leaf_reg': 7.244923720804935, 'random_strength': 0.9780498433608305, 'bagging_temperature': 0.5681317415374727, 'border_count': 248}. Best is trial 75 with value: 0.9325034040070025.\n",
      "[I 2025-05-19 13:57:48,233] Trial 78 finished with value: 0.9299747130908383 and parameters: {'iterations': 349, 'depth': 6, 'learning_rate': 0.014867573435728174, 'l2_leaf_reg': 6.614501313642659, 'random_strength': 0.7282495531553222, 'bagging_temperature': 0.671180684629438, 'border_count': 234}. Best is trial 75 with value: 0.9325034040070025.\n",
      "[I 2025-05-19 13:57:51,517] Trial 79 finished with value: 0.9309472865201323 and parameters: {'iterations': 274, 'depth': 4, 'learning_rate': 0.018962010129306116, 'l2_leaf_reg': 5.613217533063516, 'random_strength': 0.884829278783288, 'bagging_temperature': 0.7830847280997574, 'border_count': 245}. Best is trial 75 with value: 0.9325034040070025.\n"
     ]
    }
   ],
   "source": [
    "\n",
    "# Phase 2: TPE fine-tuning\n",
    "study1.sampler = optuna.samplers.TPESampler(seed=42, n_startup_trials=0)\n",
    "study1.optimize(objective, n_trials=50)"
   ]
  },
  {
   "cell_type": "code",
   "execution_count": 18,
   "id": "011e3f17",
   "metadata": {},
   "outputs": [
    {
     "data": {
      "application/vnd.plotly.v1+json": {
       "config": {
        "plotlyServerURL": "https://plot.ly"
       },
       "data": [
        {
         "mode": "markers",
         "name": "Objective Value",
         "type": "scatter",
         "x": [
          0,
          1,
          2,
          3,
          4,
          5,
          6,
          7,
          8,
          9,
          10,
          11,
          12,
          13,
          14,
          15,
          16,
          17,
          18,
          19,
          20,
          21,
          22,
          23,
          24,
          25,
          26,
          27,
          28,
          29,
          30,
          31,
          32,
          33,
          34,
          35,
          36,
          37,
          38,
          39,
          40,
          41,
          42,
          43,
          44,
          45,
          46,
          47,
          48,
          49,
          50,
          51,
          52,
          53,
          54,
          55,
          56,
          57,
          58,
          59,
          60,
          61,
          62,
          63,
          64,
          65,
          66,
          67,
          68,
          69,
          70,
          71,
          72,
          73,
          74,
          75,
          76,
          77,
          78,
          79
         ],
         "y": [
          0.9260844193736627,
          0.9262789340595214,
          0.929391169033262,
          0.9288076249756857,
          0.9282240809181093,
          0.9286131102898268,
          0.9221941256564871,
          0.9233612137716397,
          0.9291966543474033,
          0.9288076249756857,
          0.9307527718342735,
          0.929391169033262,
          0.9282240809181093,
          0.9255008753160864,
          0.9247228165726512,
          0.9280295662322505,
          0.9245283018867925,
          0.9255008753160864,
          0.9219996109706283,
          0.9229721843999222,
          0.9284185956039681,
          0.9291966543474033,
          0.9278350515463918,
          0.9268624781170979,
          0.9280295662322505,
          0.9262789340595214,
          0.9227776697140634,
          0.9290021396615444,
          0.923166699085781,
          0.926667963431239,
          0.9272515074888154,
          0.9309472865201323,
          0.9313363158918498,
          0.9309472865201323,
          0.9299747130908383,
          0.9297801984049796,
          0.9295856837191208,
          0.9284185956039681,
          0.9278350515463918,
          0.9284185956039681,
          0.9311418012059911,
          0.9315308305777086,
          0.9309472865201323,
          0.929391169033262,
          0.9297801984049796,
          0.9305582571484147,
          0.9303637424625559,
          0.9305582571484147,
          0.9301692277766972,
          0.9311418012059911,
          0.9297801984049796,
          0.9311418012059911,
          0.9313363158918498,
          0.9311418012059911,
          0.9319198599494262,
          0.9303637424625559,
          0.9295856837191208,
          0.9295856837191208,
          0.925889904687804,
          0.9303637424625559,
          0.9297801984049796,
          0.9307527718342735,
          0.9303637424625559,
          0.9303637424625559,
          0.9278350515463918,
          0.9317253452635674,
          0.9303637424625559,
          0.9313363158918498,
          0.9303637424625559,
          0.9286131102898268,
          0.9303637424625559,
          0.9313363158918498,
          0.9284185956039681,
          0.9315308305777086,
          0.9309472865201323,
          0.9325034040070025,
          0.9309472865201323,
          0.9309472865201323,
          0.9299747130908383,
          0.9309472865201323
         ]
        },
        {
         "mode": "lines",
         "name": "Best Value",
         "type": "scatter",
         "x": [
          0,
          1,
          2,
          3,
          4,
          5,
          6,
          7,
          8,
          9,
          10,
          11,
          12,
          13,
          14,
          15,
          16,
          17,
          18,
          19,
          20,
          21,
          22,
          23,
          24,
          25,
          26,
          27,
          28,
          29,
          30,
          31,
          32,
          33,
          34,
          35,
          36,
          37,
          38,
          39,
          40,
          41,
          42,
          43,
          44,
          45,
          46,
          47,
          48,
          49,
          50,
          51,
          52,
          53,
          54,
          55,
          56,
          57,
          58,
          59,
          60,
          61,
          62,
          63,
          64,
          65,
          66,
          67,
          68,
          69,
          70,
          71,
          72,
          73,
          74,
          75,
          76,
          77,
          78,
          79
         ],
         "y": [
          0.9260844193736627,
          0.9262789340595214,
          0.929391169033262,
          0.929391169033262,
          0.929391169033262,
          0.929391169033262,
          0.929391169033262,
          0.929391169033262,
          0.929391169033262,
          0.929391169033262,
          0.9307527718342735,
          0.9307527718342735,
          0.9307527718342735,
          0.9307527718342735,
          0.9307527718342735,
          0.9307527718342735,
          0.9307527718342735,
          0.9307527718342735,
          0.9307527718342735,
          0.9307527718342735,
          0.9307527718342735,
          0.9307527718342735,
          0.9307527718342735,
          0.9307527718342735,
          0.9307527718342735,
          0.9307527718342735,
          0.9307527718342735,
          0.9307527718342735,
          0.9307527718342735,
          0.9307527718342735,
          0.9307527718342735,
          0.9309472865201323,
          0.9313363158918498,
          0.9313363158918498,
          0.9313363158918498,
          0.9313363158918498,
          0.9313363158918498,
          0.9313363158918498,
          0.9313363158918498,
          0.9313363158918498,
          0.9313363158918498,
          0.9315308305777086,
          0.9315308305777086,
          0.9315308305777086,
          0.9315308305777086,
          0.9315308305777086,
          0.9315308305777086,
          0.9315308305777086,
          0.9315308305777086,
          0.9315308305777086,
          0.9315308305777086,
          0.9315308305777086,
          0.9315308305777086,
          0.9315308305777086,
          0.9319198599494262,
          0.9319198599494262,
          0.9319198599494262,
          0.9319198599494262,
          0.9319198599494262,
          0.9319198599494262,
          0.9319198599494262,
          0.9319198599494262,
          0.9319198599494262,
          0.9319198599494262,
          0.9319198599494262,
          0.9319198599494262,
          0.9319198599494262,
          0.9319198599494262,
          0.9319198599494262,
          0.9319198599494262,
          0.9319198599494262,
          0.9319198599494262,
          0.9319198599494262,
          0.9319198599494262,
          0.9319198599494262,
          0.9325034040070025,
          0.9325034040070025,
          0.9325034040070025,
          0.9325034040070025,
          0.9325034040070025
         ]
        },
        {
         "marker": {
          "color": "#cccccc"
         },
         "mode": "markers",
         "name": "Infeasible Trial",
         "showlegend": false,
         "type": "scatter",
         "x": [],
         "y": []
        }
       ],
       "layout": {
        "template": {
         "data": {
          "bar": [
           {
            "error_x": {
             "color": "#2a3f5f"
            },
            "error_y": {
             "color": "#2a3f5f"
            },
            "marker": {
             "line": {
              "color": "#E5ECF6",
              "width": 0.5
             },
             "pattern": {
              "fillmode": "overlay",
              "size": 10,
              "solidity": 0.2
             }
            },
            "type": "bar"
           }
          ],
          "barpolar": [
           {
            "marker": {
             "line": {
              "color": "#E5ECF6",
              "width": 0.5
             },
             "pattern": {
              "fillmode": "overlay",
              "size": 10,
              "solidity": 0.2
             }
            },
            "type": "barpolar"
           }
          ],
          "carpet": [
           {
            "aaxis": {
             "endlinecolor": "#2a3f5f",
             "gridcolor": "white",
             "linecolor": "white",
             "minorgridcolor": "white",
             "startlinecolor": "#2a3f5f"
            },
            "baxis": {
             "endlinecolor": "#2a3f5f",
             "gridcolor": "white",
             "linecolor": "white",
             "minorgridcolor": "white",
             "startlinecolor": "#2a3f5f"
            },
            "type": "carpet"
           }
          ],
          "choropleth": [
           {
            "colorbar": {
             "outlinewidth": 0,
             "ticks": ""
            },
            "type": "choropleth"
           }
          ],
          "contour": [
           {
            "colorbar": {
             "outlinewidth": 0,
             "ticks": ""
            },
            "colorscale": [
             [
              0,
              "#0d0887"
             ],
             [
              0.1111111111111111,
              "#46039f"
             ],
             [
              0.2222222222222222,
              "#7201a8"
             ],
             [
              0.3333333333333333,
              "#9c179e"
             ],
             [
              0.4444444444444444,
              "#bd3786"
             ],
             [
              0.5555555555555556,
              "#d8576b"
             ],
             [
              0.6666666666666666,
              "#ed7953"
             ],
             [
              0.7777777777777778,
              "#fb9f3a"
             ],
             [
              0.8888888888888888,
              "#fdca26"
             ],
             [
              1,
              "#f0f921"
             ]
            ],
            "type": "contour"
           }
          ],
          "contourcarpet": [
           {
            "colorbar": {
             "outlinewidth": 0,
             "ticks": ""
            },
            "type": "contourcarpet"
           }
          ],
          "heatmap": [
           {
            "colorbar": {
             "outlinewidth": 0,
             "ticks": ""
            },
            "colorscale": [
             [
              0,
              "#0d0887"
             ],
             [
              0.1111111111111111,
              "#46039f"
             ],
             [
              0.2222222222222222,
              "#7201a8"
             ],
             [
              0.3333333333333333,
              "#9c179e"
             ],
             [
              0.4444444444444444,
              "#bd3786"
             ],
             [
              0.5555555555555556,
              "#d8576b"
             ],
             [
              0.6666666666666666,
              "#ed7953"
             ],
             [
              0.7777777777777778,
              "#fb9f3a"
             ],
             [
              0.8888888888888888,
              "#fdca26"
             ],
             [
              1,
              "#f0f921"
             ]
            ],
            "type": "heatmap"
           }
          ],
          "histogram": [
           {
            "marker": {
             "pattern": {
              "fillmode": "overlay",
              "size": 10,
              "solidity": 0.2
             }
            },
            "type": "histogram"
           }
          ],
          "histogram2d": [
           {
            "colorbar": {
             "outlinewidth": 0,
             "ticks": ""
            },
            "colorscale": [
             [
              0,
              "#0d0887"
             ],
             [
              0.1111111111111111,
              "#46039f"
             ],
             [
              0.2222222222222222,
              "#7201a8"
             ],
             [
              0.3333333333333333,
              "#9c179e"
             ],
             [
              0.4444444444444444,
              "#bd3786"
             ],
             [
              0.5555555555555556,
              "#d8576b"
             ],
             [
              0.6666666666666666,
              "#ed7953"
             ],
             [
              0.7777777777777778,
              "#fb9f3a"
             ],
             [
              0.8888888888888888,
              "#fdca26"
             ],
             [
              1,
              "#f0f921"
             ]
            ],
            "type": "histogram2d"
           }
          ],
          "histogram2dcontour": [
           {
            "colorbar": {
             "outlinewidth": 0,
             "ticks": ""
            },
            "colorscale": [
             [
              0,
              "#0d0887"
             ],
             [
              0.1111111111111111,
              "#46039f"
             ],
             [
              0.2222222222222222,
              "#7201a8"
             ],
             [
              0.3333333333333333,
              "#9c179e"
             ],
             [
              0.4444444444444444,
              "#bd3786"
             ],
             [
              0.5555555555555556,
              "#d8576b"
             ],
             [
              0.6666666666666666,
              "#ed7953"
             ],
             [
              0.7777777777777778,
              "#fb9f3a"
             ],
             [
              0.8888888888888888,
              "#fdca26"
             ],
             [
              1,
              "#f0f921"
             ]
            ],
            "type": "histogram2dcontour"
           }
          ],
          "mesh3d": [
           {
            "colorbar": {
             "outlinewidth": 0,
             "ticks": ""
            },
            "type": "mesh3d"
           }
          ],
          "parcoords": [
           {
            "line": {
             "colorbar": {
              "outlinewidth": 0,
              "ticks": ""
             }
            },
            "type": "parcoords"
           }
          ],
          "pie": [
           {
            "automargin": true,
            "type": "pie"
           }
          ],
          "scatter": [
           {
            "fillpattern": {
             "fillmode": "overlay",
             "size": 10,
             "solidity": 0.2
            },
            "type": "scatter"
           }
          ],
          "scatter3d": [
           {
            "line": {
             "colorbar": {
              "outlinewidth": 0,
              "ticks": ""
             }
            },
            "marker": {
             "colorbar": {
              "outlinewidth": 0,
              "ticks": ""
             }
            },
            "type": "scatter3d"
           }
          ],
          "scattercarpet": [
           {
            "marker": {
             "colorbar": {
              "outlinewidth": 0,
              "ticks": ""
             }
            },
            "type": "scattercarpet"
           }
          ],
          "scattergeo": [
           {
            "marker": {
             "colorbar": {
              "outlinewidth": 0,
              "ticks": ""
             }
            },
            "type": "scattergeo"
           }
          ],
          "scattergl": [
           {
            "marker": {
             "colorbar": {
              "outlinewidth": 0,
              "ticks": ""
             }
            },
            "type": "scattergl"
           }
          ],
          "scattermap": [
           {
            "marker": {
             "colorbar": {
              "outlinewidth": 0,
              "ticks": ""
             }
            },
            "type": "scattermap"
           }
          ],
          "scattermapbox": [
           {
            "marker": {
             "colorbar": {
              "outlinewidth": 0,
              "ticks": ""
             }
            },
            "type": "scattermapbox"
           }
          ],
          "scatterpolar": [
           {
            "marker": {
             "colorbar": {
              "outlinewidth": 0,
              "ticks": ""
             }
            },
            "type": "scatterpolar"
           }
          ],
          "scatterpolargl": [
           {
            "marker": {
             "colorbar": {
              "outlinewidth": 0,
              "ticks": ""
             }
            },
            "type": "scatterpolargl"
           }
          ],
          "scatterternary": [
           {
            "marker": {
             "colorbar": {
              "outlinewidth": 0,
              "ticks": ""
             }
            },
            "type": "scatterternary"
           }
          ],
          "surface": [
           {
            "colorbar": {
             "outlinewidth": 0,
             "ticks": ""
            },
            "colorscale": [
             [
              0,
              "#0d0887"
             ],
             [
              0.1111111111111111,
              "#46039f"
             ],
             [
              0.2222222222222222,
              "#7201a8"
             ],
             [
              0.3333333333333333,
              "#9c179e"
             ],
             [
              0.4444444444444444,
              "#bd3786"
             ],
             [
              0.5555555555555556,
              "#d8576b"
             ],
             [
              0.6666666666666666,
              "#ed7953"
             ],
             [
              0.7777777777777778,
              "#fb9f3a"
             ],
             [
              0.8888888888888888,
              "#fdca26"
             ],
             [
              1,
              "#f0f921"
             ]
            ],
            "type": "surface"
           }
          ],
          "table": [
           {
            "cells": {
             "fill": {
              "color": "#EBF0F8"
             },
             "line": {
              "color": "white"
             }
            },
            "header": {
             "fill": {
              "color": "#C8D4E3"
             },
             "line": {
              "color": "white"
             }
            },
            "type": "table"
           }
          ]
         },
         "layout": {
          "annotationdefaults": {
           "arrowcolor": "#2a3f5f",
           "arrowhead": 0,
           "arrowwidth": 1
          },
          "autotypenumbers": "strict",
          "coloraxis": {
           "colorbar": {
            "outlinewidth": 0,
            "ticks": ""
           }
          },
          "colorscale": {
           "diverging": [
            [
             0,
             "#8e0152"
            ],
            [
             0.1,
             "#c51b7d"
            ],
            [
             0.2,
             "#de77ae"
            ],
            [
             0.3,
             "#f1b6da"
            ],
            [
             0.4,
             "#fde0ef"
            ],
            [
             0.5,
             "#f7f7f7"
            ],
            [
             0.6,
             "#e6f5d0"
            ],
            [
             0.7,
             "#b8e186"
            ],
            [
             0.8,
             "#7fbc41"
            ],
            [
             0.9,
             "#4d9221"
            ],
            [
             1,
             "#276419"
            ]
           ],
           "sequential": [
            [
             0,
             "#0d0887"
            ],
            [
             0.1111111111111111,
             "#46039f"
            ],
            [
             0.2222222222222222,
             "#7201a8"
            ],
            [
             0.3333333333333333,
             "#9c179e"
            ],
            [
             0.4444444444444444,
             "#bd3786"
            ],
            [
             0.5555555555555556,
             "#d8576b"
            ],
            [
             0.6666666666666666,
             "#ed7953"
            ],
            [
             0.7777777777777778,
             "#fb9f3a"
            ],
            [
             0.8888888888888888,
             "#fdca26"
            ],
            [
             1,
             "#f0f921"
            ]
           ],
           "sequentialminus": [
            [
             0,
             "#0d0887"
            ],
            [
             0.1111111111111111,
             "#46039f"
            ],
            [
             0.2222222222222222,
             "#7201a8"
            ],
            [
             0.3333333333333333,
             "#9c179e"
            ],
            [
             0.4444444444444444,
             "#bd3786"
            ],
            [
             0.5555555555555556,
             "#d8576b"
            ],
            [
             0.6666666666666666,
             "#ed7953"
            ],
            [
             0.7777777777777778,
             "#fb9f3a"
            ],
            [
             0.8888888888888888,
             "#fdca26"
            ],
            [
             1,
             "#f0f921"
            ]
           ]
          },
          "colorway": [
           "#636efa",
           "#EF553B",
           "#00cc96",
           "#ab63fa",
           "#FFA15A",
           "#19d3f3",
           "#FF6692",
           "#B6E880",
           "#FF97FF",
           "#FECB52"
          ],
          "font": {
           "color": "#2a3f5f"
          },
          "geo": {
           "bgcolor": "white",
           "lakecolor": "white",
           "landcolor": "#E5ECF6",
           "showlakes": true,
           "showland": true,
           "subunitcolor": "white"
          },
          "hoverlabel": {
           "align": "left"
          },
          "hovermode": "closest",
          "mapbox": {
           "style": "light"
          },
          "paper_bgcolor": "white",
          "plot_bgcolor": "#E5ECF6",
          "polar": {
           "angularaxis": {
            "gridcolor": "white",
            "linecolor": "white",
            "ticks": ""
           },
           "bgcolor": "#E5ECF6",
           "radialaxis": {
            "gridcolor": "white",
            "linecolor": "white",
            "ticks": ""
           }
          },
          "scene": {
           "xaxis": {
            "backgroundcolor": "#E5ECF6",
            "gridcolor": "white",
            "gridwidth": 2,
            "linecolor": "white",
            "showbackground": true,
            "ticks": "",
            "zerolinecolor": "white"
           },
           "yaxis": {
            "backgroundcolor": "#E5ECF6",
            "gridcolor": "white",
            "gridwidth": 2,
            "linecolor": "white",
            "showbackground": true,
            "ticks": "",
            "zerolinecolor": "white"
           },
           "zaxis": {
            "backgroundcolor": "#E5ECF6",
            "gridcolor": "white",
            "gridwidth": 2,
            "linecolor": "white",
            "showbackground": true,
            "ticks": "",
            "zerolinecolor": "white"
           }
          },
          "shapedefaults": {
           "line": {
            "color": "#2a3f5f"
           }
          },
          "ternary": {
           "aaxis": {
            "gridcolor": "white",
            "linecolor": "white",
            "ticks": ""
           },
           "baxis": {
            "gridcolor": "white",
            "linecolor": "white",
            "ticks": ""
           },
           "bgcolor": "#E5ECF6",
           "caxis": {
            "gridcolor": "white",
            "linecolor": "white",
            "ticks": ""
           }
          },
          "title": {
           "x": 0.05
          },
          "xaxis": {
           "automargin": true,
           "gridcolor": "white",
           "linecolor": "white",
           "ticks": "",
           "title": {
            "standoff": 15
           },
           "zerolinecolor": "white",
           "zerolinewidth": 2
          },
          "yaxis": {
           "automargin": true,
           "gridcolor": "white",
           "linecolor": "white",
           "ticks": "",
           "title": {
            "standoff": 15
           },
           "zerolinecolor": "white",
           "zerolinewidth": 2
          }
         }
        },
        "title": {
         "text": "Optimization History Plot"
        },
        "xaxis": {
         "title": {
          "text": "Trial"
         }
        },
        "yaxis": {
         "title": {
          "text": "Objective Value"
         }
        }
       }
      }
     },
     "metadata": {},
     "output_type": "display_data"
    },
    {
     "data": {
      "application/vnd.plotly.v1+json": {
       "config": {
        "plotlyServerURL": "https://plot.ly"
       },
       "data": [
        {
         "cliponaxis": false,
         "hovertemplate": [
          "l2_leaf_reg (FloatDistribution): 0.0075871617614024275<extra></extra>",
          "random_strength (FloatDistribution): 0.007756516030658725<extra></extra>",
          "learning_rate (FloatDistribution): 0.013113722875860694<extra></extra>",
          "bagging_temperature (FloatDistribution): 0.01343157574475733<extra></extra>",
          "border_count (IntDistribution): 0.01848109319824123<extra></extra>",
          "iterations (IntDistribution): 0.019091876270152377<extra></extra>",
          "depth (IntDistribution): 0.9205380541189273<extra></extra>"
         ],
         "name": "Objective Value",
         "orientation": "h",
         "text": [
          "<0.01",
          "<0.01",
          "0.01",
          "0.01",
          "0.02",
          "0.02",
          "0.92"
         ],
         "textposition": "outside",
         "type": "bar",
         "x": [
          0.0075871617614024275,
          0.007756516030658725,
          0.013113722875860694,
          0.01343157574475733,
          0.01848109319824123,
          0.019091876270152377,
          0.9205380541189273
         ],
         "y": [
          "l2_leaf_reg",
          "random_strength",
          "learning_rate",
          "bagging_temperature",
          "border_count",
          "iterations",
          "depth"
         ]
        }
       ],
       "layout": {
        "template": {
         "data": {
          "bar": [
           {
            "error_x": {
             "color": "#2a3f5f"
            },
            "error_y": {
             "color": "#2a3f5f"
            },
            "marker": {
             "line": {
              "color": "#E5ECF6",
              "width": 0.5
             },
             "pattern": {
              "fillmode": "overlay",
              "size": 10,
              "solidity": 0.2
             }
            },
            "type": "bar"
           }
          ],
          "barpolar": [
           {
            "marker": {
             "line": {
              "color": "#E5ECF6",
              "width": 0.5
             },
             "pattern": {
              "fillmode": "overlay",
              "size": 10,
              "solidity": 0.2
             }
            },
            "type": "barpolar"
           }
          ],
          "carpet": [
           {
            "aaxis": {
             "endlinecolor": "#2a3f5f",
             "gridcolor": "white",
             "linecolor": "white",
             "minorgridcolor": "white",
             "startlinecolor": "#2a3f5f"
            },
            "baxis": {
             "endlinecolor": "#2a3f5f",
             "gridcolor": "white",
             "linecolor": "white",
             "minorgridcolor": "white",
             "startlinecolor": "#2a3f5f"
            },
            "type": "carpet"
           }
          ],
          "choropleth": [
           {
            "colorbar": {
             "outlinewidth": 0,
             "ticks": ""
            },
            "type": "choropleth"
           }
          ],
          "contour": [
           {
            "colorbar": {
             "outlinewidth": 0,
             "ticks": ""
            },
            "colorscale": [
             [
              0,
              "#0d0887"
             ],
             [
              0.1111111111111111,
              "#46039f"
             ],
             [
              0.2222222222222222,
              "#7201a8"
             ],
             [
              0.3333333333333333,
              "#9c179e"
             ],
             [
              0.4444444444444444,
              "#bd3786"
             ],
             [
              0.5555555555555556,
              "#d8576b"
             ],
             [
              0.6666666666666666,
              "#ed7953"
             ],
             [
              0.7777777777777778,
              "#fb9f3a"
             ],
             [
              0.8888888888888888,
              "#fdca26"
             ],
             [
              1,
              "#f0f921"
             ]
            ],
            "type": "contour"
           }
          ],
          "contourcarpet": [
           {
            "colorbar": {
             "outlinewidth": 0,
             "ticks": ""
            },
            "type": "contourcarpet"
           }
          ],
          "heatmap": [
           {
            "colorbar": {
             "outlinewidth": 0,
             "ticks": ""
            },
            "colorscale": [
             [
              0,
              "#0d0887"
             ],
             [
              0.1111111111111111,
              "#46039f"
             ],
             [
              0.2222222222222222,
              "#7201a8"
             ],
             [
              0.3333333333333333,
              "#9c179e"
             ],
             [
              0.4444444444444444,
              "#bd3786"
             ],
             [
              0.5555555555555556,
              "#d8576b"
             ],
             [
              0.6666666666666666,
              "#ed7953"
             ],
             [
              0.7777777777777778,
              "#fb9f3a"
             ],
             [
              0.8888888888888888,
              "#fdca26"
             ],
             [
              1,
              "#f0f921"
             ]
            ],
            "type": "heatmap"
           }
          ],
          "histogram": [
           {
            "marker": {
             "pattern": {
              "fillmode": "overlay",
              "size": 10,
              "solidity": 0.2
             }
            },
            "type": "histogram"
           }
          ],
          "histogram2d": [
           {
            "colorbar": {
             "outlinewidth": 0,
             "ticks": ""
            },
            "colorscale": [
             [
              0,
              "#0d0887"
             ],
             [
              0.1111111111111111,
              "#46039f"
             ],
             [
              0.2222222222222222,
              "#7201a8"
             ],
             [
              0.3333333333333333,
              "#9c179e"
             ],
             [
              0.4444444444444444,
              "#bd3786"
             ],
             [
              0.5555555555555556,
              "#d8576b"
             ],
             [
              0.6666666666666666,
              "#ed7953"
             ],
             [
              0.7777777777777778,
              "#fb9f3a"
             ],
             [
              0.8888888888888888,
              "#fdca26"
             ],
             [
              1,
              "#f0f921"
             ]
            ],
            "type": "histogram2d"
           }
          ],
          "histogram2dcontour": [
           {
            "colorbar": {
             "outlinewidth": 0,
             "ticks": ""
            },
            "colorscale": [
             [
              0,
              "#0d0887"
             ],
             [
              0.1111111111111111,
              "#46039f"
             ],
             [
              0.2222222222222222,
              "#7201a8"
             ],
             [
              0.3333333333333333,
              "#9c179e"
             ],
             [
              0.4444444444444444,
              "#bd3786"
             ],
             [
              0.5555555555555556,
              "#d8576b"
             ],
             [
              0.6666666666666666,
              "#ed7953"
             ],
             [
              0.7777777777777778,
              "#fb9f3a"
             ],
             [
              0.8888888888888888,
              "#fdca26"
             ],
             [
              1,
              "#f0f921"
             ]
            ],
            "type": "histogram2dcontour"
           }
          ],
          "mesh3d": [
           {
            "colorbar": {
             "outlinewidth": 0,
             "ticks": ""
            },
            "type": "mesh3d"
           }
          ],
          "parcoords": [
           {
            "line": {
             "colorbar": {
              "outlinewidth": 0,
              "ticks": ""
             }
            },
            "type": "parcoords"
           }
          ],
          "pie": [
           {
            "automargin": true,
            "type": "pie"
           }
          ],
          "scatter": [
           {
            "fillpattern": {
             "fillmode": "overlay",
             "size": 10,
             "solidity": 0.2
            },
            "type": "scatter"
           }
          ],
          "scatter3d": [
           {
            "line": {
             "colorbar": {
              "outlinewidth": 0,
              "ticks": ""
             }
            },
            "marker": {
             "colorbar": {
              "outlinewidth": 0,
              "ticks": ""
             }
            },
            "type": "scatter3d"
           }
          ],
          "scattercarpet": [
           {
            "marker": {
             "colorbar": {
              "outlinewidth": 0,
              "ticks": ""
             }
            },
            "type": "scattercarpet"
           }
          ],
          "scattergeo": [
           {
            "marker": {
             "colorbar": {
              "outlinewidth": 0,
              "ticks": ""
             }
            },
            "type": "scattergeo"
           }
          ],
          "scattergl": [
           {
            "marker": {
             "colorbar": {
              "outlinewidth": 0,
              "ticks": ""
             }
            },
            "type": "scattergl"
           }
          ],
          "scattermap": [
           {
            "marker": {
             "colorbar": {
              "outlinewidth": 0,
              "ticks": ""
             }
            },
            "type": "scattermap"
           }
          ],
          "scattermapbox": [
           {
            "marker": {
             "colorbar": {
              "outlinewidth": 0,
              "ticks": ""
             }
            },
            "type": "scattermapbox"
           }
          ],
          "scatterpolar": [
           {
            "marker": {
             "colorbar": {
              "outlinewidth": 0,
              "ticks": ""
             }
            },
            "type": "scatterpolar"
           }
          ],
          "scatterpolargl": [
           {
            "marker": {
             "colorbar": {
              "outlinewidth": 0,
              "ticks": ""
             }
            },
            "type": "scatterpolargl"
           }
          ],
          "scatterternary": [
           {
            "marker": {
             "colorbar": {
              "outlinewidth": 0,
              "ticks": ""
             }
            },
            "type": "scatterternary"
           }
          ],
          "surface": [
           {
            "colorbar": {
             "outlinewidth": 0,
             "ticks": ""
            },
            "colorscale": [
             [
              0,
              "#0d0887"
             ],
             [
              0.1111111111111111,
              "#46039f"
             ],
             [
              0.2222222222222222,
              "#7201a8"
             ],
             [
              0.3333333333333333,
              "#9c179e"
             ],
             [
              0.4444444444444444,
              "#bd3786"
             ],
             [
              0.5555555555555556,
              "#d8576b"
             ],
             [
              0.6666666666666666,
              "#ed7953"
             ],
             [
              0.7777777777777778,
              "#fb9f3a"
             ],
             [
              0.8888888888888888,
              "#fdca26"
             ],
             [
              1,
              "#f0f921"
             ]
            ],
            "type": "surface"
           }
          ],
          "table": [
           {
            "cells": {
             "fill": {
              "color": "#EBF0F8"
             },
             "line": {
              "color": "white"
             }
            },
            "header": {
             "fill": {
              "color": "#C8D4E3"
             },
             "line": {
              "color": "white"
             }
            },
            "type": "table"
           }
          ]
         },
         "layout": {
          "annotationdefaults": {
           "arrowcolor": "#2a3f5f",
           "arrowhead": 0,
           "arrowwidth": 1
          },
          "autotypenumbers": "strict",
          "coloraxis": {
           "colorbar": {
            "outlinewidth": 0,
            "ticks": ""
           }
          },
          "colorscale": {
           "diverging": [
            [
             0,
             "#8e0152"
            ],
            [
             0.1,
             "#c51b7d"
            ],
            [
             0.2,
             "#de77ae"
            ],
            [
             0.3,
             "#f1b6da"
            ],
            [
             0.4,
             "#fde0ef"
            ],
            [
             0.5,
             "#f7f7f7"
            ],
            [
             0.6,
             "#e6f5d0"
            ],
            [
             0.7,
             "#b8e186"
            ],
            [
             0.8,
             "#7fbc41"
            ],
            [
             0.9,
             "#4d9221"
            ],
            [
             1,
             "#276419"
            ]
           ],
           "sequential": [
            [
             0,
             "#0d0887"
            ],
            [
             0.1111111111111111,
             "#46039f"
            ],
            [
             0.2222222222222222,
             "#7201a8"
            ],
            [
             0.3333333333333333,
             "#9c179e"
            ],
            [
             0.4444444444444444,
             "#bd3786"
            ],
            [
             0.5555555555555556,
             "#d8576b"
            ],
            [
             0.6666666666666666,
             "#ed7953"
            ],
            [
             0.7777777777777778,
             "#fb9f3a"
            ],
            [
             0.8888888888888888,
             "#fdca26"
            ],
            [
             1,
             "#f0f921"
            ]
           ],
           "sequentialminus": [
            [
             0,
             "#0d0887"
            ],
            [
             0.1111111111111111,
             "#46039f"
            ],
            [
             0.2222222222222222,
             "#7201a8"
            ],
            [
             0.3333333333333333,
             "#9c179e"
            ],
            [
             0.4444444444444444,
             "#bd3786"
            ],
            [
             0.5555555555555556,
             "#d8576b"
            ],
            [
             0.6666666666666666,
             "#ed7953"
            ],
            [
             0.7777777777777778,
             "#fb9f3a"
            ],
            [
             0.8888888888888888,
             "#fdca26"
            ],
            [
             1,
             "#f0f921"
            ]
           ]
          },
          "colorway": [
           "#636efa",
           "#EF553B",
           "#00cc96",
           "#ab63fa",
           "#FFA15A",
           "#19d3f3",
           "#FF6692",
           "#B6E880",
           "#FF97FF",
           "#FECB52"
          ],
          "font": {
           "color": "#2a3f5f"
          },
          "geo": {
           "bgcolor": "white",
           "lakecolor": "white",
           "landcolor": "#E5ECF6",
           "showlakes": true,
           "showland": true,
           "subunitcolor": "white"
          },
          "hoverlabel": {
           "align": "left"
          },
          "hovermode": "closest",
          "mapbox": {
           "style": "light"
          },
          "paper_bgcolor": "white",
          "plot_bgcolor": "#E5ECF6",
          "polar": {
           "angularaxis": {
            "gridcolor": "white",
            "linecolor": "white",
            "ticks": ""
           },
           "bgcolor": "#E5ECF6",
           "radialaxis": {
            "gridcolor": "white",
            "linecolor": "white",
            "ticks": ""
           }
          },
          "scene": {
           "xaxis": {
            "backgroundcolor": "#E5ECF6",
            "gridcolor": "white",
            "gridwidth": 2,
            "linecolor": "white",
            "showbackground": true,
            "ticks": "",
            "zerolinecolor": "white"
           },
           "yaxis": {
            "backgroundcolor": "#E5ECF6",
            "gridcolor": "white",
            "gridwidth": 2,
            "linecolor": "white",
            "showbackground": true,
            "ticks": "",
            "zerolinecolor": "white"
           },
           "zaxis": {
            "backgroundcolor": "#E5ECF6",
            "gridcolor": "white",
            "gridwidth": 2,
            "linecolor": "white",
            "showbackground": true,
            "ticks": "",
            "zerolinecolor": "white"
           }
          },
          "shapedefaults": {
           "line": {
            "color": "#2a3f5f"
           }
          },
          "ternary": {
           "aaxis": {
            "gridcolor": "white",
            "linecolor": "white",
            "ticks": ""
           },
           "baxis": {
            "gridcolor": "white",
            "linecolor": "white",
            "ticks": ""
           },
           "bgcolor": "#E5ECF6",
           "caxis": {
            "gridcolor": "white",
            "linecolor": "white",
            "ticks": ""
           }
          },
          "title": {
           "x": 0.05
          },
          "xaxis": {
           "automargin": true,
           "gridcolor": "white",
           "linecolor": "white",
           "ticks": "",
           "title": {
            "standoff": 15
           },
           "zerolinecolor": "white",
           "zerolinewidth": 2
          },
          "yaxis": {
           "automargin": true,
           "gridcolor": "white",
           "linecolor": "white",
           "ticks": "",
           "title": {
            "standoff": 15
           },
           "zerolinecolor": "white",
           "zerolinewidth": 2
          }
         }
        },
        "title": {
         "text": "Hyperparameter Importances"
        },
        "xaxis": {
         "title": {
          "text": "Hyperparameter Importance"
         }
        },
        "yaxis": {
         "title": {
          "text": "Hyperparameter"
         }
        }
       }
      }
     },
     "metadata": {},
     "output_type": "display_data"
    }
   ],
   "source": [
    "\n",
    "import optuna.visualization as vis\n",
    "\n",
    "# Biểu đồ quá trình tối ưu hóa (Random Search + TPE)\n",
    "vis.plot_optimization_history(study1).show()\n",
    "\n",
    "# Biểu đồ tầm quan trọng tham số\n",
    "vis.plot_param_importances(study1).show()"
   ]
  },
  {
   "cell_type": "code",
   "execution_count": 19,
   "id": "1d2ad2e0",
   "metadata": {},
   "outputs": [
    {
     "name": "stdout",
     "output_type": "stream",
     "text": [
      "Best recall: 0.9325034040070025\n",
      "Best hyperparameters: {'iterations': 389, 'depth': 5, 'learning_rate': 0.019552915646991523, 'l2_leaf_reg': 6.67696080416171, 'random_strength': 1.1703787652887487, 'bagging_temperature': 0.6055885741251384, 'border_count': 238}\n"
     ]
    }
   ],
   "source": [
    "print(\"Best recall:\", study1.best_value)\n",
    "print(\"Best hyperparameters:\", study1.best_params)\n"
   ]
  },
  {
   "cell_type": "markdown",
   "id": "1a355c8f",
   "metadata": {},
   "source": [
    "LightGBM\n"
   ]
  },
  {
   "cell_type": "code",
   "execution_count": 20,
   "id": "c47ad7d8",
   "metadata": {},
   "outputs": [],
   "source": [
    "import lightgbm as lgb"
   ]
  },
  {
   "cell_type": "code",
   "execution_count": 21,
   "id": "0296327b",
   "metadata": {},
   "outputs": [],
   "source": [
    "from sklearn.utils.class_weight import compute_class_weight\n",
    "import numpy as np\n",
    "\n",
    "def objective(trial):\n",
    "    # Compute class weights\n",
    "    classes = np.unique(y_train)\n",
    "    class_weights = compute_class_weight(class_weight='balanced', classes=classes, y=y_train)\n",
    "    # For binary: scale_pos_weight = weight_1 / weight_0\n",
    "    scale_pos_weight = class_weights[1] / class_weights[0]\n",
    "\n",
    "    X_tr, X_val, y_tr, y_val = train_test_split(\n",
    "        X_train, y_train, test_size=0.2, random_state=42, stratify=y_train\n",
    "    )\n",
    "\n",
    "    train_data = lgb.Dataset(X_tr, label=y_tr)\n",
    "    valid_data = lgb.Dataset(X_val, label=y_val, reference=train_data)\n",
    "\n",
    "    params = {\n",
    "        \"objective\": \"binary\",\n",
    "        \"metric\": \"binary_logloss\",\n",
    "        \"verbosity\": -1,\n",
    "        \"boosting_type\": \"gbdt\",\n",
    "        \"device\": \"gpu\",\n",
    "        \"max_bin\": trial.suggest_int(\"max_bin\", 100, 255),\n",
    "        \"learning_rate\": trial.suggest_float(\"learning_rate\", 0.01, 0.3, log=True),\n",
    "        \"num_leaves\": trial.suggest_int(\"num_leaves\", 20, 150),\n",
    "        \"max_depth\": trial.suggest_int(\"max_depth\", 3, 12),\n",
    "        \"min_data_in_leaf\": trial.suggest_int(\"min_data_in_leaf\", 20, 100),\n",
    "        \"lambda_l1\": trial.suggest_float(\"lambda_l1\", 0.0, 5.0),\n",
    "        \"lambda_l2\": trial.suggest_float(\"lambda_l2\", 0.0, 5.0),\n",
    "        \"feature_fraction\": trial.suggest_float(\"feature_fraction\", 0.5, 1.0),\n",
    "        \"bagging_fraction\": trial.suggest_float(\"bagging_fraction\", 0.5, 1.0),\n",
    "        \"bagging_freq\": trial.suggest_int(\"bagging_freq\", 1, 10),\n",
    "        \"min_child_samples\": trial.suggest_int(\"min_child_samples\", 5, 100),\n",
    "        \"seed\": 42,\n",
    "        \"scale_pos_weight\": scale_pos_weight\n",
    "    }\n",
    "\n",
    "    model = lgb.train(\n",
    "        params,\n",
    "        train_data,\n",
    "        valid_sets=[valid_data],\n",
    "        callbacks=[lgb.early_stopping(stopping_rounds=50), lgb.log_evaluation(0)]\n",
    "    )\n",
    "\n",
    "    preds = model.predict(X_val)\n",
    "    preds_binary = (preds > 0.5).astype(int)\n",
    "    recall = recall_score(y_val, preds_binary)\n",
    "    return recall\n"
   ]
  },
  {
   "cell_type": "code",
   "execution_count": 22,
   "id": "98e03cab",
   "metadata": {},
   "outputs": [
    {
     "name": "stderr",
     "output_type": "stream",
     "text": [
      "[I 2025-05-19 13:57:52,304] A new study created in memory with name: no-name-a272d566-8c97-463b-a5fa-1b902cae384f\n"
     ]
    },
    {
     "name": "stdout",
     "output_type": "stream",
     "text": [
      "Training until validation scores don't improve for 50 rounds\n"
     ]
    },
    {
     "name": "stderr",
     "output_type": "stream",
     "text": [
      "[I 2025-05-19 13:57:55,165] Trial 0 finished with value: 0.8993880048959608 and parameters: {'max_bin': 158, 'learning_rate': 0.2536999076681772, 'num_leaves': 115, 'max_depth': 8, 'min_data_in_leaf': 32, 'lambda_l1': 0.7799726016810132, 'lambda_l2': 0.2904180608409973, 'feature_fraction': 0.9330880728874675, 'bagging_fraction': 0.8005575058716043, 'bagging_freq': 8, 'min_child_samples': 6}. Best is trial 0 with value: 0.8993880048959608.\n"
     ]
    },
    {
     "name": "stdout",
     "output_type": "stream",
     "text": [
      "Did not meet early stopping. Best iteration is:\n",
      "[82]\tvalid_0's binary_logloss: 0.193053\n",
      "Training until validation scores don't improve for 50 rounds\n"
     ]
    },
    {
     "name": "stderr",
     "output_type": "stream",
     "text": [
      "[I 2025-05-19 13:57:55,910] Trial 1 finished with value: 0.9277845777233782 and parameters: {'max_bin': 251, 'learning_rate': 0.16967533607196555, 'num_leaves': 47, 'max_depth': 4, 'min_data_in_leaf': 34, 'lambda_l1': 1.5212112147976886, 'lambda_l2': 2.6237821581611893, 'feature_fraction': 0.7159725093210578, 'bagging_fraction': 0.645614570099021, 'bagging_freq': 7, 'min_child_samples': 18}. Best is trial 1 with value: 0.9277845777233782.\n"
     ]
    },
    {
     "name": "stdout",
     "output_type": "stream",
     "text": [
      "Did not meet early stopping. Best iteration is:\n",
      "[79]\tvalid_0's binary_logloss: 0.201233\n",
      "Training until validation scores don't improve for 50 rounds\n"
     ]
    },
    {
     "name": "stderr",
     "output_type": "stream",
     "text": [
      "[I 2025-05-19 13:57:58,308] Trial 2 finished with value: 0.9277845777233782 and parameters: {'max_bin': 145, 'learning_rate': 0.03476649150592621, 'num_leaves': 79, 'max_depth': 10, 'min_data_in_leaf': 36, 'lambda_l1': 2.571172192068058, 'lambda_l2': 2.9620728443102124, 'feature_fraction': 0.5232252063599989, 'bagging_fraction': 0.8037724259507192, 'bagging_freq': 2, 'min_child_samples': 11}. Best is trial 1 with value: 0.9277845777233782.\n"
     ]
    },
    {
     "name": "stdout",
     "output_type": "stream",
     "text": [
      "Did not meet early stopping. Best iteration is:\n",
      "[100]\tvalid_0's binary_logloss: 0.209465\n",
      "Training until validation scores don't improve for 50 rounds\n"
     ]
    },
    {
     "name": "stderr",
     "output_type": "stream",
     "text": [
      "[I 2025-05-19 13:57:59,534] Trial 3 finished with value: 0.9177478580171359 and parameters: {'max_bin': 248, 'learning_rate': 0.26690431824362526, 'num_leaves': 125, 'max_depth': 6, 'min_data_in_leaf': 27, 'lambda_l1': 3.4211651325607844, 'lambda_l2': 2.2007624686980067, 'feature_fraction': 0.5610191174223894, 'bagging_fraction': 0.7475884550556351, 'bagging_freq': 1, 'min_child_samples': 92}. Best is trial 1 with value: 0.9277845777233782.\n"
     ]
    },
    {
     "name": "stdout",
     "output_type": "stream",
     "text": [
      "Did not meet early stopping. Best iteration is:\n",
      "[81]\tvalid_0's binary_logloss: 0.197762\n",
      "Training until validation scores don't improve for 50 rounds\n"
     ]
    },
    {
     "name": "stderr",
     "output_type": "stream",
     "text": [
      "[I 2025-05-19 13:58:01,261] Trial 4 finished with value: 0.9231334149326805 and parameters: {'max_bin': 140, 'learning_rate': 0.09519754482692679, 'num_leaves': 60, 'max_depth': 8, 'min_data_in_leaf': 64, 'lambda_l1': 0.9242722776276352, 'lambda_l2': 4.847923138822793, 'feature_fraction': 0.8875664116805573, 'bagging_fraction': 0.9697494707820946, 'bagging_freq': 9, 'min_child_samples': 62}. Best is trial 1 with value: 0.9277845777233782.\n"
     ]
    },
    {
     "name": "stdout",
     "output_type": "stream",
     "text": [
      "Did not meet early stopping. Best iteration is:\n",
      "[100]\tvalid_0's binary_logloss: 0.196969\n",
      "Training until validation scores don't improve for 50 rounds\n"
     ]
    },
    {
     "name": "stderr",
     "output_type": "stream",
     "text": [
      "[I 2025-05-19 13:58:01,983] Trial 5 finished with value: 0.8609547123623011 and parameters: {'max_bin': 243, 'learning_rate': 0.01351182947645082, 'num_leaves': 45, 'max_depth': 3, 'min_data_in_leaf': 46, 'lambda_l1': 1.9433864484474102, 'lambda_l2': 1.3567451588694794, 'feature_fraction': 0.9143687545759647, 'bagging_fraction': 0.6783766633467947, 'bagging_freq': 3, 'min_child_samples': 57}. Best is trial 1 with value: 0.9277845777233782.\n"
     ]
    },
    {
     "name": "stdout",
     "output_type": "stream",
     "text": [
      "Did not meet early stopping. Best iteration is:\n",
      "[100]\tvalid_0's binary_logloss: 0.261725\n",
      "Training until validation scores don't improve for 50 rounds\n"
     ]
    },
    {
     "name": "stderr",
     "output_type": "stream",
     "text": [
      "[I 2025-05-19 13:58:03,099] Trial 6 finished with value: 0.9248470012239902 and parameters: {'max_bin': 121, 'learning_rate': 0.1530883741573138, 'num_leaves': 29, 'max_depth': 12, 'min_data_in_leaf': 82, 'lambda_l1': 0.993578407670862, 'lambda_l2': 0.027610585618011996, 'feature_fraction': 0.9077307142274171, 'bagging_fraction': 0.8534286719238086, 'bagging_freq': 8, 'min_child_samples': 79}. Best is trial 1 with value: 0.9277845777233782.\n"
     ]
    },
    {
     "name": "stdout",
     "output_type": "stream",
     "text": [
      "Did not meet early stopping. Best iteration is:\n",
      "[100]\tvalid_0's binary_logloss: 0.199468\n",
      "Training until validation scores don't improve for 50 rounds\n"
     ]
    },
    {
     "name": "stderr",
     "output_type": "stream",
     "text": [
      "[I 2025-05-19 13:58:04,413] Trial 7 finished with value: 0.9272949816401469 and parameters: {'max_bin': 111, 'learning_rate': 0.0338452204120114, 'num_leaves': 35, 'max_depth': 11, 'min_data_in_leaf': 70, 'lambda_l1': 1.654490124263246, 'lambda_l2': 0.3177917514301182, 'feature_fraction': 0.6554911608578311, 'bagging_fraction': 0.6625916610133735, 'bagging_freq': 8, 'min_child_samples': 66}. Best is trial 1 with value: 0.9277845777233782.\n"
     ]
    },
    {
     "name": "stdout",
     "output_type": "stream",
     "text": [
      "Did not meet early stopping. Best iteration is:\n",
      "[100]\tvalid_0's binary_logloss: 0.211162\n",
      "Training until validation scores don't improve for 50 rounds\n"
     ]
    },
    {
     "name": "stderr",
     "output_type": "stream",
     "text": [
      "[I 2025-05-19 13:58:05,779] Trial 8 finished with value: 0.9294981640146879 and parameters: {'max_bin': 238, 'learning_rate': 0.049833191601257244, 'num_leaves': 35, 'max_depth': 10, 'min_data_in_leaf': 81, 'lambda_l1': 2.8063859878474813, 'lambda_l2': 3.854835899772805, 'feature_fraction': 0.7468977981821954, 'bagging_fraction': 0.7613664146909971, 'bagging_freq': 5, 'min_child_samples': 7}. Best is trial 8 with value: 0.9294981640146879.\n"
     ]
    },
    {
     "name": "stdout",
     "output_type": "stream",
     "text": [
      "Did not meet early stopping. Best iteration is:\n",
      "[100]\tvalid_0's binary_logloss: 0.20584\n",
      "Training until validation scores don't improve for 50 rounds\n"
     ]
    },
    {
     "name": "stderr",
     "output_type": "stream",
     "text": [
      "[I 2025-05-19 13:58:07,331] Trial 9 finished with value: 0.8638922888616891 and parameters: {'max_bin': 116, 'learning_rate': 0.011128194768838964, 'num_leaves': 103, 'max_depth': 6, 'min_data_in_leaf': 61, 'lambda_l1': 4.537832369630465, 'lambda_l2': 1.2464611457443748, 'feature_fraction': 0.7051914615178149, 'bagging_fraction': 0.8777755692715243, 'bagging_freq': 3, 'min_child_samples': 12}. Best is trial 8 with value: 0.9294981640146879.\n"
     ]
    },
    {
     "name": "stdout",
     "output_type": "stream",
     "text": [
      "Did not meet early stopping. Best iteration is:\n",
      "[100]\tvalid_0's binary_logloss: 0.250211\n",
      "Training until validation scores don't improve for 50 rounds\n"
     ]
    },
    {
     "name": "stderr",
     "output_type": "stream",
     "text": [
      "[I 2025-05-19 13:58:10,605] Trial 10 finished with value: 0.9084455324357406 and parameters: {'max_bin': 145, 'learning_rate': 0.017303875834205888, 'num_leaves': 141, 'max_depth': 11, 'min_data_in_leaf': 71, 'lambda_l1': 4.357302950938589, 'lambda_l2': 4.018360384495573, 'feature_fraction': 0.5932850294430179, 'bagging_fraction': 0.9462794992449889, 'bagging_freq': 6, 'min_child_samples': 82}. Best is trial 8 with value: 0.9294981640146879.\n"
     ]
    },
    {
     "name": "stdout",
     "output_type": "stream",
     "text": [
      "Did not meet early stopping. Best iteration is:\n",
      "[100]\tvalid_0's binary_logloss: 0.224124\n",
      "Training until validation scores don't improve for 50 rounds\n"
     ]
    },
    {
     "name": "stderr",
     "output_type": "stream",
     "text": [
      "[I 2025-05-19 13:58:11,653] Trial 11 finished with value: 0.9253365973072215 and parameters: {'max_bin': 239, 'learning_rate': 0.02949372944095386, 'num_leaves': 34, 'max_depth': 5, 'min_data_in_leaf': 54, 'lambda_l1': 4.090073829612465, 'lambda_l2': 4.303652916281717, 'feature_fraction': 0.5034760652655954, 'bagging_fraction': 0.7553736512887829, 'bagging_freq': 5, 'min_child_samples': 26}. Best is trial 8 with value: 0.9294981640146879.\n"
     ]
    },
    {
     "name": "stdout",
     "output_type": "stream",
     "text": [
      "Did not meet early stopping. Best iteration is:\n",
      "[100]\tvalid_0's binary_logloss: 0.221126\n",
      "Training until validation scores don't improve for 50 rounds\n"
     ]
    },
    {
     "name": "stderr",
     "output_type": "stream",
     "text": [
      "[I 2025-05-19 13:58:13,273] Trial 12 finished with value: 0.9282741738066096 and parameters: {'max_bin': 118, 'learning_rate': 0.0315281541750961, 'num_leaves': 143, 'max_depth': 6, 'min_data_in_leaf': 62, 'lambda_l1': 3.515094794475889, 'lambda_l2': 1.81814801189647, 'feature_fraction': 0.9858910413604803, 'bagging_fraction': 0.9812236474710556, 'bagging_freq': 3, 'min_child_samples': 52}. Best is trial 8 with value: 0.9294981640146879.\n"
     ]
    },
    {
     "name": "stdout",
     "output_type": "stream",
     "text": [
      "Did not meet early stopping. Best iteration is:\n",
      "[100]\tvalid_0's binary_logloss: 0.208388\n",
      "Training until validation scores don't improve for 50 rounds\n"
     ]
    },
    {
     "name": "stderr",
     "output_type": "stream",
     "text": [
      "[I 2025-05-19 13:58:14,563] Trial 13 finished with value: 0.9258261933904529 and parameters: {'max_bin': 146, 'learning_rate': 0.02634777514406047, 'num_leaves': 24, 'max_depth': 9, 'min_data_in_leaf': 60, 'lambda_l1': 0.25739375624994676, 'lambda_l2': 1.3932323211830573, 'feature_fraction': 0.9541329429833268, 'bagging_fraction': 0.6197809453334862, 'bagging_freq': 2, 'min_child_samples': 51}. Best is trial 8 with value: 0.9294981640146879.\n"
     ]
    },
    {
     "name": "stdout",
     "output_type": "stream",
     "text": [
      "Did not meet early stopping. Best iteration is:\n",
      "[100]\tvalid_0's binary_logloss: 0.217075\n",
      "Training until validation scores don't improve for 50 rounds\n"
     ]
    },
    {
     "name": "stderr",
     "output_type": "stream",
     "text": [
      "[I 2025-05-19 13:58:17,424] Trial 14 finished with value: 0.9189718482252142 and parameters: {'max_bin': 253, 'learning_rate': 0.022779541913782567, 'num_leaves': 108, 'max_depth': 10, 'min_data_in_leaf': 39, 'lambda_l1': 3.641081743059298, 'lambda_l2': 1.838915663596266, 'feature_fraction': 0.8161529152967897, 'bagging_fraction': 0.8167648553804474, 'bagging_freq': 6, 'min_child_samples': 13}. Best is trial 8 with value: 0.9294981640146879.\n"
     ]
    },
    {
     "name": "stdout",
     "output_type": "stream",
     "text": [
      "Did not meet early stopping. Best iteration is:\n",
      "[100]\tvalid_0's binary_logloss: 0.207378\n",
      "Training until validation scores don't improve for 50 rounds\n"
     ]
    },
    {
     "name": "stderr",
     "output_type": "stream",
     "text": [
      "[I 2025-05-19 13:58:18,069] Trial 15 finished with value: 0.9175030599755202 and parameters: {'max_bin': 230, 'learning_rate': 0.029773579612263783, 'num_leaves': 44, 'max_depth': 3, 'min_data_in_leaf': 67, 'lambda_l1': 3.3878218092114123, 'lambda_l2': 0.08293914463928076, 'feature_fraction': 0.7560465291496405, 'bagging_fraction': 0.613247887598969, 'bagging_freq': 7, 'min_child_samples': 21}. Best is trial 8 with value: 0.9294981640146879.\n"
     ]
    },
    {
     "name": "stdout",
     "output_type": "stream",
     "text": [
      "Did not meet early stopping. Best iteration is:\n",
      "[100]\tvalid_0's binary_logloss: 0.237914\n",
      "Training until validation scores don't improve for 50 rounds\n"
     ]
    },
    {
     "name": "stderr",
     "output_type": "stream",
     "text": [
      "[I 2025-05-19 13:58:18,823] Trial 16 finished with value: 0.9314565483476133 and parameters: {'max_bin': 207, 'learning_rate': 0.03726104236509947, 'num_leaves': 142, 'max_depth': 4, 'min_data_in_leaf': 47, 'lambda_l1': 0.5673676062029454, 'lambda_l2': 4.623468091392814, 'feature_fraction': 0.9386696766904905, 'bagging_fraction': 0.6289708138575778, 'bagging_freq': 7, 'min_child_samples': 83}. Best is trial 16 with value: 0.9314565483476133.\n"
     ]
    },
    {
     "name": "stdout",
     "output_type": "stream",
     "text": [
      "Did not meet early stopping. Best iteration is:\n",
      "[100]\tvalid_0's binary_logloss: 0.218953\n",
      "Training until validation scores don't improve for 50 rounds\n"
     ]
    },
    {
     "name": "stderr",
     "output_type": "stream",
     "text": [
      "[I 2025-05-19 13:58:19,433] Trial 17 finished with value: 0.9319461444308446 and parameters: {'max_bin': 186, 'learning_rate': 0.06058402553512053, 'num_leaves': 51, 'max_depth': 3, 'min_data_in_leaf': 92, 'lambda_l1': 4.502090285816652, 'lambda_l2': 3.16550728636634, 'feature_fraction': 0.6695148955243504, 'bagging_fraction': 0.6746047873063304, 'bagging_freq': 8, 'min_child_samples': 91}. Best is trial 17 with value: 0.9319461444308446.\n"
     ]
    },
    {
     "name": "stdout",
     "output_type": "stream",
     "text": [
      "Did not meet early stopping. Best iteration is:\n",
      "[100]\tvalid_0's binary_logloss: 0.21714\n",
      "Training until validation scores don't improve for 50 rounds\n"
     ]
    },
    {
     "name": "stderr",
     "output_type": "stream",
     "text": [
      "[I 2025-05-19 13:58:20,097] Trial 18 finished with value: 0.9297429620563036 and parameters: {'max_bin': 238, 'learning_rate': 0.1418961933595484, 'num_leaves': 104, 'max_depth': 3, 'min_data_in_leaf': 33, 'lambda_l1': 4.492770942635397, 'lambda_l2': 3.0321452982979498, 'feature_fraction': 0.5045985258083148, 'bagging_fraction': 0.5507357714330161, 'bagging_freq': 7, 'min_child_samples': 5}. Best is trial 17 with value: 0.9319461444308446.\n"
     ]
    },
    {
     "name": "stdout",
     "output_type": "stream",
     "text": [
      "Did not meet early stopping. Best iteration is:\n",
      "[100]\tvalid_0's binary_logloss: 0.20331\n",
      "Training until validation scores don't improve for 50 rounds\n"
     ]
    },
    {
     "name": "stderr",
     "output_type": "stream",
     "text": [
      "[I 2025-05-19 13:58:22,728] Trial 19 finished with value: 0.9223990208078335 and parameters: {'max_bin': 125, 'learning_rate': 0.064646697464924, 'num_leaves': 110, 'max_depth': 9, 'min_data_in_leaf': 38, 'lambda_l1': 3.560896106737679, 'lambda_l2': 1.1862454374840004, 'feature_fraction': 0.6626998490796339, 'bagging_fraction': 0.8732457025590121, 'bagging_freq': 7, 'min_child_samples': 86}. Best is trial 17 with value: 0.9319461444308446.\n"
     ]
    },
    {
     "name": "stdout",
     "output_type": "stream",
     "text": [
      "Did not meet early stopping. Best iteration is:\n",
      "[100]\tvalid_0's binary_logloss: 0.197364\n",
      "Training until validation scores don't improve for 50 rounds\n"
     ]
    },
    {
     "name": "stderr",
     "output_type": "stream",
     "text": [
      "[I 2025-05-19 13:58:23,933] Trial 20 finished with value: 0.9277845777233782 and parameters: {'max_bin': 202, 'learning_rate': 0.06909724267901692, 'num_leaves': 32, 'max_depth': 6, 'min_data_in_leaf': 41, 'lambda_l1': 1.2199482168954179, 'lambda_l2': 4.865052773762228, 'feature_fraction': 0.6965488623333802, 'bagging_fraction': 0.9460232775885566, 'bagging_freq': 7, 'min_child_samples': 81}. Best is trial 17 with value: 0.9319461444308446.\n"
     ]
    },
    {
     "name": "stdout",
     "output_type": "stream",
     "text": [
      "Did not meet early stopping. Best iteration is:\n",
      "[100]\tvalid_0's binary_logloss: 0.201993\n",
      "Training until validation scores don't improve for 50 rounds\n"
     ]
    },
    {
     "name": "stderr",
     "output_type": "stream",
     "text": [
      "[I 2025-05-19 13:58:24,634] Trial 21 finished with value: 0.9282741738066096 and parameters: {'max_bin': 178, 'learning_rate': 0.07114706514580525, 'num_leaves': 84, 'max_depth': 4, 'min_data_in_leaf': 78, 'lambda_l1': 1.403861812204279, 'lambda_l2': 0.1215798321572692, 'feature_fraction': 0.822736147953584, 'bagging_fraction': 0.5885553397035245, 'bagging_freq': 10, 'min_child_samples': 96}. Best is trial 17 with value: 0.9319461444308446.\n"
     ]
    },
    {
     "name": "stdout",
     "output_type": "stream",
     "text": [
      "Did not meet early stopping. Best iteration is:\n",
      "[100]\tvalid_0's binary_logloss: 0.20515\n",
      "Training until validation scores don't improve for 50 rounds\n"
     ]
    },
    {
     "name": "stderr",
     "output_type": "stream",
     "text": [
      "[I 2025-05-19 13:58:25,731] Trial 22 finished with value: 0.9302325581395349 and parameters: {'max_bin': 242, 'learning_rate': 0.03521837259304686, 'num_leaves': 22, 'max_depth': 12, 'min_data_in_leaf': 54, 'lambda_l1': 4.833274095218348, 'lambda_l2': 4.818099885446264, 'feature_fraction': 0.92650472773368, 'bagging_fraction': 0.6472244460347929, 'bagging_freq': 4, 'min_child_samples': 86}. Best is trial 17 with value: 0.9319461444308446.\n"
     ]
    },
    {
     "name": "stdout",
     "output_type": "stream",
     "text": [
      "Did not meet early stopping. Best iteration is:\n",
      "[100]\tvalid_0's binary_logloss: 0.214227\n",
      "Training until validation scores don't improve for 50 rounds\n"
     ]
    },
    {
     "name": "stderr",
     "output_type": "stream",
     "text": [
      "[I 2025-05-19 13:58:28,525] Trial 23 finished with value: 0.9104039167686658 and parameters: {'max_bin': 149, 'learning_rate': 0.017797595772834227, 'num_leaves': 92, 'max_depth': 12, 'min_data_in_leaf': 76, 'lambda_l1': 2.8503058504468246, 'lambda_l2': 0.4858824688538427, 'feature_fraction': 0.8075036133495849, 'bagging_fraction': 0.9950269250521316, 'bagging_freq': 2, 'min_child_samples': 54}. Best is trial 17 with value: 0.9319461444308446.\n"
     ]
    },
    {
     "name": "stdout",
     "output_type": "stream",
     "text": [
      "Did not meet early stopping. Best iteration is:\n",
      "[100]\tvalid_0's binary_logloss: 0.216546\n",
      "Training until validation scores don't improve for 50 rounds\n"
     ]
    },
    {
     "name": "stderr",
     "output_type": "stream",
     "text": [
      "[I 2025-05-19 13:58:31,648] Trial 24 finished with value: 0.9111383108935128 and parameters: {'max_bin': 236, 'learning_rate': 0.1242238743562571, 'num_leaves': 111, 'max_depth': 10, 'min_data_in_leaf': 49, 'lambda_l1': 1.4679592213224668, 'lambda_l2': 4.046805777392568, 'feature_fraction': 0.9050566973395904, 'bagging_fraction': 0.9335361592900518, 'bagging_freq': 10, 'min_child_samples': 54}. Best is trial 17 with value: 0.9319461444308446.\n"
     ]
    },
    {
     "name": "stdout",
     "output_type": "stream",
     "text": [
      "Did not meet early stopping. Best iteration is:\n",
      "[99]\tvalid_0's binary_logloss: 0.192182\n",
      "Training until validation scores don't improve for 50 rounds\n"
     ]
    },
    {
     "name": "stderr",
     "output_type": "stream",
     "text": [
      "[I 2025-05-19 13:58:34,684] Trial 25 finished with value: 0.9130966952264382 and parameters: {'max_bin': 178, 'learning_rate': 0.15107019033830843, 'num_leaves': 105, 'max_depth': 10, 'min_data_in_leaf': 84, 'lambda_l1': 4.450026709087831, 'lambda_l2': 1.689975784257679, 'feature_fraction': 0.687791476319972, 'bagging_fraction': 0.5469909699204345, 'bagging_freq': 6, 'min_child_samples': 8}. Best is trial 17 with value: 0.9319461444308446.\n"
     ]
    },
    {
     "name": "stdout",
     "output_type": "stream",
     "text": [
      "Did not meet early stopping. Best iteration is:\n",
      "[90]\tvalid_0's binary_logloss: 0.194746\n",
      "Training until validation scores don't improve for 50 rounds\n"
     ]
    },
    {
     "name": "stderr",
     "output_type": "stream",
     "text": [
      "[I 2025-05-19 13:58:36,488] Trial 26 finished with value: 0.9246022031823745 and parameters: {'max_bin': 172, 'learning_rate': 0.06332160636783125, 'num_leaves': 57, 'max_depth': 8, 'min_data_in_leaf': 22, 'lambda_l1': 0.18674094374607209, 'lambda_l2': 4.113002803298292, 'feature_fraction': 0.6800953207056315, 'bagging_fraction': 0.5635302563259423, 'bagging_freq': 6, 'min_child_samples': 78}. Best is trial 17 with value: 0.9319461444308446.\n"
     ]
    },
    {
     "name": "stdout",
     "output_type": "stream",
     "text": [
      "Did not meet early stopping. Best iteration is:\n",
      "[99]\tvalid_0's binary_logloss: 0.200383\n",
      "Training until validation scores don't improve for 50 rounds\n"
     ]
    },
    {
     "name": "stderr",
     "output_type": "stream",
     "text": [
      "[I 2025-05-19 13:58:37,174] Trial 27 finished with value: 0.9336597307221542 and parameters: {'max_bin': 133, 'learning_rate': 0.08319261221667239, 'num_leaves': 31, 'max_depth': 3, 'min_data_in_leaf': 63, 'lambda_l1': 2.7031756080505325, 'lambda_l2': 3.187149507491033, 'feature_fraction': 0.8630456668613308, 'bagging_fraction': 0.9879260397312672, 'bagging_freq': 6, 'min_child_samples': 36}. Best is trial 27 with value: 0.9336597307221542.\n"
     ]
    },
    {
     "name": "stdout",
     "output_type": "stream",
     "text": [
      "Did not meet early stopping. Best iteration is:\n",
      "[100]\tvalid_0's binary_logloss: 0.209725\n",
      "Training until validation scores don't improve for 50 rounds\n"
     ]
    },
    {
     "name": "stderr",
     "output_type": "stream",
     "text": [
      "[I 2025-05-19 13:58:38,040] Trial 28 finished with value: 0.9084455324357406 and parameters: {'max_bin': 224, 'learning_rate': 0.025121876414916575, 'num_leaves': 77, 'max_depth': 3, 'min_data_in_leaf': 22, 'lambda_l1': 4.813242073389626, 'lambda_l2': 4.1799006025610295, 'feature_fraction': 0.847987103046849, 'bagging_fraction': 0.7044764722071349, 'bagging_freq': 2, 'min_child_samples': 20}. Best is trial 27 with value: 0.9336597307221542.\n"
     ]
    },
    {
     "name": "stdout",
     "output_type": "stream",
     "text": [
      "Did not meet early stopping. Best iteration is:\n",
      "[100]\tvalid_0's binary_logloss: 0.242565\n",
      "Training until validation scores don't improve for 50 rounds\n"
     ]
    },
    {
     "name": "stderr",
     "output_type": "stream",
     "text": [
      "[I 2025-05-19 13:58:41,090] Trial 29 finished with value: 0.9238678090575275 and parameters: {'max_bin': 139, 'learning_rate': 0.06475515989686911, 'num_leaves': 113, 'max_depth': 9, 'min_data_in_leaf': 42, 'lambda_l1': 4.77432640331597, 'lambda_l2': 3.6894845834788423, 'feature_fraction': 0.7771770262557003, 'bagging_fraction': 0.8058603731171761, 'bagging_freq': 5, 'min_child_samples': 28}. Best is trial 27 with value: 0.9336597307221542.\n"
     ]
    },
    {
     "name": "stdout",
     "output_type": "stream",
     "text": [
      "Did not meet early stopping. Best iteration is:\n",
      "[100]\tvalid_0's binary_logloss: 0.197375\n"
     ]
    }
   ],
   "source": [
    "# Phase 1: Random Search\n",
    "random_sampler = optuna.samplers.RandomSampler(seed=42)\n",
    "study2 = optuna.create_study(direction=\"maximize\", sampler=random_sampler)\n",
    "study2.optimize(objective, n_trials=30)"
   ]
  },
  {
   "cell_type": "code",
   "execution_count": 23,
   "id": "7d30ed48",
   "metadata": {},
   "outputs": [
    {
     "name": "stdout",
     "output_type": "stream",
     "text": [
      "Training until validation scores don't improve for 50 rounds\n"
     ]
    },
    {
     "name": "stderr",
     "output_type": "stream",
     "text": [
      "[I 2025-05-19 13:58:41,912] Trial 30 finished with value: 0.9348837209302325 and parameters: {'max_bin': 200, 'learning_rate': 0.04691978270865394, 'num_leaves': 66, 'max_depth': 4, 'min_data_in_leaf': 94, 'lambda_l1': 2.1499054778253304, 'lambda_l2': 3.380646823305534, 'feature_fraction': 0.9916353767515115, 'bagging_fraction': 0.7078698353117888, 'bagging_freq': 9, 'min_child_samples': 42}. Best is trial 30 with value: 0.9348837209302325.\n"
     ]
    },
    {
     "name": "stdout",
     "output_type": "stream",
     "text": [
      "Did not meet early stopping. Best iteration is:\n",
      "[100]\tvalid_0's binary_logloss: 0.213983\n",
      "Training until validation scores don't improve for 50 rounds\n"
     ]
    },
    {
     "name": "stderr",
     "output_type": "stream",
     "text": [
      "[I 2025-05-19 13:58:42,766] Trial 31 finished with value: 0.9351285189718482 and parameters: {'max_bin': 205, 'learning_rate': 0.04508184739922241, 'num_leaves': 67, 'max_depth': 4, 'min_data_in_leaf': 96, 'lambda_l1': 1.987419215841184, 'lambda_l2': 3.4964600099442964, 'feature_fraction': 0.987878776112855, 'bagging_fraction': 0.7118762375349093, 'bagging_freq': 9, 'min_child_samples': 38}. Best is trial 31 with value: 0.9351285189718482.\n"
     ]
    },
    {
     "name": "stdout",
     "output_type": "stream",
     "text": [
      "Did not meet early stopping. Best iteration is:\n",
      "[100]\tvalid_0's binary_logloss: 0.214756\n",
      "Training until validation scores don't improve for 50 rounds\n"
     ]
    },
    {
     "name": "stderr",
     "output_type": "stream",
     "text": [
      "[I 2025-05-19 13:58:43,905] Trial 32 finished with value: 0.9343941248470012 and parameters: {'max_bin': 194, 'learning_rate': 0.04668677135952271, 'num_leaves': 65, 'max_depth': 5, 'min_data_in_leaf': 96, 'lambda_l1': 2.1112796218670455, 'lambda_l2': 3.4891455746632087, 'feature_fraction': 0.9918598799154377, 'bagging_fraction': 0.7190650837455672, 'bagging_freq': 9, 'min_child_samples': 40}. Best is trial 31 with value: 0.9351285189718482.\n"
     ]
    },
    {
     "name": "stdout",
     "output_type": "stream",
     "text": [
      "Did not meet early stopping. Best iteration is:\n",
      "[100]\tvalid_0's binary_logloss: 0.207835\n",
      "Training until validation scores don't improve for 50 rounds\n"
     ]
    },
    {
     "name": "stderr",
     "output_type": "stream",
     "text": [
      "[I 2025-05-19 13:58:45,081] Trial 33 finished with value: 0.9331701346389228 and parameters: {'max_bin': 202, 'learning_rate': 0.048605368875223987, 'num_leaves': 67, 'max_depth': 5, 'min_data_in_leaf': 100, 'lambda_l1': 2.040802005279386, 'lambda_l2': 3.5438600917867036, 'feature_fraction': 0.9997201991654959, 'bagging_fraction': 0.7262229548228248, 'bagging_freq': 9, 'min_child_samples': 40}. Best is trial 31 with value: 0.9351285189718482.\n"
     ]
    },
    {
     "name": "stdout",
     "output_type": "stream",
     "text": [
      "Did not meet early stopping. Best iteration is:\n",
      "[100]\tvalid_0's binary_logloss: 0.207419\n",
      "Training until validation scores don't improve for 50 rounds\n"
     ]
    },
    {
     "name": "stderr",
     "output_type": "stream",
     "text": [
      "[I 2025-05-19 13:58:46,179] Trial 34 finished with value: 0.9258261933904529 and parameters: {'max_bin': 215, 'learning_rate': 0.08912592514876656, 'num_leaves': 69, 'max_depth': 5, 'min_data_in_leaf': 91, 'lambda_l1': 2.3095451040792567, 'lambda_l2': 2.483233467590634, 'feature_fraction': 0.9683459003847593, 'bagging_fraction': 0.5077551909971136, 'bagging_freq': 9, 'min_child_samples': 40}. Best is trial 31 with value: 0.9351285189718482.\n"
     ]
    },
    {
     "name": "stdout",
     "output_type": "stream",
     "text": [
      "Did not meet early stopping. Best iteration is:\n",
      "[100]\tvalid_0's binary_logloss: 0.200864\n",
      "Training until validation scores don't improve for 50 rounds\n"
     ]
    },
    {
     "name": "stderr",
     "output_type": "stream",
     "text": [
      "[I 2025-05-19 13:58:47,036] Trial 35 finished with value: 0.9339045287637698 and parameters: {'max_bin': 191, 'learning_rate': 0.044073943290534275, 'num_leaves': 69, 'max_depth': 4, 'min_data_in_leaf': 99, 'lambda_l1': 2.4271328985280887, 'lambda_l2': 3.275355128929287, 'feature_fraction': 0.8747340093732265, 'bagging_fraction': 0.715946509126248, 'bagging_freq': 9, 'min_child_samples': 38}. Best is trial 31 with value: 0.9351285189718482.\n"
     ]
    },
    {
     "name": "stdout",
     "output_type": "stream",
     "text": [
      "Did not meet early stopping. Best iteration is:\n",
      "[100]\tvalid_0's binary_logloss: 0.215124\n",
      "Training until validation scores don't improve for 50 rounds\n"
     ]
    },
    {
     "name": "stderr",
     "output_type": "stream",
     "text": [
      "[I 2025-05-19 13:58:47,822] Trial 36 finished with value: 0.9348837209302325 and parameters: {'max_bin': 190, 'learning_rate': 0.04248875071184361, 'num_leaves': 71, 'max_depth': 4, 'min_data_in_leaf': 100, 'lambda_l1': 2.1989859412714856, 'lambda_l2': 3.4045546405077225, 'feature_fraction': 0.9705173746828246, 'bagging_fraction': 0.7089289020157835, 'bagging_freq': 9, 'min_child_samples': 43}. Best is trial 31 with value: 0.9351285189718482.\n"
     ]
    },
    {
     "name": "stdout",
     "output_type": "stream",
     "text": [
      "Did not meet early stopping. Best iteration is:\n",
      "[100]\tvalid_0's binary_logloss: 0.21604\n",
      "Training until validation scores don't improve for 50 rounds\n"
     ]
    },
    {
     "name": "stderr",
     "output_type": "stream",
     "text": [
      "[I 2025-05-19 13:58:49,858] Trial 37 finished with value: 0.9275397796817626 and parameters: {'max_bin': 163, 'learning_rate': 0.04294735990571919, 'num_leaves': 91, 'max_depth': 7, 'min_data_in_leaf': 93, 'lambda_l1': 1.8973028109067687, 'lambda_l2': 2.851194501918022, 'feature_fraction': 0.9630023110923424, 'bagging_fraction': 0.7770795516431379, 'bagging_freq': 10, 'min_child_samples': 45}. Best is trial 31 with value: 0.9351285189718482.\n"
     ]
    },
    {
     "name": "stdout",
     "output_type": "stream",
     "text": [
      "Did not meet early stopping. Best iteration is:\n",
      "[100]\tvalid_0's binary_logloss: 0.201577\n",
      "Training until validation scores don't improve for 50 rounds\n"
     ]
    },
    {
     "name": "stderr",
     "output_type": "stream",
     "text": [
      "[I 2025-05-19 13:58:50,896] Trial 38 finished with value: 0.9275397796817626 and parameters: {'max_bin': 190, 'learning_rate': 0.10853485947242389, 'num_leaves': 76, 'max_depth': 5, 'min_data_in_leaf': 87, 'lambda_l1': 3.029423301406538, 'lambda_l2': 3.482421626421597, 'feature_fraction': 0.9959662745823737, 'bagging_fraction': 0.7044470004539679, 'bagging_freq': 9, 'min_child_samples': 34}. Best is trial 31 with value: 0.9351285189718482.\n"
     ]
    },
    {
     "name": "stdout",
     "output_type": "stream",
     "text": [
      "Did not meet early stopping. Best iteration is:\n",
      "[90]\tvalid_0's binary_logloss: 0.200623\n",
      "Training until validation scores don't improve for 50 rounds\n"
     ]
    },
    {
     "name": "stderr",
     "output_type": "stream",
     "text": [
      "[I 2025-05-19 13:58:51,684] Trial 39 finished with value: 0.9329253365973073 and parameters: {'max_bin': 219, 'learning_rate': 0.041350521253808524, 'num_leaves': 60, 'max_depth': 4, 'min_data_in_leaf': 96, 'lambda_l1': 2.174247627927644, 'lambda_l2': 2.586440907951697, 'feature_fraction': 0.9425565772878735, 'bagging_fraction': 0.7349074171376353, 'bagging_freq': 8, 'min_child_samples': 44}. Best is trial 31 with value: 0.9351285189718482.\n"
     ]
    },
    {
     "name": "stdout",
     "output_type": "stream",
     "text": [
      "Did not meet early stopping. Best iteration is:\n",
      "[100]\tvalid_0's binary_logloss: 0.21648\n",
      "Training until validation scores don't improve for 50 rounds\n"
     ]
    },
    {
     "name": "stderr",
     "output_type": "stream",
     "text": [
      "[I 2025-05-19 13:58:53,248] Trial 40 finished with value: 0.9290085679314566 and parameters: {'max_bin': 196, 'learning_rate': 0.052394285629805554, 'num_leaves': 53, 'max_depth': 7, 'min_data_in_leaf': 87, 'lambda_l1': 1.8155167872474565, 'lambda_l2': 2.8102620839200716, 'feature_fraction': 0.9706826997984906, 'bagging_fraction': 0.6926209519870974, 'bagging_freq': 10, 'min_child_samples': 67}. Best is trial 31 with value: 0.9351285189718482.\n"
     ]
    },
    {
     "name": "stdout",
     "output_type": "stream",
     "text": [
      "Did not meet early stopping. Best iteration is:\n",
      "[100]\tvalid_0's binary_logloss: 0.201409\n",
      "Training until validation scores don't improve for 50 rounds\n"
     ]
    },
    {
     "name": "stderr",
     "output_type": "stream",
     "text": [
      "[I 2025-05-19 13:58:54,016] Trial 41 finished with value: 0.9331701346389228 and parameters: {'max_bin': 211, 'learning_rate': 0.044003373742874795, 'num_leaves': 65, 'max_depth': 4, 'min_data_in_leaf': 98, 'lambda_l1': 2.452874266004143, 'lambda_l2': 3.251165814568011, 'feature_fraction': 0.8826831489361608, 'bagging_fraction': 0.7261479833729136, 'bagging_freq': 9, 'min_child_samples': 31}. Best is trial 31 with value: 0.9351285189718482.\n"
     ]
    },
    {
     "name": "stdout",
     "output_type": "stream",
     "text": [
      "Did not meet early stopping. Best iteration is:\n",
      "[100]\tvalid_0's binary_logloss: 0.215391\n",
      "Training until validation scores don't improve for 50 rounds\n"
     ]
    },
    {
     "name": "stderr",
     "output_type": "stream",
     "text": [
      "[I 2025-05-19 13:58:55,086] Trial 42 finished with value: 0.9294981640146879 and parameters: {'max_bin': 194, 'learning_rate': 0.03933194278223129, 'num_leaves': 73, 'max_depth': 5, 'min_data_in_leaf': 96, 'lambda_l1': 2.4283586752767334, 'lambda_l2': 3.732580121705033, 'feature_fraction': 0.9123441456152667, 'bagging_fraction': 0.7702570633315006, 'bagging_freq': 9, 'min_child_samples': 47}. Best is trial 31 with value: 0.9351285189718482.\n"
     ]
    },
    {
     "name": "stdout",
     "output_type": "stream",
     "text": [
      "Did not meet early stopping. Best iteration is:\n",
      "[100]\tvalid_0's binary_logloss: 0.210801\n",
      "Training until validation scores don't improve for 50 rounds\n"
     ]
    },
    {
     "name": "stderr",
     "output_type": "stream",
     "text": [
      "[I 2025-05-19 13:58:55,845] Trial 43 finished with value: 0.9329253365973073 and parameters: {'max_bin': 186, 'learning_rate': 0.05482372616792525, 'num_leaves': 88, 'max_depth': 4, 'min_data_in_leaf': 100, 'lambda_l1': 1.6659310608044866, 'lambda_l2': 3.3965590412159568, 'feature_fraction': 0.9717961754249553, 'bagging_fraction': 0.6540295361954918, 'bagging_freq': 8, 'min_child_samples': 37}. Best is trial 31 with value: 0.9351285189718482.\n"
     ]
    },
    {
     "name": "stdout",
     "output_type": "stream",
     "text": [
      "Did not meet early stopping. Best iteration is:\n",
      "[100]\tvalid_0's binary_logloss: 0.210732\n",
      "Training until validation scores don't improve for 50 rounds\n"
     ]
    },
    {
     "name": "stderr",
     "output_type": "stream",
     "text": [
      "[I 2025-05-19 13:58:56,854] Trial 44 finished with value: 0.9219094247246022 and parameters: {'max_bin': 166, 'learning_rate': 0.18925428711901468, 'num_leaves': 82, 'max_depth': 5, 'min_data_in_leaf': 89, 'lambda_l1': 2.1587060430543343, 'lambda_l2': 2.3345884066587823, 'feature_fraction': 0.8811573017631228, 'bagging_fraction': 0.7833913360859688, 'bagging_freq': 10, 'min_child_samples': 41}. Best is trial 31 with value: 0.9351285189718482.\n"
     ]
    },
    {
     "name": "stdout",
     "output_type": "stream",
     "text": [
      "Did not meet early stopping. Best iteration is:\n",
      "[100]\tvalid_0's binary_logloss: 0.199066\n",
      "Training until validation scores don't improve for 50 rounds\n"
     ]
    },
    {
     "name": "stderr",
     "output_type": "stream",
     "text": [
      "[I 2025-05-19 13:58:58,165] Trial 45 finished with value: 0.9199510403916769 and parameters: {'max_bin': 201, 'learning_rate': 0.021801646710671082, 'num_leaves': 43, 'max_depth': 6, 'min_data_in_leaf': 95, 'lambda_l1': 3.1995935228699723, 'lambda_l2': 4.427826159452118, 'feature_fraction': 0.9276512292588397, 'bagging_fraction': 0.7124634449854014, 'bagging_freq': 9, 'min_child_samples': 25}. Best is trial 31 with value: 0.9351285189718482.\n"
     ]
    },
    {
     "name": "stdout",
     "output_type": "stream",
     "text": [
      "Did not meet early stopping. Best iteration is:\n",
      "[100]\tvalid_0's binary_logloss: 0.215923\n",
      "Training until validation scores don't improve for 50 rounds\n"
     ]
    },
    {
     "name": "stderr",
     "output_type": "stream",
     "text": [
      "[I 2025-05-19 13:58:58,923] Trial 46 finished with value: 0.9304773561811506 and parameters: {'max_bin': 185, 'learning_rate': 0.07944130544745046, 'num_leaves': 63, 'max_depth': 4, 'min_data_in_leaf': 83, 'lambda_l1': 2.6252663079444236, 'lambda_l2': 3.824934599898315, 'feature_fraction': 0.9848742006354215, 'bagging_fraction': 0.6816657071829747, 'bagging_freq': 8, 'min_child_samples': 61}. Best is trial 31 with value: 0.9351285189718482.\n"
     ]
    },
    {
     "name": "stdout",
     "output_type": "stream",
     "text": [
      "Did not meet early stopping. Best iteration is:\n",
      "[100]\tvalid_0's binary_logloss: 0.205506\n",
      "Training until validation scores don't improve for 50 rounds\n"
     ]
    },
    {
     "name": "stderr",
     "output_type": "stream",
     "text": [
      "[I 2025-05-19 13:58:59,704] Trial 47 finished with value: 0.9324357405140759 and parameters: {'max_bin': 173, 'learning_rate': 0.04766782867641253, 'num_leaves': 98, 'max_depth': 4, 'min_data_in_leaf': 88, 'lambda_l1': 1.2498281154166735, 'lambda_l2': 2.779911808035703, 'feature_fraction': 0.9508060769744663, 'bagging_fraction': 0.8328464877975107, 'bagging_freq': 9, 'min_child_samples': 32}. Best is trial 31 with value: 0.9351285189718482.\n"
     ]
    },
    {
     "name": "stdout",
     "output_type": "stream",
     "text": [
      "Did not meet early stopping. Best iteration is:\n",
      "[100]\tvalid_0's binary_logloss: 0.214194\n",
      "Training until validation scores don't improve for 50 rounds\n"
     ]
    },
    {
     "name": "stderr",
     "output_type": "stream",
     "text": [
      "[I 2025-05-19 13:59:00,769] Trial 48 finished with value: 0.9326805385556916 and parameters: {'max_bin': 207, 'learning_rate': 0.05626210959727794, 'num_leaves': 72, 'max_depth': 5, 'min_data_in_leaf': 94, 'lambda_l1': 1.744607640085737, 'lambda_l2': 3.382506020206207, 'feature_fraction': 0.8983366707986518, 'bagging_fraction': 0.7312671622009199, 'bagging_freq': 8, 'min_child_samples': 48}. Best is trial 31 with value: 0.9351285189718482.\n"
     ]
    },
    {
     "name": "stdout",
     "output_type": "stream",
     "text": [
      "Did not meet early stopping. Best iteration is:\n",
      "[100]\tvalid_0's binary_logloss: 0.205326\n",
      "Training until validation scores don't improve for 50 rounds\n"
     ]
    },
    {
     "name": "stderr",
     "output_type": "stream",
     "text": [
      "[I 2025-05-19 13:59:01,426] Trial 49 finished with value: 0.9187270501835986 and parameters: {'max_bin': 156, 'learning_rate': 0.03234009147355121, 'num_leaves': 123, 'max_depth': 3, 'min_data_in_leaf': 100, 'lambda_l1': 2.2085278581986754, 'lambda_l2': 3.028871870558301, 'feature_fraction': 0.6225658394072078, 'bagging_fraction': 0.7554954714731361, 'bagging_freq': 10, 'min_child_samples': 59}. Best is trial 31 with value: 0.9351285189718482.\n"
     ]
    },
    {
     "name": "stdout",
     "output_type": "stream",
     "text": [
      "Did not meet early stopping. Best iteration is:\n",
      "[100]\tvalid_0's binary_logloss: 0.236542\n",
      "Training until validation scores don't improve for 50 rounds\n"
     ]
    },
    {
     "name": "stderr",
     "output_type": "stream",
     "text": [
      "[I 2025-05-19 13:59:02,231] Trial 50 finished with value: 0.9228886168910648 and parameters: {'max_bin': 220, 'learning_rate': 0.291903954644292, 'num_leaves': 56, 'max_depth': 4, 'min_data_in_leaf': 78, 'lambda_l1': 2.9200208874748164, 'lambda_l2': 3.570964050460332, 'feature_fraction': 0.932408436389056, 'bagging_fraction': 0.6631905656770462, 'bagging_freq': 9, 'min_child_samples': 43}. Best is trial 31 with value: 0.9351285189718482.\n"
     ]
    },
    {
     "name": "stdout",
     "output_type": "stream",
     "text": [
      "Did not meet early stopping. Best iteration is:\n",
      "[90]\tvalid_0's binary_logloss: 0.200773\n",
      "Training until validation scores don't improve for 50 rounds\n"
     ]
    },
    {
     "name": "stderr",
     "output_type": "stream",
     "text": [
      "[I 2025-05-19 13:59:02,881] Trial 51 finished with value: 0.9329253365973073 and parameters: {'max_bin': 196, 'learning_rate': 0.08189050485460732, 'num_leaves': 41, 'max_depth': 3, 'min_data_in_leaf': 91, 'lambda_l1': 2.6720840639110346, 'lambda_l2': 3.2531453777465225, 'feature_fraction': 0.8604097902003466, 'bagging_fraction': 0.9084303897685047, 'bagging_freq': 8, 'min_child_samples': 37}. Best is trial 31 with value: 0.9351285189718482.\n"
     ]
    },
    {
     "name": "stdout",
     "output_type": "stream",
     "text": [
      "Did not meet early stopping. Best iteration is:\n",
      "[100]\tvalid_0's binary_logloss: 0.209791\n",
      "Training until validation scores don't improve for 50 rounds\n"
     ]
    },
    {
     "name": "stderr",
     "output_type": "stream",
     "text": [
      "[I 2025-05-19 13:59:03,544] Trial 52 finished with value: 0.9287637698898409 and parameters: {'max_bin': 101, 'learning_rate': 0.036412515475062676, 'num_leaves': 48, 'max_depth': 3, 'min_data_in_leaf': 72, 'lambda_l1': 2.5414575966698685, 'lambda_l2': 3.8812655779685015, 'feature_fraction': 0.9804386378710281, 'bagging_fraction': 0.7495242544514227, 'bagging_freq': 9, 'min_child_samples': 37}. Best is trial 31 with value: 0.9351285189718482.\n"
     ]
    },
    {
     "name": "stdout",
     "output_type": "stream",
     "text": [
      "Did not meet early stopping. Best iteration is:\n",
      "[100]\tvalid_0's binary_logloss: 0.232307\n",
      "Training until validation scores don't improve for 50 rounds\n"
     ]
    },
    {
     "name": "stderr",
     "output_type": "stream",
     "text": [
      "[I 2025-05-19 13:59:04,443] Trial 53 finished with value: 0.9285189718482252 and parameters: {'max_bin': 181, 'learning_rate': 0.10298379197443168, 'num_leaves': 79, 'max_depth': 4, 'min_data_in_leaf': 97, 'lambda_l1': 2.0469577575004236, 'lambda_l2': 3.11324020698052, 'feature_fraction': 0.8603681192290878, 'bagging_fraction': 0.6812868600549168, 'bagging_freq': 4, 'min_child_samples': 48}. Best is trial 31 with value: 0.9351285189718482.\n"
     ]
    },
    {
     "name": "stdout",
     "output_type": "stream",
     "text": [
      "Did not meet early stopping. Best iteration is:\n",
      "[92]\tvalid_0's binary_logloss: 0.203297\n",
      "Training until validation scores don't improve for 50 rounds\n"
     ]
    },
    {
     "name": "stderr",
     "output_type": "stream",
     "text": [
      "[I 2025-05-19 13:59:05,065] Trial 54 finished with value: 0.9341493268053855 and parameters: {'max_bin': 192, 'learning_rate': 0.0764518135644965, 'num_leaves': 64, 'max_depth': 3, 'min_data_in_leaf': 29, 'lambda_l1': 2.7080013777554974, 'lambda_l2': 2.1506911411724703, 'feature_fraction': 0.999898989225217, 'bagging_fraction': 0.7944476669461006, 'bagging_freq': 8, 'min_child_samples': 25}. Best is trial 31 with value: 0.9351285189718482.\n"
     ]
    },
    {
     "name": "stdout",
     "output_type": "stream",
     "text": [
      "Did not meet early stopping. Best iteration is:\n",
      "[100]\tvalid_0's binary_logloss: 0.211116\n",
      "Training until validation scores don't improve for 50 rounds\n"
     ]
    },
    {
     "name": "stderr",
     "output_type": "stream",
     "text": [
      "[I 2025-05-19 13:59:06,561] Trial 55 finished with value: 0.9297429620563036 and parameters: {'max_bin': 191, 'learning_rate': 0.04581064605576506, 'num_leaves': 62, 'max_depth': 6, 'min_data_in_leaf': 86, 'lambda_l1': 3.8650380370286523, 'lambda_l2': 2.074013508630693, 'feature_fraction': 0.9975415748394822, 'bagging_fraction': 0.7880807775833487, 'bagging_freq': 8, 'min_child_samples': 28}. Best is trial 31 with value: 0.9351285189718482.\n"
     ]
    },
    {
     "name": "stdout",
     "output_type": "stream",
     "text": [
      "Did not meet early stopping. Best iteration is:\n",
      "[100]\tvalid_0's binary_logloss: 0.204561\n",
      "Training until validation scores don't improve for 50 rounds\n"
     ]
    },
    {
     "name": "stderr",
     "output_type": "stream",
     "text": [
      "[I 2025-05-19 13:59:07,300] Trial 56 finished with value: 0.9241126070991432 and parameters: {'max_bin': 207, 'learning_rate': 0.027554074192096937, 'num_leaves': 70, 'max_depth': 4, 'min_data_in_leaf': 90, 'lambda_l1': 2.39423303998019, 'lambda_l2': 2.1943541871076553, 'feature_fraction': 0.9546551459819144, 'bagging_fraction': 0.7107349167827728, 'bagging_freq': 10, 'min_child_samples': 17}. Best is trial 31 with value: 0.9351285189718482.\n"
     ]
    },
    {
     "name": "stdout",
     "output_type": "stream",
     "text": [
      "Did not meet early stopping. Best iteration is:\n",
      "[100]\tvalid_0's binary_logloss: 0.225839\n",
      "Training until validation scores don't improve for 50 rounds\n"
     ]
    },
    {
     "name": "stderr",
     "output_type": "stream",
     "text": [
      "[I 2025-05-19 13:59:08,369] Trial 57 finished with value: 0.9285189718482252 and parameters: {'max_bin': 198, 'learning_rate': 0.07304675662460422, 'num_leaves': 58, 'max_depth': 5, 'min_data_in_leaf': 26, 'lambda_l1': 3.2023850556672118, 'lambda_l2': 2.6545274801280696, 'feature_fraction': 0.9491783106874122, 'bagging_fraction': 0.8446287211186333, 'bagging_freq': 9, 'min_child_samples': 25}. Best is trial 31 with value: 0.9351285189718482.\n"
     ]
    },
    {
     "name": "stdout",
     "output_type": "stream",
     "text": [
      "Did not meet early stopping. Best iteration is:\n",
      "[100]\tvalid_0's binary_logloss: 0.202755\n",
      "Training until validation scores don't improve for 50 rounds\n"
     ]
    },
    {
     "name": "stderr",
     "output_type": "stream",
     "text": [
      "[I 2025-05-19 13:59:09,035] Trial 58 finished with value: 0.9351285189718482 and parameters: {'max_bin': 229, 'learning_rate': 0.05719502203375969, 'num_leaves': 50, 'max_depth': 3, 'min_data_in_leaf': 29, 'lambda_l1': 1.5656132501609672, 'lambda_l2': 2.4160745127730205, 'feature_fraction': 0.9754828852273139, 'bagging_fraction': 0.6387496922982776, 'bagging_freq': 7, 'min_child_samples': 31}. Best is trial 31 with value: 0.9351285189718482.\n"
     ]
    },
    {
     "name": "stdout",
     "output_type": "stream",
     "text": [
      "Did not meet early stopping. Best iteration is:\n",
      "[100]\tvalid_0's binary_logloss: 0.217983\n",
      "Training until validation scores don't improve for 50 rounds\n"
     ]
    },
    {
     "name": "stderr",
     "output_type": "stream",
     "text": [
      "[I 2025-05-19 13:59:09,694] Trial 59 finished with value: 0.9346389228886169 and parameters: {'max_bin': 212, 'learning_rate': 0.05562913249553195, 'num_leaves': 50, 'max_depth': 3, 'min_data_in_leaf': 31, 'lambda_l1': 0.8346051245534349, 'lambda_l2': 2.0394626748961846, 'feature_fraction': 0.9816429511422359, 'bagging_fraction': 0.6239306304147187, 'bagging_freq': 7, 'min_child_samples': 31}. Best is trial 31 with value: 0.9351285189718482.\n"
     ]
    },
    {
     "name": "stdout",
     "output_type": "stream",
     "text": [
      "Did not meet early stopping. Best iteration is:\n",
      "[100]\tvalid_0's binary_logloss: 0.218837\n",
      "Training until validation scores don't improve for 50 rounds\n"
     ]
    },
    {
     "name": "stderr",
     "output_type": "stream",
     "text": [
      "[I 2025-05-19 13:59:10,403] Trial 60 finished with value: 0.9312117503059976 and parameters: {'max_bin': 230, 'learning_rate': 0.059844336833392714, 'num_leaves': 51, 'max_depth': 3, 'min_data_in_leaf': 36, 'lambda_l1': 0.7537838030926043, 'lambda_l2': 1.5448879041663477, 'feature_fraction': 0.5538332346301196, 'bagging_fraction': 0.6272123035804698, 'bagging_freq': 7, 'min_child_samples': 32}. Best is trial 31 with value: 0.9351285189718482.\n"
     ]
    },
    {
     "name": "stdout",
     "output_type": "stream",
     "text": [
      "Did not meet early stopping. Best iteration is:\n",
      "[100]\tvalid_0's binary_logloss: 0.217406\n",
      "Training until validation scores don't improve for 50 rounds\n"
     ]
    },
    {
     "name": "stderr",
     "output_type": "stream",
     "text": [
      "[I 2025-05-19 13:59:11,032] Trial 61 finished with value: 0.9339045287637698 and parameters: {'max_bin': 213, 'learning_rate': 0.052411041808596674, 'num_leaves': 54, 'max_depth': 3, 'min_data_in_leaf': 29, 'lambda_l1': 1.1583150756473048, 'lambda_l2': 2.390380978367526, 'feature_fraction': 0.9800591637974377, 'bagging_fraction': 0.6016959563072467, 'bagging_freq': 7, 'min_child_samples': 23}. Best is trial 31 with value: 0.9351285189718482.\n"
     ]
    },
    {
     "name": "stdout",
     "output_type": "stream",
     "text": [
      "Did not meet early stopping. Best iteration is:\n",
      "[100]\tvalid_0's binary_logloss: 0.2206\n",
      "Training until validation scores don't improve for 50 rounds\n"
     ]
    },
    {
     "name": "stderr",
     "output_type": "stream",
     "text": [
      "[I 2025-05-19 13:59:11,685] Trial 62 finished with value: 0.9299877600979192 and parameters: {'max_bin': 226, 'learning_rate': 0.03916916560084884, 'num_leaves': 38, 'max_depth': 3, 'min_data_in_leaf': 31, 'lambda_l1': 1.5923878193755365, 'lambda_l2': 2.1750813055582148, 'feature_fraction': 0.9214988570717828, 'bagging_fraction': 0.632553010691554, 'bagging_freq': 8, 'min_child_samples': 16}. Best is trial 31 with value: 0.9351285189718482.\n"
     ]
    },
    {
     "name": "stdout",
     "output_type": "stream",
     "text": [
      "Did not meet early stopping. Best iteration is:\n",
      "[100]\tvalid_0's binary_logloss: 0.22886\n",
      "Training until validation scores don't improve for 50 rounds\n"
     ]
    },
    {
     "name": "stderr",
     "output_type": "stream",
     "text": [
      "[I 2025-05-19 13:59:12,357] Trial 63 finished with value: 0.9326805385556916 and parameters: {'max_bin': 218, 'learning_rate': 0.07490022065833138, 'num_leaves': 47, 'max_depth': 3, 'min_data_in_leaf': 25, 'lambda_l1': 0.5347083923169882, 'lambda_l2': 1.9067906822290424, 'feature_fraction': 0.9587873131203865, 'bagging_fraction': 0.5898098341190013, 'bagging_freq': 7, 'min_child_samples': 30}. Best is trial 31 with value: 0.9351285189718482.\n"
     ]
    },
    {
     "name": "stdout",
     "output_type": "stream",
     "text": [
      "Did not meet early stopping. Best iteration is:\n",
      "[100]\tvalid_0's binary_logloss: 0.211253\n",
      "Training until validation scores don't improve for 50 rounds\n"
     ]
    },
    {
     "name": "stderr",
     "output_type": "stream",
     "text": [
      "[I 2025-05-19 13:59:13,169] Trial 64 finished with value: 0.9336597307221542 and parameters: {'max_bin': 207, 'learning_rate': 0.057602459768790436, 'num_leaves': 65, 'max_depth': 4, 'min_data_in_leaf': 55, 'lambda_l1': 0.899744817335566, 'lambda_l2': 1.0858065348893984, 'feature_fraction': 0.9996836035186943, 'bagging_fraction': 0.6666333900716122, 'bagging_freq': 8, 'min_child_samples': 34}. Best is trial 31 with value: 0.9351285189718482.\n"
     ]
    },
    {
     "name": "stdout",
     "output_type": "stream",
     "text": [
      "Did not meet early stopping. Best iteration is:\n",
      "[100]\tvalid_0's binary_logloss: 0.209393\n",
      "Training until validation scores don't improve for 50 rounds\n"
     ]
    },
    {
     "name": "stderr",
     "output_type": "stream",
     "text": [
      "[I 2025-05-19 13:59:13,824] Trial 65 finished with value: 0.9339045287637698 and parameters: {'max_bin': 203, 'learning_rate': 0.0679778785788234, 'num_leaves': 49, 'max_depth': 3, 'min_data_in_leaf': 20, 'lambda_l1': 0.021328242984183454, 'lambda_l2': 1.9377278288379403, 'feature_fraction': 0.9774891897921378, 'bagging_fraction': 0.6384564687874141, 'bagging_freq': 8, 'min_child_samples': 21}. Best is trial 31 with value: 0.9351285189718482.\n"
     ]
    },
    {
     "name": "stdout",
     "output_type": "stream",
     "text": [
      "Did not meet early stopping. Best iteration is:\n",
      "[100]\tvalid_0's binary_logloss: 0.213432\n",
      "Training until validation scores don't improve for 50 rounds\n"
     ]
    },
    {
     "name": "stderr",
     "output_type": "stream",
     "text": [
      "[I 2025-05-19 13:59:14,538] Trial 66 finished with value: 0.9241126070991432 and parameters: {'max_bin': 230, 'learning_rate': 0.033513275231045865, 'num_leaves': 75, 'max_depth': 3, 'min_data_in_leaf': 35, 'lambda_l1': 1.9818709599617865, 'lambda_l2': 2.9376294250160457, 'feature_fraction': 0.9444320977606515, 'bagging_fraction': 0.743475845815551, 'bagging_freq': 7, 'min_child_samples': 50}. Best is trial 31 with value: 0.9351285189718482.\n"
     ]
    },
    {
     "name": "stdout",
     "output_type": "stream",
     "text": [
      "Did not meet early stopping. Best iteration is:\n",
      "[100]\tvalid_0's binary_logloss: 0.234412\n",
      "Training until validation scores don't improve for 50 rounds\n"
     ]
    },
    {
     "name": "stderr",
     "output_type": "stream",
     "text": [
      "[I 2025-05-19 13:59:15,372] Trial 67 finished with value: 0.9341493268053855 and parameters: {'max_bin': 183, 'learning_rate': 0.049897537893841375, 'num_leaves': 82, 'max_depth': 4, 'min_data_in_leaf': 29, 'lambda_l1': 1.5327821160544972, 'lambda_l2': 1.704717740607331, 'feature_fraction': 0.98480880574546, 'bagging_fraction': 0.8008500924954685, 'bagging_freq': 7, 'min_child_samples': 56}. Best is trial 31 with value: 0.9351285189718482.\n"
     ]
    },
    {
     "name": "stdout",
     "output_type": "stream",
     "text": [
      "Did not meet early stopping. Best iteration is:\n",
      "[100]\tvalid_0's binary_logloss: 0.212845\n",
      "Training until validation scores don't improve for 50 rounds\n"
     ]
    },
    {
     "name": "stderr",
     "output_type": "stream",
     "text": [
      "[I 2025-05-19 13:59:16,189] Trial 68 finished with value: 0.9223990208078335 and parameters: {'max_bin': 173, 'learning_rate': 0.0297976963590805, 'num_leaves': 62, 'max_depth': 4, 'min_data_in_leaf': 33, 'lambda_l1': 1.8309887345654055, 'lambda_l2': 2.3249188918867394, 'feature_fraction': 0.7255901155023388, 'bagging_fraction': 0.6959789424651549, 'bagging_freq': 1, 'min_child_samples': 42}. Best is trial 31 with value: 0.9351285189718482.\n"
     ]
    },
    {
     "name": "stdout",
     "output_type": "stream",
     "text": [
      "Did not meet early stopping. Best iteration is:\n",
      "[100]\tvalid_0's binary_logloss: 0.224771\n",
      "Training until validation scores don't improve for 50 rounds\n"
     ]
    },
    {
     "name": "stderr",
     "output_type": "stream",
     "text": [
      "[I 2025-05-19 13:59:17,234] Trial 69 finished with value: 0.9285189718482252 and parameters: {'max_bin': 250, 'learning_rate': 0.09335903553586765, 'num_leaves': 58, 'max_depth': 5, 'min_data_in_leaf': 45, 'lambda_l1': 2.122286860820875, 'lambda_l2': 2.034339051782892, 'feature_fraction': 0.9643056582804245, 'bagging_fraction': 0.7636673562275365, 'bagging_freq': 10, 'min_child_samples': 29}. Best is trial 31 with value: 0.9351285189718482.\n"
     ]
    },
    {
     "name": "stdout",
     "output_type": "stream",
     "text": [
      "Did not meet early stopping. Best iteration is:\n",
      "[100]\tvalid_0's binary_logloss: 0.201063\n",
      "Training until validation scores don't improve for 50 rounds\n"
     ]
    },
    {
     "name": "stderr",
     "output_type": "stream",
     "text": [
      "[I 2025-05-19 13:59:17,868] Trial 70 finished with value: 0.9336597307221542 and parameters: {'max_bin': 213, 'learning_rate': 0.06257472941693819, 'num_leaves': 38, 'max_depth': 3, 'min_data_in_leaf': 39, 'lambda_l1': 2.28125616947744, 'lambda_l2': 3.934293915968562, 'feature_fraction': 0.9398395548934497, 'bagging_fraction': 0.5750251721279527, 'bagging_freq': 6, 'min_child_samples': 34}. Best is trial 31 with value: 0.9351285189718482.\n"
     ]
    },
    {
     "name": "stdout",
     "output_type": "stream",
     "text": [
      "Did not meet early stopping. Best iteration is:\n",
      "[100]\tvalid_0's binary_logloss: 0.215073\n",
      "Training until validation scores don't improve for 50 rounds\n"
     ]
    },
    {
     "name": "stderr",
     "output_type": "stream",
     "text": [
      "[I 2025-05-19 13:59:18,670] Trial 71 finished with value: 0.9348837209302325 and parameters: {'max_bin': 184, 'learning_rate': 0.05195705393616168, 'num_leaves': 80, 'max_depth': 4, 'min_data_in_leaf': 29, 'lambda_l1': 1.4312690049321382, 'lambda_l2': 1.684882690279493, 'feature_fraction': 0.9895810892549584, 'bagging_fraction': 0.7894162991487933, 'bagging_freq': 7, 'min_child_samples': 55}. Best is trial 31 with value: 0.9351285189718482.\n"
     ]
    },
    {
     "name": "stdout",
     "output_type": "stream",
     "text": [
      "Did not meet early stopping. Best iteration is:\n",
      "[100]\tvalid_0's binary_logloss: 0.211775\n",
      "Training until validation scores don't improve for 50 rounds\n"
     ]
    },
    {
     "name": "stderr",
     "output_type": "stream",
     "text": [
      "[I 2025-05-19 13:59:19,504] Trial 72 finished with value: 0.9341493268053855 and parameters: {'max_bin': 189, 'learning_rate': 0.048731318542359126, 'num_leaves': 66, 'max_depth': 4, 'min_data_in_leaf': 24, 'lambda_l1': 1.2818870552575918, 'lambda_l2': 1.485986156771009, 'feature_fraction': 0.9888584771916799, 'bagging_fraction': 0.8163166892521592, 'bagging_freq': 5, 'min_child_samples': 67}. Best is trial 31 with value: 0.9351285189718482.\n"
     ]
    },
    {
     "name": "stdout",
     "output_type": "stream",
     "text": [
      "Did not meet early stopping. Best iteration is:\n",
      "[100]\tvalid_0's binary_logloss: 0.213828\n",
      "Training until validation scores don't improve for 50 rounds\n"
     ]
    },
    {
     "name": "stderr",
     "output_type": "stream",
     "text": [
      "[I 2025-05-19 13:59:20,101] Trial 73 finished with value: 0.9304773561811506 and parameters: {'max_bin': 201, 'learning_rate': 0.03789014125879525, 'num_leaves': 73, 'max_depth': 3, 'min_data_in_leaf': 29, 'lambda_l1': 1.4233452130222912, 'lambda_l2': 0.792248953836332, 'feature_fraction': 0.9665503258248651, 'bagging_fraction': 0.6094341483133447, 'bagging_freq': 8, 'min_child_samples': 45}. Best is trial 31 with value: 0.9351285189718482.\n"
     ]
    },
    {
     "name": "stdout",
     "output_type": "stream",
     "text": [
      "Did not meet early stopping. Best iteration is:\n",
      "[100]\tvalid_0's binary_logloss: 0.229868\n",
      "Training until validation scores don't improve for 50 rounds\n"
     ]
    },
    {
     "name": "stderr",
     "output_type": "stream",
     "text": [
      "[I 2025-05-19 13:59:20,871] Trial 74 finished with value: 0.9321909424724603 and parameters: {'max_bin': 177, 'learning_rate': 0.0552419196379979, 'num_leaves': 150, 'max_depth': 4, 'min_data_in_leaf': 27, 'lambda_l1': 1.9413536541173382, 'lambda_l2': 2.6467999056162617, 'feature_fraction': 0.902302554258457, 'bagging_fraction': 0.6936725301878454, 'bagging_freq': 9, 'min_child_samples': 40}. Best is trial 31 with value: 0.9351285189718482.\n"
     ]
    },
    {
     "name": "stdout",
     "output_type": "stream",
     "text": [
      "Did not meet early stopping. Best iteration is:\n",
      "[100]\tvalid_0's binary_logloss: 0.210243\n",
      "Training until validation scores don't improve for 50 rounds\n"
     ]
    },
    {
     "name": "stderr",
     "output_type": "stream",
     "text": [
      "[I 2025-05-19 13:59:21,503] Trial 75 finished with value: 0.9299877600979192 and parameters: {'max_bin': 194, 'learning_rate': 0.04223263689050182, 'num_leaves': 79, 'max_depth': 3, 'min_data_in_leaf': 32, 'lambda_l1': 1.0783270305655486, 'lambda_l2': 1.6841229921511638, 'feature_fraction': 0.9990774515470227, 'bagging_fraction': 0.793970711086059, 'bagging_freq': 7, 'min_child_samples': 27}. Best is trial 31 with value: 0.9351285189718482.\n"
     ]
    },
    {
     "name": "stdout",
     "output_type": "stream",
     "text": [
      "Did not meet early stopping. Best iteration is:\n",
      "[100]\tvalid_0's binary_logloss: 0.227248\n",
      "Training until validation scores don't improve for 50 rounds\n"
     ]
    },
    {
     "name": "stderr",
     "output_type": "stream",
     "text": [
      "[I 2025-05-19 13:59:22,583] Trial 76 finished with value: 0.9304773561811506 and parameters: {'max_bin': 246, 'learning_rate': 0.06722896549356625, 'num_leaves': 87, 'max_depth': 5, 'min_data_in_leaf': 57, 'lambda_l1': 1.7378532932592257, 'lambda_l2': 3.679896197223497, 'feature_fraction': 0.9729584505973069, 'bagging_fraction': 0.6548156131904764, 'bagging_freq': 6, 'min_child_samples': 52}. Best is trial 31 with value: 0.9351285189718482.\n"
     ]
    },
    {
     "name": "stdout",
     "output_type": "stream",
     "text": [
      "Did not meet early stopping. Best iteration is:\n",
      "[100]\tvalid_0's binary_logloss: 0.203132\n",
      "Training until validation scores don't improve for 50 rounds\n"
     ]
    },
    {
     "name": "stderr",
     "output_type": "stream",
     "text": [
      "[I 2025-05-19 13:59:23,374] Trial 77 finished with value: 0.9336597307221542 and parameters: {'max_bin': 210, 'learning_rate': 0.05192840879330324, 'num_leaves': 97, 'max_depth': 4, 'min_data_in_leaf': 67, 'lambda_l1': 0.6436884751372547, 'lambda_l2': 2.5072363510572253, 'feature_fraction': 0.9569160064438108, 'bagging_fraction': 0.8310814727512301, 'bagging_freq': 8, 'min_child_samples': 72}. Best is trial 31 with value: 0.9351285189718482.\n"
     ]
    },
    {
     "name": "stdout",
     "output_type": "stream",
     "text": [
      "Did not meet early stopping. Best iteration is:\n",
      "[100]\tvalid_0's binary_logloss: 0.212137\n",
      "Training until validation scores don't improve for 50 rounds\n"
     ]
    },
    {
     "name": "stderr",
     "output_type": "stream",
     "text": [
      "[I 2025-05-19 13:59:24,192] Trial 78 finished with value: 0.8450428396572828 and parameters: {'max_bin': 187, 'learning_rate': 0.01012200996415682, 'num_leaves': 27, 'max_depth': 4, 'min_data_in_leaf': 22, 'lambda_l1': 1.352484505132619, 'lambda_l2': 3.426666668776168, 'feature_fraction': 0.9209453146401269, 'bagging_fraction': 0.7428966315286737, 'bagging_freq': 8, 'min_child_samples': 35}. Best is trial 31 with value: 0.9351285189718482.\n"
     ]
    },
    {
     "name": "stdout",
     "output_type": "stream",
     "text": [
      "Did not meet early stopping. Best iteration is:\n",
      "[100]\tvalid_0's binary_logloss: 0.263995\n",
      "Training until validation scores don't improve for 50 rounds\n"
     ]
    },
    {
     "name": "stderr",
     "output_type": "stream",
     "text": [
      "[I 2025-05-19 13:59:24,833] Trial 79 finished with value: 0.9324357405140759 and parameters: {'max_bin': 199, 'learning_rate': 0.04563985307841082, 'num_leaves': 68, 'max_depth': 3, 'min_data_in_leaf': 93, 'lambda_l1': 1.0358649241320377, 'lambda_l2': 1.8012477970761431, 'feature_fraction': 0.9833417086408689, 'bagging_fraction': 0.7676949735648176, 'bagging_freq': 9, 'min_child_samples': 46}. Best is trial 31 with value: 0.9351285189718482.\n"
     ]
    },
    {
     "name": "stdout",
     "output_type": "stream",
     "text": [
      "Did not meet early stopping. Best iteration is:\n",
      "[100]\tvalid_0's binary_logloss: 0.225195\n"
     ]
    }
   ],
   "source": [
    "# Phase 2: TPE fine-tuning\n",
    "tpe_sampler = optuna.samplers.TPESampler(seed=42, n_startup_trials=0)\n",
    "study2.sampler = tpe_sampler\n",
    "study2.optimize(objective, n_trials=50)"
   ]
  },
  {
   "cell_type": "code",
   "execution_count": 24,
   "id": "44318487",
   "metadata": {},
   "outputs": [
    {
     "data": {
      "application/vnd.plotly.v1+json": {
       "config": {
        "plotlyServerURL": "https://plot.ly"
       },
       "data": [
        {
         "mode": "markers",
         "name": "Objective Value",
         "type": "scatter",
         "x": [
          0,
          1,
          2,
          3,
          4,
          5,
          6,
          7,
          8,
          9,
          10,
          11,
          12,
          13,
          14,
          15,
          16,
          17,
          18,
          19,
          20,
          21,
          22,
          23,
          24,
          25,
          26,
          27,
          28,
          29,
          30,
          31,
          32,
          33,
          34,
          35,
          36,
          37,
          38,
          39,
          40,
          41,
          42,
          43,
          44,
          45,
          46,
          47,
          48,
          49,
          50,
          51,
          52,
          53,
          54,
          55,
          56,
          57,
          58,
          59,
          60,
          61,
          62,
          63,
          64,
          65,
          66,
          67,
          68,
          69,
          70,
          71,
          72,
          73,
          74,
          75,
          76,
          77,
          78,
          79
         ],
         "y": [
          0.8993880048959608,
          0.9277845777233782,
          0.9277845777233782,
          0.9177478580171359,
          0.9231334149326805,
          0.8609547123623011,
          0.9248470012239902,
          0.9272949816401469,
          0.9294981640146879,
          0.8638922888616891,
          0.9084455324357406,
          0.9253365973072215,
          0.9282741738066096,
          0.9258261933904529,
          0.9189718482252142,
          0.9175030599755202,
          0.9314565483476133,
          0.9319461444308446,
          0.9297429620563036,
          0.9223990208078335,
          0.9277845777233782,
          0.9282741738066096,
          0.9302325581395349,
          0.9104039167686658,
          0.9111383108935128,
          0.9130966952264382,
          0.9246022031823745,
          0.9336597307221542,
          0.9084455324357406,
          0.9238678090575275,
          0.9348837209302325,
          0.9351285189718482,
          0.9343941248470012,
          0.9331701346389228,
          0.9258261933904529,
          0.9339045287637698,
          0.9348837209302325,
          0.9275397796817626,
          0.9275397796817626,
          0.9329253365973073,
          0.9290085679314566,
          0.9331701346389228,
          0.9294981640146879,
          0.9329253365973073,
          0.9219094247246022,
          0.9199510403916769,
          0.9304773561811506,
          0.9324357405140759,
          0.9326805385556916,
          0.9187270501835986,
          0.9228886168910648,
          0.9329253365973073,
          0.9287637698898409,
          0.9285189718482252,
          0.9341493268053855,
          0.9297429620563036,
          0.9241126070991432,
          0.9285189718482252,
          0.9351285189718482,
          0.9346389228886169,
          0.9312117503059976,
          0.9339045287637698,
          0.9299877600979192,
          0.9326805385556916,
          0.9336597307221542,
          0.9339045287637698,
          0.9241126070991432,
          0.9341493268053855,
          0.9223990208078335,
          0.9285189718482252,
          0.9336597307221542,
          0.9348837209302325,
          0.9341493268053855,
          0.9304773561811506,
          0.9321909424724603,
          0.9299877600979192,
          0.9304773561811506,
          0.9336597307221542,
          0.8450428396572828,
          0.9324357405140759
         ]
        },
        {
         "mode": "lines",
         "name": "Best Value",
         "type": "scatter",
         "x": [
          0,
          1,
          2,
          3,
          4,
          5,
          6,
          7,
          8,
          9,
          10,
          11,
          12,
          13,
          14,
          15,
          16,
          17,
          18,
          19,
          20,
          21,
          22,
          23,
          24,
          25,
          26,
          27,
          28,
          29,
          30,
          31,
          32,
          33,
          34,
          35,
          36,
          37,
          38,
          39,
          40,
          41,
          42,
          43,
          44,
          45,
          46,
          47,
          48,
          49,
          50,
          51,
          52,
          53,
          54,
          55,
          56,
          57,
          58,
          59,
          60,
          61,
          62,
          63,
          64,
          65,
          66,
          67,
          68,
          69,
          70,
          71,
          72,
          73,
          74,
          75,
          76,
          77,
          78,
          79
         ],
         "y": [
          0.8993880048959608,
          0.9277845777233782,
          0.9277845777233782,
          0.9277845777233782,
          0.9277845777233782,
          0.9277845777233782,
          0.9277845777233782,
          0.9277845777233782,
          0.9294981640146879,
          0.9294981640146879,
          0.9294981640146879,
          0.9294981640146879,
          0.9294981640146879,
          0.9294981640146879,
          0.9294981640146879,
          0.9294981640146879,
          0.9314565483476133,
          0.9319461444308446,
          0.9319461444308446,
          0.9319461444308446,
          0.9319461444308446,
          0.9319461444308446,
          0.9319461444308446,
          0.9319461444308446,
          0.9319461444308446,
          0.9319461444308446,
          0.9319461444308446,
          0.9336597307221542,
          0.9336597307221542,
          0.9336597307221542,
          0.9348837209302325,
          0.9351285189718482,
          0.9351285189718482,
          0.9351285189718482,
          0.9351285189718482,
          0.9351285189718482,
          0.9351285189718482,
          0.9351285189718482,
          0.9351285189718482,
          0.9351285189718482,
          0.9351285189718482,
          0.9351285189718482,
          0.9351285189718482,
          0.9351285189718482,
          0.9351285189718482,
          0.9351285189718482,
          0.9351285189718482,
          0.9351285189718482,
          0.9351285189718482,
          0.9351285189718482,
          0.9351285189718482,
          0.9351285189718482,
          0.9351285189718482,
          0.9351285189718482,
          0.9351285189718482,
          0.9351285189718482,
          0.9351285189718482,
          0.9351285189718482,
          0.9351285189718482,
          0.9351285189718482,
          0.9351285189718482,
          0.9351285189718482,
          0.9351285189718482,
          0.9351285189718482,
          0.9351285189718482,
          0.9351285189718482,
          0.9351285189718482,
          0.9351285189718482,
          0.9351285189718482,
          0.9351285189718482,
          0.9351285189718482,
          0.9351285189718482,
          0.9351285189718482,
          0.9351285189718482,
          0.9351285189718482,
          0.9351285189718482,
          0.9351285189718482,
          0.9351285189718482,
          0.9351285189718482,
          0.9351285189718482
         ]
        },
        {
         "marker": {
          "color": "#cccccc"
         },
         "mode": "markers",
         "name": "Infeasible Trial",
         "showlegend": false,
         "type": "scatter",
         "x": [],
         "y": []
        }
       ],
       "layout": {
        "template": {
         "data": {
          "bar": [
           {
            "error_x": {
             "color": "#2a3f5f"
            },
            "error_y": {
             "color": "#2a3f5f"
            },
            "marker": {
             "line": {
              "color": "#E5ECF6",
              "width": 0.5
             },
             "pattern": {
              "fillmode": "overlay",
              "size": 10,
              "solidity": 0.2
             }
            },
            "type": "bar"
           }
          ],
          "barpolar": [
           {
            "marker": {
             "line": {
              "color": "#E5ECF6",
              "width": 0.5
             },
             "pattern": {
              "fillmode": "overlay",
              "size": 10,
              "solidity": 0.2
             }
            },
            "type": "barpolar"
           }
          ],
          "carpet": [
           {
            "aaxis": {
             "endlinecolor": "#2a3f5f",
             "gridcolor": "white",
             "linecolor": "white",
             "minorgridcolor": "white",
             "startlinecolor": "#2a3f5f"
            },
            "baxis": {
             "endlinecolor": "#2a3f5f",
             "gridcolor": "white",
             "linecolor": "white",
             "minorgridcolor": "white",
             "startlinecolor": "#2a3f5f"
            },
            "type": "carpet"
           }
          ],
          "choropleth": [
           {
            "colorbar": {
             "outlinewidth": 0,
             "ticks": ""
            },
            "type": "choropleth"
           }
          ],
          "contour": [
           {
            "colorbar": {
             "outlinewidth": 0,
             "ticks": ""
            },
            "colorscale": [
             [
              0,
              "#0d0887"
             ],
             [
              0.1111111111111111,
              "#46039f"
             ],
             [
              0.2222222222222222,
              "#7201a8"
             ],
             [
              0.3333333333333333,
              "#9c179e"
             ],
             [
              0.4444444444444444,
              "#bd3786"
             ],
             [
              0.5555555555555556,
              "#d8576b"
             ],
             [
              0.6666666666666666,
              "#ed7953"
             ],
             [
              0.7777777777777778,
              "#fb9f3a"
             ],
             [
              0.8888888888888888,
              "#fdca26"
             ],
             [
              1,
              "#f0f921"
             ]
            ],
            "type": "contour"
           }
          ],
          "contourcarpet": [
           {
            "colorbar": {
             "outlinewidth": 0,
             "ticks": ""
            },
            "type": "contourcarpet"
           }
          ],
          "heatmap": [
           {
            "colorbar": {
             "outlinewidth": 0,
             "ticks": ""
            },
            "colorscale": [
             [
              0,
              "#0d0887"
             ],
             [
              0.1111111111111111,
              "#46039f"
             ],
             [
              0.2222222222222222,
              "#7201a8"
             ],
             [
              0.3333333333333333,
              "#9c179e"
             ],
             [
              0.4444444444444444,
              "#bd3786"
             ],
             [
              0.5555555555555556,
              "#d8576b"
             ],
             [
              0.6666666666666666,
              "#ed7953"
             ],
             [
              0.7777777777777778,
              "#fb9f3a"
             ],
             [
              0.8888888888888888,
              "#fdca26"
             ],
             [
              1,
              "#f0f921"
             ]
            ],
            "type": "heatmap"
           }
          ],
          "histogram": [
           {
            "marker": {
             "pattern": {
              "fillmode": "overlay",
              "size": 10,
              "solidity": 0.2
             }
            },
            "type": "histogram"
           }
          ],
          "histogram2d": [
           {
            "colorbar": {
             "outlinewidth": 0,
             "ticks": ""
            },
            "colorscale": [
             [
              0,
              "#0d0887"
             ],
             [
              0.1111111111111111,
              "#46039f"
             ],
             [
              0.2222222222222222,
              "#7201a8"
             ],
             [
              0.3333333333333333,
              "#9c179e"
             ],
             [
              0.4444444444444444,
              "#bd3786"
             ],
             [
              0.5555555555555556,
              "#d8576b"
             ],
             [
              0.6666666666666666,
              "#ed7953"
             ],
             [
              0.7777777777777778,
              "#fb9f3a"
             ],
             [
              0.8888888888888888,
              "#fdca26"
             ],
             [
              1,
              "#f0f921"
             ]
            ],
            "type": "histogram2d"
           }
          ],
          "histogram2dcontour": [
           {
            "colorbar": {
             "outlinewidth": 0,
             "ticks": ""
            },
            "colorscale": [
             [
              0,
              "#0d0887"
             ],
             [
              0.1111111111111111,
              "#46039f"
             ],
             [
              0.2222222222222222,
              "#7201a8"
             ],
             [
              0.3333333333333333,
              "#9c179e"
             ],
             [
              0.4444444444444444,
              "#bd3786"
             ],
             [
              0.5555555555555556,
              "#d8576b"
             ],
             [
              0.6666666666666666,
              "#ed7953"
             ],
             [
              0.7777777777777778,
              "#fb9f3a"
             ],
             [
              0.8888888888888888,
              "#fdca26"
             ],
             [
              1,
              "#f0f921"
             ]
            ],
            "type": "histogram2dcontour"
           }
          ],
          "mesh3d": [
           {
            "colorbar": {
             "outlinewidth": 0,
             "ticks": ""
            },
            "type": "mesh3d"
           }
          ],
          "parcoords": [
           {
            "line": {
             "colorbar": {
              "outlinewidth": 0,
              "ticks": ""
             }
            },
            "type": "parcoords"
           }
          ],
          "pie": [
           {
            "automargin": true,
            "type": "pie"
           }
          ],
          "scatter": [
           {
            "fillpattern": {
             "fillmode": "overlay",
             "size": 10,
             "solidity": 0.2
            },
            "type": "scatter"
           }
          ],
          "scatter3d": [
           {
            "line": {
             "colorbar": {
              "outlinewidth": 0,
              "ticks": ""
             }
            },
            "marker": {
             "colorbar": {
              "outlinewidth": 0,
              "ticks": ""
             }
            },
            "type": "scatter3d"
           }
          ],
          "scattercarpet": [
           {
            "marker": {
             "colorbar": {
              "outlinewidth": 0,
              "ticks": ""
             }
            },
            "type": "scattercarpet"
           }
          ],
          "scattergeo": [
           {
            "marker": {
             "colorbar": {
              "outlinewidth": 0,
              "ticks": ""
             }
            },
            "type": "scattergeo"
           }
          ],
          "scattergl": [
           {
            "marker": {
             "colorbar": {
              "outlinewidth": 0,
              "ticks": ""
             }
            },
            "type": "scattergl"
           }
          ],
          "scattermap": [
           {
            "marker": {
             "colorbar": {
              "outlinewidth": 0,
              "ticks": ""
             }
            },
            "type": "scattermap"
           }
          ],
          "scattermapbox": [
           {
            "marker": {
             "colorbar": {
              "outlinewidth": 0,
              "ticks": ""
             }
            },
            "type": "scattermapbox"
           }
          ],
          "scatterpolar": [
           {
            "marker": {
             "colorbar": {
              "outlinewidth": 0,
              "ticks": ""
             }
            },
            "type": "scatterpolar"
           }
          ],
          "scatterpolargl": [
           {
            "marker": {
             "colorbar": {
              "outlinewidth": 0,
              "ticks": ""
             }
            },
            "type": "scatterpolargl"
           }
          ],
          "scatterternary": [
           {
            "marker": {
             "colorbar": {
              "outlinewidth": 0,
              "ticks": ""
             }
            },
            "type": "scatterternary"
           }
          ],
          "surface": [
           {
            "colorbar": {
             "outlinewidth": 0,
             "ticks": ""
            },
            "colorscale": [
             [
              0,
              "#0d0887"
             ],
             [
              0.1111111111111111,
              "#46039f"
             ],
             [
              0.2222222222222222,
              "#7201a8"
             ],
             [
              0.3333333333333333,
              "#9c179e"
             ],
             [
              0.4444444444444444,
              "#bd3786"
             ],
             [
              0.5555555555555556,
              "#d8576b"
             ],
             [
              0.6666666666666666,
              "#ed7953"
             ],
             [
              0.7777777777777778,
              "#fb9f3a"
             ],
             [
              0.8888888888888888,
              "#fdca26"
             ],
             [
              1,
              "#f0f921"
             ]
            ],
            "type": "surface"
           }
          ],
          "table": [
           {
            "cells": {
             "fill": {
              "color": "#EBF0F8"
             },
             "line": {
              "color": "white"
             }
            },
            "header": {
             "fill": {
              "color": "#C8D4E3"
             },
             "line": {
              "color": "white"
             }
            },
            "type": "table"
           }
          ]
         },
         "layout": {
          "annotationdefaults": {
           "arrowcolor": "#2a3f5f",
           "arrowhead": 0,
           "arrowwidth": 1
          },
          "autotypenumbers": "strict",
          "coloraxis": {
           "colorbar": {
            "outlinewidth": 0,
            "ticks": ""
           }
          },
          "colorscale": {
           "diverging": [
            [
             0,
             "#8e0152"
            ],
            [
             0.1,
             "#c51b7d"
            ],
            [
             0.2,
             "#de77ae"
            ],
            [
             0.3,
             "#f1b6da"
            ],
            [
             0.4,
             "#fde0ef"
            ],
            [
             0.5,
             "#f7f7f7"
            ],
            [
             0.6,
             "#e6f5d0"
            ],
            [
             0.7,
             "#b8e186"
            ],
            [
             0.8,
             "#7fbc41"
            ],
            [
             0.9,
             "#4d9221"
            ],
            [
             1,
             "#276419"
            ]
           ],
           "sequential": [
            [
             0,
             "#0d0887"
            ],
            [
             0.1111111111111111,
             "#46039f"
            ],
            [
             0.2222222222222222,
             "#7201a8"
            ],
            [
             0.3333333333333333,
             "#9c179e"
            ],
            [
             0.4444444444444444,
             "#bd3786"
            ],
            [
             0.5555555555555556,
             "#d8576b"
            ],
            [
             0.6666666666666666,
             "#ed7953"
            ],
            [
             0.7777777777777778,
             "#fb9f3a"
            ],
            [
             0.8888888888888888,
             "#fdca26"
            ],
            [
             1,
             "#f0f921"
            ]
           ],
           "sequentialminus": [
            [
             0,
             "#0d0887"
            ],
            [
             0.1111111111111111,
             "#46039f"
            ],
            [
             0.2222222222222222,
             "#7201a8"
            ],
            [
             0.3333333333333333,
             "#9c179e"
            ],
            [
             0.4444444444444444,
             "#bd3786"
            ],
            [
             0.5555555555555556,
             "#d8576b"
            ],
            [
             0.6666666666666666,
             "#ed7953"
            ],
            [
             0.7777777777777778,
             "#fb9f3a"
            ],
            [
             0.8888888888888888,
             "#fdca26"
            ],
            [
             1,
             "#f0f921"
            ]
           ]
          },
          "colorway": [
           "#636efa",
           "#EF553B",
           "#00cc96",
           "#ab63fa",
           "#FFA15A",
           "#19d3f3",
           "#FF6692",
           "#B6E880",
           "#FF97FF",
           "#FECB52"
          ],
          "font": {
           "color": "#2a3f5f"
          },
          "geo": {
           "bgcolor": "white",
           "lakecolor": "white",
           "landcolor": "#E5ECF6",
           "showlakes": true,
           "showland": true,
           "subunitcolor": "white"
          },
          "hoverlabel": {
           "align": "left"
          },
          "hovermode": "closest",
          "mapbox": {
           "style": "light"
          },
          "paper_bgcolor": "white",
          "plot_bgcolor": "#E5ECF6",
          "polar": {
           "angularaxis": {
            "gridcolor": "white",
            "linecolor": "white",
            "ticks": ""
           },
           "bgcolor": "#E5ECF6",
           "radialaxis": {
            "gridcolor": "white",
            "linecolor": "white",
            "ticks": ""
           }
          },
          "scene": {
           "xaxis": {
            "backgroundcolor": "#E5ECF6",
            "gridcolor": "white",
            "gridwidth": 2,
            "linecolor": "white",
            "showbackground": true,
            "ticks": "",
            "zerolinecolor": "white"
           },
           "yaxis": {
            "backgroundcolor": "#E5ECF6",
            "gridcolor": "white",
            "gridwidth": 2,
            "linecolor": "white",
            "showbackground": true,
            "ticks": "",
            "zerolinecolor": "white"
           },
           "zaxis": {
            "backgroundcolor": "#E5ECF6",
            "gridcolor": "white",
            "gridwidth": 2,
            "linecolor": "white",
            "showbackground": true,
            "ticks": "",
            "zerolinecolor": "white"
           }
          },
          "shapedefaults": {
           "line": {
            "color": "#2a3f5f"
           }
          },
          "ternary": {
           "aaxis": {
            "gridcolor": "white",
            "linecolor": "white",
            "ticks": ""
           },
           "baxis": {
            "gridcolor": "white",
            "linecolor": "white",
            "ticks": ""
           },
           "bgcolor": "#E5ECF6",
           "caxis": {
            "gridcolor": "white",
            "linecolor": "white",
            "ticks": ""
           }
          },
          "title": {
           "x": 0.05
          },
          "xaxis": {
           "automargin": true,
           "gridcolor": "white",
           "linecolor": "white",
           "ticks": "",
           "title": {
            "standoff": 15
           },
           "zerolinecolor": "white",
           "zerolinewidth": 2
          },
          "yaxis": {
           "automargin": true,
           "gridcolor": "white",
           "linecolor": "white",
           "ticks": "",
           "title": {
            "standoff": 15
           },
           "zerolinecolor": "white",
           "zerolinewidth": 2
          }
         }
        },
        "title": {
         "text": "Optimization History Plot"
        },
        "xaxis": {
         "title": {
          "text": "Trial"
         }
        },
        "yaxis": {
         "title": {
          "text": "Objective Value"
         }
        }
       }
      }
     },
     "metadata": {},
     "output_type": "display_data"
    },
    {
     "data": {
      "application/vnd.plotly.v1+json": {
       "config": {
        "plotlyServerURL": "https://plot.ly"
       },
       "data": [
        {
         "cliponaxis": false,
         "hovertemplate": [
          "bagging_freq (IntDistribution): 0.002790788833646982<extra></extra>",
          "min_data_in_leaf (IntDistribution): 0.0069530798823641115<extra></extra>",
          "lambda_l2 (FloatDistribution): 0.008242095924177196<extra></extra>",
          "bagging_fraction (FloatDistribution): 0.009417389583630156<extra></extra>",
          "lambda_l1 (FloatDistribution): 0.01324174620576573<extra></extra>",
          "min_child_samples (IntDistribution): 0.014245046281671574<extra></extra>",
          "feature_fraction (FloatDistribution): 0.01702179209924385<extra></extra>",
          "max_bin (IntDistribution): 0.022323131471102174<extra></extra>",
          "max_depth (IntDistribution): 0.05167972338898606<extra></extra>",
          "num_leaves (IntDistribution): 0.10033615805709316<extra></extra>",
          "learning_rate (FloatDistribution): 0.753749048272319<extra></extra>"
         ],
         "name": "Objective Value",
         "orientation": "h",
         "text": [
          "<0.01",
          "<0.01",
          "<0.01",
          "<0.01",
          "0.01",
          "0.01",
          "0.02",
          "0.02",
          "0.05",
          "0.10",
          "0.75"
         ],
         "textposition": "outside",
         "type": "bar",
         "x": [
          0.002790788833646982,
          0.0069530798823641115,
          0.008242095924177196,
          0.009417389583630156,
          0.01324174620576573,
          0.014245046281671574,
          0.01702179209924385,
          0.022323131471102174,
          0.05167972338898606,
          0.10033615805709316,
          0.753749048272319
         ],
         "y": [
          "bagging_freq",
          "min_data_in_leaf",
          "lambda_l2",
          "bagging_fraction",
          "lambda_l1",
          "min_child_samples",
          "feature_fraction",
          "max_bin",
          "max_depth",
          "num_leaves",
          "learning_rate"
         ]
        }
       ],
       "layout": {
        "template": {
         "data": {
          "bar": [
           {
            "error_x": {
             "color": "#2a3f5f"
            },
            "error_y": {
             "color": "#2a3f5f"
            },
            "marker": {
             "line": {
              "color": "#E5ECF6",
              "width": 0.5
             },
             "pattern": {
              "fillmode": "overlay",
              "size": 10,
              "solidity": 0.2
             }
            },
            "type": "bar"
           }
          ],
          "barpolar": [
           {
            "marker": {
             "line": {
              "color": "#E5ECF6",
              "width": 0.5
             },
             "pattern": {
              "fillmode": "overlay",
              "size": 10,
              "solidity": 0.2
             }
            },
            "type": "barpolar"
           }
          ],
          "carpet": [
           {
            "aaxis": {
             "endlinecolor": "#2a3f5f",
             "gridcolor": "white",
             "linecolor": "white",
             "minorgridcolor": "white",
             "startlinecolor": "#2a3f5f"
            },
            "baxis": {
             "endlinecolor": "#2a3f5f",
             "gridcolor": "white",
             "linecolor": "white",
             "minorgridcolor": "white",
             "startlinecolor": "#2a3f5f"
            },
            "type": "carpet"
           }
          ],
          "choropleth": [
           {
            "colorbar": {
             "outlinewidth": 0,
             "ticks": ""
            },
            "type": "choropleth"
           }
          ],
          "contour": [
           {
            "colorbar": {
             "outlinewidth": 0,
             "ticks": ""
            },
            "colorscale": [
             [
              0,
              "#0d0887"
             ],
             [
              0.1111111111111111,
              "#46039f"
             ],
             [
              0.2222222222222222,
              "#7201a8"
             ],
             [
              0.3333333333333333,
              "#9c179e"
             ],
             [
              0.4444444444444444,
              "#bd3786"
             ],
             [
              0.5555555555555556,
              "#d8576b"
             ],
             [
              0.6666666666666666,
              "#ed7953"
             ],
             [
              0.7777777777777778,
              "#fb9f3a"
             ],
             [
              0.8888888888888888,
              "#fdca26"
             ],
             [
              1,
              "#f0f921"
             ]
            ],
            "type": "contour"
           }
          ],
          "contourcarpet": [
           {
            "colorbar": {
             "outlinewidth": 0,
             "ticks": ""
            },
            "type": "contourcarpet"
           }
          ],
          "heatmap": [
           {
            "colorbar": {
             "outlinewidth": 0,
             "ticks": ""
            },
            "colorscale": [
             [
              0,
              "#0d0887"
             ],
             [
              0.1111111111111111,
              "#46039f"
             ],
             [
              0.2222222222222222,
              "#7201a8"
             ],
             [
              0.3333333333333333,
              "#9c179e"
             ],
             [
              0.4444444444444444,
              "#bd3786"
             ],
             [
              0.5555555555555556,
              "#d8576b"
             ],
             [
              0.6666666666666666,
              "#ed7953"
             ],
             [
              0.7777777777777778,
              "#fb9f3a"
             ],
             [
              0.8888888888888888,
              "#fdca26"
             ],
             [
              1,
              "#f0f921"
             ]
            ],
            "type": "heatmap"
           }
          ],
          "histogram": [
           {
            "marker": {
             "pattern": {
              "fillmode": "overlay",
              "size": 10,
              "solidity": 0.2
             }
            },
            "type": "histogram"
           }
          ],
          "histogram2d": [
           {
            "colorbar": {
             "outlinewidth": 0,
             "ticks": ""
            },
            "colorscale": [
             [
              0,
              "#0d0887"
             ],
             [
              0.1111111111111111,
              "#46039f"
             ],
             [
              0.2222222222222222,
              "#7201a8"
             ],
             [
              0.3333333333333333,
              "#9c179e"
             ],
             [
              0.4444444444444444,
              "#bd3786"
             ],
             [
              0.5555555555555556,
              "#d8576b"
             ],
             [
              0.6666666666666666,
              "#ed7953"
             ],
             [
              0.7777777777777778,
              "#fb9f3a"
             ],
             [
              0.8888888888888888,
              "#fdca26"
             ],
             [
              1,
              "#f0f921"
             ]
            ],
            "type": "histogram2d"
           }
          ],
          "histogram2dcontour": [
           {
            "colorbar": {
             "outlinewidth": 0,
             "ticks": ""
            },
            "colorscale": [
             [
              0,
              "#0d0887"
             ],
             [
              0.1111111111111111,
              "#46039f"
             ],
             [
              0.2222222222222222,
              "#7201a8"
             ],
             [
              0.3333333333333333,
              "#9c179e"
             ],
             [
              0.4444444444444444,
              "#bd3786"
             ],
             [
              0.5555555555555556,
              "#d8576b"
             ],
             [
              0.6666666666666666,
              "#ed7953"
             ],
             [
              0.7777777777777778,
              "#fb9f3a"
             ],
             [
              0.8888888888888888,
              "#fdca26"
             ],
             [
              1,
              "#f0f921"
             ]
            ],
            "type": "histogram2dcontour"
           }
          ],
          "mesh3d": [
           {
            "colorbar": {
             "outlinewidth": 0,
             "ticks": ""
            },
            "type": "mesh3d"
           }
          ],
          "parcoords": [
           {
            "line": {
             "colorbar": {
              "outlinewidth": 0,
              "ticks": ""
             }
            },
            "type": "parcoords"
           }
          ],
          "pie": [
           {
            "automargin": true,
            "type": "pie"
           }
          ],
          "scatter": [
           {
            "fillpattern": {
             "fillmode": "overlay",
             "size": 10,
             "solidity": 0.2
            },
            "type": "scatter"
           }
          ],
          "scatter3d": [
           {
            "line": {
             "colorbar": {
              "outlinewidth": 0,
              "ticks": ""
             }
            },
            "marker": {
             "colorbar": {
              "outlinewidth": 0,
              "ticks": ""
             }
            },
            "type": "scatter3d"
           }
          ],
          "scattercarpet": [
           {
            "marker": {
             "colorbar": {
              "outlinewidth": 0,
              "ticks": ""
             }
            },
            "type": "scattercarpet"
           }
          ],
          "scattergeo": [
           {
            "marker": {
             "colorbar": {
              "outlinewidth": 0,
              "ticks": ""
             }
            },
            "type": "scattergeo"
           }
          ],
          "scattergl": [
           {
            "marker": {
             "colorbar": {
              "outlinewidth": 0,
              "ticks": ""
             }
            },
            "type": "scattergl"
           }
          ],
          "scattermap": [
           {
            "marker": {
             "colorbar": {
              "outlinewidth": 0,
              "ticks": ""
             }
            },
            "type": "scattermap"
           }
          ],
          "scattermapbox": [
           {
            "marker": {
             "colorbar": {
              "outlinewidth": 0,
              "ticks": ""
             }
            },
            "type": "scattermapbox"
           }
          ],
          "scatterpolar": [
           {
            "marker": {
             "colorbar": {
              "outlinewidth": 0,
              "ticks": ""
             }
            },
            "type": "scatterpolar"
           }
          ],
          "scatterpolargl": [
           {
            "marker": {
             "colorbar": {
              "outlinewidth": 0,
              "ticks": ""
             }
            },
            "type": "scatterpolargl"
           }
          ],
          "scatterternary": [
           {
            "marker": {
             "colorbar": {
              "outlinewidth": 0,
              "ticks": ""
             }
            },
            "type": "scatterternary"
           }
          ],
          "surface": [
           {
            "colorbar": {
             "outlinewidth": 0,
             "ticks": ""
            },
            "colorscale": [
             [
              0,
              "#0d0887"
             ],
             [
              0.1111111111111111,
              "#46039f"
             ],
             [
              0.2222222222222222,
              "#7201a8"
             ],
             [
              0.3333333333333333,
              "#9c179e"
             ],
             [
              0.4444444444444444,
              "#bd3786"
             ],
             [
              0.5555555555555556,
              "#d8576b"
             ],
             [
              0.6666666666666666,
              "#ed7953"
             ],
             [
              0.7777777777777778,
              "#fb9f3a"
             ],
             [
              0.8888888888888888,
              "#fdca26"
             ],
             [
              1,
              "#f0f921"
             ]
            ],
            "type": "surface"
           }
          ],
          "table": [
           {
            "cells": {
             "fill": {
              "color": "#EBF0F8"
             },
             "line": {
              "color": "white"
             }
            },
            "header": {
             "fill": {
              "color": "#C8D4E3"
             },
             "line": {
              "color": "white"
             }
            },
            "type": "table"
           }
          ]
         },
         "layout": {
          "annotationdefaults": {
           "arrowcolor": "#2a3f5f",
           "arrowhead": 0,
           "arrowwidth": 1
          },
          "autotypenumbers": "strict",
          "coloraxis": {
           "colorbar": {
            "outlinewidth": 0,
            "ticks": ""
           }
          },
          "colorscale": {
           "diverging": [
            [
             0,
             "#8e0152"
            ],
            [
             0.1,
             "#c51b7d"
            ],
            [
             0.2,
             "#de77ae"
            ],
            [
             0.3,
             "#f1b6da"
            ],
            [
             0.4,
             "#fde0ef"
            ],
            [
             0.5,
             "#f7f7f7"
            ],
            [
             0.6,
             "#e6f5d0"
            ],
            [
             0.7,
             "#b8e186"
            ],
            [
             0.8,
             "#7fbc41"
            ],
            [
             0.9,
             "#4d9221"
            ],
            [
             1,
             "#276419"
            ]
           ],
           "sequential": [
            [
             0,
             "#0d0887"
            ],
            [
             0.1111111111111111,
             "#46039f"
            ],
            [
             0.2222222222222222,
             "#7201a8"
            ],
            [
             0.3333333333333333,
             "#9c179e"
            ],
            [
             0.4444444444444444,
             "#bd3786"
            ],
            [
             0.5555555555555556,
             "#d8576b"
            ],
            [
             0.6666666666666666,
             "#ed7953"
            ],
            [
             0.7777777777777778,
             "#fb9f3a"
            ],
            [
             0.8888888888888888,
             "#fdca26"
            ],
            [
             1,
             "#f0f921"
            ]
           ],
           "sequentialminus": [
            [
             0,
             "#0d0887"
            ],
            [
             0.1111111111111111,
             "#46039f"
            ],
            [
             0.2222222222222222,
             "#7201a8"
            ],
            [
             0.3333333333333333,
             "#9c179e"
            ],
            [
             0.4444444444444444,
             "#bd3786"
            ],
            [
             0.5555555555555556,
             "#d8576b"
            ],
            [
             0.6666666666666666,
             "#ed7953"
            ],
            [
             0.7777777777777778,
             "#fb9f3a"
            ],
            [
             0.8888888888888888,
             "#fdca26"
            ],
            [
             1,
             "#f0f921"
            ]
           ]
          },
          "colorway": [
           "#636efa",
           "#EF553B",
           "#00cc96",
           "#ab63fa",
           "#FFA15A",
           "#19d3f3",
           "#FF6692",
           "#B6E880",
           "#FF97FF",
           "#FECB52"
          ],
          "font": {
           "color": "#2a3f5f"
          },
          "geo": {
           "bgcolor": "white",
           "lakecolor": "white",
           "landcolor": "#E5ECF6",
           "showlakes": true,
           "showland": true,
           "subunitcolor": "white"
          },
          "hoverlabel": {
           "align": "left"
          },
          "hovermode": "closest",
          "mapbox": {
           "style": "light"
          },
          "paper_bgcolor": "white",
          "plot_bgcolor": "#E5ECF6",
          "polar": {
           "angularaxis": {
            "gridcolor": "white",
            "linecolor": "white",
            "ticks": ""
           },
           "bgcolor": "#E5ECF6",
           "radialaxis": {
            "gridcolor": "white",
            "linecolor": "white",
            "ticks": ""
           }
          },
          "scene": {
           "xaxis": {
            "backgroundcolor": "#E5ECF6",
            "gridcolor": "white",
            "gridwidth": 2,
            "linecolor": "white",
            "showbackground": true,
            "ticks": "",
            "zerolinecolor": "white"
           },
           "yaxis": {
            "backgroundcolor": "#E5ECF6",
            "gridcolor": "white",
            "gridwidth": 2,
            "linecolor": "white",
            "showbackground": true,
            "ticks": "",
            "zerolinecolor": "white"
           },
           "zaxis": {
            "backgroundcolor": "#E5ECF6",
            "gridcolor": "white",
            "gridwidth": 2,
            "linecolor": "white",
            "showbackground": true,
            "ticks": "",
            "zerolinecolor": "white"
           }
          },
          "shapedefaults": {
           "line": {
            "color": "#2a3f5f"
           }
          },
          "ternary": {
           "aaxis": {
            "gridcolor": "white",
            "linecolor": "white",
            "ticks": ""
           },
           "baxis": {
            "gridcolor": "white",
            "linecolor": "white",
            "ticks": ""
           },
           "bgcolor": "#E5ECF6",
           "caxis": {
            "gridcolor": "white",
            "linecolor": "white",
            "ticks": ""
           }
          },
          "title": {
           "x": 0.05
          },
          "xaxis": {
           "automargin": true,
           "gridcolor": "white",
           "linecolor": "white",
           "ticks": "",
           "title": {
            "standoff": 15
           },
           "zerolinecolor": "white",
           "zerolinewidth": 2
          },
          "yaxis": {
           "automargin": true,
           "gridcolor": "white",
           "linecolor": "white",
           "ticks": "",
           "title": {
            "standoff": 15
           },
           "zerolinecolor": "white",
           "zerolinewidth": 2
          }
         }
        },
        "title": {
         "text": "Hyperparameter Importances"
        },
        "xaxis": {
         "title": {
          "text": "Hyperparameter Importance"
         }
        },
        "yaxis": {
         "title": {
          "text": "Hyperparameter"
         }
        }
       }
      }
     },
     "metadata": {},
     "output_type": "display_data"
    }
   ],
   "source": [
    "# Biểu đồ quá trình tối ưu hóa (Random Search + TPE)\n",
    "vis.plot_optimization_history(study2).show()\n",
    "\n",
    "# Biểu đồ tầm quan trọng tham số\n",
    "vis.plot_param_importances(study2).show()"
   ]
  },
  {
   "cell_type": "code",
   "execution_count": 25,
   "id": "04863ac2",
   "metadata": {},
   "outputs": [
    {
     "name": "stdout",
     "output_type": "stream",
     "text": [
      "Best recall: 0.9351285189718482\n",
      "Best hyperparameters: {'max_bin': 205, 'learning_rate': 0.04508184739922241, 'num_leaves': 67, 'max_depth': 4, 'min_data_in_leaf': 96, 'lambda_l1': 1.987419215841184, 'lambda_l2': 3.4964600099442964, 'feature_fraction': 0.987878776112855, 'bagging_fraction': 0.7118762375349093, 'bagging_freq': 9, 'min_child_samples': 38}\n"
     ]
    }
   ],
   "source": [
    "\n",
    "print(\"Best recall:\", study2.best_value)\n",
    "print(\"Best hyperparameters:\", study2.best_params)"
   ]
  },
  {
   "cell_type": "code",
   "execution_count": 26,
   "id": "8b44adf6",
   "metadata": {},
   "outputs": [],
   "source": [
    "classes = np.unique(y_train)\n",
    "class_weights = compute_class_weight(class_weight='balanced', classes=classes, y=y_train)\n",
    "class_weights_dict = dict(zip(classes, class_weights))\n",
    "scale_pos_weight = class_weights[1] / class_weights[0]\n"
   ]
  },
  {
   "cell_type": "code",
   "execution_count": 27,
   "id": "9362dc3e",
   "metadata": {},
   "outputs": [
    {
     "data": {
      "text/html": [
       "<style>#sk-container-id-1 {\n",
       "  /* Definition of color scheme common for light and dark mode */\n",
       "  --sklearn-color-text: #000;\n",
       "  --sklearn-color-text-muted: #666;\n",
       "  --sklearn-color-line: gray;\n",
       "  /* Definition of color scheme for unfitted estimators */\n",
       "  --sklearn-color-unfitted-level-0: #fff5e6;\n",
       "  --sklearn-color-unfitted-level-1: #f6e4d2;\n",
       "  --sklearn-color-unfitted-level-2: #ffe0b3;\n",
       "  --sklearn-color-unfitted-level-3: chocolate;\n",
       "  /* Definition of color scheme for fitted estimators */\n",
       "  --sklearn-color-fitted-level-0: #f0f8ff;\n",
       "  --sklearn-color-fitted-level-1: #d4ebff;\n",
       "  --sklearn-color-fitted-level-2: #b3dbfd;\n",
       "  --sklearn-color-fitted-level-3: cornflowerblue;\n",
       "\n",
       "  /* Specific color for light theme */\n",
       "  --sklearn-color-text-on-default-background: var(--sg-text-color, var(--theme-code-foreground, var(--jp-content-font-color1, black)));\n",
       "  --sklearn-color-background: var(--sg-background-color, var(--theme-background, var(--jp-layout-color0, white)));\n",
       "  --sklearn-color-border-box: var(--sg-text-color, var(--theme-code-foreground, var(--jp-content-font-color1, black)));\n",
       "  --sklearn-color-icon: #696969;\n",
       "\n",
       "  @media (prefers-color-scheme: dark) {\n",
       "    /* Redefinition of color scheme for dark theme */\n",
       "    --sklearn-color-text-on-default-background: var(--sg-text-color, var(--theme-code-foreground, var(--jp-content-font-color1, white)));\n",
       "    --sklearn-color-background: var(--sg-background-color, var(--theme-background, var(--jp-layout-color0, #111)));\n",
       "    --sklearn-color-border-box: var(--sg-text-color, var(--theme-code-foreground, var(--jp-content-font-color1, white)));\n",
       "    --sklearn-color-icon: #878787;\n",
       "  }\n",
       "}\n",
       "\n",
       "#sk-container-id-1 {\n",
       "  color: var(--sklearn-color-text);\n",
       "}\n",
       "\n",
       "#sk-container-id-1 pre {\n",
       "  padding: 0;\n",
       "}\n",
       "\n",
       "#sk-container-id-1 input.sk-hidden--visually {\n",
       "  border: 0;\n",
       "  clip: rect(1px 1px 1px 1px);\n",
       "  clip: rect(1px, 1px, 1px, 1px);\n",
       "  height: 1px;\n",
       "  margin: -1px;\n",
       "  overflow: hidden;\n",
       "  padding: 0;\n",
       "  position: absolute;\n",
       "  width: 1px;\n",
       "}\n",
       "\n",
       "#sk-container-id-1 div.sk-dashed-wrapped {\n",
       "  border: 1px dashed var(--sklearn-color-line);\n",
       "  margin: 0 0.4em 0.5em 0.4em;\n",
       "  box-sizing: border-box;\n",
       "  padding-bottom: 0.4em;\n",
       "  background-color: var(--sklearn-color-background);\n",
       "}\n",
       "\n",
       "#sk-container-id-1 div.sk-container {\n",
       "  /* jupyter's `normalize.less` sets `[hidden] { display: none; }`\n",
       "     but bootstrap.min.css set `[hidden] { display: none !important; }`\n",
       "     so we also need the `!important` here to be able to override the\n",
       "     default hidden behavior on the sphinx rendered scikit-learn.org.\n",
       "     See: https://github.com/scikit-learn/scikit-learn/issues/21755 */\n",
       "  display: inline-block !important;\n",
       "  position: relative;\n",
       "}\n",
       "\n",
       "#sk-container-id-1 div.sk-text-repr-fallback {\n",
       "  display: none;\n",
       "}\n",
       "\n",
       "div.sk-parallel-item,\n",
       "div.sk-serial,\n",
       "div.sk-item {\n",
       "  /* draw centered vertical line to link estimators */\n",
       "  background-image: linear-gradient(var(--sklearn-color-text-on-default-background), var(--sklearn-color-text-on-default-background));\n",
       "  background-size: 2px 100%;\n",
       "  background-repeat: no-repeat;\n",
       "  background-position: center center;\n",
       "}\n",
       "\n",
       "/* Parallel-specific style estimator block */\n",
       "\n",
       "#sk-container-id-1 div.sk-parallel-item::after {\n",
       "  content: \"\";\n",
       "  width: 100%;\n",
       "  border-bottom: 2px solid var(--sklearn-color-text-on-default-background);\n",
       "  flex-grow: 1;\n",
       "}\n",
       "\n",
       "#sk-container-id-1 div.sk-parallel {\n",
       "  display: flex;\n",
       "  align-items: stretch;\n",
       "  justify-content: center;\n",
       "  background-color: var(--sklearn-color-background);\n",
       "  position: relative;\n",
       "}\n",
       "\n",
       "#sk-container-id-1 div.sk-parallel-item {\n",
       "  display: flex;\n",
       "  flex-direction: column;\n",
       "}\n",
       "\n",
       "#sk-container-id-1 div.sk-parallel-item:first-child::after {\n",
       "  align-self: flex-end;\n",
       "  width: 50%;\n",
       "}\n",
       "\n",
       "#sk-container-id-1 div.sk-parallel-item:last-child::after {\n",
       "  align-self: flex-start;\n",
       "  width: 50%;\n",
       "}\n",
       "\n",
       "#sk-container-id-1 div.sk-parallel-item:only-child::after {\n",
       "  width: 0;\n",
       "}\n",
       "\n",
       "/* Serial-specific style estimator block */\n",
       "\n",
       "#sk-container-id-1 div.sk-serial {\n",
       "  display: flex;\n",
       "  flex-direction: column;\n",
       "  align-items: center;\n",
       "  background-color: var(--sklearn-color-background);\n",
       "  padding-right: 1em;\n",
       "  padding-left: 1em;\n",
       "}\n",
       "\n",
       "\n",
       "/* Toggleable style: style used for estimator/Pipeline/ColumnTransformer box that is\n",
       "clickable and can be expanded/collapsed.\n",
       "- Pipeline and ColumnTransformer use this feature and define the default style\n",
       "- Estimators will overwrite some part of the style using the `sk-estimator` class\n",
       "*/\n",
       "\n",
       "/* Pipeline and ColumnTransformer style (default) */\n",
       "\n",
       "#sk-container-id-1 div.sk-toggleable {\n",
       "  /* Default theme specific background. It is overwritten whether we have a\n",
       "  specific estimator or a Pipeline/ColumnTransformer */\n",
       "  background-color: var(--sklearn-color-background);\n",
       "}\n",
       "\n",
       "/* Toggleable label */\n",
       "#sk-container-id-1 label.sk-toggleable__label {\n",
       "  cursor: pointer;\n",
       "  display: flex;\n",
       "  width: 100%;\n",
       "  margin-bottom: 0;\n",
       "  padding: 0.5em;\n",
       "  box-sizing: border-box;\n",
       "  text-align: center;\n",
       "  align-items: start;\n",
       "  justify-content: space-between;\n",
       "  gap: 0.5em;\n",
       "}\n",
       "\n",
       "#sk-container-id-1 label.sk-toggleable__label .caption {\n",
       "  font-size: 0.6rem;\n",
       "  font-weight: lighter;\n",
       "  color: var(--sklearn-color-text-muted);\n",
       "}\n",
       "\n",
       "#sk-container-id-1 label.sk-toggleable__label-arrow:before {\n",
       "  /* Arrow on the left of the label */\n",
       "  content: \"▸\";\n",
       "  float: left;\n",
       "  margin-right: 0.25em;\n",
       "  color: var(--sklearn-color-icon);\n",
       "}\n",
       "\n",
       "#sk-container-id-1 label.sk-toggleable__label-arrow:hover:before {\n",
       "  color: var(--sklearn-color-text);\n",
       "}\n",
       "\n",
       "/* Toggleable content - dropdown */\n",
       "\n",
       "#sk-container-id-1 div.sk-toggleable__content {\n",
       "  max-height: 0;\n",
       "  max-width: 0;\n",
       "  overflow: hidden;\n",
       "  text-align: left;\n",
       "  /* unfitted */\n",
       "  background-color: var(--sklearn-color-unfitted-level-0);\n",
       "}\n",
       "\n",
       "#sk-container-id-1 div.sk-toggleable__content.fitted {\n",
       "  /* fitted */\n",
       "  background-color: var(--sklearn-color-fitted-level-0);\n",
       "}\n",
       "\n",
       "#sk-container-id-1 div.sk-toggleable__content pre {\n",
       "  margin: 0.2em;\n",
       "  border-radius: 0.25em;\n",
       "  color: var(--sklearn-color-text);\n",
       "  /* unfitted */\n",
       "  background-color: var(--sklearn-color-unfitted-level-0);\n",
       "}\n",
       "\n",
       "#sk-container-id-1 div.sk-toggleable__content.fitted pre {\n",
       "  /* unfitted */\n",
       "  background-color: var(--sklearn-color-fitted-level-0);\n",
       "}\n",
       "\n",
       "#sk-container-id-1 input.sk-toggleable__control:checked~div.sk-toggleable__content {\n",
       "  /* Expand drop-down */\n",
       "  max-height: 200px;\n",
       "  max-width: 100%;\n",
       "  overflow: auto;\n",
       "}\n",
       "\n",
       "#sk-container-id-1 input.sk-toggleable__control:checked~label.sk-toggleable__label-arrow:before {\n",
       "  content: \"▾\";\n",
       "}\n",
       "\n",
       "/* Pipeline/ColumnTransformer-specific style */\n",
       "\n",
       "#sk-container-id-1 div.sk-label input.sk-toggleable__control:checked~label.sk-toggleable__label {\n",
       "  color: var(--sklearn-color-text);\n",
       "  background-color: var(--sklearn-color-unfitted-level-2);\n",
       "}\n",
       "\n",
       "#sk-container-id-1 div.sk-label.fitted input.sk-toggleable__control:checked~label.sk-toggleable__label {\n",
       "  background-color: var(--sklearn-color-fitted-level-2);\n",
       "}\n",
       "\n",
       "/* Estimator-specific style */\n",
       "\n",
       "/* Colorize estimator box */\n",
       "#sk-container-id-1 div.sk-estimator input.sk-toggleable__control:checked~label.sk-toggleable__label {\n",
       "  /* unfitted */\n",
       "  background-color: var(--sklearn-color-unfitted-level-2);\n",
       "}\n",
       "\n",
       "#sk-container-id-1 div.sk-estimator.fitted input.sk-toggleable__control:checked~label.sk-toggleable__label {\n",
       "  /* fitted */\n",
       "  background-color: var(--sklearn-color-fitted-level-2);\n",
       "}\n",
       "\n",
       "#sk-container-id-1 div.sk-label label.sk-toggleable__label,\n",
       "#sk-container-id-1 div.sk-label label {\n",
       "  /* The background is the default theme color */\n",
       "  color: var(--sklearn-color-text-on-default-background);\n",
       "}\n",
       "\n",
       "/* On hover, darken the color of the background */\n",
       "#sk-container-id-1 div.sk-label:hover label.sk-toggleable__label {\n",
       "  color: var(--sklearn-color-text);\n",
       "  background-color: var(--sklearn-color-unfitted-level-2);\n",
       "}\n",
       "\n",
       "/* Label box, darken color on hover, fitted */\n",
       "#sk-container-id-1 div.sk-label.fitted:hover label.sk-toggleable__label.fitted {\n",
       "  color: var(--sklearn-color-text);\n",
       "  background-color: var(--sklearn-color-fitted-level-2);\n",
       "}\n",
       "\n",
       "/* Estimator label */\n",
       "\n",
       "#sk-container-id-1 div.sk-label label {\n",
       "  font-family: monospace;\n",
       "  font-weight: bold;\n",
       "  display: inline-block;\n",
       "  line-height: 1.2em;\n",
       "}\n",
       "\n",
       "#sk-container-id-1 div.sk-label-container {\n",
       "  text-align: center;\n",
       "}\n",
       "\n",
       "/* Estimator-specific */\n",
       "#sk-container-id-1 div.sk-estimator {\n",
       "  font-family: monospace;\n",
       "  border: 1px dotted var(--sklearn-color-border-box);\n",
       "  border-radius: 0.25em;\n",
       "  box-sizing: border-box;\n",
       "  margin-bottom: 0.5em;\n",
       "  /* unfitted */\n",
       "  background-color: var(--sklearn-color-unfitted-level-0);\n",
       "}\n",
       "\n",
       "#sk-container-id-1 div.sk-estimator.fitted {\n",
       "  /* fitted */\n",
       "  background-color: var(--sklearn-color-fitted-level-0);\n",
       "}\n",
       "\n",
       "/* on hover */\n",
       "#sk-container-id-1 div.sk-estimator:hover {\n",
       "  /* unfitted */\n",
       "  background-color: var(--sklearn-color-unfitted-level-2);\n",
       "}\n",
       "\n",
       "#sk-container-id-1 div.sk-estimator.fitted:hover {\n",
       "  /* fitted */\n",
       "  background-color: var(--sklearn-color-fitted-level-2);\n",
       "}\n",
       "\n",
       "/* Specification for estimator info (e.g. \"i\" and \"?\") */\n",
       "\n",
       "/* Common style for \"i\" and \"?\" */\n",
       "\n",
       ".sk-estimator-doc-link,\n",
       "a:link.sk-estimator-doc-link,\n",
       "a:visited.sk-estimator-doc-link {\n",
       "  float: right;\n",
       "  font-size: smaller;\n",
       "  line-height: 1em;\n",
       "  font-family: monospace;\n",
       "  background-color: var(--sklearn-color-background);\n",
       "  border-radius: 1em;\n",
       "  height: 1em;\n",
       "  width: 1em;\n",
       "  text-decoration: none !important;\n",
       "  margin-left: 0.5em;\n",
       "  text-align: center;\n",
       "  /* unfitted */\n",
       "  border: var(--sklearn-color-unfitted-level-1) 1pt solid;\n",
       "  color: var(--sklearn-color-unfitted-level-1);\n",
       "}\n",
       "\n",
       ".sk-estimator-doc-link.fitted,\n",
       "a:link.sk-estimator-doc-link.fitted,\n",
       "a:visited.sk-estimator-doc-link.fitted {\n",
       "  /* fitted */\n",
       "  border: var(--sklearn-color-fitted-level-1) 1pt solid;\n",
       "  color: var(--sklearn-color-fitted-level-1);\n",
       "}\n",
       "\n",
       "/* On hover */\n",
       "div.sk-estimator:hover .sk-estimator-doc-link:hover,\n",
       ".sk-estimator-doc-link:hover,\n",
       "div.sk-label-container:hover .sk-estimator-doc-link:hover,\n",
       ".sk-estimator-doc-link:hover {\n",
       "  /* unfitted */\n",
       "  background-color: var(--sklearn-color-unfitted-level-3);\n",
       "  color: var(--sklearn-color-background);\n",
       "  text-decoration: none;\n",
       "}\n",
       "\n",
       "div.sk-estimator.fitted:hover .sk-estimator-doc-link.fitted:hover,\n",
       ".sk-estimator-doc-link.fitted:hover,\n",
       "div.sk-label-container:hover .sk-estimator-doc-link.fitted:hover,\n",
       ".sk-estimator-doc-link.fitted:hover {\n",
       "  /* fitted */\n",
       "  background-color: var(--sklearn-color-fitted-level-3);\n",
       "  color: var(--sklearn-color-background);\n",
       "  text-decoration: none;\n",
       "}\n",
       "\n",
       "/* Span, style for the box shown on hovering the info icon */\n",
       ".sk-estimator-doc-link span {\n",
       "  display: none;\n",
       "  z-index: 9999;\n",
       "  position: relative;\n",
       "  font-weight: normal;\n",
       "  right: .2ex;\n",
       "  padding: .5ex;\n",
       "  margin: .5ex;\n",
       "  width: min-content;\n",
       "  min-width: 20ex;\n",
       "  max-width: 50ex;\n",
       "  color: var(--sklearn-color-text);\n",
       "  box-shadow: 2pt 2pt 4pt #999;\n",
       "  /* unfitted */\n",
       "  background: var(--sklearn-color-unfitted-level-0);\n",
       "  border: .5pt solid var(--sklearn-color-unfitted-level-3);\n",
       "}\n",
       "\n",
       ".sk-estimator-doc-link.fitted span {\n",
       "  /* fitted */\n",
       "  background: var(--sklearn-color-fitted-level-0);\n",
       "  border: var(--sklearn-color-fitted-level-3);\n",
       "}\n",
       "\n",
       ".sk-estimator-doc-link:hover span {\n",
       "  display: block;\n",
       "}\n",
       "\n",
       "/* \"?\"-specific style due to the `<a>` HTML tag */\n",
       "\n",
       "#sk-container-id-1 a.estimator_doc_link {\n",
       "  float: right;\n",
       "  font-size: 1rem;\n",
       "  line-height: 1em;\n",
       "  font-family: monospace;\n",
       "  background-color: var(--sklearn-color-background);\n",
       "  border-radius: 1rem;\n",
       "  height: 1rem;\n",
       "  width: 1rem;\n",
       "  text-decoration: none;\n",
       "  /* unfitted */\n",
       "  color: var(--sklearn-color-unfitted-level-1);\n",
       "  border: var(--sklearn-color-unfitted-level-1) 1pt solid;\n",
       "}\n",
       "\n",
       "#sk-container-id-1 a.estimator_doc_link.fitted {\n",
       "  /* fitted */\n",
       "  border: var(--sklearn-color-fitted-level-1) 1pt solid;\n",
       "  color: var(--sklearn-color-fitted-level-1);\n",
       "}\n",
       "\n",
       "/* On hover */\n",
       "#sk-container-id-1 a.estimator_doc_link:hover {\n",
       "  /* unfitted */\n",
       "  background-color: var(--sklearn-color-unfitted-level-3);\n",
       "  color: var(--sklearn-color-background);\n",
       "  text-decoration: none;\n",
       "}\n",
       "\n",
       "#sk-container-id-1 a.estimator_doc_link.fitted:hover {\n",
       "  /* fitted */\n",
       "  background-color: var(--sklearn-color-fitted-level-3);\n",
       "}\n",
       "</style><div id=\"sk-container-id-1\" class=\"sk-top-container\"><div class=\"sk-text-repr-fallback\"><pre>LGBMClassifier(bagging_fraction=0.7118762375349093, bagging_freq=9,\n",
       "               device=&#x27;gpu&#x27;, feature_fraction=0.987878776112855,\n",
       "               lambda_l1=1.987419215841184, lambda_l2=3.4964600099442964,\n",
       "               learning_rate=0.04508184739922241, max_bin=205, max_depth=4,\n",
       "               min_child_samples=38, min_data_in_leaf=96, num_leaves=67,\n",
       "               random_state=42, scale_pos_weight=4.5106237148732005)</pre><b>In a Jupyter environment, please rerun this cell to show the HTML representation or trust the notebook. <br />On GitHub, the HTML representation is unable to render, please try loading this page with nbviewer.org.</b></div><div class=\"sk-container\" hidden><div class=\"sk-item\"><div class=\"sk-estimator fitted sk-toggleable\"><input class=\"sk-toggleable__control sk-hidden--visually\" id=\"sk-estimator-id-1\" type=\"checkbox\" checked><label for=\"sk-estimator-id-1\" class=\"sk-toggleable__label fitted sk-toggleable__label-arrow\"><div><div>LGBMClassifier</div></div><div><span class=\"sk-estimator-doc-link fitted\">i<span>Fitted</span></span></div></label><div class=\"sk-toggleable__content fitted\"><pre>LGBMClassifier(bagging_fraction=0.7118762375349093, bagging_freq=9,\n",
       "               device=&#x27;gpu&#x27;, feature_fraction=0.987878776112855,\n",
       "               lambda_l1=1.987419215841184, lambda_l2=3.4964600099442964,\n",
       "               learning_rate=0.04508184739922241, max_bin=205, max_depth=4,\n",
       "               min_child_samples=38, min_data_in_leaf=96, num_leaves=67,\n",
       "               random_state=42, scale_pos_weight=4.5106237148732005)</pre></div> </div></div></div></div>"
      ],
      "text/plain": [
       "LGBMClassifier(bagging_fraction=0.7118762375349093, bagging_freq=9,\n",
       "               device='gpu', feature_fraction=0.987878776112855,\n",
       "               lambda_l1=1.987419215841184, lambda_l2=3.4964600099442964,\n",
       "               learning_rate=0.04508184739922241, max_bin=205, max_depth=4,\n",
       "               min_child_samples=38, min_data_in_leaf=96, num_leaves=67,\n",
       "               random_state=42, scale_pos_weight=4.5106237148732005)"
      ]
     },
     "execution_count": 27,
     "metadata": {},
     "output_type": "execute_result"
    }
   ],
   "source": [
    "original_catmodel = CatBoostClassifier(random_seed=42, class_weights= class_weights_dict, task_type= \"GPU\", loss_function=\"Logloss\", verbose=0)\n",
    "original_catmodel.fit(X_train, y_train, cat_features=cat_features)\n",
    "\n",
    "tuned_catmodel = CatBoostClassifier(**study1.best_params,class_weights= class_weights_dict, random_seed=42, task_type=\"GPU\", loss_function=\"Logloss\", verbose=0)\n",
    "tuned_catmodel.fit(X_train, y_train, cat_features=cat_features)\n",
    "\n",
    "original_lgbmmodel = LGBMClassifier(random_state=42, device=\"gpu\", scale_pos_weight= scale_pos_weight)\n",
    "original_lgbmmodel.fit(X_train, y_train)\n",
    "\n",
    "tuned_lgbmodel = LGBMClassifier(**study2.best_params,scale_pos_weight= scale_pos_weight, random_state=42, device=\"gpu\")\n",
    "tuned_lgbmodel.fit(X_train, y_train)"
   ]
  },
  {
   "cell_type": "code",
   "execution_count": 28,
   "id": "0ec778ad",
   "metadata": {},
   "outputs": [
    {
     "data": {
      "image/png": "[encoded data removed]",
      "text/plain": [
       "<Figure size 640x480 with 1 Axes>"
      ]
     },
     "metadata": {},
     "output_type": "display_data"
    }
   ],
   "source": [
    "import numpy as np\n",
    "\n",
    "# Predict with original and tuned CatBoost models\n",
    "y_pred_orig_cat = original_catmodel.predict(X_test)\n",
    "y_pred_tuned_cat = tuned_catmodel.predict(X_test)\n",
    "\n",
    "# Calculate metrics\n",
    "metrics = {\n",
    "    \"Accuracy\": [\n",
    "        accuracy_score(y_test, y_pred_orig_cat),\n",
    "        accuracy_score(y_test, y_pred_tuned_cat)\n",
    "    ],\n",
    "    \"Recall\": [\n",
    "        recall_score(y_test, y_pred_orig_cat),\n",
    "        recall_score(y_test, y_pred_tuned_cat)\n",
    "    ],\n",
    "    \"F1\": [\n",
    "        f1_score(y_test, y_pred_orig_cat),\n",
    "        f1_score(y_test, y_pred_tuned_cat)\n",
    "    ],\n",
    "    \"Precision\": [\n",
    "        precision_score(y_test, y_pred_orig_cat),\n",
    "        precision_score(y_test, y_pred_tuned_cat)\n",
    "    ]\n",
    "}\n",
    "\n",
    "import matplotlib.pyplot as plt\n",
    "\n",
    "labels = list(metrics.keys())\n",
    "orig_scores = [metrics[m][0] for m in labels]\n",
    "tuned_scores = [metrics[m][1] for m in labels]\n",
    "\n",
    "x = np.arange(len(labels))\n",
    "width = 0.35\n",
    "\n",
    "fig, ax = plt.subplots()\n",
    "rects1 = ax.bar(x - width/2, orig_scores, width, label='Original CatBoost')\n",
    "rects2 = ax.bar(x + width/2, tuned_scores, width, label='Tuned CatBoost')\n",
    "\n",
    "ax.set_ylabel('Score')\n",
    "ax.set_title('CatBoost Model Comparison on Test Set')\n",
    "ax.set_xticks(x)\n",
    "ax.set_xticklabels(labels)\n",
    "ax.legend()\n",
    "plt.ylim(0, 1)\n",
    "plt.show()"
   ]
  },
  {
   "cell_type": "code",
   "execution_count": 29,
   "id": "5425a381",
   "metadata": {},
   "outputs": [
    {
     "data": {
      "text/plain": [
       "{'Accuracy': [0.9191897654584221, 0.9174484719260839],\n",
       " 'Recall': [0.9260844193736627, 0.932114374635285],\n",
       " 'F1': [0.8072227873855544, 0.804904677920551],\n",
       " 'Precision': [0.7154019534184823, 0.7082471179426545]}"
      ]
     },
     "execution_count": 29,
     "metadata": {},
     "output_type": "execute_result"
    }
   ],
   "source": [
    "metrics"
   ]
  },
  {
   "cell_type": "code",
   "execution_count": 30,
   "id": "81ecc8c0",
   "metadata": {},
   "outputs": [
    {
     "data": {
      "image/png": "[encoded data removed]",
      "text/plain": [
       "<Figure size 640x480 with 1 Axes>"
      ]
     },
     "metadata": {},
     "output_type": "display_data"
    }
   ],
   "source": [
    "# Predict with original and tuned LightGBM models\n",
    "y_pred_orig_lgb = original_lgbmmodel.predict(X_test)\n",
    "y_pred_tuned_lgb = tuned_lgbmodel.predict(X_test)\n",
    "\n",
    "# Calculate metrics\n",
    "metrics_lgb = {\n",
    "    \"Accuracy\": [\n",
    "        accuracy_score(y_test, y_pred_orig_lgb),\n",
    "        accuracy_score(y_test, y_pred_tuned_lgb)\n",
    "    ],\n",
    "    \"Recall\": [\n",
    "        recall_score(y_test, y_pred_orig_lgb),\n",
    "        recall_score(y_test, y_pred_tuned_lgb)\n",
    "    ],\n",
    "    \"F1\": [\n",
    "        f1_score(y_test, y_pred_orig_lgb),\n",
    "        f1_score(y_test, y_pred_tuned_lgb)\n",
    "    ],\n",
    "    \"Precision\": [\n",
    "        precision_score(y_test, y_pred_orig_lgb),\n",
    "        precision_score(y_test, y_pred_tuned_lgb)\n",
    "    ]\n",
    "}\n",
    "\n",
    "labels_lgb = list(metrics_lgb.keys())\n",
    "orig_scores_lgb = [metrics_lgb[m][0] for m in labels_lgb]\n",
    "tuned_scores_lgb = [metrics_lgb[m][1] for m in labels_lgb]\n",
    "\n",
    "x_lgb = np.arange(len(labels_lgb))\n",
    "width_lgb = 0.35\n",
    "\n",
    "fig_lgb, ax_lgb = plt.subplots()\n",
    "rects1_lgb = ax_lgb.bar(x_lgb - width_lgb/2, orig_scores_lgb, width_lgb, label='Original LightGBM')\n",
    "rects2_lgb = ax_lgb.bar(x_lgb + width_lgb/2, tuned_scores_lgb, width_lgb, label='Tuned LightGBM')\n",
    "\n",
    "ax_lgb.set_ylabel('Score')\n",
    "ax_lgb.set_title('LightGBM Model Comparison on Test Set')\n",
    "ax_lgb.set_xticks(x_lgb)\n",
    "ax_lgb.set_xticklabels(labels_lgb)\n",
    "ax_lgb.legend()\n",
    "plt.ylim(0, 1)\n",
    "plt.show()"
   ]
  },
  {
   "cell_type": "code",
   "execution_count": 31,
   "id": "55aa939d",
   "metadata": {},
   "outputs": [
    {
     "data": {
      "text/plain": [
       "{'Accuracy': [0.9169154228855722, 0.9112295664534471],\n",
       " 'Recall': [0.9256953900019451, 0.9303637424625559],\n",
       " 'F1': [0.8028002699055331, 0.7929376657824934],\n",
       " 'Precision': [0.7087118391660462, 0.6908854542828253]}"
      ]
     },
     "execution_count": 31,
     "metadata": {},
     "output_type": "execute_result"
    }
   ],
   "source": [
    "metrics_lgb"
   ]
  },
  {
   "cell_type": "code",
   "execution_count": 32,
   "id": "5119021d",
   "metadata": {},
   "outputs": [],
   "source": [
    "# Get predicted probabilities from both models\n",
    "proba_cat = tuned_catmodel.predict_proba(X_test)\n",
    "proba_lgb = tuned_lgbmodel.predict_proba(X_test)\n",
    "\n",
    "# Average the probabilities\n",
    "avg_proba = (proba_cat + proba_lgb) / 2\n",
    "\n",
    "# Take the class with the highest probability\n",
    "y_pred_manual_soft = avg_proba.argmax(axis=1)\n"
   ]
  },
  {
   "cell_type": "code",
   "execution_count": 33,
   "id": "e86ab2d7",
   "metadata": {},
   "outputs": [
    {
     "name": "stdout",
     "output_type": "stream",
     "text": [
      "Soft Voting Results:\n",
      "Accuracy: 0.9156\n",
      "Recall: 0.9327\n",
      "F1 Score: 0.8015\n",
      "Precision: 0.7027\n"
     ]
    }
   ],
   "source": [
    "from sklearn.metrics import accuracy_score, recall_score, f1_score, precision_score\n",
    "\n",
    "# Evaluate soft voting predictions\n",
    "accuracy_soft = accuracy_score(y_test, y_pred_manual_soft)\n",
    "recall_soft = recall_score(y_test, y_pred_manual_soft)\n",
    "f1_soft = f1_score(y_test, y_pred_manual_soft)\n",
    "precision_soft = precision_score(y_test, y_pred_manual_soft)\n",
    "\n",
    "print(\"Soft Voting Results:\")\n",
    "print(f\"Accuracy: {accuracy_soft:.4f}\")\n",
    "print(f\"Recall: {recall_soft:.4f}\")\n",
    "print(f\"F1 Score: {f1_soft:.4f}\")\n",
    "print(f\"Precision: {precision_soft:.4f}\")"
   ]
  },
  {
   "cell_type": "code",
   "execution_count": 34,
   "id": "038084a7",
   "metadata": {},
   "outputs": [
    {
     "data": {
      "text/html": [
       "<div>\n",
       "<style scoped>\n",
       "    .dataframe tbody tr th:only-of-type {\n",
       "        vertical-align: middle;\n",
       "    }\n",
       "\n",
       "    .dataframe tbody tr th {\n",
       "        vertical-align: top;\n",
       "    }\n",
       "\n",
       "    .dataframe thead th {\n",
       "        text-align: right;\n",
       "    }\n",
       "</style>\n",
       "<table border=\"1\" class=\"dataframe\">\n",
       "  <thead>\n",
       "    <tr style=\"text-align: right;\">\n",
       "      <th></th>\n",
       "      <th>Model</th>\n",
       "      <th>Accuracy</th>\n",
       "      <th>Recall</th>\n",
       "      <th>F1-score</th>\n",
       "      <th>Precision</th>\n",
       "    </tr>\n",
       "  </thead>\n",
       "  <tbody>\n",
       "    <tr>\n",
       "      <th>0</th>\n",
       "      <td>CatBoost</td>\n",
       "      <td>0.917448</td>\n",
       "      <td>0.932114</td>\n",
       "      <td>0.804905</td>\n",
       "      <td>0.708247</td>\n",
       "    </tr>\n",
       "    <tr>\n",
       "      <th>1</th>\n",
       "      <td>LightGBM</td>\n",
       "      <td>0.911230</td>\n",
       "      <td>0.930364</td>\n",
       "      <td>0.792938</td>\n",
       "      <td>0.690885</td>\n",
       "    </tr>\n",
       "    <tr>\n",
       "      <th>2</th>\n",
       "      <td>Ensemble</td>\n",
       "      <td>0.915601</td>\n",
       "      <td>0.932698</td>\n",
       "      <td>0.801504</td>\n",
       "      <td>0.702667</td>\n",
       "    </tr>\n",
       "  </tbody>\n",
       "</table>\n",
       "</div>"
      ],
      "text/plain": [
       "      Model  Accuracy    Recall  F1-score  Precision\n",
       "0  CatBoost  0.917448  0.932114  0.804905   0.708247\n",
       "1  LightGBM  0.911230  0.930364  0.792938   0.690885\n",
       "2  Ensemble  0.915601  0.932698  0.801504   0.702667"
      ]
     },
     "metadata": {},
     "output_type": "display_data"
    },
    {
     "data": {
      "image/png": "[encoded data removed]",
      "text/plain": [
       "<Figure size 800x500 with 1 Axes>"
      ]
     },
     "metadata": {},
     "output_type": "display_data"
    }
   ],
   "source": [
    "# Tạo bảng tổng hợp kết quả\n",
    "results = pd.DataFrame({\n",
    "    \"Model\": [\"CatBoost\", \"LightGBM\", \"Ensemble\"],\n",
    "    \"Accuracy\": [\n",
    "        metrics[\"Accuracy\"][1],      # Tuned CatBoost\n",
    "        metrics_lgb[\"Accuracy\"][1],  # Tuned LightGBM\n",
    "        accuracy_soft                # Ensemble\n",
    "    ],\n",
    "    \"Recall\": [\n",
    "        metrics[\"Recall\"][1],\n",
    "        metrics_lgb[\"Recall\"][1],\n",
    "        recall_soft\n",
    "    ],\n",
    "    \"F1-score\": [\n",
    "        metrics[\"F1\"][1],\n",
    "        metrics_lgb[\"F1\"][1],\n",
    "        f1_soft\n",
    "    ],\n",
    "    \"Precision\": [\n",
    "        metrics[\"Precision\"][1],\n",
    "        metrics_lgb[\"Precision\"][1],\n",
    "        precision_soft\n",
    "    ]\n",
    "})\n",
    "\n",
    "display(results)\n",
    "\n",
    "# Vẽ biểu đồ trực quan\n",
    "results_plot = results.set_index(\"Model\")\n",
    "results_plot.plot(kind=\"bar\", figsize=(8,5))\n",
    "plt.title(\"So sánh các mô hình trên tập test\")\n",
    "plt.ylabel(\"Score\")\n",
    "plt.ylim(0, 1)\n",
    "plt.xticks(rotation=0)\n",
    "plt.legend(loc=\"lower right\")\n",
    "plt.show()"
   ]
  },
  {
   "cell_type": "markdown",
   "id": "cf09f5af",
   "metadata": {},
   "source": [
    "Các kết quả: cả 3 mô hình đều đạt được những điểm số trên các metric như nhau:\n",
    "\n",
    "Accuracy: 0.91\tRecall: 0.93\tF1: 0.80\tPrecision: 0.70"
   ]
  },
  {
   "cell_type": "code",
   "execution_count": null,
   "id": "c0427ab9",
   "metadata": {},
   "outputs": [],
   "source": []
  },
  {
   "cell_type": "markdown",
   "id": "1fc3c274",
   "metadata": {},
   "source": [
    "## Kiểm tra các trường hợp dự đoán sai của mô hình và ensemble model"
   ]
  },
  {
   "cell_type": "code",
   "execution_count": 37,
   "id": "ff5280a3",
   "metadata": {},
   "outputs": [
    {
     "data": {
      "image/png": "[encoded data removed]",
      "text/plain": [
       "<Figure size 1800x500 with 3 Axes>"
      ]
     },
     "metadata": {},
     "output_type": "display_data"
    }
   ],
   "source": [
    "from sklearn.metrics import ConfusionMatrixDisplay\n",
    "\n",
    "fig, axes = plt.subplots(1, 3, figsize=(18, 5))\n",
    "\n",
    "# CatBoost\n",
    "ConfusionMatrixDisplay.from_predictions(\n",
    "    y_test, y_pred_tuned_cat, ax=axes[0], colorbar=False, cmap=\"Blues\"\n",
    ")\n",
    "axes[0].set_title(\"CatBoost (Tuned)\")\n",
    "\n",
    "# LightGBM\n",
    "ConfusionMatrixDisplay.from_predictions(\n",
    "    y_test, y_pred_tuned_lgb, ax=axes[1], colorbar=False, cmap=\"Blues\"\n",
    ")\n",
    "axes[1].set_title(\"LightGBM (Tuned)\")\n",
    "\n",
    "# Ensemble (Soft Voting)\n",
    "ConfusionMatrixDisplay.from_predictions(\n",
    "    y_test, y_pred_manual_soft, ax=axes[2], colorbar=False, cmap=\"Blues\"\n",
    ")\n",
    "axes[2].set_title(\"Ensemble (Soft Voting)\")\n",
    "\n",
    "plt.tight_layout()\n",
    "plt.show()"
   ]
  },
  {
   "cell_type": "code",
   "execution_count": 38,
   "id": "8bb42224",
   "metadata": {},
   "outputs": [
    {
     "data": {
      "image/png": "[encoded data removed]",
      "text/plain": [
       "<Figure size 1800x500 with 3 Axes>"
      ]
     },
     "metadata": {},
     "output_type": "display_data"
    }
   ],
   "source": [
    "from sklearn.metrics import roc_curve, auc\n",
    "\n",
    "fig, axes = plt.subplots(1, 3, figsize=(18, 5))\n",
    "\n",
    "# CatBoost ROC\n",
    "fpr_cat, tpr_cat, _ = roc_curve(y_test, tuned_catmodel.predict_proba(X_test)[:, 1])\n",
    "roc_auc_cat = auc(fpr_cat, tpr_cat)\n",
    "axes[0].plot(fpr_cat, tpr_cat, color='blue', lw=2, label=f'AUC = {roc_auc_cat:.3f}')\n",
    "axes[0].plot([0, 1], [0, 1], color='gray', lw=1, linestyle='--')\n",
    "axes[0].set_title('CatBoost (Tuned)')\n",
    "axes[0].set_xlabel('False Positive Rate')\n",
    "axes[0].set_ylabel('True Positive Rate')\n",
    "axes[0].legend(loc='lower right')\n",
    "\n",
    "# LightGBM ROC\n",
    "fpr_lgb, tpr_lgb, _ = roc_curve(y_test, tuned_lgbmodel.predict_proba(X_test)[:, 1])\n",
    "roc_auc_lgb = auc(fpr_lgb, tpr_lgb)\n",
    "axes[1].plot(fpr_lgb, tpr_lgb, color='green', lw=2, label=f'AUC = {roc_auc_lgb:.3f}')\n",
    "axes[1].plot([0, 1], [0, 1], color='gray', lw=1, linestyle='--')\n",
    "axes[1].set_title('LightGBM (Tuned)')\n",
    "axes[1].set_xlabel('False Positive Rate')\n",
    "axes[1].set_ylabel('True Positive Rate')\n",
    "axes[1].legend(loc='lower right')\n",
    "\n",
    "# Ensemble ROC\n",
    "fpr_ens, tpr_ens, _ = roc_curve(y_test, avg_proba[:, 1])\n",
    "roc_auc_ens = auc(fpr_ens, tpr_ens)\n",
    "axes[2].plot(fpr_ens, tpr_ens, color='red', lw=2, label=f'AUC = {roc_auc_ens:.3f}')\n",
    "axes[2].plot([0, 1], [0, 1], color='gray', lw=1, linestyle='--')\n",
    "axes[2].set_title('Ensemble (Soft Voting)')\n",
    "axes[2].set_xlabel('False Positive Rate')\n",
    "axes[2].set_ylabel('True Positive Rate')\n",
    "axes[2].legend(loc='lower right')\n",
    "\n",
    "plt.tight_layout()\n",
    "plt.show()"
   ]
  },
  {
   "cell_type": "code",
   "execution_count": 36,
   "id": "49a3417b",
   "metadata": {},
   "outputs": [
    {
     "name": "stdout",
     "output_type": "stream",
     "text": [
      "Wrong predictions - CatBoost: 2323\n",
      "Wrong predictions - LightGBM: 2498\n",
      "Wrong predictions - Ensemble: 2375\n",
      "Number of samples all three models predict wrong: 2156\n"
     ]
    }
   ],
   "source": [
    "# Calculate wrong predictions for each model\n",
    "wrong_cat = (y_pred_tuned_cat != y_test).astype(int)\n",
    "wrong_lgb = (y_pred_tuned_lgb != y_test).astype(int)\n",
    "wrong_ensemble = (y_pred_manual_soft != y_test).astype(int)\n",
    "\n",
    "# Count number of wrong predictions for each model\n",
    "n_wrong_cat = wrong_cat.sum()\n",
    "n_wrong_lgb = wrong_lgb.sum()\n",
    "n_wrong_ensemble = wrong_ensemble.sum()\n",
    "\n",
    "print(f\"Wrong predictions - CatBoost: {n_wrong_cat}\")\n",
    "print(f\"Wrong predictions - LightGBM: {n_wrong_lgb}\")\n",
    "print(f\"Wrong predictions - Ensemble: {n_wrong_ensemble}\")\n",
    "\n",
    "# Find indices where all three models are wrong\n",
    "all_wrong = ((wrong_cat == 1) & (wrong_lgb == 1) & (wrong_ensemble == 1)).sum()\n",
    "print(f\"Number of samples all three models predict wrong: {all_wrong}\")\n",
    "\n",
    "# # Optionally, count pairwise similarities\n",
    "# cat_lgb_wrong = ((wrong_cat == 1) & (wrong_lgb == 1)).sum()\n",
    "# cat_ensemble_wrong = ((wrong_cat == 1) & (wrong_ensemble == 1)).sum()\n",
    "# lgb_ensemble_wrong = ((wrong_lgb == 1) & (wrong_ensemble == 1)).sum()\n",
    "\n",
    "# print(f\"Number of samples CatBoost & LightGBM both wrong: {cat_lgb_wrong}\")\n",
    "# print(f\"Number of samples CatBoost & Ensemble both wrong: {cat_ensemble_wrong}\")\n",
    "# print(f\"Number of samples LightGBM & Ensemble both wrong: {lgb_ensemble_wrong}\")"
   ]
  },
  {
   "cell_type": "markdown",
   "id": "914d8c40",
   "metadata": {},
   "source": [
    "Qua các biểu đồ và số liệu về các mẫu bị dự đoán sai giống nhau giữa 3 mô hình, ta có thể phần nào hiểu được tại sao ensemble model có **kết quả không tốt hơn** 2 mô hình con.\n",
    "\n",
    "Hai mô hình `CatBoost` và `LightGBM` học dữ liệu một cách giống nhau (mắc những sai lầm như nhau). \n",
    "\n",
    "Vì thế, ensemble không thể có được hiệu quả cao hơn."
   ]
  },
  {
   "cell_type": "code",
   "execution_count": null,
   "id": "4ea9ed23",
   "metadata": {},
   "outputs": [],
   "source": []
  }
 ],
 "metadata": {
  "kernelspec": {
   "display_name": "env1",
   "language": "python",
   "name": "python3"
  },
  "language_info": {
   "codemirror_mode": {
    "name": "ipython",
    "version": 3
   },
   "file_extension": ".py",
   "mimetype": "text/x-python",
   "name": "python",
   "nbconvert_exporter": "python",
   "pygments_lexer": "ipython3",
   "version": "3.10.16"
  }
 },
 "nbformat": 4,
 "nbformat_minor": 5
}
